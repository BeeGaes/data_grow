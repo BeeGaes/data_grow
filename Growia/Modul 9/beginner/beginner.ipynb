{
 "cells": [
  {
   "cell_type": "code",
   "execution_count": 1,
   "id": "69dda41a-7519-4215-812c-03748f6afd5e",
   "metadata": {},
   "outputs": [],
   "source": [
    "import pandas as pd\n",
    "import sqlite3"
   ]
  },
  {
   "cell_type": "code",
   "execution_count": 3,
   "id": "55efc2bc-ca1e-41a7-950a-420ade5eae46",
   "metadata": {},
   "outputs": [],
   "source": [
    "cnx = sqlite3.connect('foo.db')"
   ]
  },
  {
   "cell_type": "code",
   "execution_count": 5,
   "id": "103617b2-aff8-4e23-944c-90ca3b8937cd",
   "metadata": {},
   "outputs": [],
   "source": [
    "df_customers = pd.read_sql_query(\"SELECT * FROM olist_customers_dataset\", cnx)\n",
    "df_geolocations = pd.read_sql_query(\"SELECT * FROM olist_geolocation_dataset\", cnx)\n",
    "df_orderitems = pd.read_sql_query(\"SELECT * FROM olist_order_items_dataset\", cnx)\n",
    "df_payments = pd.read_sql_query(\"SELECT * FROM olist_order_payments_dataset\", cnx)\n",
    "df_reviews = pd.read_sql_query(\"SELECT * FROM olist_order_reviews_dataset\", cnx)\n",
    "df_orders = pd.read_sql_query(\"SELECT * FROM olist_orders_dataset\", cnx)\n",
    "df_products = pd.read_sql_query(\"SELECT * FROM olist_products_dataset\", cnx)\n",
    "df_sellers = pd.read_sql_query(\"SELECT * FROM olist_sellers_dataset\", cnx)"
   ]
  },
  {
   "cell_type": "code",
   "execution_count": 57,
   "id": "c8bc7d6d-2f84-42d7-9c34-3655643fd469",
   "metadata": {},
   "outputs": [
    {
     "data": {
      "text/html": [
       "<div>\n",
       "<style scoped>\n",
       "    .dataframe tbody tr th:only-of-type {\n",
       "        vertical-align: middle;\n",
       "    }\n",
       "\n",
       "    .dataframe tbody tr th {\n",
       "        vertical-align: top;\n",
       "    }\n",
       "\n",
       "    .dataframe thead th {\n",
       "        text-align: right;\n",
       "    }\n",
       "</style>\n",
       "<table border=\"1\" class=\"dataframe\">\n",
       "  <thead>\n",
       "    <tr style=\"text-align: right;\">\n",
       "      <th></th>\n",
       "      <th>customer_unique_id</th>\n",
       "      <th>first_transaction_date</th>\n",
       "      <th>last_transaction_date</th>\n",
       "      <th>days_difference</th>\n",
       "    </tr>\n",
       "  </thead>\n",
       "  <tbody>\n",
       "    <tr>\n",
       "      <th>0</th>\n",
       "      <td>0000366f3b9a7992bf8c76cfdf3221e2</td>\n",
       "      <td>2018-05-10</td>\n",
       "      <td>2018-05-10</td>\n",
       "      <td>0</td>\n",
       "    </tr>\n",
       "    <tr>\n",
       "      <th>1</th>\n",
       "      <td>0000b849f77a49e4a4ce2b2a4ca5be3f</td>\n",
       "      <td>2018-05-07</td>\n",
       "      <td>2018-05-07</td>\n",
       "      <td>0</td>\n",
       "    </tr>\n",
       "    <tr>\n",
       "      <th>2</th>\n",
       "      <td>0000f46a3911fa3c0805444483337064</td>\n",
       "      <td>2017-03-10</td>\n",
       "      <td>2017-03-10</td>\n",
       "      <td>0</td>\n",
       "    </tr>\n",
       "    <tr>\n",
       "      <th>3</th>\n",
       "      <td>0000f6ccb0745a6a4b88665a16c9f078</td>\n",
       "      <td>2017-10-12</td>\n",
       "      <td>2017-10-12</td>\n",
       "      <td>0</td>\n",
       "    </tr>\n",
       "    <tr>\n",
       "      <th>4</th>\n",
       "      <td>0004aac84e0df4da2b147fca70cf8255</td>\n",
       "      <td>2017-11-14</td>\n",
       "      <td>2017-11-14</td>\n",
       "      <td>0</td>\n",
       "    </tr>\n",
       "    <tr>\n",
       "      <th>...</th>\n",
       "      <td>...</td>\n",
       "      <td>...</td>\n",
       "      <td>...</td>\n",
       "      <td>...</td>\n",
       "    </tr>\n",
       "    <tr>\n",
       "      <th>96091</th>\n",
       "      <td>fffcf5a5ff07b0908bd4e2dbc735a684</td>\n",
       "      <td>2017-06-08</td>\n",
       "      <td>2017-06-08</td>\n",
       "      <td>0</td>\n",
       "    </tr>\n",
       "    <tr>\n",
       "      <th>96092</th>\n",
       "      <td>fffea47cd6d3cc0a88bd621562a9d061</td>\n",
       "      <td>2017-12-10</td>\n",
       "      <td>2017-12-10</td>\n",
       "      <td>0</td>\n",
       "    </tr>\n",
       "    <tr>\n",
       "      <th>96093</th>\n",
       "      <td>ffff371b4d645b6ecea244b27531430a</td>\n",
       "      <td>2017-02-07</td>\n",
       "      <td>2017-02-07</td>\n",
       "      <td>0</td>\n",
       "    </tr>\n",
       "    <tr>\n",
       "      <th>96094</th>\n",
       "      <td>ffff5962728ec6157033ef9805bacc48</td>\n",
       "      <td>2018-05-02</td>\n",
       "      <td>2018-05-02</td>\n",
       "      <td>0</td>\n",
       "    </tr>\n",
       "    <tr>\n",
       "      <th>96095</th>\n",
       "      <td>ffffd2657e2aad2907e67c3e9daecbeb</td>\n",
       "      <td>2017-05-02</td>\n",
       "      <td>2017-05-02</td>\n",
       "      <td>0</td>\n",
       "    </tr>\n",
       "  </tbody>\n",
       "</table>\n",
       "<p>96096 rows × 4 columns</p>\n",
       "</div>"
      ],
      "text/plain": [
       "                     customer_unique_id first_transaction_date  \\\n",
       "0      0000366f3b9a7992bf8c76cfdf3221e2             2018-05-10   \n",
       "1      0000b849f77a49e4a4ce2b2a4ca5be3f             2018-05-07   \n",
       "2      0000f46a3911fa3c0805444483337064             2017-03-10   \n",
       "3      0000f6ccb0745a6a4b88665a16c9f078             2017-10-12   \n",
       "4      0004aac84e0df4da2b147fca70cf8255             2017-11-14   \n",
       "...                                 ...                    ...   \n",
       "96091  fffcf5a5ff07b0908bd4e2dbc735a684             2017-06-08   \n",
       "96092  fffea47cd6d3cc0a88bd621562a9d061             2017-12-10   \n",
       "96093  ffff371b4d645b6ecea244b27531430a             2017-02-07   \n",
       "96094  ffff5962728ec6157033ef9805bacc48             2018-05-02   \n",
       "96095  ffffd2657e2aad2907e67c3e9daecbeb             2017-05-02   \n",
       "\n",
       "      last_transaction_date  days_difference  \n",
       "0                2018-05-10                0  \n",
       "1                2018-05-07                0  \n",
       "2                2017-03-10                0  \n",
       "3                2017-10-12                0  \n",
       "4                2017-11-14                0  \n",
       "...                     ...              ...  \n",
       "96091            2017-06-08                0  \n",
       "96092            2017-12-10                0  \n",
       "96093            2017-02-07                0  \n",
       "96094            2018-05-02                0  \n",
       "96095            2017-05-02                0  \n",
       "\n",
       "[96096 rows x 4 columns]"
      ]
     },
     "execution_count": 57,
     "metadata": {},
     "output_type": "execute_result"
    }
   ],
   "source": [
    "import pandas as pd\n",
    "\n",
    "# Misalkan df_customers dan df_orders sudah didefinisikan sebelumnya\n",
    "# df_customers = pd.read_csv('path_to_customers.csv')\n",
    "# df_orders = pd.read_csv('path_to_orders.csv')\n",
    "\n",
    "# Langkah 1: Mengonversi kolom order_purchase_timestamp ke format tanggal YYYY-MM-DD\n",
    "df_orders['order_purchase_timestamp'] = pd.to_datetime(df_orders['order_purchase_timestamp']).dt.strftime('%Y-%m-%d')\n",
    "\n",
    "# Langkah 2: Melakukan merge antara df_orders dan df_customers\n",
    "merged_df = pd.merge(df_orders, df_customers[['customer_id', 'customer_unique_id']], on='customer_id', how='left')\n",
    "\n",
    "# Langkah 3: Mengonversi kembali order_purchase_timestamp ke tipe datetime untuk pengelompokan\n",
    "merged_df['order_purchase_timestamp'] = pd.to_datetime(merged_df['order_purchase_timestamp'])\n",
    "\n",
    "# Langkah 4: Mengelompokkan data berdasarkan customer_unique_id dan mendapatkan tanggal transaksi awal dan akhir\n",
    "df_grouped = merged_df.groupby('customer_unique_id')['order_purchase_timestamp'].agg(['min', 'max']).reset_index()\n",
    "\n",
    "# Langkah 5: Menghitung selisih hari antara transaksi awal dan akhir\n",
    "df_grouped['days_difference'] = (df_grouped['max'] - df_grouped['min']).dt.days\n",
    "\n",
    "# Mengganti nama kolom untuk kejelasan\n",
    "df_grouped.columns = ['customer_unique_id', 'first_transaction_date', 'last_transaction_date', 'days_difference']\n",
    "\n",
    "# Menampilkan hasil\n",
    "df_grouped\n"
   ]
  },
  {
   "cell_type": "code",
   "execution_count": 65,
   "id": "bc2b7097-852f-4ba2-a1d7-71183cf87c0a",
   "metadata": {},
   "outputs": [
    {
     "data": {
      "text/plain": [
       "days_difference\n",
       "0      93947\n",
       "1         46\n",
       "2         38\n",
       "6         30\n",
       "3         27\n",
       "       ...  \n",
       "335        1\n",
       "332        1\n",
       "330        1\n",
       "328        1\n",
       "633        1\n",
       "Name: count, Length: 428, dtype: int64"
      ]
     },
     "execution_count": 65,
     "metadata": {},
     "output_type": "execute_result"
    }
   ],
   "source": [
    "df_grouped.value_counts('days_difference')"
   ]
  },
  {
   "cell_type": "code",
   "execution_count": 67,
   "id": "2a7f353f-30a0-4de4-af5e-c7a58777301e",
   "metadata": {},
   "outputs": [
    {
     "data": {
      "text/html": [
       "<div>\n",
       "<style scoped>\n",
       "    .dataframe tbody tr th:only-of-type {\n",
       "        vertical-align: middle;\n",
       "    }\n",
       "\n",
       "    .dataframe tbody tr th {\n",
       "        vertical-align: top;\n",
       "    }\n",
       "\n",
       "    .dataframe thead th {\n",
       "        text-align: right;\n",
       "    }\n",
       "</style>\n",
       "<table border=\"1\" class=\"dataframe\">\n",
       "  <thead>\n",
       "    <tr style=\"text-align: right;\">\n",
       "      <th></th>\n",
       "      <th>customer_unique_id</th>\n",
       "      <th>first_transaction_date</th>\n",
       "      <th>last_transaction_date</th>\n",
       "      <th>days_difference</th>\n",
       "    </tr>\n",
       "  </thead>\n",
       "  <tbody>\n",
       "    <tr>\n",
       "      <th>19160</th>\n",
       "      <td>32ea3bdedab835c3aa6cb68ce66565ef</td>\n",
       "      <td>2016-10-03</td>\n",
       "      <td>2018-06-28</td>\n",
       "      <td>633</td>\n",
       "    </tr>\n",
       "  </tbody>\n",
       "</table>\n",
       "</div>"
      ],
      "text/plain": [
       "                     customer_unique_id first_transaction_date  \\\n",
       "19160  32ea3bdedab835c3aa6cb68ce66565ef             2016-10-03   \n",
       "\n",
       "      last_transaction_date  days_difference  \n",
       "19160            2018-06-28              633  "
      ]
     },
     "execution_count": 67,
     "metadata": {},
     "output_type": "execute_result"
    }
   ],
   "source": [
    "df_grouped[df_grouped['days_difference'] == 633]"
   ]
  },
  {
   "cell_type": "code",
   "execution_count": 47,
   "id": "eb82d7d0-423b-43f1-915a-0847ebe327ff",
   "metadata": {},
   "outputs": [
    {
     "data": {
      "text/html": [
       "<div>\n",
       "<style scoped>\n",
       "    .dataframe tbody tr th:only-of-type {\n",
       "        vertical-align: middle;\n",
       "    }\n",
       "\n",
       "    .dataframe tbody tr th {\n",
       "        vertical-align: top;\n",
       "    }\n",
       "\n",
       "    .dataframe thead th {\n",
       "        text-align: right;\n",
       "    }\n",
       "</style>\n",
       "<table border=\"1\" class=\"dataframe\">\n",
       "  <thead>\n",
       "    <tr style=\"text-align: right;\">\n",
       "      <th></th>\n",
       "      <th>customer_id</th>\n",
       "      <th>customer_unique_id</th>\n",
       "      <th>first_transaction_date</th>\n",
       "      <th>last_transaction_date</th>\n",
       "      <th>days_difference</th>\n",
       "    </tr>\n",
       "  </thead>\n",
       "  <tbody>\n",
       "    <tr>\n",
       "      <th>0</th>\n",
       "      <td>06b8999e2fba1a1fbc88172c00ba8bc7</td>\n",
       "      <td>861eff4711a542e4b93843c6dd7febb0</td>\n",
       "      <td>2017-05-16 15:05:35</td>\n",
       "      <td>2017-05-16 15:05:35</td>\n",
       "      <td>0</td>\n",
       "    </tr>\n",
       "    <tr>\n",
       "      <th>1</th>\n",
       "      <td>18955e83d337fd6b2def6b18a428ac77</td>\n",
       "      <td>290c77bc529b7ac935b93aa66c333dc3</td>\n",
       "      <td>2018-01-12 20:48:24</td>\n",
       "      <td>2018-01-12 20:48:24</td>\n",
       "      <td>0</td>\n",
       "    </tr>\n",
       "    <tr>\n",
       "      <th>2</th>\n",
       "      <td>4e7b3e00288586ebd08712fdd0374a03</td>\n",
       "      <td>060e732b5b29e8181a18229c7b0b2b5e</td>\n",
       "      <td>2018-05-19 16:07:45</td>\n",
       "      <td>2018-05-19 16:07:45</td>\n",
       "      <td>0</td>\n",
       "    </tr>\n",
       "    <tr>\n",
       "      <th>3</th>\n",
       "      <td>b2b6027bc5c5109e529d4dc6358b12c3</td>\n",
       "      <td>259dac757896d24d7702b9acbbff3f3c</td>\n",
       "      <td>2018-03-13 16:06:38</td>\n",
       "      <td>2018-03-13 16:06:38</td>\n",
       "      <td>0</td>\n",
       "    </tr>\n",
       "    <tr>\n",
       "      <th>4</th>\n",
       "      <td>4f2d8ab171c80ec8364f7c12e35b23ad</td>\n",
       "      <td>345ecd01c38d18a9036ed96c73b8d066</td>\n",
       "      <td>2018-07-29 09:51:30</td>\n",
       "      <td>2018-07-29 09:51:30</td>\n",
       "      <td>0</td>\n",
       "    </tr>\n",
       "    <tr>\n",
       "      <th>...</th>\n",
       "      <td>...</td>\n",
       "      <td>...</td>\n",
       "      <td>...</td>\n",
       "      <td>...</td>\n",
       "      <td>...</td>\n",
       "    </tr>\n",
       "    <tr>\n",
       "      <th>99436</th>\n",
       "      <td>17ddf5dd5d51696bb3d7c6291687be6f</td>\n",
       "      <td>1a29b476fee25c95fbafc67c5ac95cf8</td>\n",
       "      <td>2018-04-07 15:48:17</td>\n",
       "      <td>2018-04-07 15:48:17</td>\n",
       "      <td>0</td>\n",
       "    </tr>\n",
       "    <tr>\n",
       "      <th>99437</th>\n",
       "      <td>e7b71a9017aa05c9a7fd292d714858e8</td>\n",
       "      <td>d52a67c98be1cf6a5c84435bd38d095d</td>\n",
       "      <td>2018-04-04 08:20:22</td>\n",
       "      <td>2018-04-04 08:20:22</td>\n",
       "      <td>0</td>\n",
       "    </tr>\n",
       "    <tr>\n",
       "      <th>99438</th>\n",
       "      <td>5e28dfe12db7fb50a4b2f691faecea5e</td>\n",
       "      <td>e9f50caf99f032f0bf3c55141f019d99</td>\n",
       "      <td>2018-04-08 20:11:50</td>\n",
       "      <td>2018-04-08 20:11:50</td>\n",
       "      <td>0</td>\n",
       "    </tr>\n",
       "    <tr>\n",
       "      <th>99439</th>\n",
       "      <td>56b18e2166679b8a959d72dd06da27f9</td>\n",
       "      <td>73c2643a0a458b49f58cea58833b192e</td>\n",
       "      <td>2017-11-03 21:08:33</td>\n",
       "      <td>2017-11-03 21:08:33</td>\n",
       "      <td>0</td>\n",
       "    </tr>\n",
       "    <tr>\n",
       "      <th>99440</th>\n",
       "      <td>274fa6071e5e17fe303b9748641082c8</td>\n",
       "      <td>84732c5050c01db9b23e19ba39899398</td>\n",
       "      <td>2017-12-19 14:27:23</td>\n",
       "      <td>2017-12-19 14:27:23</td>\n",
       "      <td>0</td>\n",
       "    </tr>\n",
       "  </tbody>\n",
       "</table>\n",
       "<p>99441 rows × 5 columns</p>\n",
       "</div>"
      ],
      "text/plain": [
       "                            customer_id                customer_unique_id  \\\n",
       "0      06b8999e2fba1a1fbc88172c00ba8bc7  861eff4711a542e4b93843c6dd7febb0   \n",
       "1      18955e83d337fd6b2def6b18a428ac77  290c77bc529b7ac935b93aa66c333dc3   \n",
       "2      4e7b3e00288586ebd08712fdd0374a03  060e732b5b29e8181a18229c7b0b2b5e   \n",
       "3      b2b6027bc5c5109e529d4dc6358b12c3  259dac757896d24d7702b9acbbff3f3c   \n",
       "4      4f2d8ab171c80ec8364f7c12e35b23ad  345ecd01c38d18a9036ed96c73b8d066   \n",
       "...                                 ...                               ...   \n",
       "99436  17ddf5dd5d51696bb3d7c6291687be6f  1a29b476fee25c95fbafc67c5ac95cf8   \n",
       "99437  e7b71a9017aa05c9a7fd292d714858e8  d52a67c98be1cf6a5c84435bd38d095d   \n",
       "99438  5e28dfe12db7fb50a4b2f691faecea5e  e9f50caf99f032f0bf3c55141f019d99   \n",
       "99439  56b18e2166679b8a959d72dd06da27f9  73c2643a0a458b49f58cea58833b192e   \n",
       "99440  274fa6071e5e17fe303b9748641082c8  84732c5050c01db9b23e19ba39899398   \n",
       "\n",
       "      first_transaction_date last_transaction_date  days_difference  \n",
       "0        2017-05-16 15:05:35   2017-05-16 15:05:35                0  \n",
       "1        2018-01-12 20:48:24   2018-01-12 20:48:24                0  \n",
       "2        2018-05-19 16:07:45   2018-05-19 16:07:45                0  \n",
       "3        2018-03-13 16:06:38   2018-03-13 16:06:38                0  \n",
       "4        2018-07-29 09:51:30   2018-07-29 09:51:30                0  \n",
       "...                      ...                   ...              ...  \n",
       "99436    2018-04-07 15:48:17   2018-04-07 15:48:17                0  \n",
       "99437    2018-04-04 08:20:22   2018-04-04 08:20:22                0  \n",
       "99438    2018-04-08 20:11:50   2018-04-08 20:11:50                0  \n",
       "99439    2017-11-03 21:08:33   2017-11-03 21:08:33                0  \n",
       "99440    2017-12-19 14:27:23   2017-12-19 14:27:23                0  \n",
       "\n",
       "[99441 rows x 5 columns]"
      ]
     },
     "execution_count": 47,
     "metadata": {},
     "output_type": "execute_result"
    }
   ],
   "source": [
    "import pandas as pd\n",
    "\n",
    "# Misalkan df_customers dan df_orders sudah didefinisikan sebelumnya\n",
    "# df_customers = pd.read_csv('path_to_customers.csv')\n",
    "# df_orders = pd.read_csv('path_to_orders.csv')\n",
    "\n",
    "# Mengonversi kolom order_purchase_timestamp ke tipe datetime\n",
    "df_orders['order_purchase_timestamp'] = pd.to_datetime(df_orders['order_purchase_timestamp'])\n",
    "\n",
    "# Mengelompokkan data berdasarkan customer_id dan mendapatkan tanggal transaksi awal dan akhir\n",
    "df_grouped = df_orders.groupby('customer_id')['order_purchase_timestamp'].agg(['min', 'max']).reset_index()\n",
    "\n",
    "# Menghitung selisih hari antara transaksi awal dan akhir\n",
    "df_grouped['days_difference'] = (df_grouped['max'] - df_grouped['min']).dt.days\n",
    "\n",
    "# Menggabungkan dengan df_customers untuk mendapatkan customer_unique_id\n",
    "result_df = pd.merge(df_customers[['customer_id', 'customer_unique_id']], df_grouped, on='customer_id', how='left')\n",
    "\n",
    "# Mengganti nama kolom untuk kejelasan\n",
    "result_df.columns = ['customer_id', 'customer_unique_id', 'first_transaction_date', 'last_transaction_date', 'days_difference']\n",
    "\n",
    "# Menampilkan hasil\n",
    "result_df.sort_values('days_difference')\n"
   ]
  },
  {
   "cell_type": "code",
   "execution_count": 61,
   "id": "c01bb43b-6f86-4612-8791-07b3ac0e3bb0",
   "metadata": {},
   "outputs": [
    {
     "data": {
      "text/html": [
       "<div>\n",
       "<style scoped>\n",
       "    .dataframe tbody tr th:only-of-type {\n",
       "        vertical-align: middle;\n",
       "    }\n",
       "\n",
       "    .dataframe tbody tr th {\n",
       "        vertical-align: top;\n",
       "    }\n",
       "\n",
       "    .dataframe thead th {\n",
       "        text-align: right;\n",
       "    }\n",
       "</style>\n",
       "<table border=\"1\" class=\"dataframe\">\n",
       "  <thead>\n",
       "    <tr style=\"text-align: right;\">\n",
       "      <th></th>\n",
       "      <th>customer_id</th>\n",
       "      <th>customer_unique_id</th>\n",
       "      <th>first_transaction_date</th>\n",
       "      <th>last_transaction_date</th>\n",
       "      <th>days_difference</th>\n",
       "    </tr>\n",
       "  </thead>\n",
       "  <tbody>\n",
       "    <tr>\n",
       "      <th>0</th>\n",
       "      <td>06b8999e2fba1a1fbc88172c00ba8bc7</td>\n",
       "      <td>861eff4711a542e4b93843c6dd7febb0</td>\n",
       "      <td>2017-05-16 15:05:35</td>\n",
       "      <td>2017-05-16 15:05:35</td>\n",
       "      <td>0</td>\n",
       "    </tr>\n",
       "    <tr>\n",
       "      <th>66299</th>\n",
       "      <td>229ac14c6ee6d6a606264ebcc861beb7</td>\n",
       "      <td>493f3e2114badbd36273531549b6d21c</td>\n",
       "      <td>2018-08-08 20:25:21</td>\n",
       "      <td>2018-08-08 20:25:21</td>\n",
       "      <td>0</td>\n",
       "    </tr>\n",
       "    <tr>\n",
       "      <th>66298</th>\n",
       "      <td>8cd118ecfb9703463ef9670b1d18a26e</td>\n",
       "      <td>c6e994767dccb6b8a8207c1f44451159</td>\n",
       "      <td>2017-10-17 11:12:57</td>\n",
       "      <td>2017-10-17 11:12:57</td>\n",
       "      <td>0</td>\n",
       "    </tr>\n",
       "    <tr>\n",
       "      <th>66297</th>\n",
       "      <td>8b7369c82ac3d8d71b77d5b23b085696</td>\n",
       "      <td>98de6fdee8013609f315bcbcf39fe23f</td>\n",
       "      <td>2018-05-13 17:08:57</td>\n",
       "      <td>2018-05-13 17:08:57</td>\n",
       "      <td>0</td>\n",
       "    </tr>\n",
       "    <tr>\n",
       "      <th>66296</th>\n",
       "      <td>4b7decb9b58e2569548b8b4c8e20e8d7</td>\n",
       "      <td>ff22e30958c13ffe219db7d711e8f564</td>\n",
       "      <td>2018-09-03 09:06:57</td>\n",
       "      <td>2018-09-03 09:06:57</td>\n",
       "      <td>0</td>\n",
       "    </tr>\n",
       "    <tr>\n",
       "      <th>...</th>\n",
       "      <td>...</td>\n",
       "      <td>...</td>\n",
       "      <td>...</td>\n",
       "      <td>...</td>\n",
       "      <td>...</td>\n",
       "    </tr>\n",
       "    <tr>\n",
       "      <th>33141</th>\n",
       "      <td>6b05c8f3a25a71005d5eb9b51766c333</td>\n",
       "      <td>1ead5f5c37bde289f52f322c4c497c4b</td>\n",
       "      <td>2017-08-15 20:11:01</td>\n",
       "      <td>2017-08-15 20:11:01</td>\n",
       "      <td>0</td>\n",
       "    </tr>\n",
       "    <tr>\n",
       "      <th>33140</th>\n",
       "      <td>afddd76d1457bf3429973d37105f7aef</td>\n",
       "      <td>b51e5231c8ece4e6f463f2add2e07f60</td>\n",
       "      <td>2018-08-23 11:01:11</td>\n",
       "      <td>2018-08-23 11:01:11</td>\n",
       "      <td>0</td>\n",
       "    </tr>\n",
       "    <tr>\n",
       "      <th>33139</th>\n",
       "      <td>7a8a02e54cf3472df427e927f8b9c046</td>\n",
       "      <td>9c3af16efacb7aa06aa3bc674556c5d6</td>\n",
       "      <td>2018-09-25 11:59:18</td>\n",
       "      <td>2018-09-25 11:59:18</td>\n",
       "      <td>0</td>\n",
       "    </tr>\n",
       "    <tr>\n",
       "      <th>33161</th>\n",
       "      <td>80fd8c4c7004d98ff9cdf61587724a35</td>\n",
       "      <td>3d6042d877fddc23b9d57ed6669a5b8c</td>\n",
       "      <td>2017-07-07 13:29:30</td>\n",
       "      <td>2017-07-07 13:29:30</td>\n",
       "      <td>0</td>\n",
       "    </tr>\n",
       "    <tr>\n",
       "      <th>99440</th>\n",
       "      <td>274fa6071e5e17fe303b9748641082c8</td>\n",
       "      <td>84732c5050c01db9b23e19ba39899398</td>\n",
       "      <td>2017-12-19 14:27:23</td>\n",
       "      <td>2017-12-19 14:27:23</td>\n",
       "      <td>0</td>\n",
       "    </tr>\n",
       "  </tbody>\n",
       "</table>\n",
       "<p>99441 rows × 5 columns</p>\n",
       "</div>"
      ],
      "text/plain": [
       "                            customer_id                customer_unique_id  \\\n",
       "0      06b8999e2fba1a1fbc88172c00ba8bc7  861eff4711a542e4b93843c6dd7febb0   \n",
       "66299  229ac14c6ee6d6a606264ebcc861beb7  493f3e2114badbd36273531549b6d21c   \n",
       "66298  8cd118ecfb9703463ef9670b1d18a26e  c6e994767dccb6b8a8207c1f44451159   \n",
       "66297  8b7369c82ac3d8d71b77d5b23b085696  98de6fdee8013609f315bcbcf39fe23f   \n",
       "66296  4b7decb9b58e2569548b8b4c8e20e8d7  ff22e30958c13ffe219db7d711e8f564   \n",
       "...                                 ...                               ...   \n",
       "33141  6b05c8f3a25a71005d5eb9b51766c333  1ead5f5c37bde289f52f322c4c497c4b   \n",
       "33140  afddd76d1457bf3429973d37105f7aef  b51e5231c8ece4e6f463f2add2e07f60   \n",
       "33139  7a8a02e54cf3472df427e927f8b9c046  9c3af16efacb7aa06aa3bc674556c5d6   \n",
       "33161  80fd8c4c7004d98ff9cdf61587724a35  3d6042d877fddc23b9d57ed6669a5b8c   \n",
       "99440  274fa6071e5e17fe303b9748641082c8  84732c5050c01db9b23e19ba39899398   \n",
       "\n",
       "      first_transaction_date last_transaction_date  days_difference  \n",
       "0        2017-05-16 15:05:35   2017-05-16 15:05:35                0  \n",
       "66299    2018-08-08 20:25:21   2018-08-08 20:25:21                0  \n",
       "66298    2017-10-17 11:12:57   2017-10-17 11:12:57                0  \n",
       "66297    2018-05-13 17:08:57   2018-05-13 17:08:57                0  \n",
       "66296    2018-09-03 09:06:57   2018-09-03 09:06:57                0  \n",
       "...                      ...                   ...              ...  \n",
       "33141    2017-08-15 20:11:01   2017-08-15 20:11:01                0  \n",
       "33140    2018-08-23 11:01:11   2018-08-23 11:01:11                0  \n",
       "33139    2018-09-25 11:59:18   2018-09-25 11:59:18                0  \n",
       "33161    2017-07-07 13:29:30   2017-07-07 13:29:30                0  \n",
       "99440    2017-12-19 14:27:23   2017-12-19 14:27:23                0  \n",
       "\n",
       "[99441 rows x 5 columns]"
      ]
     },
     "execution_count": 61,
     "metadata": {},
     "output_type": "execute_result"
    }
   ],
   "source": [
    "result_df.sort_values('days_difference')"
   ]
  },
  {
   "cell_type": "code",
   "execution_count": 49,
   "id": "f38323f2-a7b6-477f-82cf-de7031e5504f",
   "metadata": {},
   "outputs": [
    {
     "ename": "KeyError",
     "evalue": "'customer_unique_id'",
     "output_type": "error",
     "traceback": [
      "\u001b[1;31m---------------------------------------------------------------------------\u001b[0m",
      "\u001b[1;31mKeyError\u001b[0m                                  Traceback (most recent call last)",
      "Cell \u001b[1;32mIn[49], line 1\u001b[0m\n\u001b[1;32m----> 1\u001b[0m df_orders\u001b[38;5;241m.\u001b[39mgroupby(\u001b[38;5;124m'\u001b[39m\u001b[38;5;124mcustomer_unique_id\u001b[39m\u001b[38;5;124m'\u001b[39m)\n",
      "File \u001b[1;32m~\\anaconda3\\Lib\\site-packages\\pandas\\core\\frame.py:9183\u001b[0m, in \u001b[0;36mDataFrame.groupby\u001b[1;34m(self, by, axis, level, as_index, sort, group_keys, observed, dropna)\u001b[0m\n\u001b[0;32m   9180\u001b[0m \u001b[38;5;28;01mif\u001b[39;00m level \u001b[38;5;129;01mis\u001b[39;00m \u001b[38;5;28;01mNone\u001b[39;00m \u001b[38;5;129;01mand\u001b[39;00m by \u001b[38;5;129;01mis\u001b[39;00m \u001b[38;5;28;01mNone\u001b[39;00m:\n\u001b[0;32m   9181\u001b[0m     \u001b[38;5;28;01mraise\u001b[39;00m \u001b[38;5;167;01mTypeError\u001b[39;00m(\u001b[38;5;124m\"\u001b[39m\u001b[38;5;124mYou have to supply one of \u001b[39m\u001b[38;5;124m'\u001b[39m\u001b[38;5;124mby\u001b[39m\u001b[38;5;124m'\u001b[39m\u001b[38;5;124m and \u001b[39m\u001b[38;5;124m'\u001b[39m\u001b[38;5;124mlevel\u001b[39m\u001b[38;5;124m'\u001b[39m\u001b[38;5;124m\"\u001b[39m)\n\u001b[1;32m-> 9183\u001b[0m \u001b[38;5;28;01mreturn\u001b[39;00m DataFrameGroupBy(\n\u001b[0;32m   9184\u001b[0m     obj\u001b[38;5;241m=\u001b[39m\u001b[38;5;28mself\u001b[39m,\n\u001b[0;32m   9185\u001b[0m     keys\u001b[38;5;241m=\u001b[39mby,\n\u001b[0;32m   9186\u001b[0m     axis\u001b[38;5;241m=\u001b[39maxis,\n\u001b[0;32m   9187\u001b[0m     level\u001b[38;5;241m=\u001b[39mlevel,\n\u001b[0;32m   9188\u001b[0m     as_index\u001b[38;5;241m=\u001b[39mas_index,\n\u001b[0;32m   9189\u001b[0m     sort\u001b[38;5;241m=\u001b[39msort,\n\u001b[0;32m   9190\u001b[0m     group_keys\u001b[38;5;241m=\u001b[39mgroup_keys,\n\u001b[0;32m   9191\u001b[0m     observed\u001b[38;5;241m=\u001b[39mobserved,\n\u001b[0;32m   9192\u001b[0m     dropna\u001b[38;5;241m=\u001b[39mdropna,\n\u001b[0;32m   9193\u001b[0m )\n",
      "File \u001b[1;32m~\\anaconda3\\Lib\\site-packages\\pandas\\core\\groupby\\groupby.py:1329\u001b[0m, in \u001b[0;36mGroupBy.__init__\u001b[1;34m(self, obj, keys, axis, level, grouper, exclusions, selection, as_index, sort, group_keys, observed, dropna)\u001b[0m\n\u001b[0;32m   1326\u001b[0m \u001b[38;5;28mself\u001b[39m\u001b[38;5;241m.\u001b[39mdropna \u001b[38;5;241m=\u001b[39m dropna\n\u001b[0;32m   1328\u001b[0m \u001b[38;5;28;01mif\u001b[39;00m grouper \u001b[38;5;129;01mis\u001b[39;00m \u001b[38;5;28;01mNone\u001b[39;00m:\n\u001b[1;32m-> 1329\u001b[0m     grouper, exclusions, obj \u001b[38;5;241m=\u001b[39m get_grouper(\n\u001b[0;32m   1330\u001b[0m         obj,\n\u001b[0;32m   1331\u001b[0m         keys,\n\u001b[0;32m   1332\u001b[0m         axis\u001b[38;5;241m=\u001b[39maxis,\n\u001b[0;32m   1333\u001b[0m         level\u001b[38;5;241m=\u001b[39mlevel,\n\u001b[0;32m   1334\u001b[0m         sort\u001b[38;5;241m=\u001b[39msort,\n\u001b[0;32m   1335\u001b[0m         observed\u001b[38;5;241m=\u001b[39m\u001b[38;5;28;01mFalse\u001b[39;00m \u001b[38;5;28;01mif\u001b[39;00m observed \u001b[38;5;129;01mis\u001b[39;00m lib\u001b[38;5;241m.\u001b[39mno_default \u001b[38;5;28;01melse\u001b[39;00m observed,\n\u001b[0;32m   1336\u001b[0m         dropna\u001b[38;5;241m=\u001b[39m\u001b[38;5;28mself\u001b[39m\u001b[38;5;241m.\u001b[39mdropna,\n\u001b[0;32m   1337\u001b[0m     )\n\u001b[0;32m   1339\u001b[0m \u001b[38;5;28;01mif\u001b[39;00m observed \u001b[38;5;129;01mis\u001b[39;00m lib\u001b[38;5;241m.\u001b[39mno_default:\n\u001b[0;32m   1340\u001b[0m     \u001b[38;5;28;01mif\u001b[39;00m \u001b[38;5;28many\u001b[39m(ping\u001b[38;5;241m.\u001b[39m_passed_categorical \u001b[38;5;28;01mfor\u001b[39;00m ping \u001b[38;5;129;01min\u001b[39;00m grouper\u001b[38;5;241m.\u001b[39mgroupings):\n",
      "File \u001b[1;32m~\\anaconda3\\Lib\\site-packages\\pandas\\core\\groupby\\grouper.py:1043\u001b[0m, in \u001b[0;36mget_grouper\u001b[1;34m(obj, key, axis, level, sort, observed, validate, dropna)\u001b[0m\n\u001b[0;32m   1041\u001b[0m         in_axis, level, gpr \u001b[38;5;241m=\u001b[39m \u001b[38;5;28;01mFalse\u001b[39;00m, gpr, \u001b[38;5;28;01mNone\u001b[39;00m\n\u001b[0;32m   1042\u001b[0m     \u001b[38;5;28;01melse\u001b[39;00m:\n\u001b[1;32m-> 1043\u001b[0m         \u001b[38;5;28;01mraise\u001b[39;00m \u001b[38;5;167;01mKeyError\u001b[39;00m(gpr)\n\u001b[0;32m   1044\u001b[0m \u001b[38;5;28;01melif\u001b[39;00m \u001b[38;5;28misinstance\u001b[39m(gpr, Grouper) \u001b[38;5;129;01mand\u001b[39;00m gpr\u001b[38;5;241m.\u001b[39mkey \u001b[38;5;129;01mis\u001b[39;00m \u001b[38;5;129;01mnot\u001b[39;00m \u001b[38;5;28;01mNone\u001b[39;00m:\n\u001b[0;32m   1045\u001b[0m     \u001b[38;5;66;03m# Add key to exclusions\u001b[39;00m\n\u001b[0;32m   1046\u001b[0m     exclusions\u001b[38;5;241m.\u001b[39madd(gpr\u001b[38;5;241m.\u001b[39mkey)\n",
      "\u001b[1;31mKeyError\u001b[0m: 'customer_unique_id'"
     ]
    }
   ],
   "source": [
    "df_orders.groupby('customer_unique_id')"
   ]
  },
  {
   "cell_type": "code",
   "execution_count": 31,
   "id": "1004e02b-2250-4e6c-851e-ed8b80336dce",
   "metadata": {},
   "outputs": [
    {
     "data": {
      "text/html": [
       "<div>\n",
       "<style scoped>\n",
       "    .dataframe tbody tr th:only-of-type {\n",
       "        vertical-align: middle;\n",
       "    }\n",
       "\n",
       "    .dataframe tbody tr th {\n",
       "        vertical-align: top;\n",
       "    }\n",
       "\n",
       "    .dataframe thead th {\n",
       "        text-align: right;\n",
       "    }\n",
       "</style>\n",
       "<table border=\"1\" class=\"dataframe\">\n",
       "  <thead>\n",
       "    <tr style=\"text-align: right;\">\n",
       "      <th></th>\n",
       "      <th>customer_id</th>\n",
       "      <th>customer_unique_id</th>\n",
       "      <th>first_transaction_date</th>\n",
       "      <th>last_transaction_date</th>\n",
       "      <th>days_difference</th>\n",
       "    </tr>\n",
       "  </thead>\n",
       "  <tbody>\n",
       "    <tr>\n",
       "      <th>0</th>\n",
       "      <td>06b8999e2fba1a1fbc88172c00ba8bc7</td>\n",
       "      <td>861eff4711a542e4b93843c6dd7febb0</td>\n",
       "      <td>2017-05-16 15:05:35</td>\n",
       "      <td>2017-05-16 15:05:35</td>\n",
       "      <td>0</td>\n",
       "    </tr>\n",
       "    <tr>\n",
       "      <th>1</th>\n",
       "      <td>18955e83d337fd6b2def6b18a428ac77</td>\n",
       "      <td>290c77bc529b7ac935b93aa66c333dc3</td>\n",
       "      <td>2018-01-12 20:48:24</td>\n",
       "      <td>2018-01-12 20:48:24</td>\n",
       "      <td>0</td>\n",
       "    </tr>\n",
       "    <tr>\n",
       "      <th>2</th>\n",
       "      <td>4e7b3e00288586ebd08712fdd0374a03</td>\n",
       "      <td>060e732b5b29e8181a18229c7b0b2b5e</td>\n",
       "      <td>2018-05-19 16:07:45</td>\n",
       "      <td>2018-05-19 16:07:45</td>\n",
       "      <td>0</td>\n",
       "    </tr>\n",
       "    <tr>\n",
       "      <th>3</th>\n",
       "      <td>b2b6027bc5c5109e529d4dc6358b12c3</td>\n",
       "      <td>259dac757896d24d7702b9acbbff3f3c</td>\n",
       "      <td>2018-03-13 16:06:38</td>\n",
       "      <td>2018-03-13 16:06:38</td>\n",
       "      <td>0</td>\n",
       "    </tr>\n",
       "    <tr>\n",
       "      <th>4</th>\n",
       "      <td>4f2d8ab171c80ec8364f7c12e35b23ad</td>\n",
       "      <td>345ecd01c38d18a9036ed96c73b8d066</td>\n",
       "      <td>2018-07-29 09:51:30</td>\n",
       "      <td>2018-07-29 09:51:30</td>\n",
       "      <td>0</td>\n",
       "    </tr>\n",
       "    <tr>\n",
       "      <th>...</th>\n",
       "      <td>...</td>\n",
       "      <td>...</td>\n",
       "      <td>...</td>\n",
       "      <td>...</td>\n",
       "      <td>...</td>\n",
       "    </tr>\n",
       "    <tr>\n",
       "      <th>99436</th>\n",
       "      <td>17ddf5dd5d51696bb3d7c6291687be6f</td>\n",
       "      <td>1a29b476fee25c95fbafc67c5ac95cf8</td>\n",
       "      <td>2018-04-07 15:48:17</td>\n",
       "      <td>2018-04-07 15:48:17</td>\n",
       "      <td>0</td>\n",
       "    </tr>\n",
       "    <tr>\n",
       "      <th>99437</th>\n",
       "      <td>e7b71a9017aa05c9a7fd292d714858e8</td>\n",
       "      <td>d52a67c98be1cf6a5c84435bd38d095d</td>\n",
       "      <td>2018-04-04 08:20:22</td>\n",
       "      <td>2018-04-04 08:20:22</td>\n",
       "      <td>0</td>\n",
       "    </tr>\n",
       "    <tr>\n",
       "      <th>99438</th>\n",
       "      <td>5e28dfe12db7fb50a4b2f691faecea5e</td>\n",
       "      <td>e9f50caf99f032f0bf3c55141f019d99</td>\n",
       "      <td>2018-04-08 20:11:50</td>\n",
       "      <td>2018-04-08 20:11:50</td>\n",
       "      <td>0</td>\n",
       "    </tr>\n",
       "    <tr>\n",
       "      <th>99439</th>\n",
       "      <td>56b18e2166679b8a959d72dd06da27f9</td>\n",
       "      <td>73c2643a0a458b49f58cea58833b192e</td>\n",
       "      <td>2017-11-03 21:08:33</td>\n",
       "      <td>2017-11-03 21:08:33</td>\n",
       "      <td>0</td>\n",
       "    </tr>\n",
       "    <tr>\n",
       "      <th>99440</th>\n",
       "      <td>274fa6071e5e17fe303b9748641082c8</td>\n",
       "      <td>84732c5050c01db9b23e19ba39899398</td>\n",
       "      <td>2017-12-19 14:27:23</td>\n",
       "      <td>2017-12-19 14:27:23</td>\n",
       "      <td>0</td>\n",
       "    </tr>\n",
       "  </tbody>\n",
       "</table>\n",
       "<p>99441 rows × 5 columns</p>\n",
       "</div>"
      ],
      "text/plain": [
       "                            customer_id                customer_unique_id  \\\n",
       "0      06b8999e2fba1a1fbc88172c00ba8bc7  861eff4711a542e4b93843c6dd7febb0   \n",
       "1      18955e83d337fd6b2def6b18a428ac77  290c77bc529b7ac935b93aa66c333dc3   \n",
       "2      4e7b3e00288586ebd08712fdd0374a03  060e732b5b29e8181a18229c7b0b2b5e   \n",
       "3      b2b6027bc5c5109e529d4dc6358b12c3  259dac757896d24d7702b9acbbff3f3c   \n",
       "4      4f2d8ab171c80ec8364f7c12e35b23ad  345ecd01c38d18a9036ed96c73b8d066   \n",
       "...                                 ...                               ...   \n",
       "99436  17ddf5dd5d51696bb3d7c6291687be6f  1a29b476fee25c95fbafc67c5ac95cf8   \n",
       "99437  e7b71a9017aa05c9a7fd292d714858e8  d52a67c98be1cf6a5c84435bd38d095d   \n",
       "99438  5e28dfe12db7fb50a4b2f691faecea5e  e9f50caf99f032f0bf3c55141f019d99   \n",
       "99439  56b18e2166679b8a959d72dd06da27f9  73c2643a0a458b49f58cea58833b192e   \n",
       "99440  274fa6071e5e17fe303b9748641082c8  84732c5050c01db9b23e19ba39899398   \n",
       "\n",
       "      first_transaction_date last_transaction_date  days_difference  \n",
       "0        2017-05-16 15:05:35   2017-05-16 15:05:35                0  \n",
       "1        2018-01-12 20:48:24   2018-01-12 20:48:24                0  \n",
       "2        2018-05-19 16:07:45   2018-05-19 16:07:45                0  \n",
       "3        2018-03-13 16:06:38   2018-03-13 16:06:38                0  \n",
       "4        2018-07-29 09:51:30   2018-07-29 09:51:30                0  \n",
       "...                      ...                   ...              ...  \n",
       "99436    2018-04-07 15:48:17   2018-04-07 15:48:17                0  \n",
       "99437    2018-04-04 08:20:22   2018-04-04 08:20:22                0  \n",
       "99438    2018-04-08 20:11:50   2018-04-08 20:11:50                0  \n",
       "99439    2017-11-03 21:08:33   2017-11-03 21:08:33                0  \n",
       "99440    2017-12-19 14:27:23   2017-12-19 14:27:23                0  \n",
       "\n",
       "[99441 rows x 5 columns]"
      ]
     },
     "execution_count": 31,
     "metadata": {},
     "output_type": "execute_result"
    }
   ],
   "source": [
    "result_"
   ]
  },
  {
   "cell_type": "code",
   "execution_count": 29,
   "id": "df70a6de-9e1f-423f-8c2b-2b43d7278ec8",
   "metadata": {},
   "outputs": [
    {
     "name": "stdout",
     "output_type": "stream",
     "text": [
      "                            customer_id first_transaction_date  \\\n",
      "0      06b8999e2fba1a1fbc88172c00ba8bc7    2017-05-16 15:05:35   \n",
      "1      18955e83d337fd6b2def6b18a428ac77    2018-01-12 20:48:24   \n",
      "2      4e7b3e00288586ebd08712fdd0374a03    2018-05-19 16:07:45   \n",
      "3      b2b6027bc5c5109e529d4dc6358b12c3    2018-03-13 16:06:38   \n",
      "4      4f2d8ab171c80ec8364f7c12e35b23ad    2018-07-29 09:51:30   \n",
      "...                                 ...                    ...   \n",
      "99436  17ddf5dd5d51696bb3d7c6291687be6f    2018-04-07 15:48:17   \n",
      "99437  e7b71a9017aa05c9a7fd292d714858e8    2018-04-04 08:20:22   \n",
      "99438  5e28dfe12db7fb50a4b2f691faecea5e    2018-04-08 20:11:50   \n",
      "99439  56b18e2166679b8a959d72dd06da27f9    2017-11-03 21:08:33   \n",
      "99440  274fa6071e5e17fe303b9748641082c8    2017-12-19 14:27:23   \n",
      "\n",
      "      last_transaction_date  days_difference  \n",
      "0       2017-05-16 15:05:35                0  \n",
      "1       2018-01-12 20:48:24                0  \n",
      "2       2018-05-19 16:07:45                0  \n",
      "3       2018-03-13 16:06:38                0  \n",
      "4       2018-07-29 09:51:30                0  \n",
      "...                     ...              ...  \n",
      "99436   2018-04-07 15:48:17                0  \n",
      "99437   2018-04-04 08:20:22                0  \n",
      "99438   2018-04-08 20:11:50                0  \n",
      "99439   2017-11-03 21:08:33                0  \n",
      "99440   2017-12-19 14:27:23                0  \n",
      "\n",
      "[99441 rows x 4 columns]\n"
     ]
    }
   ],
   "source": [
    "import pandas as pd\n",
    "\n",
    "# Misalkan df_customers dan df_orders sudah didefinisikan sebelumnya\n",
    "# df_customers = pd.read_csv('path_to_customers.csv')\n",
    "# df_orders = pd.read_csv('path_to_orders.csv')\n",
    "\n",
    "# Mengonversi kolom order_purchase_timestamp ke tipe datetime\n",
    "df_orders['order_purchase_timestamp'] = pd.to_datetime(df_orders['order_purchase_timestamp'])\n",
    "\n",
    "# Mengelompokkan data berdasarkan customer_id dan mendapatkan tanggal transaksi awal dan akhir\n",
    "df_grouped = df_orders.groupby('customer_id')['order_purchase_timestamp'].agg(['min', 'max']).reset_index()\n",
    "\n",
    "# Menghitung selisih hari antara transaksi awal dan akhir\n",
    "df_grouped['days_difference'] = (df_grouped['max'] - df_grouped['min']).dt.days\n",
    "\n",
    "# Menggabungkan dengan df_customers untuk mendapatkan customer_id\n",
    "result_df = pd.merge(df_customers[['customer_id']], df_grouped, on='customer_id', how='left')\n",
    "\n",
    "# Mengganti nama kolom untuk kejelasan\n",
    "result_df.columns = ['customer_id', 'first_transaction_date', 'last_transaction_date', 'days_difference']\n",
    "\n",
    "# Menampilkan hasil\n",
    "print(result_df)\n"
   ]
  },
  {
   "cell_type": "code",
   "execution_count": 21,
   "id": "1fae93c2-fdef-4996-b699-edcbc604e65c",
   "metadata": {},
   "outputs": [
    {
     "data": {
      "text/plain": [
       "(99441, 5)"
      ]
     },
     "execution_count": 21,
     "metadata": {},
     "output_type": "execute_result"
    }
   ],
   "source": [
    "df_customers.shape"
   ]
  },
  {
   "cell_type": "code",
   "execution_count": 23,
   "id": "7728ea15-3f22-47f8-8c77-37d76e5a8a9d",
   "metadata": {},
   "outputs": [
    {
     "data": {
      "text/plain": [
       "(99441, 8)"
      ]
     },
     "execution_count": 23,
     "metadata": {},
     "output_type": "execute_result"
    }
   ],
   "source": [
    "df_orders.shape"
   ]
  },
  {
   "cell_type": "code",
   "execution_count": 17,
   "id": "b70005a6-2e98-4687-b886-96971e604f7b",
   "metadata": {},
   "outputs": [
    {
     "data": {
      "text/html": [
       "<div>\n",
       "<style scoped>\n",
       "    .dataframe tbody tr th:only-of-type {\n",
       "        vertical-align: middle;\n",
       "    }\n",
       "\n",
       "    .dataframe tbody tr th {\n",
       "        vertical-align: top;\n",
       "    }\n",
       "\n",
       "    .dataframe thead th {\n",
       "        text-align: right;\n",
       "    }\n",
       "</style>\n",
       "<table border=\"1\" class=\"dataframe\">\n",
       "  <thead>\n",
       "    <tr style=\"text-align: right;\">\n",
       "      <th></th>\n",
       "      <th>customer_id</th>\n",
       "      <th>min</th>\n",
       "      <th>max</th>\n",
       "      <th>days_difference</th>\n",
       "    </tr>\n",
       "  </thead>\n",
       "  <tbody>\n",
       "    <tr>\n",
       "      <th>0</th>\n",
       "      <td>00012a2ce6f8dcda20d059ce98491703</td>\n",
       "      <td>2017-11-14 16:08:26</td>\n",
       "      <td>2017-11-14 16:08:26</td>\n",
       "      <td>0</td>\n",
       "    </tr>\n",
       "    <tr>\n",
       "      <th>66299</th>\n",
       "      <td>aa72002446dfbac0691304465c1b982d</td>\n",
       "      <td>2017-02-12 12:32:38</td>\n",
       "      <td>2017-02-12 12:32:38</td>\n",
       "      <td>0</td>\n",
       "    </tr>\n",
       "    <tr>\n",
       "      <th>66298</th>\n",
       "      <td>aa71b21388b99444414a772acde9f6aa</td>\n",
       "      <td>2017-09-18 13:58:03</td>\n",
       "      <td>2017-09-18 13:58:03</td>\n",
       "      <td>0</td>\n",
       "    </tr>\n",
       "    <tr>\n",
       "      <th>66297</th>\n",
       "      <td>aa6ee75a5950e07fa3f543bf48ee608e</td>\n",
       "      <td>2018-05-07 14:52:26</td>\n",
       "      <td>2018-05-07 14:52:26</td>\n",
       "      <td>0</td>\n",
       "    </tr>\n",
       "    <tr>\n",
       "      <th>66296</th>\n",
       "      <td>aa6edca5d83d4c8e9a2262b9847febd6</td>\n",
       "      <td>2018-08-01 14:58:41</td>\n",
       "      <td>2018-08-01 14:58:41</td>\n",
       "      <td>0</td>\n",
       "    </tr>\n",
       "    <tr>\n",
       "      <th>...</th>\n",
       "      <td>...</td>\n",
       "      <td>...</td>\n",
       "      <td>...</td>\n",
       "      <td>...</td>\n",
       "    </tr>\n",
       "    <tr>\n",
       "      <th>33141</th>\n",
       "      <td>558de2f6863bf7588338479d614522a3</td>\n",
       "      <td>2017-10-25 16:33:09</td>\n",
       "      <td>2017-10-25 16:33:09</td>\n",
       "      <td>0</td>\n",
       "    </tr>\n",
       "    <tr>\n",
       "      <th>33140</th>\n",
       "      <td>558db91121d704e92ef88de10aa722fd</td>\n",
       "      <td>2018-04-27 20:21:17</td>\n",
       "      <td>2018-04-27 20:21:17</td>\n",
       "      <td>0</td>\n",
       "    </tr>\n",
       "    <tr>\n",
       "      <th>33139</th>\n",
       "      <td>558db5ecbdc2c47fa8b3f8ae3b8a0453</td>\n",
       "      <td>2018-02-07 10:06:39</td>\n",
       "      <td>2018-02-07 10:06:39</td>\n",
       "      <td>0</td>\n",
       "    </tr>\n",
       "    <tr>\n",
       "      <th>33161</th>\n",
       "      <td>559f9d302aa523b2dd718e956f248db5</td>\n",
       "      <td>2018-05-27 17:59:00</td>\n",
       "      <td>2018-05-27 17:59:00</td>\n",
       "      <td>0</td>\n",
       "    </tr>\n",
       "    <tr>\n",
       "      <th>99440</th>\n",
       "      <td>ffffe8b65bbe3087b653a978c870db99</td>\n",
       "      <td>2017-09-29 14:07:03</td>\n",
       "      <td>2017-09-29 14:07:03</td>\n",
       "      <td>0</td>\n",
       "    </tr>\n",
       "  </tbody>\n",
       "</table>\n",
       "<p>99441 rows × 4 columns</p>\n",
       "</div>"
      ],
      "text/plain": [
       "                            customer_id                 min  \\\n",
       "0      00012a2ce6f8dcda20d059ce98491703 2017-11-14 16:08:26   \n",
       "66299  aa72002446dfbac0691304465c1b982d 2017-02-12 12:32:38   \n",
       "66298  aa71b21388b99444414a772acde9f6aa 2017-09-18 13:58:03   \n",
       "66297  aa6ee75a5950e07fa3f543bf48ee608e 2018-05-07 14:52:26   \n",
       "66296  aa6edca5d83d4c8e9a2262b9847febd6 2018-08-01 14:58:41   \n",
       "...                                 ...                 ...   \n",
       "33141  558de2f6863bf7588338479d614522a3 2017-10-25 16:33:09   \n",
       "33140  558db91121d704e92ef88de10aa722fd 2018-04-27 20:21:17   \n",
       "33139  558db5ecbdc2c47fa8b3f8ae3b8a0453 2018-02-07 10:06:39   \n",
       "33161  559f9d302aa523b2dd718e956f248db5 2018-05-27 17:59:00   \n",
       "99440  ffffe8b65bbe3087b653a978c870db99 2017-09-29 14:07:03   \n",
       "\n",
       "                      max  days_difference  \n",
       "0     2017-11-14 16:08:26                0  \n",
       "66299 2017-02-12 12:32:38                0  \n",
       "66298 2017-09-18 13:58:03                0  \n",
       "66297 2018-05-07 14:52:26                0  \n",
       "66296 2018-08-01 14:58:41                0  \n",
       "...                   ...              ...  \n",
       "33141 2017-10-25 16:33:09                0  \n",
       "33140 2018-04-27 20:21:17                0  \n",
       "33139 2018-02-07 10:06:39                0  \n",
       "33161 2018-05-27 17:59:00                0  \n",
       "99440 2017-09-29 14:07:03                0  \n",
       "\n",
       "[99441 rows x 4 columns]"
      ]
     },
     "execution_count": 17,
     "metadata": {},
     "output_type": "execute_result"
    }
   ],
   "source": [
    "df_grouped.sort_values('days_difference')"
   ]
  },
  {
   "cell_type": "code",
   "execution_count": 13,
   "id": "bb11d474-8019-4a3c-9e76-b0f043ee9af0",
   "metadata": {},
   "outputs": [
    {
     "data": {
      "text/html": [
       "<div>\n",
       "<style scoped>\n",
       "    .dataframe tbody tr th:only-of-type {\n",
       "        vertical-align: middle;\n",
       "    }\n",
       "\n",
       "    .dataframe tbody tr th {\n",
       "        vertical-align: top;\n",
       "    }\n",
       "\n",
       "    .dataframe thead th {\n",
       "        text-align: right;\n",
       "    }\n",
       "</style>\n",
       "<table border=\"1\" class=\"dataframe\">\n",
       "  <thead>\n",
       "    <tr style=\"text-align: right;\">\n",
       "      <th></th>\n",
       "      <th>customer_id</th>\n",
       "      <th>first_transaction_date</th>\n",
       "      <th>last_transaction_date</th>\n",
       "      <th>days_difference</th>\n",
       "    </tr>\n",
       "  </thead>\n",
       "  <tbody>\n",
       "    <tr>\n",
       "      <th>0</th>\n",
       "      <td>06b8999e2fba1a1fbc88172c00ba8bc7</td>\n",
       "      <td>2017-05-16 15:05:35</td>\n",
       "      <td>2017-05-16 15:05:35</td>\n",
       "      <td>0</td>\n",
       "    </tr>\n",
       "    <tr>\n",
       "      <th>66299</th>\n",
       "      <td>229ac14c6ee6d6a606264ebcc861beb7</td>\n",
       "      <td>2018-08-08 20:25:21</td>\n",
       "      <td>2018-08-08 20:25:21</td>\n",
       "      <td>0</td>\n",
       "    </tr>\n",
       "    <tr>\n",
       "      <th>66298</th>\n",
       "      <td>8cd118ecfb9703463ef9670b1d18a26e</td>\n",
       "      <td>2017-10-17 11:12:57</td>\n",
       "      <td>2017-10-17 11:12:57</td>\n",
       "      <td>0</td>\n",
       "    </tr>\n",
       "    <tr>\n",
       "      <th>66297</th>\n",
       "      <td>8b7369c82ac3d8d71b77d5b23b085696</td>\n",
       "      <td>2018-05-13 17:08:57</td>\n",
       "      <td>2018-05-13 17:08:57</td>\n",
       "      <td>0</td>\n",
       "    </tr>\n",
       "    <tr>\n",
       "      <th>66296</th>\n",
       "      <td>4b7decb9b58e2569548b8b4c8e20e8d7</td>\n",
       "      <td>2018-09-03 09:06:57</td>\n",
       "      <td>2018-09-03 09:06:57</td>\n",
       "      <td>0</td>\n",
       "    </tr>\n",
       "    <tr>\n",
       "      <th>...</th>\n",
       "      <td>...</td>\n",
       "      <td>...</td>\n",
       "      <td>...</td>\n",
       "      <td>...</td>\n",
       "    </tr>\n",
       "    <tr>\n",
       "      <th>33141</th>\n",
       "      <td>6b05c8f3a25a71005d5eb9b51766c333</td>\n",
       "      <td>2017-08-15 20:11:01</td>\n",
       "      <td>2017-08-15 20:11:01</td>\n",
       "      <td>0</td>\n",
       "    </tr>\n",
       "    <tr>\n",
       "      <th>33140</th>\n",
       "      <td>afddd76d1457bf3429973d37105f7aef</td>\n",
       "      <td>2018-08-23 11:01:11</td>\n",
       "      <td>2018-08-23 11:01:11</td>\n",
       "      <td>0</td>\n",
       "    </tr>\n",
       "    <tr>\n",
       "      <th>33139</th>\n",
       "      <td>7a8a02e54cf3472df427e927f8b9c046</td>\n",
       "      <td>2018-09-25 11:59:18</td>\n",
       "      <td>2018-09-25 11:59:18</td>\n",
       "      <td>0</td>\n",
       "    </tr>\n",
       "    <tr>\n",
       "      <th>33161</th>\n",
       "      <td>80fd8c4c7004d98ff9cdf61587724a35</td>\n",
       "      <td>2017-07-07 13:29:30</td>\n",
       "      <td>2017-07-07 13:29:30</td>\n",
       "      <td>0</td>\n",
       "    </tr>\n",
       "    <tr>\n",
       "      <th>99440</th>\n",
       "      <td>274fa6071e5e17fe303b9748641082c8</td>\n",
       "      <td>2017-12-19 14:27:23</td>\n",
       "      <td>2017-12-19 14:27:23</td>\n",
       "      <td>0</td>\n",
       "    </tr>\n",
       "  </tbody>\n",
       "</table>\n",
       "<p>99441 rows × 4 columns</p>\n",
       "</div>"
      ],
      "text/plain": [
       "                            customer_id first_transaction_date  \\\n",
       "0      06b8999e2fba1a1fbc88172c00ba8bc7    2017-05-16 15:05:35   \n",
       "66299  229ac14c6ee6d6a606264ebcc861beb7    2018-08-08 20:25:21   \n",
       "66298  8cd118ecfb9703463ef9670b1d18a26e    2017-10-17 11:12:57   \n",
       "66297  8b7369c82ac3d8d71b77d5b23b085696    2018-05-13 17:08:57   \n",
       "66296  4b7decb9b58e2569548b8b4c8e20e8d7    2018-09-03 09:06:57   \n",
       "...                                 ...                    ...   \n",
       "33141  6b05c8f3a25a71005d5eb9b51766c333    2017-08-15 20:11:01   \n",
       "33140  afddd76d1457bf3429973d37105f7aef    2018-08-23 11:01:11   \n",
       "33139  7a8a02e54cf3472df427e927f8b9c046    2018-09-25 11:59:18   \n",
       "33161  80fd8c4c7004d98ff9cdf61587724a35    2017-07-07 13:29:30   \n",
       "99440  274fa6071e5e17fe303b9748641082c8    2017-12-19 14:27:23   \n",
       "\n",
       "      last_transaction_date  days_difference  \n",
       "0       2017-05-16 15:05:35                0  \n",
       "66299   2018-08-08 20:25:21                0  \n",
       "66298   2017-10-17 11:12:57                0  \n",
       "66297   2018-05-13 17:08:57                0  \n",
       "66296   2018-09-03 09:06:57                0  \n",
       "...                     ...              ...  \n",
       "33141   2017-08-15 20:11:01                0  \n",
       "33140   2018-08-23 11:01:11                0  \n",
       "33139   2018-09-25 11:59:18                0  \n",
       "33161   2017-07-07 13:29:30                0  \n",
       "99440   2017-12-19 14:27:23                0  \n",
       "\n",
       "[99441 rows x 4 columns]"
      ]
     },
     "execution_count": 13,
     "metadata": {},
     "output_type": "execute_result"
    }
   ],
   "source": [
    "result_df.sort_values('days_difference')"
   ]
  },
  {
   "cell_type": "code",
   "execution_count": null,
   "id": "853253b2-12b8-498e-957b-f3f478a1dca3",
   "metadata": {},
   "outputs": [],
   "source": [
    "df_orderitems.query('order_id == \"f80549a97eb203e1566e026ab66f045b\"')"
   ]
  },
  {
   "cell_type": "code",
   "execution_count": null,
   "id": "45ed4b72-0c09-4c06-86f7-05f52f801d8f",
   "metadata": {},
   "outputs": [],
   "source": [
    "df_payments"
   ]
  },
  {
   "cell_type": "code",
   "execution_count": null,
   "id": "4886cc18-f7ce-434a-b585-7d1200d0192c",
   "metadata": {},
   "outputs": [],
   "source": [
    "df_orderitems.sort_values('order_id')"
   ]
  },
  {
   "cell_type": "code",
   "execution_count": null,
   "id": "8a46130a-7fab-4c3a-b867-ed7affe07b9d",
   "metadata": {},
   "outputs": [],
   "source": [
    "df_orders.head()"
   ]
  },
  {
   "cell_type": "code",
   "execution_count": null,
   "id": "b51ccd1a-7ff8-4e2d-9d6f-38ebc28c6e9b",
   "metadata": {},
   "outputs": [],
   "source": [
    "df_customers.head()"
   ]
  },
  {
   "cell_type": "code",
   "execution_count": null,
   "id": "eb5120a4-4db8-4cff-a4d8-0a552fc7531b",
   "metadata": {},
   "outputs": [],
   "source": [
    "df_orderitems.shape"
   ]
  },
  {
   "cell_type": "code",
   "execution_count": null,
   "id": "65047440-f7cc-42db-94ca-48f5b9fb74ce",
   "metadata": {},
   "outputs": [],
   "source": [
    "df_orderitems.nunique()"
   ]
  },
  {
   "cell_type": "code",
   "execution_count": null,
   "id": "98ed9187-a751-4872-84be-effe8eb3fdfc",
   "metadata": {},
   "outputs": [],
   "source": [
    "df_orders.sort_values('order_id')"
   ]
  },
  {
   "cell_type": "code",
   "execution_count": null,
   "id": "c3b9fa8e-93cf-4149-adba-cf24736c7e55",
   "metadata": {},
   "outputs": [],
   "source": [
    "df_customers.to_csv('df_customers.csv', index=False)"
   ]
  },
  {
   "cell_type": "code",
   "execution_count": null,
   "id": "8e5eadd4-a2ed-4297-a4b4-f9748442aa2c",
   "metadata": {},
   "outputs": [],
   "source": [
    "df_geolocations.to_csv('df_geolocations.csv', index=False)"
   ]
  },
  {
   "cell_type": "code",
   "execution_count": null,
   "id": "81da650a-021c-4f0d-873f-ba723ab9bd1e",
   "metadata": {},
   "outputs": [],
   "source": [
    "df_orderitems.to_csv('df_orderitems.csv', index=False)"
   ]
  },
  {
   "cell_type": "code",
   "execution_count": null,
   "id": "e247da65-4180-493c-ae94-35af02783f3e",
   "metadata": {},
   "outputs": [],
   "source": [
    "df_payments.to_csv('df_payments.csv', index=False)"
   ]
  },
  {
   "cell_type": "code",
   "execution_count": null,
   "id": "4539dbcc-6bf0-4103-a8e3-e56f0cddfe5a",
   "metadata": {},
   "outputs": [],
   "source": [
    "df_reviews.to_csv('df_reviews.csv', index=False)"
   ]
  },
  {
   "cell_type": "code",
   "execution_count": null,
   "id": "2c759105-3f0d-4527-877f-e60edd903c2a",
   "metadata": {},
   "outputs": [],
   "source": [
    "df_orders.to_csv('df_orders.csv', index=False)"
   ]
  },
  {
   "cell_type": "code",
   "execution_count": null,
   "id": "90ceeef1-0e5e-4fe8-845a-714ce3a5bc72",
   "metadata": {},
   "outputs": [],
   "source": [
    "df_products.to_csv('df_products.csv', index=False)"
   ]
  },
  {
   "cell_type": "code",
   "execution_count": null,
   "id": "d82c061c-84e7-407c-8355-8b617e6dcb7e",
   "metadata": {},
   "outputs": [],
   "source": [
    "df_sellers.to_csv('df_sellers.csv', index=False)"
   ]
  },
  {
   "cell_type": "code",
   "execution_count": null,
   "id": "99eafcbc-effa-4bcb-a06e-65a6bdcad8ac",
   "metadata": {},
   "outputs": [],
   "source": [
    "print(\"1\")\n",
    "df_customers.shape"
   ]
  },
  {
   "cell_type": "code",
   "execution_count": null,
   "id": "a6dac1a6-f919-4701-a4f5-7f9bec49cacd",
   "metadata": {},
   "outputs": [],
   "source": [
    "print(\"2\")\n",
    "df_geolocations.shape"
   ]
  },
  {
   "cell_type": "code",
   "execution_count": null,
   "id": "146ea66c-1c2b-4957-a661-d83721a5f250",
   "metadata": {},
   "outputs": [],
   "source": [
    "print(\"3\")\n",
    "df_orderitems.shape"
   ]
  },
  {
   "cell_type": "code",
   "execution_count": null,
   "id": "e528dac1-da85-4c18-be2f-85584d2a920d",
   "metadata": {},
   "outputs": [],
   "source": [
    "print(\"4\")\n",
    "df_payments.shape"
   ]
  },
  {
   "cell_type": "code",
   "execution_count": null,
   "id": "98210b26-e1c6-4ad1-a544-3e7db1db5d50",
   "metadata": {},
   "outputs": [],
   "source": [
    "print(\"5\")\n",
    "df_reviews.shape"
   ]
  },
  {
   "cell_type": "code",
   "execution_count": null,
   "id": "9a6fc0ee-cd31-4e61-ad76-8147d9ece370",
   "metadata": {},
   "outputs": [],
   "source": [
    "print(\"6\")\n",
    "df_orders.shape"
   ]
  },
  {
   "cell_type": "code",
   "execution_count": null,
   "id": "24f99f68-4bdd-40c3-aa8e-2d9b9ca86974",
   "metadata": {},
   "outputs": [],
   "source": [
    "print(\"7\")\n",
    "df_products.shape"
   ]
  },
  {
   "cell_type": "code",
   "execution_count": null,
   "id": "8ad893dc-7882-4f6c-a805-62088bce7520",
   "metadata": {},
   "outputs": [],
   "source": [
    "print(\"8\")\n",
    "df_sellers.shape"
   ]
  },
  {
   "cell_type": "code",
   "execution_count": null,
   "id": "fe2450ac-e1bd-41df-94c0-83d38fcda1d9",
   "metadata": {},
   "outputs": [],
   "source": [
    "null_df_customer = df_customers.isnull().sum().sum()\n",
    "null_df_geolocations = df_geolocations.isnull().sum().sum()\n",
    "null_df_orderitems = df_orderitems.isnull().sum().sum()\n",
    "null_df_payments = df_payments.isnull().sum().sum()\n",
    "null_df_reviews = df_reviews.isnull().sum().sum()\n",
    "null_df_orders = df_orders.isnull().sum().sum()\n",
    "null_df_products = df_products.isnull().sum().sum()\n",
    "null_df_sellers = df_sellers.isnull().sum().sum()"
   ]
  },
  {
   "cell_type": "code",
   "execution_count": null,
   "id": "f2747a5d-ddcb-4fae-90b1-2a9af1b2adac",
   "metadata": {},
   "outputs": [],
   "source": [
    "print('Number of NaN values null_df_customer:', null_df_customer)\n",
    "print('Number of NaN values null_df_geolocations:', null_df_geolocations)\n",
    "print('Number of NaN values null_df_orderitems:', null_df_orderitems)\n",
    "print('Number of NaN values null_df_payments:', null_df_payments)\n",
    "print('Number of NaN values null_df_reviews:', null_df_reviews)\n",
    "print('Number of NaN values null_df_orders:', null_df_orders)\n",
    "print('Number of NaN values null_df_products:', null_df_products)\n",
    "print('Number of NaN values null_df_sellers:', null_df_sellers)\n"
   ]
  },
  {
   "cell_type": "code",
   "execution_count": null,
   "id": "2b19aba9-609a-4407-974c-a2994bd86bf5",
   "metadata": {},
   "outputs": [],
   "source": [
    "# Menggabungkan DataFrame\n",
    "# Pertama, kita gabungkan df_orders dengan df_customers\n",
    "merged_df = pd.merge(df_orders, df_customers, on='customer_id', how='inner')\n",
    "\n",
    "# Menggabungkan dengan df_orderitems\n",
    "merged_df = pd.merge(merged_df, df_orderitems, on='order_id', how='inner')\n",
    "\n",
    "# Menggabungkan dengan df_payments\n",
    "merged_df = pd.merge(merged_df, df_payments, on='order_id', how='inner')\n",
    "\n",
    "# Menggabungkan dengan df_reviews\n",
    "merged_df = pd.merge(merged_df, df_reviews, on='order_id', how='inner')\n",
    "\n",
    "# Menggabungkan dengan df_products\n",
    "merged_df = pd.merge(merged_df, df_products, on='product_id', how='inner')\n",
    "\n",
    "# Menggabungkan dengan df_sellers\n",
    "merged_df = pd.merge(merged_df, df_sellers, on='seller_id', how='inner')\n",
    "\n",
    "# Menggabungkan dengan df_geolocations\n",
    "merged_df = pd.merge(merged_df, df_geolocations, left_on='customer_zip_code_prefix', right_on='geolocation_zip_code_prefix', how='inner')\n"
   ]
  },
  {
   "cell_type": "code",
   "execution_count": null,
   "id": "a219c419-ca4f-4f1d-adc8-2c9b213b3036",
   "metadata": {},
   "outputs": [],
   "source": [
    "merged_df.isna().sum()"
   ]
  },
  {
   "cell_type": "code",
   "execution_count": null,
   "id": "5bfbc029-283e-4d10-8290-e109136019a3",
   "metadata": {},
   "outputs": [],
   "source": [
    "merged_df.shape"
   ]
  },
  {
   "cell_type": "code",
   "execution_count": null,
   "id": "532c9e8c-901c-40f4-9a64-613f2ed3e069",
   "metadata": {},
   "outputs": [],
   "source": [
    "# Menggabungkan df_orders dengan df_orderitems berdasarkan order_id\n",
    "df = pd.merge(df_orderitems, df_orders, on='order_id', how='left')\n",
    "\n",
    "# Menggabungkan dengan df_payments berdasarkan order_id\n",
    "df = pd.merge(df, df_payments, on='order_id', how='left')\n",
    "\n",
    "# Menggabungkan dengan df_reviews berdasarkan order_id\n",
    "df = pd.merge(df, df_reviews, on='order_id', how='left')\n",
    "\n",
    "# Menggabungkan dengan df_products berdasarkan product_id\n",
    "df = pd.merge(df, df_products, on='product_id', how='left')\n",
    "\n",
    "# Menggabungkan dengan df_sellers berdasarkan seller_id\n",
    "df = pd.merge(df, df_sellers, on='seller_id', how='left')\n",
    "\n",
    "# Menggabungkan dengan df_customers berdasarkan customer_id\n",
    "df = pd.merge(df, df_customers, on='customer_id', how='left')\n",
    "\n",
    "# Menggabungkan dengan df_geolocations berdasarkan zip_code_prefix\n",
    "df = pd.merge(df, df_geolocations, left_on='customer_zip_code_prefix', right_on='geolocation_zip_code_prefix', how='left')"
   ]
  },
  {
   "cell_type": "code",
   "execution_count": null,
   "id": "76221431-6fd0-4d9a-bdb2-73cf7f3485d5",
   "metadata": {},
   "outputs": [],
   "source": [
    "df.shape"
   ]
  },
  {
   "cell_type": "code",
   "execution_count": null,
   "id": "6c1d8b14-0dc4-4a6a-92b2-7a005b3c6d93",
   "metadata": {},
   "outputs": [],
   "source": [
    "df.isna().sum()"
   ]
  },
  {
   "cell_type": "code",
   "execution_count": null,
   "id": "2e00d58a-d434-4ee3-8c5a-c15c27de0968",
   "metadata": {},
   "outputs": [],
   "source": [
    "df = pd.merge(df, df_geolocations, left_on='customer_zip_code_prefix', right_on='geolocation_zip_code_prefix', how='left')"
   ]
  },
  {
   "cell_type": "code",
   "execution_count": null,
   "id": "c813096f-da94-476b-9c08-3b3506b919d1",
   "metadata": {},
   "outputs": [],
   "source": [
    "# Menggabungkan dengan df_customers berdasarkan customer_id\n",
    "df = pd.merge(df, df_customers, on='customer_id', how='left')"
   ]
  },
  {
   "cell_type": "code",
   "execution_count": null,
   "id": "80ab89f8-24e4-4b6d-a341-b28db82b11d2",
   "metadata": {},
   "outputs": [],
   "source": [
    "df = pd.merge(df, df_orderitems, on='order_id', how='left')"
   ]
  },
  {
   "cell_type": "code",
   "execution_count": null,
   "id": "85abb64f-fd61-4a66-b0e3-211654967ef0",
   "metadata": {},
   "outputs": [],
   "source": [
    "# Menggabungkan dengan df_reviews berdasarkan order_id\n",
    "df = pd.merge(df_orders, df_reviews, on='order_id', how='left')"
   ]
  },
  {
   "cell_type": "code",
   "execution_count": null,
   "id": "601962d0-ac8b-431c-96bc-b6417d31a971",
   "metadata": {},
   "outputs": [],
   "source": [
    "# Menggabungkan dengan df_payments berdasarkan order_id\n",
    "df = pd.merge(df, df_payments, on='order_id', how='left')"
   ]
  },
  {
   "cell_type": "code",
   "execution_count": null,
   "id": "6d329116-5a04-4353-b359-18b26ddfbcd5",
   "metadata": {},
   "outputs": [],
   "source": [
    "# Menggabungkan dengan df_products berdasarkan product_id\n",
    "df = pd.merge(df, df_products, on='product_id', how='left')"
   ]
  },
  {
   "cell_type": "code",
   "execution_count": null,
   "id": "19cac2b1-f25e-45d5-bedf-8b4e5d524f1c",
   "metadata": {},
   "outputs": [],
   "source": [
    "# Menggabungkan dengan df_sellers berdasarkan seller_id\n",
    "df = pd.merge(df, df_sellers, on='seller_id', how='left')"
   ]
  },
  {
   "cell_type": "code",
   "execution_count": null,
   "id": "6dc7572a-2e12-4547-b8ac-270757420496",
   "metadata": {},
   "outputs": [],
   "source": [
    "df.isna().sum()"
   ]
  },
  {
   "cell_type": "code",
   "execution_count": null,
   "id": "f649528e-c024-4e0b-8d3d-b51f513f3767",
   "metadata": {},
   "outputs": [],
   "source": [
    "df_combined[df_combined['customer_state'].astype(str).str.contains('DF')]"
   ]
  },
  {
   "cell_type": "code",
   "execution_count": null,
   "id": "818fd484-fb7b-4148-80af-6fd7eff49ed6",
   "metadata": {},
   "outputs": [],
   "source": [
    "df_combined"
   ]
  },
  {
   "cell_type": "code",
   "execution_count": null,
   "id": "4bbe45c2-1dba-4a27-bdbe-4418baeec9aa",
   "metadata": {},
   "outputs": [],
   "source": [
    "#Check null Values dataframes\n",
    "df_combined.isna().sum()"
   ]
  },
  {
   "cell_type": "code",
   "execution_count": null,
   "id": "8d1c5690-321b-47fd-bae4-462b4bcdec9e",
   "metadata": {},
   "outputs": [],
   "source": [
    "df_null_geo = df_combined[df_combined['geolocation_city'].isna()]"
   ]
  },
  {
   "cell_type": "code",
   "execution_count": null,
   "id": "fa5a4e12-7186-4df4-8ed8-c4f187c1113d",
   "metadata": {},
   "outputs": [],
   "source": [
    "df_null_geo.isna().sum()"
   ]
  },
  {
   "cell_type": "code",
   "execution_count": null,
   "id": "f3663031-6872-4f6a-b4b0-f792f822cb28",
   "metadata": {},
   "outputs": [],
   "source": [
    "df_null_pay =  df_combined[df_combined['payment_value'].isna()]"
   ]
  },
  {
   "cell_type": "code",
   "execution_count": null,
   "id": "b1c5ea3a-cc34-4e11-b1b5-4d41ce382565",
   "metadata": {},
   "outputs": [],
   "source": [
    "df_null_pay.isna().sum()"
   ]
  },
  {
   "cell_type": "code",
   "execution_count": null,
   "id": "4399f28d-7b91-42e6-9024-9b95c8f0b13f",
   "metadata": {},
   "outputs": [],
   "source": [
    "df_null_pay"
   ]
  },
  {
   "cell_type": "code",
   "execution_count": null,
   "id": "4dd81f9e-4775-4784-81f2-fa8686881d8c",
   "metadata": {},
   "outputs": [],
   "source": [
    "df_null_pay[['order_id', 'product_id', 'price', 'order_status']].value_counts('order_status')"
   ]
  },
  {
   "cell_type": "code",
   "execution_count": null,
   "id": "b0bee0e5-59c1-4e4d-94d6-72988a09f5bb",
   "metadata": {},
   "outputs": [],
   "source": [
    "df_null_review = df_combined[df_combined['review_id'].isna()]"
   ]
  },
  {
   "cell_type": "code",
   "execution_count": null,
   "id": "37a7ffeb-4dd2-47e3-aba6-a87597930057",
   "metadata": {},
   "outputs": [],
   "source": [
    "df_nulls_drop = df_combined.dropna(subset=['review_id', 'review_score', 'review_comment_title', 'review_comment_message', 'review_creation_date', 'review_answer_timestamp'])"
   ]
  },
  {
   "cell_type": "code",
   "execution_count": null,
   "id": "8e1d1c3e-6b52-4401-936f-9cc25b4c8e8f",
   "metadata": {},
   "outputs": [],
   "source": [
    "df_nulls_drop.value_counts('order_status')"
   ]
  },
  {
   "cell_type": "code",
   "execution_count": null,
   "id": "a4129bc9-7388-4d07-8974-8fa3850c927b",
   "metadata": {},
   "outputs": [],
   "source": [
    "df_nulls_drop.shape"
   ]
  },
  {
   "cell_type": "code",
   "execution_count": null,
   "id": "eff281b5-69e5-4cb5-950f-9d018f5cd239",
   "metadata": {},
   "outputs": [],
   "source": [
    "df_null_review.value_counts('order_status')"
   ]
  },
  {
   "cell_type": "code",
   "execution_count": null,
   "id": "4e113aa9-dff0-44ef-a6ff-538a01a98f40",
   "metadata": {},
   "outputs": [],
   "source": [
    "df_null_pay"
   ]
  },
  {
   "cell_type": "code",
   "execution_count": null,
   "id": "0206d410-b41b-4547-b536-a7936855ab7e",
   "metadata": {},
   "outputs": [],
   "source": [
    "# Misalkan df_combined adalah DataFrame yang sudah digabungkan\n",
    "# Group by 'order_status' dan hitung jumlah nilai null di 'review_score'\n",
    "null_counts = df_combined.groupby('order_status')['review_score'].apply(lambda x: x.isnull().sum())\n",
    "\n",
    "# Tampilkan hasil\n",
    "null_counts\n"
   ]
  },
  {
   "cell_type": "code",
   "execution_count": null,
   "id": "de9e0f12-fbde-47d2-87be-3915ef3464db",
   "metadata": {},
   "outputs": [],
   "source": [
    "df_clean = df.copy()"
   ]
  },
  {
   "cell_type": "code",
   "execution_count": null,
   "id": "27feb0b4-bd33-4805-9d91-3631becd9114",
   "metadata": {},
   "outputs": [],
   "source": [
    "df_clean['payment_installments'] = pd.to_numeric(df_clean['payment_installments'], errors='coerce')\n",
    "df_clean['payment_value'] = pd.to_numeric(df_clean['payment_value'], errors='coerce')\n",
    "\n",
    "#Cleansing null_values untuk data payment\n",
    "df_clean['payment_installments'] = df_clean['payment_installments'].interpolate()\n",
    "df_clean['payment_value'] = df_clean['payment_value'].interpolate()"
   ]
  },
  {
   "cell_type": "code",
   "execution_count": null,
   "id": "3e535a03-f9ce-4ef7-a695-130e5ef9c78a",
   "metadata": {},
   "outputs": [],
   "source": [
    "df_clean.isna().sum()"
   ]
  },
  {
   "cell_type": "code",
   "execution_count": null,
   "id": "2fe1cf17-8ba1-4363-9984-fe13b555ec7d",
   "metadata": {},
   "outputs": [],
   "source": [
    "mode_payment_type = df_clean['payment_type'].mode()[0]\n",
    "df_clean['payment_type'].fillna(mode_payment_type, inplace=True)"
   ]
  },
  {
   "cell_type": "code",
   "execution_count": null,
   "id": "f23a2208-8679-4081-9d90-ec9f1111588d",
   "metadata": {},
   "outputs": [],
   "source": [
    "df_clean['payment_sequential'].fillna(method='ffill', inplace=True)"
   ]
  },
  {
   "cell_type": "code",
   "execution_count": null,
   "id": "860488d5-f40b-420a-877a-9103cb668c8c",
   "metadata": {},
   "outputs": [],
   "source": []
  }
 ],
 "metadata": {
  "kernelspec": {
   "display_name": "Python 3 (ipykernel)",
   "language": "python",
   "name": "python3"
  },
  "language_info": {
   "codemirror_mode": {
    "name": "ipython",
    "version": 3
   },
   "file_extension": ".py",
   "mimetype": "text/x-python",
   "name": "python",
   "nbconvert_exporter": "python",
   "pygments_lexer": "ipython3",
   "version": "3.12.4"
  }
 },
 "nbformat": 4,
 "nbformat_minor": 5
}
