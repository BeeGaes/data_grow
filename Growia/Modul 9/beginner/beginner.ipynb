{
 "cells": [
  {
   "cell_type": "code",
   "execution_count": 1,
   "id": "69dda41a-7519-4215-812c-03748f6afd5e",
   "metadata": {},
   "outputs": [],
   "source": [
    "import pandas as pd\n",
    "import sqlite3"
   ]
  },
  {
   "cell_type": "code",
   "execution_count": 2,
   "id": "55efc2bc-ca1e-41a7-950a-420ade5eae46",
   "metadata": {},
   "outputs": [],
   "source": [
    "cnx = sqlite3.connect('foo.db')"
   ]
  },
  {
   "cell_type": "code",
   "execution_count": 5,
   "id": "103617b2-aff8-4e23-944c-90ca3b8937cd",
   "metadata": {},
   "outputs": [],
   "source": [
    "df_customers = pd.read_sql_query(\"SELECT * FROM olist_customers_dataset\", cnx)\n",
    "df_geolocations = pd.read_sql_query(\"SELECT * FROM olist_geolocation_dataset\", cnx)\n",
    "df_orderitems = pd.read_sql_query(\"SELECT * FROM olist_order_items_dataset\", cnx)\n",
    "df_payments = pd.read_sql_query(\"SELECT * FROM olist_order_payments_dataset\", cnx)\n",
    "df_reviews = pd.read_sql_query(\"SELECT * FROM olist_order_reviews_dataset\", cnx)\n",
    "df_orders = pd.read_sql_query(\"SELECT * FROM olist_orders_dataset\", cnx)\n",
    "df_products = pd.read_sql_query(\"SELECT * FROM olist_products_dataset\", cnx)\n",
    "df_sellers = pd.read_sql_query(\"SELECT * FROM olist_sellers_dataset\", cnx)"
   ]
  },
  {
   "cell_type": "code",
   "execution_count": 11,
   "id": "853253b2-12b8-498e-957b-f3f478a1dca3",
   "metadata": {},
   "outputs": [
    {
     "data": {
      "text/html": [
       "<div>\n",
       "<style scoped>\n",
       "    .dataframe tbody tr th:only-of-type {\n",
       "        vertical-align: middle;\n",
       "    }\n",
       "\n",
       "    .dataframe tbody tr th {\n",
       "        vertical-align: top;\n",
       "    }\n",
       "\n",
       "    .dataframe thead th {\n",
       "        text-align: right;\n",
       "    }\n",
       "</style>\n",
       "<table border=\"1\" class=\"dataframe\">\n",
       "  <thead>\n",
       "    <tr style=\"text-align: right;\">\n",
       "      <th></th>\n",
       "      <th>order_id</th>\n",
       "      <th>order_item_id</th>\n",
       "      <th>product_id</th>\n",
       "      <th>seller_id</th>\n",
       "      <th>shipping_limit_date</th>\n",
       "      <th>price</th>\n",
       "      <th>freight_value</th>\n",
       "    </tr>\n",
       "  </thead>\n",
       "  <tbody>\n",
       "    <tr>\n",
       "      <th>109121</th>\n",
       "      <td>f80549a97eb203e1566e026ab66f045b</td>\n",
       "      <td>1</td>\n",
       "      <td>d5991653e037ccb7af6ed7d94246b249</td>\n",
       "      <td>25c5c91f63607446a97b143d2d535d31</td>\n",
       "      <td>2017-09-19 03:15:47</td>\n",
       "      <td>137.90</td>\n",
       "      <td>38.81</td>\n",
       "    </tr>\n",
       "    <tr>\n",
       "      <th>109122</th>\n",
       "      <td>f80549a97eb203e1566e026ab66f045b</td>\n",
       "      <td>2</td>\n",
       "      <td>d5991653e037ccb7af6ed7d94246b249</td>\n",
       "      <td>25c5c91f63607446a97b143d2d535d31</td>\n",
       "      <td>2017-09-19 03:15:47</td>\n",
       "      <td>137.90</td>\n",
       "      <td>38.81</td>\n",
       "    </tr>\n",
       "    <tr>\n",
       "      <th>109123</th>\n",
       "      <td>f80549a97eb203e1566e026ab66f045b</td>\n",
       "      <td>3</td>\n",
       "      <td>d5991653e037ccb7af6ed7d94246b249</td>\n",
       "      <td>25c5c91f63607446a97b143d2d535d31</td>\n",
       "      <td>2017-09-19 03:15:47</td>\n",
       "      <td>137.90</td>\n",
       "      <td>38.81</td>\n",
       "    </tr>\n",
       "    <tr>\n",
       "      <th>109124</th>\n",
       "      <td>f80549a97eb203e1566e026ab66f045b</td>\n",
       "      <td>4</td>\n",
       "      <td>d5991653e037ccb7af6ed7d94246b249</td>\n",
       "      <td>25c5c91f63607446a97b143d2d535d31</td>\n",
       "      <td>2017-09-19 03:15:47</td>\n",
       "      <td>137.90</td>\n",
       "      <td>38.81</td>\n",
       "    </tr>\n",
       "    <tr>\n",
       "      <th>109125</th>\n",
       "      <td>f80549a97eb203e1566e026ab66f045b</td>\n",
       "      <td>5</td>\n",
       "      <td>d5991653e037ccb7af6ed7d94246b249</td>\n",
       "      <td>25c5c91f63607446a97b143d2d535d31</td>\n",
       "      <td>2017-09-19 03:15:47</td>\n",
       "      <td>137.90</td>\n",
       "      <td>38.81</td>\n",
       "    </tr>\n",
       "    <tr>\n",
       "      <th>109126</th>\n",
       "      <td>f80549a97eb203e1566e026ab66f045b</td>\n",
       "      <td>6</td>\n",
       "      <td>d5991653e037ccb7af6ed7d94246b249</td>\n",
       "      <td>25c5c91f63607446a97b143d2d535d31</td>\n",
       "      <td>2017-09-19 03:15:47</td>\n",
       "      <td>137.90</td>\n",
       "      <td>38.81</td>\n",
       "    </tr>\n",
       "    <tr>\n",
       "      <th>109127</th>\n",
       "      <td>f80549a97eb203e1566e026ab66f045b</td>\n",
       "      <td>7</td>\n",
       "      <td>d5991653e037ccb7af6ed7d94246b249</td>\n",
       "      <td>25c5c91f63607446a97b143d2d535d31</td>\n",
       "      <td>2017-09-19 03:15:47</td>\n",
       "      <td>137.90</td>\n",
       "      <td>38.81</td>\n",
       "    </tr>\n",
       "    <tr>\n",
       "      <th>109128</th>\n",
       "      <td>f80549a97eb203e1566e026ab66f045b</td>\n",
       "      <td>8</td>\n",
       "      <td>d5991653e037ccb7af6ed7d94246b249</td>\n",
       "      <td>25c5c91f63607446a97b143d2d535d31</td>\n",
       "      <td>2017-09-19 03:15:47</td>\n",
       "      <td>137.90</td>\n",
       "      <td>38.81</td>\n",
       "    </tr>\n",
       "    <tr>\n",
       "      <th>109129</th>\n",
       "      <td>f80549a97eb203e1566e026ab66f045b</td>\n",
       "      <td>9</td>\n",
       "      <td>d5991653e037ccb7af6ed7d94246b249</td>\n",
       "      <td>25c5c91f63607446a97b143d2d535d31</td>\n",
       "      <td>2017-09-19 03:15:47</td>\n",
       "      <td>137.90</td>\n",
       "      <td>38.81</td>\n",
       "    </tr>\n",
       "    <tr>\n",
       "      <th>109130</th>\n",
       "      <td>f80549a97eb203e1566e026ab66f045b</td>\n",
       "      <td>10</td>\n",
       "      <td>d5991653e037ccb7af6ed7d94246b249</td>\n",
       "      <td>25c5c91f63607446a97b143d2d535d31</td>\n",
       "      <td>2017-09-19 03:15:47</td>\n",
       "      <td>137.90</td>\n",
       "      <td>38.81</td>\n",
       "    </tr>\n",
       "  </tbody>\n",
       "</table>\n",
       "</div>"
      ],
      "text/plain": [
       "                                order_id order_item_id  \\\n",
       "109121  f80549a97eb203e1566e026ab66f045b             1   \n",
       "109122  f80549a97eb203e1566e026ab66f045b             2   \n",
       "109123  f80549a97eb203e1566e026ab66f045b             3   \n",
       "109124  f80549a97eb203e1566e026ab66f045b             4   \n",
       "109125  f80549a97eb203e1566e026ab66f045b             5   \n",
       "109126  f80549a97eb203e1566e026ab66f045b             6   \n",
       "109127  f80549a97eb203e1566e026ab66f045b             7   \n",
       "109128  f80549a97eb203e1566e026ab66f045b             8   \n",
       "109129  f80549a97eb203e1566e026ab66f045b             9   \n",
       "109130  f80549a97eb203e1566e026ab66f045b            10   \n",
       "\n",
       "                              product_id                         seller_id  \\\n",
       "109121  d5991653e037ccb7af6ed7d94246b249  25c5c91f63607446a97b143d2d535d31   \n",
       "109122  d5991653e037ccb7af6ed7d94246b249  25c5c91f63607446a97b143d2d535d31   \n",
       "109123  d5991653e037ccb7af6ed7d94246b249  25c5c91f63607446a97b143d2d535d31   \n",
       "109124  d5991653e037ccb7af6ed7d94246b249  25c5c91f63607446a97b143d2d535d31   \n",
       "109125  d5991653e037ccb7af6ed7d94246b249  25c5c91f63607446a97b143d2d535d31   \n",
       "109126  d5991653e037ccb7af6ed7d94246b249  25c5c91f63607446a97b143d2d535d31   \n",
       "109127  d5991653e037ccb7af6ed7d94246b249  25c5c91f63607446a97b143d2d535d31   \n",
       "109128  d5991653e037ccb7af6ed7d94246b249  25c5c91f63607446a97b143d2d535d31   \n",
       "109129  d5991653e037ccb7af6ed7d94246b249  25c5c91f63607446a97b143d2d535d31   \n",
       "109130  d5991653e037ccb7af6ed7d94246b249  25c5c91f63607446a97b143d2d535d31   \n",
       "\n",
       "        shipping_limit_date   price freight_value  \n",
       "109121  2017-09-19 03:15:47  137.90         38.81  \n",
       "109122  2017-09-19 03:15:47  137.90         38.81  \n",
       "109123  2017-09-19 03:15:47  137.90         38.81  \n",
       "109124  2017-09-19 03:15:47  137.90         38.81  \n",
       "109125  2017-09-19 03:15:47  137.90         38.81  \n",
       "109126  2017-09-19 03:15:47  137.90         38.81  \n",
       "109127  2017-09-19 03:15:47  137.90         38.81  \n",
       "109128  2017-09-19 03:15:47  137.90         38.81  \n",
       "109129  2017-09-19 03:15:47  137.90         38.81  \n",
       "109130  2017-09-19 03:15:47  137.90         38.81  "
      ]
     },
     "execution_count": 11,
     "metadata": {},
     "output_type": "execute_result"
    }
   ],
   "source": [
    "df_orderitems.query('order_id == \"f80549a97eb203e1566e026ab66f045b\"')"
   ]
  },
  {
   "cell_type": "code",
   "execution_count": null,
   "id": "45ed4b72-0c09-4c06-86f7-05f52f801d8f",
   "metadata": {},
   "outputs": [],
   "source": [
    "df_payments"
   ]
  },
  {
   "cell_type": "code",
   "execution_count": null,
   "id": "4886cc18-f7ce-434a-b585-7d1200d0192c",
   "metadata": {},
   "outputs": [],
   "source": [
    "df_orderitems.sort_values('order_id')"
   ]
  },
  {
   "cell_type": "code",
   "execution_count": null,
   "id": "8a46130a-7fab-4c3a-b867-ed7affe07b9d",
   "metadata": {},
   "outputs": [],
   "source": [
    "df_orders.head()"
   ]
  },
  {
   "cell_type": "code",
   "execution_count": null,
   "id": "b51ccd1a-7ff8-4e2d-9d6f-38ebc28c6e9b",
   "metadata": {},
   "outputs": [],
   "source": [
    "df_customers.head()"
   ]
  },
  {
   "cell_type": "code",
   "execution_count": null,
   "id": "eb5120a4-4db8-4cff-a4d8-0a552fc7531b",
   "metadata": {},
   "outputs": [],
   "source": [
    "df_orderitems.shape"
   ]
  },
  {
   "cell_type": "code",
   "execution_count": null,
   "id": "65047440-f7cc-42db-94ca-48f5b9fb74ce",
   "metadata": {},
   "outputs": [],
   "source": [
    "df_orderitems.nunique()"
   ]
  },
  {
   "cell_type": "code",
   "execution_count": null,
   "id": "98ed9187-a751-4872-84be-effe8eb3fdfc",
   "metadata": {},
   "outputs": [],
   "source": [
    "df_orders.sort_values('order_id')"
   ]
  },
  {
   "cell_type": "code",
   "execution_count": null,
   "id": "c3b9fa8e-93cf-4149-adba-cf24736c7e55",
   "metadata": {},
   "outputs": [],
   "source": [
    "df_customers.to_csv('df_customers.csv', index=False)"
   ]
  },
  {
   "cell_type": "code",
   "execution_count": null,
   "id": "8e5eadd4-a2ed-4297-a4b4-f9748442aa2c",
   "metadata": {},
   "outputs": [],
   "source": [
    "df_geolocations.to_csv('df_geolocations.csv', index=False)"
   ]
  },
  {
   "cell_type": "code",
   "execution_count": null,
   "id": "81da650a-021c-4f0d-873f-ba723ab9bd1e",
   "metadata": {},
   "outputs": [],
   "source": [
    "df_orderitems.to_csv('df_orderitems.csv', index=False)"
   ]
  },
  {
   "cell_type": "code",
   "execution_count": null,
   "id": "e247da65-4180-493c-ae94-35af02783f3e",
   "metadata": {},
   "outputs": [],
   "source": [
    "df_payments.to_csv('df_payments.csv', index=False)"
   ]
  },
  {
   "cell_type": "code",
   "execution_count": null,
   "id": "4539dbcc-6bf0-4103-a8e3-e56f0cddfe5a",
   "metadata": {},
   "outputs": [],
   "source": [
    "df_reviews.to_csv('df_reviews.csv', index=False)"
   ]
  },
  {
   "cell_type": "code",
   "execution_count": null,
   "id": "2c759105-3f0d-4527-877f-e60edd903c2a",
   "metadata": {},
   "outputs": [],
   "source": [
    "df_orders.to_csv('df_orders.csv', index=False)"
   ]
  },
  {
   "cell_type": "code",
   "execution_count": null,
   "id": "90ceeef1-0e5e-4fe8-845a-714ce3a5bc72",
   "metadata": {},
   "outputs": [],
   "source": [
    "df_products.to_csv('df_products.csv', index=False)"
   ]
  },
  {
   "cell_type": "code",
   "execution_count": null,
   "id": "d82c061c-84e7-407c-8355-8b617e6dcb7e",
   "metadata": {},
   "outputs": [],
   "source": [
    "df_sellers.to_csv('df_sellers.csv', index=False)"
   ]
  },
  {
   "cell_type": "code",
   "execution_count": null,
   "id": "99eafcbc-effa-4bcb-a06e-65a6bdcad8ac",
   "metadata": {},
   "outputs": [],
   "source": [
    "print(\"1\")\n",
    "df_customers.shape"
   ]
  },
  {
   "cell_type": "code",
   "execution_count": null,
   "id": "a6dac1a6-f919-4701-a4f5-7f9bec49cacd",
   "metadata": {},
   "outputs": [],
   "source": [
    "print(\"2\")\n",
    "df_geolocations.shape"
   ]
  },
  {
   "cell_type": "code",
   "execution_count": null,
   "id": "146ea66c-1c2b-4957-a661-d83721a5f250",
   "metadata": {},
   "outputs": [],
   "source": [
    "print(\"3\")\n",
    "df_orderitems.shape"
   ]
  },
  {
   "cell_type": "code",
   "execution_count": null,
   "id": "e528dac1-da85-4c18-be2f-85584d2a920d",
   "metadata": {},
   "outputs": [],
   "source": [
    "print(\"4\")\n",
    "df_payments.shape"
   ]
  },
  {
   "cell_type": "code",
   "execution_count": null,
   "id": "98210b26-e1c6-4ad1-a544-3e7db1db5d50",
   "metadata": {},
   "outputs": [],
   "source": [
    "print(\"5\")\n",
    "df_reviews.shape"
   ]
  },
  {
   "cell_type": "code",
   "execution_count": null,
   "id": "9a6fc0ee-cd31-4e61-ad76-8147d9ece370",
   "metadata": {},
   "outputs": [],
   "source": [
    "print(\"6\")\n",
    "df_orders.shape"
   ]
  },
  {
   "cell_type": "code",
   "execution_count": null,
   "id": "24f99f68-4bdd-40c3-aa8e-2d9b9ca86974",
   "metadata": {},
   "outputs": [],
   "source": [
    "print(\"7\")\n",
    "df_products.shape"
   ]
  },
  {
   "cell_type": "code",
   "execution_count": null,
   "id": "8ad893dc-7882-4f6c-a805-62088bce7520",
   "metadata": {},
   "outputs": [],
   "source": [
    "print(\"8\")\n",
    "df_sellers.shape"
   ]
  },
  {
   "cell_type": "code",
   "execution_count": null,
   "id": "fe2450ac-e1bd-41df-94c0-83d38fcda1d9",
   "metadata": {},
   "outputs": [],
   "source": [
    "null_df_customer = df_customers.isnull().sum().sum()\n",
    "null_df_geolocations = df_geolocations.isnull().sum().sum()\n",
    "null_df_orderitems = df_orderitems.isnull().sum().sum()\n",
    "null_df_payments = df_payments.isnull().sum().sum()\n",
    "null_df_reviews = df_reviews.isnull().sum().sum()\n",
    "null_df_orders = df_orders.isnull().sum().sum()\n",
    "null_df_products = df_products.isnull().sum().sum()\n",
    "null_df_sellers = df_sellers.isnull().sum().sum()"
   ]
  },
  {
   "cell_type": "code",
   "execution_count": null,
   "id": "f2747a5d-ddcb-4fae-90b1-2a9af1b2adac",
   "metadata": {},
   "outputs": [],
   "source": [
    "print('Number of NaN values null_df_customer:', null_df_customer)\n",
    "print('Number of NaN values null_df_geolocations:', null_df_geolocations)\n",
    "print('Number of NaN values null_df_orderitems:', null_df_orderitems)\n",
    "print('Number of NaN values null_df_payments:', null_df_payments)\n",
    "print('Number of NaN values null_df_reviews:', null_df_reviews)\n",
    "print('Number of NaN values null_df_orders:', null_df_orders)\n",
    "print('Number of NaN values null_df_products:', null_df_products)\n",
    "print('Number of NaN values null_df_sellers:', null_df_sellers)\n"
   ]
  },
  {
   "cell_type": "code",
   "execution_count": null,
   "id": "2b19aba9-609a-4407-974c-a2994bd86bf5",
   "metadata": {},
   "outputs": [],
   "source": [
    "# Menggabungkan DataFrame\n",
    "# Pertama, kita gabungkan df_orders dengan df_customers\n",
    "merged_df = pd.merge(df_orders, df_customers, on='customer_id', how='inner')\n",
    "\n",
    "# Menggabungkan dengan df_orderitems\n",
    "merged_df = pd.merge(merged_df, df_orderitems, on='order_id', how='inner')\n",
    "\n",
    "# Menggabungkan dengan df_payments\n",
    "merged_df = pd.merge(merged_df, df_payments, on='order_id', how='inner')\n",
    "\n",
    "# Menggabungkan dengan df_reviews\n",
    "merged_df = pd.merge(merged_df, df_reviews, on='order_id', how='inner')\n",
    "\n",
    "# Menggabungkan dengan df_products\n",
    "merged_df = pd.merge(merged_df, df_products, on='product_id', how='inner')\n",
    "\n",
    "# Menggabungkan dengan df_sellers\n",
    "merged_df = pd.merge(merged_df, df_sellers, on='seller_id', how='inner')\n",
    "\n",
    "# Menggabungkan dengan df_geolocations\n",
    "merged_df = pd.merge(merged_df, df_geolocations, left_on='customer_zip_code_prefix', right_on='geolocation_zip_code_prefix', how='inner')\n"
   ]
  },
  {
   "cell_type": "code",
   "execution_count": null,
   "id": "a219c419-ca4f-4f1d-adc8-2c9b213b3036",
   "metadata": {},
   "outputs": [],
   "source": [
    "merged_df.isna().sum()"
   ]
  },
  {
   "cell_type": "code",
   "execution_count": null,
   "id": "5bfbc029-283e-4d10-8290-e109136019a3",
   "metadata": {},
   "outputs": [],
   "source": [
    "merged_df.shape"
   ]
  },
  {
   "cell_type": "code",
   "execution_count": null,
   "id": "532c9e8c-901c-40f4-9a64-613f2ed3e069",
   "metadata": {},
   "outputs": [],
   "source": [
    "# Menggabungkan df_orders dengan df_orderitems berdasarkan order_id\n",
    "df = pd.merge(df_orderitems, df_orders, on='order_id', how='left')\n",
    "\n",
    "# Menggabungkan dengan df_payments berdasarkan order_id\n",
    "df = pd.merge(df, df_payments, on='order_id', how='left')\n",
    "\n",
    "# Menggabungkan dengan df_reviews berdasarkan order_id\n",
    "df = pd.merge(df, df_reviews, on='order_id', how='left')\n",
    "\n",
    "# Menggabungkan dengan df_products berdasarkan product_id\n",
    "df = pd.merge(df, df_products, on='product_id', how='left')\n",
    "\n",
    "# Menggabungkan dengan df_sellers berdasarkan seller_id\n",
    "df = pd.merge(df, df_sellers, on='seller_id', how='left')\n",
    "\n",
    "# Menggabungkan dengan df_customers berdasarkan customer_id\n",
    "df = pd.merge(df, df_customers, on='customer_id', how='left')\n",
    "\n",
    "# Menggabungkan dengan df_geolocations berdasarkan zip_code_prefix\n",
    "df = pd.merge(df, df_geolocations, left_on='customer_zip_code_prefix', right_on='geolocation_zip_code_prefix', how='left')"
   ]
  },
  {
   "cell_type": "code",
   "execution_count": null,
   "id": "76221431-6fd0-4d9a-bdb2-73cf7f3485d5",
   "metadata": {},
   "outputs": [],
   "source": [
    "df.shape"
   ]
  },
  {
   "cell_type": "code",
   "execution_count": null,
   "id": "6c1d8b14-0dc4-4a6a-92b2-7a005b3c6d93",
   "metadata": {},
   "outputs": [],
   "source": [
    "df.isna().sum()"
   ]
  },
  {
   "cell_type": "code",
   "execution_count": null,
   "id": "2e00d58a-d434-4ee3-8c5a-c15c27de0968",
   "metadata": {},
   "outputs": [],
   "source": [
    "df = pd.merge(df, df_geolocations, left_on='customer_zip_code_prefix', right_on='geolocation_zip_code_prefix', how='left')"
   ]
  },
  {
   "cell_type": "code",
   "execution_count": null,
   "id": "c813096f-da94-476b-9c08-3b3506b919d1",
   "metadata": {},
   "outputs": [],
   "source": [
    "# Menggabungkan dengan df_customers berdasarkan customer_id\n",
    "df = pd.merge(df, df_customers, on='customer_id', how='left')"
   ]
  },
  {
   "cell_type": "code",
   "execution_count": null,
   "id": "80ab89f8-24e4-4b6d-a341-b28db82b11d2",
   "metadata": {},
   "outputs": [],
   "source": [
    "df = pd.merge(df, df_orderitems, on='order_id', how='left')"
   ]
  },
  {
   "cell_type": "code",
   "execution_count": null,
   "id": "85abb64f-fd61-4a66-b0e3-211654967ef0",
   "metadata": {},
   "outputs": [],
   "source": [
    "# Menggabungkan dengan df_reviews berdasarkan order_id\n",
    "df = pd.merge(df_orders, df_reviews, on='order_id', how='left')"
   ]
  },
  {
   "cell_type": "code",
   "execution_count": null,
   "id": "601962d0-ac8b-431c-96bc-b6417d31a971",
   "metadata": {},
   "outputs": [],
   "source": [
    "# Menggabungkan dengan df_payments berdasarkan order_id\n",
    "df = pd.merge(df, df_payments, on='order_id', how='left')"
   ]
  },
  {
   "cell_type": "code",
   "execution_count": null,
   "id": "6d329116-5a04-4353-b359-18b26ddfbcd5",
   "metadata": {},
   "outputs": [],
   "source": [
    "# Menggabungkan dengan df_products berdasarkan product_id\n",
    "df = pd.merge(df, df_products, on='product_id', how='left')"
   ]
  },
  {
   "cell_type": "code",
   "execution_count": null,
   "id": "19cac2b1-f25e-45d5-bedf-8b4e5d524f1c",
   "metadata": {},
   "outputs": [],
   "source": [
    "# Menggabungkan dengan df_sellers berdasarkan seller_id\n",
    "df = pd.merge(df, df_sellers, on='seller_id', how='left')"
   ]
  },
  {
   "cell_type": "code",
   "execution_count": null,
   "id": "6dc7572a-2e12-4547-b8ac-270757420496",
   "metadata": {},
   "outputs": [],
   "source": [
    "df.isna().sum()"
   ]
  },
  {
   "cell_type": "code",
   "execution_count": null,
   "id": "f649528e-c024-4e0b-8d3d-b51f513f3767",
   "metadata": {},
   "outputs": [],
   "source": [
    "df_combined[df_combined['customer_state'].astype(str).str.contains('DF')]"
   ]
  },
  {
   "cell_type": "code",
   "execution_count": null,
   "id": "818fd484-fb7b-4148-80af-6fd7eff49ed6",
   "metadata": {},
   "outputs": [],
   "source": [
    "df_combined"
   ]
  },
  {
   "cell_type": "code",
   "execution_count": null,
   "id": "4bbe45c2-1dba-4a27-bdbe-4418baeec9aa",
   "metadata": {},
   "outputs": [],
   "source": [
    "#Check null Values dataframes\n",
    "df_combined.isna().sum()"
   ]
  },
  {
   "cell_type": "code",
   "execution_count": null,
   "id": "8d1c5690-321b-47fd-bae4-462b4bcdec9e",
   "metadata": {},
   "outputs": [],
   "source": [
    "df_null_geo = df_combined[df_combined['geolocation_city'].isna()]"
   ]
  },
  {
   "cell_type": "code",
   "execution_count": null,
   "id": "fa5a4e12-7186-4df4-8ed8-c4f187c1113d",
   "metadata": {},
   "outputs": [],
   "source": [
    "df_null_geo.isna().sum()"
   ]
  },
  {
   "cell_type": "code",
   "execution_count": null,
   "id": "f3663031-6872-4f6a-b4b0-f792f822cb28",
   "metadata": {},
   "outputs": [],
   "source": [
    "df_null_pay =  df_combined[df_combined['payment_value'].isna()]"
   ]
  },
  {
   "cell_type": "code",
   "execution_count": null,
   "id": "b1c5ea3a-cc34-4e11-b1b5-4d41ce382565",
   "metadata": {},
   "outputs": [],
   "source": [
    "df_null_pay.isna().sum()"
   ]
  },
  {
   "cell_type": "code",
   "execution_count": null,
   "id": "4399f28d-7b91-42e6-9024-9b95c8f0b13f",
   "metadata": {},
   "outputs": [],
   "source": [
    "df_null_pay"
   ]
  },
  {
   "cell_type": "code",
   "execution_count": null,
   "id": "4dd81f9e-4775-4784-81f2-fa8686881d8c",
   "metadata": {},
   "outputs": [],
   "source": [
    "df_null_pay[['order_id', 'product_id', 'price', 'order_status']].value_counts('order_status')"
   ]
  },
  {
   "cell_type": "code",
   "execution_count": null,
   "id": "b0bee0e5-59c1-4e4d-94d6-72988a09f5bb",
   "metadata": {},
   "outputs": [],
   "source": [
    "df_null_review = df_combined[df_combined['review_id'].isna()]"
   ]
  },
  {
   "cell_type": "code",
   "execution_count": null,
   "id": "37a7ffeb-4dd2-47e3-aba6-a87597930057",
   "metadata": {},
   "outputs": [],
   "source": [
    "df_nulls_drop = df_combined.dropna(subset=['review_id', 'review_score', 'review_comment_title', 'review_comment_message', 'review_creation_date', 'review_answer_timestamp'])"
   ]
  },
  {
   "cell_type": "code",
   "execution_count": null,
   "id": "8e1d1c3e-6b52-4401-936f-9cc25b4c8e8f",
   "metadata": {},
   "outputs": [],
   "source": [
    "df_nulls_drop.value_counts('order_status')"
   ]
  },
  {
   "cell_type": "code",
   "execution_count": null,
   "id": "a4129bc9-7388-4d07-8974-8fa3850c927b",
   "metadata": {},
   "outputs": [],
   "source": [
    "df_nulls_drop.shape"
   ]
  },
  {
   "cell_type": "code",
   "execution_count": null,
   "id": "eff281b5-69e5-4cb5-950f-9d018f5cd239",
   "metadata": {},
   "outputs": [],
   "source": [
    "df_null_review.value_counts('order_status')"
   ]
  },
  {
   "cell_type": "code",
   "execution_count": null,
   "id": "4e113aa9-dff0-44ef-a6ff-538a01a98f40",
   "metadata": {},
   "outputs": [],
   "source": [
    "df_null_pay"
   ]
  },
  {
   "cell_type": "code",
   "execution_count": null,
   "id": "0206d410-b41b-4547-b536-a7936855ab7e",
   "metadata": {},
   "outputs": [],
   "source": [
    "# Misalkan df_combined adalah DataFrame yang sudah digabungkan\n",
    "# Group by 'order_status' dan hitung jumlah nilai null di 'review_score'\n",
    "null_counts = df_combined.groupby('order_status')['review_score'].apply(lambda x: x.isnull().sum())\n",
    "\n",
    "# Tampilkan hasil\n",
    "null_counts\n"
   ]
  },
  {
   "cell_type": "code",
   "execution_count": null,
   "id": "de9e0f12-fbde-47d2-87be-3915ef3464db",
   "metadata": {},
   "outputs": [],
   "source": [
    "df_clean = df.copy()"
   ]
  },
  {
   "cell_type": "code",
   "execution_count": null,
   "id": "27feb0b4-bd33-4805-9d91-3631becd9114",
   "metadata": {},
   "outputs": [],
   "source": [
    "df_clean['payment_installments'] = pd.to_numeric(df_clean['payment_installments'], errors='coerce')\n",
    "df_clean['payment_value'] = pd.to_numeric(df_clean['payment_value'], errors='coerce')\n",
    "\n",
    "#Cleansing null_values untuk data payment\n",
    "df_clean['payment_installments'] = df_clean['payment_installments'].interpolate()\n",
    "df_clean['payment_value'] = df_clean['payment_value'].interpolate()"
   ]
  },
  {
   "cell_type": "code",
   "execution_count": null,
   "id": "3e535a03-f9ce-4ef7-a695-130e5ef9c78a",
   "metadata": {},
   "outputs": [],
   "source": [
    "df_clean.isna().sum()"
   ]
  },
  {
   "cell_type": "code",
   "execution_count": null,
   "id": "2fe1cf17-8ba1-4363-9984-fe13b555ec7d",
   "metadata": {},
   "outputs": [],
   "source": [
    "mode_payment_type = df_clean['payment_type'].mode()[0]\n",
    "df_clean['payment_type'].fillna(mode_payment_type, inplace=True)"
   ]
  },
  {
   "cell_type": "code",
   "execution_count": null,
   "id": "f23a2208-8679-4081-9d90-ec9f1111588d",
   "metadata": {},
   "outputs": [],
   "source": [
    "df_clean['payment_sequential'].fillna(method='ffill', inplace=True)"
   ]
  },
  {
   "cell_type": "code",
   "execution_count": null,
   "id": "860488d5-f40b-420a-877a-9103cb668c8c",
   "metadata": {},
   "outputs": [],
   "source": []
  }
 ],
 "metadata": {
  "kernelspec": {
   "display_name": "Python 3 (ipykernel)",
   "language": "python",
   "name": "python3"
  },
  "language_info": {
   "codemirror_mode": {
    "name": "ipython",
    "version": 3
   },
   "file_extension": ".py",
   "mimetype": "text/x-python",
   "name": "python",
   "nbconvert_exporter": "python",
   "pygments_lexer": "ipython3",
   "version": "3.12.4"
  }
 },
 "nbformat": 4,
 "nbformat_minor": 5
}
