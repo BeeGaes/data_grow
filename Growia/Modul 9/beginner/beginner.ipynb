{
 "cells": [
  {
   "cell_type": "code",
   "execution_count": 1,
   "id": "69dda41a-7519-4215-812c-03748f6afd5e",
   "metadata": {},
   "outputs": [],
   "source": [
    "import pandas as pd\n",
    "import sqlite3"
   ]
  },
  {
   "cell_type": "code",
   "execution_count": 3,
   "id": "55efc2bc-ca1e-41a7-950a-420ade5eae46",
   "metadata": {},
   "outputs": [],
   "source": [
    "cnx = sqlite3.connect('foo.db')"
   ]
  },
  {
   "cell_type": "code",
   "execution_count": 5,
   "id": "103617b2-aff8-4e23-944c-90ca3b8937cd",
   "metadata": {},
   "outputs": [],
   "source": [
    "df_customers = pd.read_sql_query(\"SELECT * FROM olist_customers_dataset\", cnx)\n",
    "df_geolocations = pd.read_sql_query(\"SELECT * FROM olist_geolocation_dataset\", cnx)\n",
    "df_orderitems = pd.read_sql_query(\"SELECT * FROM olist_order_items_dataset\", cnx)\n",
    "df_payments = pd.read_sql_query(\"SELECT * FROM olist_order_payments_dataset\", cnx)\n",
    "df_reviews = pd.read_sql_query(\"SELECT * FROM olist_order_reviews_dataset\", cnx)\n",
    "df_orders = pd.read_sql_query(\"SELECT * FROM olist_orders_dataset\", cnx)\n",
    "df_products = pd.read_sql_query(\"SELECT * FROM olist_products_dataset\", cnx)\n",
    "df_sellers = pd.read_sql_query(\"SELECT * FROM olist_sellers_dataset\", cnx)"
   ]
  },
  {
   "cell_type": "code",
   "execution_count": 23,
   "id": "45ed4b72-0c09-4c06-86f7-05f52f801d8f",
   "metadata": {},
   "outputs": [
    {
     "data": {
      "text/html": [
       "<div>\n",
       "<style scoped>\n",
       "    .dataframe tbody tr th:only-of-type {\n",
       "        vertical-align: middle;\n",
       "    }\n",
       "\n",
       "    .dataframe tbody tr th {\n",
       "        vertical-align: top;\n",
       "    }\n",
       "\n",
       "    .dataframe thead th {\n",
       "        text-align: right;\n",
       "    }\n",
       "</style>\n",
       "<table border=\"1\" class=\"dataframe\">\n",
       "  <thead>\n",
       "    <tr style=\"text-align: right;\">\n",
       "      <th></th>\n",
       "      <th>order_id</th>\n",
       "      <th>payment_sequential</th>\n",
       "      <th>payment_type</th>\n",
       "      <th>payment_installments</th>\n",
       "      <th>payment_value</th>\n",
       "    </tr>\n",
       "  </thead>\n",
       "  <tbody>\n",
       "    <tr>\n",
       "      <th>0</th>\n",
       "      <td>b81ef226f3fe1789b1e8b2acac839d17</td>\n",
       "      <td>1</td>\n",
       "      <td>credit_card</td>\n",
       "      <td>8</td>\n",
       "      <td>99.33</td>\n",
       "    </tr>\n",
       "    <tr>\n",
       "      <th>1</th>\n",
       "      <td>a9810da82917af2d9aefd1278f1dcfa0</td>\n",
       "      <td>1</td>\n",
       "      <td>credit_card</td>\n",
       "      <td>1</td>\n",
       "      <td>24.39</td>\n",
       "    </tr>\n",
       "    <tr>\n",
       "      <th>2</th>\n",
       "      <td>25e8ea4e93396b6fa0d3dd708e76c1bd</td>\n",
       "      <td>1</td>\n",
       "      <td>credit_card</td>\n",
       "      <td>1</td>\n",
       "      <td>65.71</td>\n",
       "    </tr>\n",
       "    <tr>\n",
       "      <th>3</th>\n",
       "      <td>ba78997921bbcdc1373bb41e913ab953</td>\n",
       "      <td>1</td>\n",
       "      <td>credit_card</td>\n",
       "      <td>8</td>\n",
       "      <td>107.78</td>\n",
       "    </tr>\n",
       "    <tr>\n",
       "      <th>4</th>\n",
       "      <td>42fdf880ba16b47b59251dd489d4441a</td>\n",
       "      <td>1</td>\n",
       "      <td>credit_card</td>\n",
       "      <td>2</td>\n",
       "      <td>128.45</td>\n",
       "    </tr>\n",
       "    <tr>\n",
       "      <th>...</th>\n",
       "      <td>...</td>\n",
       "      <td>...</td>\n",
       "      <td>...</td>\n",
       "      <td>...</td>\n",
       "      <td>...</td>\n",
       "    </tr>\n",
       "    <tr>\n",
       "      <th>103881</th>\n",
       "      <td>0406037ad97740d563a178ecc7a2075c</td>\n",
       "      <td>1</td>\n",
       "      <td>boleto</td>\n",
       "      <td>1</td>\n",
       "      <td>363.31</td>\n",
       "    </tr>\n",
       "    <tr>\n",
       "      <th>103882</th>\n",
       "      <td>7b905861d7c825891d6347454ea7863f</td>\n",
       "      <td>1</td>\n",
       "      <td>credit_card</td>\n",
       "      <td>2</td>\n",
       "      <td>96.80</td>\n",
       "    </tr>\n",
       "    <tr>\n",
       "      <th>103883</th>\n",
       "      <td>32609bbb3dd69b3c066a6860554a77bf</td>\n",
       "      <td>1</td>\n",
       "      <td>credit_card</td>\n",
       "      <td>1</td>\n",
       "      <td>47.77</td>\n",
       "    </tr>\n",
       "    <tr>\n",
       "      <th>103884</th>\n",
       "      <td>b8b61059626efa996a60be9bb9320e10</td>\n",
       "      <td>1</td>\n",
       "      <td>credit_card</td>\n",
       "      <td>5</td>\n",
       "      <td>369.54</td>\n",
       "    </tr>\n",
       "    <tr>\n",
       "      <th>103885</th>\n",
       "      <td>28bbae6599b09d39ca406b747b6632b1</td>\n",
       "      <td>1</td>\n",
       "      <td>boleto</td>\n",
       "      <td>1</td>\n",
       "      <td>191.58</td>\n",
       "    </tr>\n",
       "  </tbody>\n",
       "</table>\n",
       "<p>103886 rows × 5 columns</p>\n",
       "</div>"
      ],
      "text/plain": [
       "                                order_id payment_sequential payment_type  \\\n",
       "0       b81ef226f3fe1789b1e8b2acac839d17                  1  credit_card   \n",
       "1       a9810da82917af2d9aefd1278f1dcfa0                  1  credit_card   \n",
       "2       25e8ea4e93396b6fa0d3dd708e76c1bd                  1  credit_card   \n",
       "3       ba78997921bbcdc1373bb41e913ab953                  1  credit_card   \n",
       "4       42fdf880ba16b47b59251dd489d4441a                  1  credit_card   \n",
       "...                                  ...                ...          ...   \n",
       "103881  0406037ad97740d563a178ecc7a2075c                  1       boleto   \n",
       "103882  7b905861d7c825891d6347454ea7863f                  1  credit_card   \n",
       "103883  32609bbb3dd69b3c066a6860554a77bf                  1  credit_card   \n",
       "103884  b8b61059626efa996a60be9bb9320e10                  1  credit_card   \n",
       "103885  28bbae6599b09d39ca406b747b6632b1                  1       boleto   \n",
       "\n",
       "       payment_installments payment_value  \n",
       "0                         8         99.33  \n",
       "1                         1         24.39  \n",
       "2                         1         65.71  \n",
       "3                         8        107.78  \n",
       "4                         2        128.45  \n",
       "...                     ...           ...  \n",
       "103881                    1        363.31  \n",
       "103882                    2         96.80  \n",
       "103883                    1         47.77  \n",
       "103884                    5        369.54  \n",
       "103885                    1        191.58  \n",
       "\n",
       "[103886 rows x 5 columns]"
      ]
     },
     "execution_count": 23,
     "metadata": {},
     "output_type": "execute_result"
    }
   ],
   "source": [
    "df_payments"
   ]
  },
  {
   "cell_type": "code",
   "execution_count": 21,
   "id": "4886cc18-f7ce-434a-b585-7d1200d0192c",
   "metadata": {},
   "outputs": [
    {
     "data": {
      "text/html": [
       "<div>\n",
       "<style scoped>\n",
       "    .dataframe tbody tr th:only-of-type {\n",
       "        vertical-align: middle;\n",
       "    }\n",
       "\n",
       "    .dataframe tbody tr th {\n",
       "        vertical-align: top;\n",
       "    }\n",
       "\n",
       "    .dataframe thead th {\n",
       "        text-align: right;\n",
       "    }\n",
       "</style>\n",
       "<table border=\"1\" class=\"dataframe\">\n",
       "  <thead>\n",
       "    <tr style=\"text-align: right;\">\n",
       "      <th></th>\n",
       "      <th>order_id</th>\n",
       "      <th>order_item_id</th>\n",
       "      <th>product_id</th>\n",
       "      <th>seller_id</th>\n",
       "      <th>shipping_limit_date</th>\n",
       "      <th>price</th>\n",
       "      <th>freight_value</th>\n",
       "    </tr>\n",
       "  </thead>\n",
       "  <tbody>\n",
       "    <tr>\n",
       "      <th>0</th>\n",
       "      <td>00010242fe8c5a6d1ba2dd792cb16214</td>\n",
       "      <td>1</td>\n",
       "      <td>4244733e06e7ecb4970a6e2683c13e61</td>\n",
       "      <td>48436dade18ac8b2bce089ec2a041202</td>\n",
       "      <td>2017-09-19 09:45:35</td>\n",
       "      <td>58.90</td>\n",
       "      <td>13.29</td>\n",
       "    </tr>\n",
       "    <tr>\n",
       "      <th>1</th>\n",
       "      <td>00018f77f2f0320c557190d7a144bdd3</td>\n",
       "      <td>1</td>\n",
       "      <td>e5f2d52b802189ee658865ca93d83a8f</td>\n",
       "      <td>dd7ddc04e1b6c2c614352b383efe2d36</td>\n",
       "      <td>2017-05-03 11:05:13</td>\n",
       "      <td>239.90</td>\n",
       "      <td>19.93</td>\n",
       "    </tr>\n",
       "    <tr>\n",
       "      <th>2</th>\n",
       "      <td>000229ec398224ef6ca0657da4fc703e</td>\n",
       "      <td>1</td>\n",
       "      <td>c777355d18b72b67abbeef9df44fd0fd</td>\n",
       "      <td>5b51032eddd242adc84c38acab88f23d</td>\n",
       "      <td>2018-01-18 14:48:30</td>\n",
       "      <td>199.00</td>\n",
       "      <td>17.87</td>\n",
       "    </tr>\n",
       "    <tr>\n",
       "      <th>3</th>\n",
       "      <td>00024acbcdf0a6daa1e931b038114c75</td>\n",
       "      <td>1</td>\n",
       "      <td>7634da152a4610f1595efa32f14722fc</td>\n",
       "      <td>9d7a1d34a5052409006425275ba1c2b4</td>\n",
       "      <td>2018-08-15 10:10:18</td>\n",
       "      <td>12.99</td>\n",
       "      <td>12.79</td>\n",
       "    </tr>\n",
       "    <tr>\n",
       "      <th>4</th>\n",
       "      <td>00042b26cf59d7ce69dfabb4e55b4fd9</td>\n",
       "      <td>1</td>\n",
       "      <td>ac6c3623068f30de03045865e4e10089</td>\n",
       "      <td>df560393f3a51e74553ab94004ba5c87</td>\n",
       "      <td>2017-02-13 13:57:51</td>\n",
       "      <td>199.90</td>\n",
       "      <td>18.14</td>\n",
       "    </tr>\n",
       "    <tr>\n",
       "      <th>...</th>\n",
       "      <td>...</td>\n",
       "      <td>...</td>\n",
       "      <td>...</td>\n",
       "      <td>...</td>\n",
       "      <td>...</td>\n",
       "      <td>...</td>\n",
       "      <td>...</td>\n",
       "    </tr>\n",
       "    <tr>\n",
       "      <th>112645</th>\n",
       "      <td>fffc94f6ce00a00581880bf54a75a037</td>\n",
       "      <td>1</td>\n",
       "      <td>4aa6014eceb682077f9dc4bffebc05b0</td>\n",
       "      <td>b8bc237ba3788b23da09c0f1f3a3288c</td>\n",
       "      <td>2018-05-02 04:11:01</td>\n",
       "      <td>299.99</td>\n",
       "      <td>43.41</td>\n",
       "    </tr>\n",
       "    <tr>\n",
       "      <th>112646</th>\n",
       "      <td>fffcd46ef2263f404302a634eb57f7eb</td>\n",
       "      <td>1</td>\n",
       "      <td>32e07fd915822b0765e448c4dd74c828</td>\n",
       "      <td>f3c38ab652836d21de61fb8314b69182</td>\n",
       "      <td>2018-07-20 04:31:48</td>\n",
       "      <td>350.00</td>\n",
       "      <td>36.53</td>\n",
       "    </tr>\n",
       "    <tr>\n",
       "      <th>112647</th>\n",
       "      <td>fffce4705a9662cd70adb13d4a31832d</td>\n",
       "      <td>1</td>\n",
       "      <td>72a30483855e2eafc67aee5dc2560482</td>\n",
       "      <td>c3cfdc648177fdbbbb35635a37472c53</td>\n",
       "      <td>2017-10-30 17:14:25</td>\n",
       "      <td>99.90</td>\n",
       "      <td>16.95</td>\n",
       "    </tr>\n",
       "    <tr>\n",
       "      <th>112648</th>\n",
       "      <td>fffe18544ffabc95dfada21779c9644f</td>\n",
       "      <td>1</td>\n",
       "      <td>9c422a519119dcad7575db5af1ba540e</td>\n",
       "      <td>2b3e4a2a3ea8e01938cabda2a3e5cc79</td>\n",
       "      <td>2017-08-21 00:04:32</td>\n",
       "      <td>55.99</td>\n",
       "      <td>8.72</td>\n",
       "    </tr>\n",
       "    <tr>\n",
       "      <th>112649</th>\n",
       "      <td>fffe41c64501cc87c801fd61db3f6244</td>\n",
       "      <td>1</td>\n",
       "      <td>350688d9dc1e75ff97be326363655e01</td>\n",
       "      <td>f7ccf836d21b2fb1de37564105216cc1</td>\n",
       "      <td>2018-06-12 17:10:13</td>\n",
       "      <td>43.00</td>\n",
       "      <td>12.79</td>\n",
       "    </tr>\n",
       "  </tbody>\n",
       "</table>\n",
       "<p>112650 rows × 7 columns</p>\n",
       "</div>"
      ],
      "text/plain": [
       "                                order_id order_item_id  \\\n",
       "0       00010242fe8c5a6d1ba2dd792cb16214             1   \n",
       "1       00018f77f2f0320c557190d7a144bdd3             1   \n",
       "2       000229ec398224ef6ca0657da4fc703e             1   \n",
       "3       00024acbcdf0a6daa1e931b038114c75             1   \n",
       "4       00042b26cf59d7ce69dfabb4e55b4fd9             1   \n",
       "...                                  ...           ...   \n",
       "112645  fffc94f6ce00a00581880bf54a75a037             1   \n",
       "112646  fffcd46ef2263f404302a634eb57f7eb             1   \n",
       "112647  fffce4705a9662cd70adb13d4a31832d             1   \n",
       "112648  fffe18544ffabc95dfada21779c9644f             1   \n",
       "112649  fffe41c64501cc87c801fd61db3f6244             1   \n",
       "\n",
       "                              product_id                         seller_id  \\\n",
       "0       4244733e06e7ecb4970a6e2683c13e61  48436dade18ac8b2bce089ec2a041202   \n",
       "1       e5f2d52b802189ee658865ca93d83a8f  dd7ddc04e1b6c2c614352b383efe2d36   \n",
       "2       c777355d18b72b67abbeef9df44fd0fd  5b51032eddd242adc84c38acab88f23d   \n",
       "3       7634da152a4610f1595efa32f14722fc  9d7a1d34a5052409006425275ba1c2b4   \n",
       "4       ac6c3623068f30de03045865e4e10089  df560393f3a51e74553ab94004ba5c87   \n",
       "...                                  ...                               ...   \n",
       "112645  4aa6014eceb682077f9dc4bffebc05b0  b8bc237ba3788b23da09c0f1f3a3288c   \n",
       "112646  32e07fd915822b0765e448c4dd74c828  f3c38ab652836d21de61fb8314b69182   \n",
       "112647  72a30483855e2eafc67aee5dc2560482  c3cfdc648177fdbbbb35635a37472c53   \n",
       "112648  9c422a519119dcad7575db5af1ba540e  2b3e4a2a3ea8e01938cabda2a3e5cc79   \n",
       "112649  350688d9dc1e75ff97be326363655e01  f7ccf836d21b2fb1de37564105216cc1   \n",
       "\n",
       "        shipping_limit_date   price freight_value  \n",
       "0       2017-09-19 09:45:35   58.90         13.29  \n",
       "1       2017-05-03 11:05:13  239.90         19.93  \n",
       "2       2018-01-18 14:48:30  199.00         17.87  \n",
       "3       2018-08-15 10:10:18   12.99         12.79  \n",
       "4       2017-02-13 13:57:51  199.90         18.14  \n",
       "...                     ...     ...           ...  \n",
       "112645  2018-05-02 04:11:01  299.99         43.41  \n",
       "112646  2018-07-20 04:31:48  350.00         36.53  \n",
       "112647  2017-10-30 17:14:25   99.90         16.95  \n",
       "112648  2017-08-21 00:04:32   55.99          8.72  \n",
       "112649  2018-06-12 17:10:13   43.00         12.79  \n",
       "\n",
       "[112650 rows x 7 columns]"
      ]
     },
     "execution_count": 21,
     "metadata": {},
     "output_type": "execute_result"
    }
   ],
   "source": [
    "df_orderitems.sort_values('order_id')"
   ]
  },
  {
   "cell_type": "code",
   "execution_count": 17,
   "id": "8a46130a-7fab-4c3a-b867-ed7affe07b9d",
   "metadata": {},
   "outputs": [
    {
     "data": {
      "text/html": [
       "<div>\n",
       "<style scoped>\n",
       "    .dataframe tbody tr th:only-of-type {\n",
       "        vertical-align: middle;\n",
       "    }\n",
       "\n",
       "    .dataframe tbody tr th {\n",
       "        vertical-align: top;\n",
       "    }\n",
       "\n",
       "    .dataframe thead th {\n",
       "        text-align: right;\n",
       "    }\n",
       "</style>\n",
       "<table border=\"1\" class=\"dataframe\">\n",
       "  <thead>\n",
       "    <tr style=\"text-align: right;\">\n",
       "      <th></th>\n",
       "      <th>order_id</th>\n",
       "      <th>customer_id</th>\n",
       "      <th>order_status</th>\n",
       "      <th>order_purchase_timestamp</th>\n",
       "      <th>order_approved_at</th>\n",
       "      <th>order_delivered_carrier_date</th>\n",
       "      <th>order_delivered_customer_date</th>\n",
       "      <th>order_estimated_delivery_date</th>\n",
       "    </tr>\n",
       "  </thead>\n",
       "  <tbody>\n",
       "    <tr>\n",
       "      <th>0</th>\n",
       "      <td>e481f51cbdc54678b7cc49136f2d6af7</td>\n",
       "      <td>9ef432eb6251297304e76186b10a928d</td>\n",
       "      <td>delivered</td>\n",
       "      <td>2017-10-02 10:56:33</td>\n",
       "      <td>2017-10-02 11:07:15</td>\n",
       "      <td>2017-10-04 19:55:00</td>\n",
       "      <td>2017-10-10 21:25:13</td>\n",
       "      <td>2017-10-18 00:00:00</td>\n",
       "    </tr>\n",
       "    <tr>\n",
       "      <th>1</th>\n",
       "      <td>53cdb2fc8bc7dce0b6741e2150273451</td>\n",
       "      <td>b0830fb4747a6c6d20dea0b8c802d7ef</td>\n",
       "      <td>delivered</td>\n",
       "      <td>2018-07-24 20:41:37</td>\n",
       "      <td>2018-07-26 03:24:27</td>\n",
       "      <td>2018-07-26 14:31:00</td>\n",
       "      <td>2018-08-07 15:27:45</td>\n",
       "      <td>2018-08-13 00:00:00</td>\n",
       "    </tr>\n",
       "    <tr>\n",
       "      <th>2</th>\n",
       "      <td>47770eb9100c2d0c44946d9cf07ec65d</td>\n",
       "      <td>41ce2a54c0b03bf3443c3d931a367089</td>\n",
       "      <td>delivered</td>\n",
       "      <td>2018-08-08 08:38:49</td>\n",
       "      <td>2018-08-08 08:55:23</td>\n",
       "      <td>2018-08-08 13:50:00</td>\n",
       "      <td>2018-08-17 18:06:29</td>\n",
       "      <td>2018-09-04 00:00:00</td>\n",
       "    </tr>\n",
       "    <tr>\n",
       "      <th>3</th>\n",
       "      <td>949d5b44dbf5de918fe9c16f97b45f8a</td>\n",
       "      <td>f88197465ea7920adcdbec7375364d82</td>\n",
       "      <td>delivered</td>\n",
       "      <td>2017-11-18 19:28:06</td>\n",
       "      <td>2017-11-18 19:45:59</td>\n",
       "      <td>2017-11-22 13:39:59</td>\n",
       "      <td>2017-12-02 00:28:42</td>\n",
       "      <td>2017-12-15 00:00:00</td>\n",
       "    </tr>\n",
       "    <tr>\n",
       "      <th>4</th>\n",
       "      <td>ad21c59c0840e6cb83a9ceb5573f8159</td>\n",
       "      <td>8ab97904e6daea8866dbdbc4fb7aad2c</td>\n",
       "      <td>delivered</td>\n",
       "      <td>2018-02-13 21:18:39</td>\n",
       "      <td>2018-02-13 22:20:29</td>\n",
       "      <td>2018-02-14 19:46:34</td>\n",
       "      <td>2018-02-16 18:17:02</td>\n",
       "      <td>2018-02-26 00:00:00</td>\n",
       "    </tr>\n",
       "  </tbody>\n",
       "</table>\n",
       "</div>"
      ],
      "text/plain": [
       "                           order_id                       customer_id  \\\n",
       "0  e481f51cbdc54678b7cc49136f2d6af7  9ef432eb6251297304e76186b10a928d   \n",
       "1  53cdb2fc8bc7dce0b6741e2150273451  b0830fb4747a6c6d20dea0b8c802d7ef   \n",
       "2  47770eb9100c2d0c44946d9cf07ec65d  41ce2a54c0b03bf3443c3d931a367089   \n",
       "3  949d5b44dbf5de918fe9c16f97b45f8a  f88197465ea7920adcdbec7375364d82   \n",
       "4  ad21c59c0840e6cb83a9ceb5573f8159  8ab97904e6daea8866dbdbc4fb7aad2c   \n",
       "\n",
       "  order_status order_purchase_timestamp    order_approved_at  \\\n",
       "0    delivered      2017-10-02 10:56:33  2017-10-02 11:07:15   \n",
       "1    delivered      2018-07-24 20:41:37  2018-07-26 03:24:27   \n",
       "2    delivered      2018-08-08 08:38:49  2018-08-08 08:55:23   \n",
       "3    delivered      2017-11-18 19:28:06  2017-11-18 19:45:59   \n",
       "4    delivered      2018-02-13 21:18:39  2018-02-13 22:20:29   \n",
       "\n",
       "  order_delivered_carrier_date order_delivered_customer_date  \\\n",
       "0          2017-10-04 19:55:00           2017-10-10 21:25:13   \n",
       "1          2018-07-26 14:31:00           2018-08-07 15:27:45   \n",
       "2          2018-08-08 13:50:00           2018-08-17 18:06:29   \n",
       "3          2017-11-22 13:39:59           2017-12-02 00:28:42   \n",
       "4          2018-02-14 19:46:34           2018-02-16 18:17:02   \n",
       "\n",
       "  order_estimated_delivery_date  \n",
       "0           2017-10-18 00:00:00  \n",
       "1           2018-08-13 00:00:00  \n",
       "2           2018-09-04 00:00:00  \n",
       "3           2017-12-15 00:00:00  \n",
       "4           2018-02-26 00:00:00  "
      ]
     },
     "execution_count": 17,
     "metadata": {},
     "output_type": "execute_result"
    }
   ],
   "source": [
    "df_orders.head()"
   ]
  },
  {
   "cell_type": "code",
   "execution_count": 7,
   "id": "b51ccd1a-7ff8-4e2d-9d6f-38ebc28c6e9b",
   "metadata": {},
   "outputs": [
    {
     "data": {
      "text/html": [
       "<div>\n",
       "<style scoped>\n",
       "    .dataframe tbody tr th:only-of-type {\n",
       "        vertical-align: middle;\n",
       "    }\n",
       "\n",
       "    .dataframe tbody tr th {\n",
       "        vertical-align: top;\n",
       "    }\n",
       "\n",
       "    .dataframe thead th {\n",
       "        text-align: right;\n",
       "    }\n",
       "</style>\n",
       "<table border=\"1\" class=\"dataframe\">\n",
       "  <thead>\n",
       "    <tr style=\"text-align: right;\">\n",
       "      <th></th>\n",
       "      <th>customer_id</th>\n",
       "      <th>customer_unique_id</th>\n",
       "      <th>customer_zip_code_prefix</th>\n",
       "      <th>customer_city</th>\n",
       "      <th>customer_state</th>\n",
       "    </tr>\n",
       "  </thead>\n",
       "  <tbody>\n",
       "    <tr>\n",
       "      <th>0</th>\n",
       "      <td>06b8999e2fba1a1fbc88172c00ba8bc7</td>\n",
       "      <td>861eff4711a542e4b93843c6dd7febb0</td>\n",
       "      <td>14409</td>\n",
       "      <td>franca</td>\n",
       "      <td>SP</td>\n",
       "    </tr>\n",
       "    <tr>\n",
       "      <th>1</th>\n",
       "      <td>18955e83d337fd6b2def6b18a428ac77</td>\n",
       "      <td>290c77bc529b7ac935b93aa66c333dc3</td>\n",
       "      <td>09790</td>\n",
       "      <td>sao bernardo do campo</td>\n",
       "      <td>SP</td>\n",
       "    </tr>\n",
       "    <tr>\n",
       "      <th>2</th>\n",
       "      <td>4e7b3e00288586ebd08712fdd0374a03</td>\n",
       "      <td>060e732b5b29e8181a18229c7b0b2b5e</td>\n",
       "      <td>01151</td>\n",
       "      <td>sao paulo</td>\n",
       "      <td>SP</td>\n",
       "    </tr>\n",
       "    <tr>\n",
       "      <th>3</th>\n",
       "      <td>b2b6027bc5c5109e529d4dc6358b12c3</td>\n",
       "      <td>259dac757896d24d7702b9acbbff3f3c</td>\n",
       "      <td>08775</td>\n",
       "      <td>mogi das cruzes</td>\n",
       "      <td>SP</td>\n",
       "    </tr>\n",
       "    <tr>\n",
       "      <th>4</th>\n",
       "      <td>4f2d8ab171c80ec8364f7c12e35b23ad</td>\n",
       "      <td>345ecd01c38d18a9036ed96c73b8d066</td>\n",
       "      <td>13056</td>\n",
       "      <td>campinas</td>\n",
       "      <td>SP</td>\n",
       "    </tr>\n",
       "  </tbody>\n",
       "</table>\n",
       "</div>"
      ],
      "text/plain": [
       "                        customer_id                customer_unique_id  \\\n",
       "0  06b8999e2fba1a1fbc88172c00ba8bc7  861eff4711a542e4b93843c6dd7febb0   \n",
       "1  18955e83d337fd6b2def6b18a428ac77  290c77bc529b7ac935b93aa66c333dc3   \n",
       "2  4e7b3e00288586ebd08712fdd0374a03  060e732b5b29e8181a18229c7b0b2b5e   \n",
       "3  b2b6027bc5c5109e529d4dc6358b12c3  259dac757896d24d7702b9acbbff3f3c   \n",
       "4  4f2d8ab171c80ec8364f7c12e35b23ad  345ecd01c38d18a9036ed96c73b8d066   \n",
       "\n",
       "  customer_zip_code_prefix          customer_city customer_state  \n",
       "0                    14409                 franca             SP  \n",
       "1                    09790  sao bernardo do campo             SP  \n",
       "2                    01151              sao paulo             SP  \n",
       "3                    08775        mogi das cruzes             SP  \n",
       "4                    13056               campinas             SP  "
      ]
     },
     "execution_count": 7,
     "metadata": {},
     "output_type": "execute_result"
    }
   ],
   "source": [
    "df_customers.head()"
   ]
  },
  {
   "cell_type": "code",
   "execution_count": 9,
   "id": "eb5120a4-4db8-4cff-a4d8-0a552fc7531b",
   "metadata": {},
   "outputs": [
    {
     "data": {
      "text/plain": [
       "(112650, 7)"
      ]
     },
     "execution_count": 9,
     "metadata": {},
     "output_type": "execute_result"
    }
   ],
   "source": [
    "df_orderitems.shape"
   ]
  },
  {
   "cell_type": "code",
   "execution_count": 11,
   "id": "65047440-f7cc-42db-94ca-48f5b9fb74ce",
   "metadata": {},
   "outputs": [
    {
     "data": {
      "text/plain": [
       "order_id               98666\n",
       "order_item_id             21\n",
       "product_id             32951\n",
       "seller_id               3095\n",
       "shipping_limit_date    93318\n",
       "price                   5968\n",
       "freight_value           6999\n",
       "dtype: int64"
      ]
     },
     "execution_count": 11,
     "metadata": {},
     "output_type": "execute_result"
    }
   ],
   "source": [
    "df_orderitems.nunique()"
   ]
  },
  {
   "cell_type": "code",
   "execution_count": null,
   "id": "98ed9187-a751-4872-84be-effe8eb3fdfc",
   "metadata": {},
   "outputs": [],
   "source": [
    "df_orders.sort_values('order_id')"
   ]
  },
  {
   "cell_type": "code",
   "execution_count": null,
   "id": "c3b9fa8e-93cf-4149-adba-cf24736c7e55",
   "metadata": {},
   "outputs": [],
   "source": [
    "df_customers.to_csv('df_customers.csv', index=False)"
   ]
  },
  {
   "cell_type": "code",
   "execution_count": null,
   "id": "8e5eadd4-a2ed-4297-a4b4-f9748442aa2c",
   "metadata": {},
   "outputs": [],
   "source": [
    "df_geolocations.to_csv('df_geolocations.csv', index=False)"
   ]
  },
  {
   "cell_type": "code",
   "execution_count": null,
   "id": "81da650a-021c-4f0d-873f-ba723ab9bd1e",
   "metadata": {},
   "outputs": [],
   "source": [
    "df_orderitems.to_csv('df_orderitems.csv', index=False)"
   ]
  },
  {
   "cell_type": "code",
   "execution_count": null,
   "id": "e247da65-4180-493c-ae94-35af02783f3e",
   "metadata": {},
   "outputs": [],
   "source": [
    "df_payments.to_csv('df_payments.csv', index=False)"
   ]
  },
  {
   "cell_type": "code",
   "execution_count": null,
   "id": "4539dbcc-6bf0-4103-a8e3-e56f0cddfe5a",
   "metadata": {},
   "outputs": [],
   "source": [
    "df_reviews.to_csv('df_reviews.csv', index=False)"
   ]
  },
  {
   "cell_type": "code",
   "execution_count": null,
   "id": "2c759105-3f0d-4527-877f-e60edd903c2a",
   "metadata": {},
   "outputs": [],
   "source": [
    "df_orders.to_csv('df_orders.csv', index=False)"
   ]
  },
  {
   "cell_type": "code",
   "execution_count": null,
   "id": "90ceeef1-0e5e-4fe8-845a-714ce3a5bc72",
   "metadata": {},
   "outputs": [],
   "source": [
    "df_products.to_csv('df_products.csv', index=False)"
   ]
  },
  {
   "cell_type": "code",
   "execution_count": null,
   "id": "d82c061c-84e7-407c-8355-8b617e6dcb7e",
   "metadata": {},
   "outputs": [],
   "source": [
    "df_sellers.to_csv('df_sellers.csv', index=False)"
   ]
  },
  {
   "cell_type": "code",
   "execution_count": null,
   "id": "99eafcbc-effa-4bcb-a06e-65a6bdcad8ac",
   "metadata": {},
   "outputs": [],
   "source": [
    "print(\"1\")\n",
    "df_customers.shape"
   ]
  },
  {
   "cell_type": "code",
   "execution_count": null,
   "id": "a6dac1a6-f919-4701-a4f5-7f9bec49cacd",
   "metadata": {},
   "outputs": [],
   "source": [
    "print(\"2\")\n",
    "df_geolocations.shape"
   ]
  },
  {
   "cell_type": "code",
   "execution_count": null,
   "id": "146ea66c-1c2b-4957-a661-d83721a5f250",
   "metadata": {},
   "outputs": [],
   "source": [
    "print(\"3\")\n",
    "df_orderitems.shape"
   ]
  },
  {
   "cell_type": "code",
   "execution_count": null,
   "id": "e528dac1-da85-4c18-be2f-85584d2a920d",
   "metadata": {},
   "outputs": [],
   "source": [
    "print(\"4\")\n",
    "df_payments.shape"
   ]
  },
  {
   "cell_type": "code",
   "execution_count": null,
   "id": "98210b26-e1c6-4ad1-a544-3e7db1db5d50",
   "metadata": {},
   "outputs": [],
   "source": [
    "print(\"5\")\n",
    "df_reviews.shape"
   ]
  },
  {
   "cell_type": "code",
   "execution_count": null,
   "id": "9a6fc0ee-cd31-4e61-ad76-8147d9ece370",
   "metadata": {},
   "outputs": [],
   "source": [
    "print(\"6\")\n",
    "df_orders.shape"
   ]
  },
  {
   "cell_type": "code",
   "execution_count": null,
   "id": "24f99f68-4bdd-40c3-aa8e-2d9b9ca86974",
   "metadata": {},
   "outputs": [],
   "source": [
    "print(\"7\")\n",
    "df_products.shape"
   ]
  },
  {
   "cell_type": "code",
   "execution_count": null,
   "id": "8ad893dc-7882-4f6c-a805-62088bce7520",
   "metadata": {},
   "outputs": [],
   "source": [
    "print(\"8\")\n",
    "df_sellers.shape"
   ]
  },
  {
   "cell_type": "code",
   "execution_count": 13,
   "id": "fe2450ac-e1bd-41df-94c0-83d38fcda1d9",
   "metadata": {},
   "outputs": [],
   "source": [
    "null_df_customer = df_customers.isnull().sum().sum()\n",
    "null_df_geolocations = df_geolocations.isnull().sum().sum()\n",
    "null_df_orderitems = df_orderitems.isnull().sum().sum()\n",
    "null_df_payments = df_payments.isnull().sum().sum()\n",
    "null_df_reviews = df_reviews.isnull().sum().sum()\n",
    "null_df_orders = df_orders.isnull().sum().sum()\n",
    "null_df_products = df_products.isnull().sum().sum()\n",
    "null_df_sellers = df_sellers.isnull().sum().sum()"
   ]
  },
  {
   "cell_type": "code",
   "execution_count": 15,
   "id": "f2747a5d-ddcb-4fae-90b1-2a9af1b2adac",
   "metadata": {},
   "outputs": [
    {
     "name": "stdout",
     "output_type": "stream",
     "text": [
      "Number of NaN values null_df_customer: 0\n",
      "Number of NaN values null_df_geolocations: 0\n",
      "Number of NaN values null_df_orderitems: 0\n",
      "Number of NaN values null_df_payments: 0\n",
      "Number of NaN values null_df_reviews: 0\n",
      "Number of NaN values null_df_orders: 0\n",
      "Number of NaN values null_df_products: 0\n",
      "Number of NaN values null_df_sellers: 0\n"
     ]
    }
   ],
   "source": [
    "print('Number of NaN values null_df_customer:', null_df_customer)\n",
    "print('Number of NaN values null_df_geolocations:', null_df_geolocations)\n",
    "print('Number of NaN values null_df_orderitems:', null_df_orderitems)\n",
    "print('Number of NaN values null_df_payments:', null_df_payments)\n",
    "print('Number of NaN values null_df_reviews:', null_df_reviews)\n",
    "print('Number of NaN values null_df_orders:', null_df_orders)\n",
    "print('Number of NaN values null_df_products:', null_df_products)\n",
    "print('Number of NaN values null_df_sellers:', null_df_sellers)\n"
   ]
  },
  {
   "cell_type": "code",
   "execution_count": null,
   "id": "2b19aba9-609a-4407-974c-a2994bd86bf5",
   "metadata": {},
   "outputs": [],
   "source": [
    "# Menggabungkan DataFrame\n",
    "# Pertama, kita gabungkan df_orders dengan df_customers\n",
    "merged_df = pd.merge(df_orders, df_customers, on='customer_id', how='inner')\n",
    "\n",
    "# Menggabungkan dengan df_orderitems\n",
    "merged_df = pd.merge(merged_df, df_orderitems, on='order_id', how='inner')\n",
    "\n",
    "# Menggabungkan dengan df_payments\n",
    "merged_df = pd.merge(merged_df, df_payments, on='order_id', how='inner')\n",
    "\n",
    "# Menggabungkan dengan df_reviews\n",
    "merged_df = pd.merge(merged_df, df_reviews, on='order_id', how='inner')\n",
    "\n",
    "# Menggabungkan dengan df_products\n",
    "merged_df = pd.merge(merged_df, df_products, on='product_id', how='inner')\n",
    "\n",
    "# Menggabungkan dengan df_sellers\n",
    "merged_df = pd.merge(merged_df, df_sellers, on='seller_id', how='inner')\n",
    "\n",
    "# Menggabungkan dengan df_geolocations\n",
    "merged_df = pd.merge(merged_df, df_geolocations, left_on='customer_zip_code_prefix', right_on='geolocation_zip_code_prefix', how='inner')\n"
   ]
  },
  {
   "cell_type": "code",
   "execution_count": null,
   "id": "a219c419-ca4f-4f1d-adc8-2c9b213b3036",
   "metadata": {},
   "outputs": [],
   "source": [
    "merged_df.isna().sum()"
   ]
  },
  {
   "cell_type": "code",
   "execution_count": null,
   "id": "5bfbc029-283e-4d10-8290-e109136019a3",
   "metadata": {},
   "outputs": [],
   "source": [
    "merged_df.shape"
   ]
  },
  {
   "cell_type": "code",
   "execution_count": null,
   "id": "532c9e8c-901c-40f4-9a64-613f2ed3e069",
   "metadata": {},
   "outputs": [],
   "source": [
    "# Menggabungkan df_orders dengan df_orderitems berdasarkan order_id\n",
    "df = pd.merge(df_orderitems, df_orders, on='order_id', how='left')\n",
    "\n",
    "# Menggabungkan dengan df_payments berdasarkan order_id\n",
    "df = pd.merge(df, df_payments, on='order_id', how='left')\n",
    "\n",
    "# Menggabungkan dengan df_reviews berdasarkan order_id\n",
    "df = pd.merge(df, df_reviews, on='order_id', how='left')\n",
    "\n",
    "# Menggabungkan dengan df_products berdasarkan product_id\n",
    "df = pd.merge(df, df_products, on='product_id', how='left')\n",
    "\n",
    "# Menggabungkan dengan df_sellers berdasarkan seller_id\n",
    "df = pd.merge(df, df_sellers, on='seller_id', how='left')\n",
    "\n",
    "# Menggabungkan dengan df_customers berdasarkan customer_id\n",
    "df = pd.merge(df, df_customers, on='customer_id', how='left')\n",
    "\n",
    "# Menggabungkan dengan df_geolocations berdasarkan zip_code_prefix\n",
    "df = pd.merge(df, df_geolocations, left_on='customer_zip_code_prefix', right_on='geolocation_zip_code_prefix', how='left')"
   ]
  },
  {
   "cell_type": "code",
   "execution_count": null,
   "id": "76221431-6fd0-4d9a-bdb2-73cf7f3485d5",
   "metadata": {},
   "outputs": [],
   "source": [
    "df.shape"
   ]
  },
  {
   "cell_type": "code",
   "execution_count": null,
   "id": "6c1d8b14-0dc4-4a6a-92b2-7a005b3c6d93",
   "metadata": {},
   "outputs": [],
   "source": [
    "df.isna().sum()"
   ]
  },
  {
   "cell_type": "code",
   "execution_count": null,
   "id": "2e00d58a-d434-4ee3-8c5a-c15c27de0968",
   "metadata": {},
   "outputs": [],
   "source": [
    "df = pd.merge(df, df_geolocations, left_on='customer_zip_code_prefix', right_on='geolocation_zip_code_prefix', how='left')"
   ]
  },
  {
   "cell_type": "code",
   "execution_count": null,
   "id": "c813096f-da94-476b-9c08-3b3506b919d1",
   "metadata": {},
   "outputs": [],
   "source": [
    "# Menggabungkan dengan df_customers berdasarkan customer_id\n",
    "df = pd.merge(df, df_customers, on='customer_id', how='left')"
   ]
  },
  {
   "cell_type": "code",
   "execution_count": null,
   "id": "80ab89f8-24e4-4b6d-a341-b28db82b11d2",
   "metadata": {},
   "outputs": [],
   "source": [
    "df = pd.merge(df, df_orderitems, on='order_id', how='left')"
   ]
  },
  {
   "cell_type": "code",
   "execution_count": null,
   "id": "85abb64f-fd61-4a66-b0e3-211654967ef0",
   "metadata": {},
   "outputs": [],
   "source": [
    "# Menggabungkan dengan df_reviews berdasarkan order_id\n",
    "df = pd.merge(df_orders, df_reviews, on='order_id', how='left')"
   ]
  },
  {
   "cell_type": "code",
   "execution_count": null,
   "id": "601962d0-ac8b-431c-96bc-b6417d31a971",
   "metadata": {},
   "outputs": [],
   "source": [
    "# Menggabungkan dengan df_payments berdasarkan order_id\n",
    "df = pd.merge(df, df_payments, on='order_id', how='left')"
   ]
  },
  {
   "cell_type": "code",
   "execution_count": null,
   "id": "6d329116-5a04-4353-b359-18b26ddfbcd5",
   "metadata": {},
   "outputs": [],
   "source": [
    "# Menggabungkan dengan df_products berdasarkan product_id\n",
    "df = pd.merge(df, df_products, on='product_id', how='left')"
   ]
  },
  {
   "cell_type": "code",
   "execution_count": null,
   "id": "19cac2b1-f25e-45d5-bedf-8b4e5d524f1c",
   "metadata": {},
   "outputs": [],
   "source": [
    "# Menggabungkan dengan df_sellers berdasarkan seller_id\n",
    "df = pd.merge(df, df_sellers, on='seller_id', how='left')"
   ]
  },
  {
   "cell_type": "code",
   "execution_count": null,
   "id": "6dc7572a-2e12-4547-b8ac-270757420496",
   "metadata": {},
   "outputs": [],
   "source": [
    "df.isna().sum()"
   ]
  },
  {
   "cell_type": "code",
   "execution_count": null,
   "id": "f649528e-c024-4e0b-8d3d-b51f513f3767",
   "metadata": {},
   "outputs": [],
   "source": [
    "df_combined[df_combined['customer_state'].astype(str).str.contains('DF')]"
   ]
  },
  {
   "cell_type": "code",
   "execution_count": null,
   "id": "818fd484-fb7b-4148-80af-6fd7eff49ed6",
   "metadata": {},
   "outputs": [],
   "source": [
    "df_combined"
   ]
  },
  {
   "cell_type": "code",
   "execution_count": null,
   "id": "4bbe45c2-1dba-4a27-bdbe-4418baeec9aa",
   "metadata": {},
   "outputs": [],
   "source": [
    "#Check null Values dataframes\n",
    "df_combined.isna().sum()"
   ]
  },
  {
   "cell_type": "code",
   "execution_count": null,
   "id": "8d1c5690-321b-47fd-bae4-462b4bcdec9e",
   "metadata": {},
   "outputs": [],
   "source": [
    "df_null_geo = df_combined[df_combined['geolocation_city'].isna()]"
   ]
  },
  {
   "cell_type": "code",
   "execution_count": null,
   "id": "fa5a4e12-7186-4df4-8ed8-c4f187c1113d",
   "metadata": {},
   "outputs": [],
   "source": [
    "df_null_geo.isna().sum()"
   ]
  },
  {
   "cell_type": "code",
   "execution_count": null,
   "id": "f3663031-6872-4f6a-b4b0-f792f822cb28",
   "metadata": {},
   "outputs": [],
   "source": [
    "df_null_pay =  df_combined[df_combined['payment_value'].isna()]"
   ]
  },
  {
   "cell_type": "code",
   "execution_count": null,
   "id": "b1c5ea3a-cc34-4e11-b1b5-4d41ce382565",
   "metadata": {},
   "outputs": [],
   "source": [
    "df_null_pay.isna().sum()"
   ]
  },
  {
   "cell_type": "code",
   "execution_count": null,
   "id": "4399f28d-7b91-42e6-9024-9b95c8f0b13f",
   "metadata": {},
   "outputs": [],
   "source": [
    "df_null_pay"
   ]
  },
  {
   "cell_type": "code",
   "execution_count": null,
   "id": "4dd81f9e-4775-4784-81f2-fa8686881d8c",
   "metadata": {},
   "outputs": [],
   "source": [
    "df_null_pay[['order_id', 'product_id', 'price', 'order_status']].value_counts('order_status')"
   ]
  },
  {
   "cell_type": "code",
   "execution_count": null,
   "id": "b0bee0e5-59c1-4e4d-94d6-72988a09f5bb",
   "metadata": {},
   "outputs": [],
   "source": [
    "df_null_review = df_combined[df_combined['review_id'].isna()]"
   ]
  },
  {
   "cell_type": "code",
   "execution_count": null,
   "id": "37a7ffeb-4dd2-47e3-aba6-a87597930057",
   "metadata": {},
   "outputs": [],
   "source": [
    "df_nulls_drop = df_combined.dropna(subset=['review_id', 'review_score', 'review_comment_title', 'review_comment_message', 'review_creation_date', 'review_answer_timestamp'])"
   ]
  },
  {
   "cell_type": "code",
   "execution_count": null,
   "id": "8e1d1c3e-6b52-4401-936f-9cc25b4c8e8f",
   "metadata": {},
   "outputs": [],
   "source": [
    "df_nulls_drop.value_counts('order_status')"
   ]
  },
  {
   "cell_type": "code",
   "execution_count": null,
   "id": "a4129bc9-7388-4d07-8974-8fa3850c927b",
   "metadata": {},
   "outputs": [],
   "source": [
    "df_nulls_drop.shape"
   ]
  },
  {
   "cell_type": "code",
   "execution_count": null,
   "id": "eff281b5-69e5-4cb5-950f-9d018f5cd239",
   "metadata": {},
   "outputs": [],
   "source": [
    "df_null_review.value_counts('order_status')"
   ]
  },
  {
   "cell_type": "code",
   "execution_count": null,
   "id": "4e113aa9-dff0-44ef-a6ff-538a01a98f40",
   "metadata": {},
   "outputs": [],
   "source": [
    "df_null_pay"
   ]
  },
  {
   "cell_type": "code",
   "execution_count": null,
   "id": "0206d410-b41b-4547-b536-a7936855ab7e",
   "metadata": {},
   "outputs": [],
   "source": [
    "# Misalkan df_combined adalah DataFrame yang sudah digabungkan\n",
    "# Group by 'order_status' dan hitung jumlah nilai null di 'review_score'\n",
    "null_counts = df_combined.groupby('order_status')['review_score'].apply(lambda x: x.isnull().sum())\n",
    "\n",
    "# Tampilkan hasil\n",
    "null_counts\n"
   ]
  },
  {
   "cell_type": "code",
   "execution_count": null,
   "id": "de9e0f12-fbde-47d2-87be-3915ef3464db",
   "metadata": {},
   "outputs": [],
   "source": [
    "df_clean = df.copy()"
   ]
  },
  {
   "cell_type": "code",
   "execution_count": null,
   "id": "27feb0b4-bd33-4805-9d91-3631becd9114",
   "metadata": {},
   "outputs": [],
   "source": [
    "df_clean['payment_installments'] = pd.to_numeric(df_clean['payment_installments'], errors='coerce')\n",
    "df_clean['payment_value'] = pd.to_numeric(df_clean['payment_value'], errors='coerce')\n",
    "\n",
    "#Cleansing null_values untuk data payment\n",
    "df_clean['payment_installments'] = df_clean['payment_installments'].interpolate()\n",
    "df_clean['payment_value'] = df_clean['payment_value'].interpolate()"
   ]
  },
  {
   "cell_type": "code",
   "execution_count": null,
   "id": "3e535a03-f9ce-4ef7-a695-130e5ef9c78a",
   "metadata": {},
   "outputs": [],
   "source": [
    "df_clean.isna().sum()"
   ]
  },
  {
   "cell_type": "code",
   "execution_count": null,
   "id": "2fe1cf17-8ba1-4363-9984-fe13b555ec7d",
   "metadata": {},
   "outputs": [],
   "source": [
    "mode_payment_type = df_clean['payment_type'].mode()[0]\n",
    "df_clean['payment_type'].fillna(mode_payment_type, inplace=True)"
   ]
  },
  {
   "cell_type": "code",
   "execution_count": null,
   "id": "f23a2208-8679-4081-9d90-ec9f1111588d",
   "metadata": {},
   "outputs": [],
   "source": [
    "df_clean['payment_sequential'].fillna(method='ffill', inplace=True)"
   ]
  },
  {
   "cell_type": "code",
   "execution_count": null,
   "id": "860488d5-f40b-420a-877a-9103cb668c8c",
   "metadata": {},
   "outputs": [],
   "source": []
  }
 ],
 "metadata": {
  "kernelspec": {
   "display_name": "Python 3 (ipykernel)",
   "language": "python",
   "name": "python3"
  },
  "language_info": {
   "codemirror_mode": {
    "name": "ipython",
    "version": 3
   },
   "file_extension": ".py",
   "mimetype": "text/x-python",
   "name": "python",
   "nbconvert_exporter": "python",
   "pygments_lexer": "ipython3",
   "version": "3.12.4"
  }
 },
 "nbformat": 4,
 "nbformat_minor": 5
}
