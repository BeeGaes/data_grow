{
 "cells": [
  {
   "cell_type": "markdown",
   "id": "b7d3a85a-9a62-4c03-b4bd-dcad3c6b1548",
   "metadata": {},
   "source": [
    "# Virtual Environment with Anaconda\n",
    "\n",
    "Virtual Environmet : Ruang lingkup virtual yang terisolasi sehingga library yang ada didalamnya tidak berinteraksi dengan library pada environment yang berbeda.\n",
    "\n",
    "Virtual environment digunakan agar kita bisa menggunakan library spesifik untuk mengerjakan suatu project sehingga jika orang lain ingin menggunakan kodingan python kita, mereka dapat mengikuti setting virtual environment.\n",
    "\n",
    "\n",
    "# Membuat Virtual Environment baru di Anaconda\n",
    "\n",
    "Pada terminal, ketik \n",
    "`conda create -n <nama_environment> python=<versi_python>`\n",
    "\n",
    "contoh : \n",
    "`conda create -n belajar python=3.8`\n",
    "\n",
    "# Melihat daftar environment yang ada di komputer\n",
    "base adalah environment dasar pada komputer.  \n",
    "\n",
    "`conda env list`\n",
    "\n",
    "# Memilih virtual environment\n",
    "`conda active <nama_virtual_environment>`\n",
    "\n",
    "# Keluar dari virtual environment\n",
    "`conda deactivate`\n",
    "\n",
    "# Menginstall library baru pada environment\n",
    "\n",
    "bisa dengan `pip` ataupun `conda`. Keduanya merupakan package manager.\n",
    "\n",
    "contoh : `pip install <nama_library>` atau `conda install <nama_library>`\n",
    "\n",
    "# Menghubungkan Virtual Environment anaconda dengan JupyterLab\n",
    "\n",
    "Di dalam virtual environmet :\n",
    "  \n",
    "Jalankan `conda install ipykernel`,   \n",
    "lalu ketik `python -m ipykernel install --user --name=<nama_environment>`  \n",
    "lalu refresh jupyter lab."
   ]
  },
  {
   "cell_type": "code",
   "execution_count": null,
   "id": "397ffb0a-2c93-4a6a-aa27-12bdfc7be182",
   "metadata": {},
   "outputs": [],
   "source": []
  }
 ],
 "metadata": {
  "kernelspec": {
   "display_name": "Python 3 (ipykernel)",
   "language": "python",
   "name": "python3"
  },
  "language_info": {
   "codemirror_mode": {
    "name": "ipython",
    "version": 3
   },
   "file_extension": ".py",
   "mimetype": "text/x-python",
   "name": "python",
   "nbconvert_exporter": "python",
   "pygments_lexer": "ipython3",
   "version": "3.9.16"
  }
 },
 "nbformat": 4,
 "nbformat_minor": 5
}
