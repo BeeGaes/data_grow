{
 "cells": [
  {
   "cell_type": "raw",
   "id": "f52d149b-cc3c-4b3e-b100-37ab33d59503",
   "metadata": {},
   "source": [
    "Buat program python untuk menghitung jumlah angka genap dari suatu list.\n",
    "Contoh:\n",
    "list_angka  = [1,2,3,4,5]\n",
    "angka yang genap pada list tersebut adalah 2 dan 4, sehingga keluaran program 6\n"
   ]
  },
  {
   "cell_type": "code",
   "execution_count": 7,
   "id": "3d5ef12b-c8b7-484e-9a53-b3d29863df47",
   "metadata": {},
   "outputs": [
    {
     "name": "stdout",
     "output_type": "stream",
     "text": [
      "5\n"
     ]
    }
   ],
   "source": [
    "#Buat program python untuk menghitung jumlah angka genap dari suatu list.\n",
    "def hitung_angka_genap_list(l1st):\n",
    "    count_angka_genap = 0\n",
    "    for number in l1st :\n",
    "        if number %2 == 0 :\n",
    "            count_angka_genap +=1\n",
    "    return count_angka_genap\n",
    "\n",
    "l1st = [1,4,6,9,8,8,20]\n",
    "result = hitung_angka_genap_list(l1st)\n",
    "print(result)"
   ]
  },
  {
   "cell_type": "raw",
   "id": "d9b67e5f-c056-439c-a09c-004254544ade",
   "metadata": {},
   "source": [
    "Buat program python untuk mengecek apakah suatu list berisi angka-angka terurut(terurut naik ataupun turun) atau tidak\n",
    "Contoh :\n",
    "list_angka = [1,3,5,7]\n",
    "karena angkanya berurut maka program python mengeluarkan boolean True"
   ]
  },
  {
   "cell_type": "code",
   "execution_count": 9,
   "id": "56dd0d45-1423-4a05-9ccb-d0d698324d15",
   "metadata": {},
   "outputs": [
    {
     "name": "stdout",
     "output_type": "stream",
     "text": [
      "True\n",
      "True\n",
      "False\n",
      "True\n"
     ]
    }
   ],
   "source": [
    "#Buat program python untuk mengecek apakah suatu list berisi angka-angka terurut(terurut naik ataupun turun) atau tidak\n",
    "def is_sorted(lst):\n",
    "    return lst == sorted(lst) or lst == sorted(lst, reverse=True)\n",
    "\n",
    "    # Contoh list angka\n",
    "lst = [1, 2, 3, 4, 5]\n",
    "print(is_sorted(lst))  # Output: True\n",
    "    \n",
    "lst = [5, 4, 3, 2, 1]\n",
    "print(is_sorted(lst))  # Output: True\n",
    "    \n",
    "lst = [1, 3, 2, 4, 5]\n",
    "print(is_sorted(lst))  # Output: False\n",
    "\n",
    "lst = [1, 3, 5, 7, 9]  # Output: True\n",
    "print(is_sorted(lst))"
   ]
  },
  {
   "cell_type": "raw",
   "id": "73718a42-2819-42e9-9c3e-6612f41fb883",
   "metadata": {},
   "source": [
    "Anda bekerja dengan data streaming transaksi nasabah. Data streaming berarti data datang terus menerus tanpa henti. Data datang dengan format berikut:\n",
    "list_nilai = [(‘Tono’,-100),(‘Tono’,-90),(‘Joko’,80),(‘Susi’,90),(‘Tono’,95)]\n",
    "Data ini merupakan potongan stream. Data ini menunjukkan bahwa Tono melakukan transaksi yang menguransi saldonya sebanyak 100, kemudian Tono mengurangi saldonya lagi sebanyak 90, setelah itu Joko mendapatkan saldo sebanyak 80, lalu susi dapat 90 dan Tono mendapat 95\n",
    "Misalkan diberikan dictionary saldo setiap nasabah sebagai berikut:\n",
    "saldo_awal = {‘Tono’:700,’Joko’:900,’Susi’:500}\n",
    "Buatlah kode untuk menghitung saldo akhir dari setiap orang. Hasil akhir berupa dictionary dengan format serupa dengan variabel saldo_awal"
   ]
  },
  {
   "cell_type": "code",
   "execution_count": null,
   "id": "d4cf64e4-95ba-46cd-9f47-1a7077505c51",
   "metadata": {},
   "outputs": [],
   "source": [
    "#Buatlah kode untuk menghitung saldo akhir dari setiap orang\n"
   ]
  },
  {
   "cell_type": "code",
   "execution_count": 15,
   "id": "52a86687-619a-47c7-ae96-d16a44d3fe65",
   "metadata": {},
   "outputs": [
    {
     "name": "stdout",
     "output_type": "stream",
     "text": [
      "{'Tono': 605, 'Joko': 980, 'Susi': 590}\n"
     ]
    }
   ],
   "source": [
    "saldo_awal = {'Tono':700,'Joko':900,'Susi':500}\n",
    "list_nilai = [('Tono',-100),('Tono',-90),('Joko',80),('Susi',90),('Tono',95)]\n",
    "saldo_akhir = {}\n",
    "\n",
    "#menggunakan for loop untuk menghitung saldo\n",
    "for nama,nilai in list_nilai :\n",
    "    if nama in saldo_awal:\n",
    "        saldo_awal[nama] += nilai\n",
    "    else :\n",
    "        saldo_awal[nama] = nilai\n",
    "\n",
    "saldo_akhir = saldo_awal\n",
    "\n",
    "print(saldo_akhir)\n"
   ]
  },
  {
   "cell_type": "code",
   "execution_count": null,
   "id": "9c364608-da0c-40b8-b87d-0f9caa7e96be",
   "metadata": {},
   "outputs": [],
   "source": []
  }
 ],
 "metadata": {
  "kernelspec": {
   "display_name": "growia_practice",
   "language": "python",
   "name": "growia_practice"
  },
  "language_info": {
   "codemirror_mode": {
    "name": "ipython",
    "version": 3
   },
   "file_extension": ".py",
   "mimetype": "text/x-python",
   "name": "python",
   "nbconvert_exporter": "python",
   "pygments_lexer": "ipython3",
   "version": "3.10.14"
  }
 },
 "nbformat": 4,
 "nbformat_minor": 5
}
