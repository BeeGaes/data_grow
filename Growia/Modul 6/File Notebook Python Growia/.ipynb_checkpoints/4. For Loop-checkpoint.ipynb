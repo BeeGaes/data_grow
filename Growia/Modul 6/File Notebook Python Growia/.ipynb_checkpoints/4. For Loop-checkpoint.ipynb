{
 "cells": [
  {
   "cell_type": "markdown",
   "id": "0582da03-1237-4e32-a62b-453f5477b51c",
   "metadata": {},
   "source": [
    "# Looping\n",
    "\n",
    "Looping adalah proses mengekeksekui suatu baris program secara berulang kali.\n",
    "\n",
    "Ada 2 jenis looping yang ada di Python, yakni __for loop__ dan __while loop__"
   ]
  },
  {
   "cell_type": "code",
   "execution_count": null,
   "id": "d732b327-dac5-4c97-a17d-e7bbf62578d3",
   "metadata": {},
   "outputs": [],
   "source": [
    "for x in range(10): # pencacahan di python dimulai dari 0, dan berakhir\n",
    "    print(x)"
   ]
  },
  {
   "cell_type": "code",
   "execution_count": null,
   "id": "950a351b-e3a0-4171-ae6b-b2e5a9bf9d97",
   "metadata": {},
   "outputs": [],
   "source": [
    "# For loop biasanya digunakan untuk melakukan iterasi terhadap kumpulan nilai\n",
    "\n",
    "for usia in [25,24,26,30,32,35,20] :\n",
    "    print(\"Usia : \",usia)"
   ]
  },
  {
   "cell_type": "code",
   "execution_count": null,
   "id": "011e8f56-b91f-4f6f-bb8a-0058414effd1",
   "metadata": {},
   "outputs": [],
   "source": [
    "# Deret fibbonaci adalah deret yang merupakan penjumlahan dua bilangan sebelumnya\n",
    "\n",
    "angka1 = 1\n",
    "angka2 = 1\n",
    "angka_baru = angka1 + angka2\n",
    "for i in range(3,15):\n",
    "    angka1 = angka2\n",
    "    angka2 = angka_baru\n",
    "    angka_baru = angka1 + angka2\n",
    "    print(\"deret ke - \", i , \"adalah \", angka_baru)"
   ]
  },
  {
   "cell_type": "markdown",
   "id": "3a54c4bd-1254-4b1d-93b7-1d7ad251535b",
   "metadata": {},
   "source": [
    "# Membuat gambar persegi dengan for loop"
   ]
  },
  {
   "cell_type": "markdown",
   "id": "b2a48b37-3c88-4d6d-a4f1-0628c5a35556",
   "metadata": {},
   "source": [
    "# Versi sederhana dengan isi padat"
   ]
  },
  {
   "cell_type": "code",
   "execution_count": null,
   "id": "339fdd44-92bc-4497-8b7e-0c406b71269b",
   "metadata": {},
   "outputs": [],
   "source": [
    "lebar = 10\n",
    "panjang = 4\n",
    "for baris in range(panjang):\n",
    "    print(\"o\" * lebar)"
   ]
  },
  {
   "cell_type": "markdown",
   "id": "537f9c46-9db9-4569-b073-ce35c734f56d",
   "metadata": {},
   "source": [
    "# Versi lebih kompleks dengan isi kosong"
   ]
  },
  {
   "cell_type": "code",
   "execution_count": null,
   "id": "bd0ba22b-6730-4c59-8edf-709037afaa48",
   "metadata": {},
   "outputs": [],
   "source": [
    "lebar = 10\n",
    "panjang = 4\n",
    "for baris in range(panjang):\n",
    "    if baris == 0 or baris == (panjang-1) :\n",
    "        gambar = \"o\"*lebar\n",
    "        print(gambar)\n",
    "    else :\n",
    "        gambar = \"o\" + \" \"*(lebar-2) + \"o\"\n",
    "        print(gambar)"
   ]
  },
  {
   "cell_type": "markdown",
   "id": "cff93164-98ff-4e2c-a4f0-f8b05543c26c",
   "metadata": {},
   "source": [
    "# While Loop\n",
    "While loop adalah loop yang berhenti ketika kondisi pengulangan tidak terpenuhi.\n",
    "\n",
    "Misalkan Tono ingin membeli rumah dengan cash keras.  \n",
    "Tono memiliki penghasilan dan pengeluaran yang sangat stabil.  \n",
    "Setiap tahunnya, Tono mendapat kenaikan gaji sebesar 5%.  \n",
    "Karena inflasi, pengeluaran tono setiap tahun bertambah sebanya 4%.  \n",
    "Harga properti setiap tahun mengalami kenaikan sekitar 6%.  \n",
    "\n",
    "Jika tahun ini gaji tono 120 juta per tahun dan pengeluarnnya 40 juta per tahun, sementara rumah yang ingin dia beli seharga 1 milliar rupiah, berapa tahun Tono harus menabung ?\n"
   ]
  },
  {
   "cell_type": "code",
   "execution_count": null,
   "id": "1729be5f-4808-449d-a03a-00fff74b3d3a",
   "metadata": {},
   "outputs": [],
   "source": [
    "pendapatan_tahunan = 120_000_000\n",
    "harga_rumah = 1_000_000_000\n",
    "pengeluaran_tahunan = 40_000_000\n",
    "\n",
    "kenaikan_pendapatan_per_tahun = 1.05\n",
    "kenaikan_pengeluaran_per_tahun = 1.04\n",
    "kenaikan_harga_rumah_per_tahun = 1.06\n",
    "\n",
    "tabungan = 0\n",
    "\n",
    "tahun = 0\n",
    "while tabungan < harga_rumah:\n",
    "    tahun += 1\n",
    "    \n",
    "    tabungan += pendapatan_tahunan - pengeluaran_tahunan\n",
    "    print(f\"Tahun ke {tahun}, tabungan : {tabungan}, harga rumah : {harga_rumah}\")\n",
    "    pendapatan_tahunan *= kenaikan_pendapatan_per_tahun\n",
    "    pengeluaran_tahunan *= kenaikan_pengeluaran_per_tahun    \n",
    "    harga_rumah *= kenaikan_harga_rumah_per_tahun    \n",
    "    "
   ]
  },
  {
   "cell_type": "markdown",
   "id": "7e4e42c7-b9f5-482b-bf8b-2b290dde5872",
   "metadata": {},
   "source": [
    "# Challenge\n",
    "\n",
    "Setelah melihat estimasi, Tono merasa membeli rumah hanya sekedar mimpi.  \n",
    "Akan tetapi setelah membaca buku mengenai investasi, Tono menemukan bahwa investasi adalah salah satu jalan realistis agar Tono membeli rumah.\n",
    "Asumsikan setiap tahunnya Tono menginvestasikan 90% dari tabungannya untuk investasi dengan return keuntungan sebesar 10%.   \n",
    "Jika semua berjalan dengan sempurna, berapa tahun Tono harus menabung dan berinvestasi agar bisa membeli rumah?  "
   ]
  },
  {
   "cell_type": "code",
   "execution_count": null,
   "id": "b0cceeb0-626e-46a4-a6b8-ad31cd5d4522",
   "metadata": {},
   "outputs": [],
   "source": [
    "pendapatan_tahunan = 120_000_000\n",
    "harga_rumah = 1_000_000_000\n",
    "pengeluaran_tahunan = 40_000_000\n",
    "\n",
    "kenaikan_pendapatan_per_tahun = 1.05\n",
    "kenaikan_pengeluaran_per_tahun = 1.04\n",
    "kenaikan_harga_rumah_per_tahun = 1.06\n",
    "\n",
    "tabungan = 0\n",
    "\n",
    "tahun = 0\n",
    "while tabungan < harga_rumah:\n",
    "    tahun += 1\n",
    "    \n",
    "    tabungan += pendapatan_tahunan - pengeluaran_tahunan\n",
    "    \n",
    "    # Buat modifikasi yang mensimulasikan investasi Tono\n",
    "    \n",
    "    print(f\"Tahun ke {tahun}, tabungan : {tabungan}, harga rumah : {harga_rumah}\")\n",
    "    pendapatan_tahunan *= kenaikan_pendapatan_per_tahun\n",
    "    pengeluaran_tahunan *= kenaikan_pengeluaran_per_tahun    \n",
    "    harga_rumah *= kenaikan_harga_rumah_per_tahun    "
   ]
  },
  {
   "cell_type": "code",
   "execution_count": null,
   "id": "47b6568e-9291-48da-83e5-a51338319880",
   "metadata": {},
   "outputs": [],
   "source": []
  }
 ],
 "metadata": {
  "kernelspec": {
   "display_name": "Python 3 (ipykernel)",
   "language": "python",
   "name": "python3"
  },
  "language_info": {
   "codemirror_mode": {
    "name": "ipython",
    "version": 3
   },
   "file_extension": ".py",
   "mimetype": "text/x-python",
   "name": "python",
   "nbconvert_exporter": "python",
   "pygments_lexer": "ipython3",
   "version": "3.10.9"
  }
 },
 "nbformat": 4,
 "nbformat_minor": 5
}
