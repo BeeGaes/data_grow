{
 "cells": [
  {
   "cell_type": "markdown",
   "id": "e8075421-9486-4552-839c-d2635d280ce7",
   "metadata": {},
   "source": [
    "# 4 Data Structure di Python\n",
    "\n",
    "Data Struktur adalah suatu cara menyimpan data dalam struktur"
   ]
  },
  {
   "cell_type": "markdown",
   "id": "8d04c744-382f-4f04-9e42-a75f8f975733",
   "metadata": {},
   "source": [
    "# List\n",
    "\n",
    "List adalah struktur yang paling sering digunakan"
   ]
  },
  {
   "cell_type": "code",
   "execution_count": null,
   "id": "e4adbafe-f68f-48a1-bcd5-33852f3e7abf",
   "metadata": {},
   "outputs": [],
   "source": [
    "ROI_per_tahun = [-20,-5,0,5,10,10,20,20]"
   ]
  },
  {
   "cell_type": "code",
   "execution_count": null,
   "id": "80f31c95-de19-4c8f-9bc5-92576854910d",
   "metadata": {},
   "outputs": [],
   "source": [
    "# list memiliki urutan\n",
    "ROI_per_tahun[0] # Mengambil elemen pertama dari list"
   ]
  },
  {
   "cell_type": "markdown",
   "id": "b4ce9f0e-298b-47da-b7ab-1a8efcb4f4eb",
   "metadata": {},
   "source": [
    "List bisa menyimpan berbagai tipe data"
   ]
  },
  {
   "cell_type": "code",
   "execution_count": null,
   "id": "c55d6767-2ea3-4971-a744-6fe68bd4dfc3",
   "metadata": {},
   "outputs": [],
   "source": [
    "list_campur_aduk = [100,3.14, \"growia\",False,False,[False]]"
   ]
  },
  {
   "cell_type": "code",
   "execution_count": null,
   "id": "7b0fc346-4115-48b4-9129-b98e85445f28",
   "metadata": {},
   "outputs": [],
   "source": [
    "# Operasi yang bisa kita lakukan terhadap list\n",
    "# Menambah Element\n",
    "contoh_list = [1,2,3,4]\n",
    "contoh_list.append(5)\n",
    "contoh_list"
   ]
  },
  {
   "cell_type": "code",
   "execution_count": null,
   "id": "f77e2c93-1303-4ffc-a9fb-805bdd565b30",
   "metadata": {},
   "outputs": [],
   "source": [
    "# Mengganti Elemen\n",
    "daftar_mahasiswa = ['Adi','Budi','Cantika','Daniel','Erika']\n",
    "daftar_mahasiswa.remove('Budi')\n",
    "daftar_mahasiswa"
   ]
  },
  {
   "cell_type": "code",
   "execution_count": null,
   "id": "9d52f8b4-747e-4d71-9b16-d3c7a5dab078",
   "metadata": {},
   "outputs": [],
   "source": [
    "# Mencari posisi dari sebuah elemen\n",
    "daftar_mahasiswa = ['Adi','Budi','Cantika','Daniel','Erika']\n",
    "daftar_mahasiswa.index('Budi')"
   ]
  },
  {
   "cell_type": "code",
   "execution_count": null,
   "id": "05c94943-2fa8-4766-a63a-26e87de9786b",
   "metadata": {},
   "outputs": [],
   "source": [
    "# Mengganti elemen\n",
    "daftar_mahasiswa = ['Adi','Budi','Cantika','Daniel','Erika']\n",
    "daftar_mahasiswa[1] = 'Budhie'"
   ]
  },
  {
   "cell_type": "markdown",
   "id": "16c9dba2-5fda-477e-ab20-261e1da56b1a",
   "metadata": {},
   "source": [
    "# Iterasi dengan List"
   ]
  },
  {
   "cell_type": "code",
   "execution_count": null,
   "id": "7c97a7bc-3f06-4681-868c-2652ff16cc81",
   "metadata": {},
   "outputs": [],
   "source": [
    "for murid in daftar_mahasiswa:\n",
    "    print(murid)"
   ]
  },
  {
   "cell_type": "markdown",
   "id": "0479486c-e692-4013-82a3-447829f13fbd",
   "metadata": {},
   "source": [
    "## built-in function untuk operasi list"
   ]
  },
  {
   "cell_type": "code",
   "execution_count": null,
   "id": "49f4826e-3529-441d-b18a-fa0ad98a9031",
   "metadata": {},
   "outputs": [],
   "source": [
    "sum([1,2,3,4,5])"
   ]
  },
  {
   "cell_type": "code",
   "execution_count": null,
   "id": "5947874a-8995-4569-b1d0-e69a4c292b76",
   "metadata": {},
   "outputs": [],
   "source": [
    "len([1,2,3,4,5])"
   ]
  },
  {
   "cell_type": "markdown",
   "id": "0dd9d558-c262-4634-945b-66daf4457523",
   "metadata": {},
   "source": [
    "# Challenge\n",
    "\n",
    "Perusahaan anda bekerjasama dengan suatu bank untuk meluncurkan produk kartu kredit.  \n",
    "Pada halaman utama aplikasi, dibuat suatu banner promosi kartu kredit tersebut.\n",
    "Anda ingin diminta untuk menghitung CTR dari promosi kartu kredit tersebut.\n",
    "\n",
    "__CTR__ adalah metric yang rasio user yang mengklik tautan tertentu dengan jumlah total pengguna yang melihat halaman,\n",
    "\n",
    "Data yang anda terima berupa list of list.  \n",
    "Setiap list terdiri dari 2 angka, yakni banyaknya orang yang membuka aplikasi dan banyaknya orang yang meng klik banner kartu kredit.  \n",
    "Hari yang berbeda akan disimpan dalam list yang berbeda.\n",
    "\n",
    "Contoh = `[[1000,50],[900,10]]` berarti : \n",
    "- Pada hari pertama, ada 1000 user membuka aplikasi dan 50 user melakukan klik.  \n",
    "- Pada hari kedua, ada 900 user membuka aplikasi dan 10 user melakukan klik.\n",
    "\n",
    "Lakukan perhitungan CTR berdasarkan data berikut :"
   ]
  },
  {
   "cell_type": "code",
   "execution_count": null,
   "id": "f4e2db53-ddac-4bf4-a929-19c9c6d804c8",
   "metadata": {},
   "outputs": [],
   "source": []
  }
 ],
 "metadata": {
  "kernelspec": {
   "display_name": "Python 3 (ipykernel)",
   "language": "python",
   "name": "python3"
  },
  "language_info": {
   "codemirror_mode": {
    "name": "ipython",
    "version": 3
   },
   "file_extension": ".py",
   "mimetype": "text/x-python",
   "name": "python",
   "nbconvert_exporter": "python",
   "pygments_lexer": "ipython3",
   "version": "3.10.9"
  }
 },
 "nbformat": 4,
 "nbformat_minor": 5
}
