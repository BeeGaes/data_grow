{
 "cells": [
  {
   "cell_type": "markdown",
   "id": "7d040acd-3c37-4525-b058-777a8f53b30a",
   "metadata": {},
   "source": [
    "# Operasi terhadap value tipe numerik"
   ]
  },
  {
   "cell_type": "markdown",
   "id": "61bb459c-8fbc-4191-82b3-d86e72d8e909",
   "metadata": {},
   "source": [
    "Kita dapat melakukan aksi (operasi) terhadap 2 buah value di Python\n",
    "\n",
    "Berikut contoh operasi yang dapat dilakukan antara 2 buah integer dan float"
   ]
  },
  {
   "cell_type": "code",
   "execution_count": null,
   "id": "c1f2f1e6-6bb8-4703-bd26-3a6fbab56dbe",
   "metadata": {},
   "outputs": [],
   "source": [
    "100 + 5 # Penjumlahan"
   ]
  },
  {
   "cell_type": "code",
   "execution_count": null,
   "id": "f24639fb-884d-4a18-b7c7-13a4bcf8540c",
   "metadata": {},
   "outputs": [],
   "source": [
    "100.1 - 5 # Pengurangan"
   ]
  },
  {
   "cell_type": "code",
   "execution_count": null,
   "id": "9b1ca8d9-686f-47e6-9f72-188b6a26d372",
   "metadata": {},
   "outputs": [],
   "source": [
    "100 * 20 # Perkalian"
   ]
  },
  {
   "cell_type": "code",
   "execution_count": null,
   "id": "25c54920-dc13-46ea-88d0-78ac00c52764",
   "metadata": {},
   "outputs": [],
   "source": [
    "100 / 3 # Pembagian"
   ]
  },
  {
   "cell_type": "code",
   "execution_count": null,
   "id": "b2987fd0-2302-4d4b-a8a6-e75b3a62b4d5",
   "metadata": {},
   "outputs": [],
   "source": [
    "100//3 # Pembagian bulat"
   ]
  },
  {
   "cell_type": "code",
   "execution_count": null,
   "id": "1de41f96-fc37-4a45-a4c2-d48f91be2c24",
   "metadata": {},
   "outputs": [],
   "source": [
    "2 ** 3 # Pemangkatan"
   ]
  },
  {
   "cell_type": "markdown",
   "id": "b46f7863-2f22-4cd9-a127-81003a64113a",
   "metadata": {},
   "source": [
    "Operasi dapat dilakukan dengan variabel, dan hasil operasi dapat langsung ditaruh kedalam variabel"
   ]
  },
  {
   "cell_type": "code",
   "execution_count": null,
   "id": "1a35d435-a93d-4422-a40d-72cf387324df",
   "metadata": {},
   "outputs": [],
   "source": [
    "tahun_sekarang = 2050\n",
    "tahun_lahir = 2020\n",
    "usia = tahun_sekarang - tahun_lahir"
   ]
  },
  {
   "cell_type": "markdown",
   "id": "67328681-6fa0-4e93-80a4-a26e0d85aeac",
   "metadata": {},
   "source": [
    "# Operasi terhadap value tipe string"
   ]
  },
  {
   "cell_type": "code",
   "execution_count": null,
   "id": "2d31feba-1199-4f18-8f80-f0a41fef611c",
   "metadata": {},
   "outputs": [],
   "source": [
    "\"text\"*10 # Pengulangan text"
   ]
  },
  {
   "cell_type": "code",
   "execution_count": null,
   "id": "db8b5744-4414-4529-ac08-8eb4496eef28",
   "metadata": {},
   "outputs": [],
   "source": [
    "instansi = 'Growia'\n",
    "\"Let's grow with\" + \" \" + instansi "
   ]
  },
  {
   "cell_type": "code",
   "execution_count": null,
   "id": "4ce4d925-b9a2-432d-9b59-5cf3545e6b8d",
   "metadata": {},
   "outputs": [],
   "source": [
    "universitas = 'ITB'"
   ]
  },
  {
   "cell_type": "markdown",
   "id": "9733486b-1fb8-43db-a225-a241e34f97bf",
   "metadata": {},
   "source": [
    "Value dengan tipe string memiliki method yang dapat dipanggil seperti : \n",
    "- .lower() dan .upper()\n",
    "- .isnumeric()"
   ]
  },
  {
   "cell_type": "code",
   "execution_count": null,
   "id": "5547b791-36b1-4081-9ee0-cd3407a69d00",
   "metadata": {},
   "outputs": [],
   "source": [
    "universitas.lower()"
   ]
  },
  {
   "cell_type": "code",
   "execution_count": null,
   "id": "8ad681ae-7c03-4369-995d-989b76ca5344",
   "metadata": {},
   "outputs": [],
   "source": [
    "id_pelanggan = \"1231241345321\"\n",
    "id_pelanggan.isnumeric()"
   ]
  },
  {
   "cell_type": "markdown",
   "id": "0e5c60bb-272e-4a67-a91a-fba1c9a808d8",
   "metadata": {},
   "source": [
    "# Operasi komparasi"
   ]
  },
  {
   "cell_type": "code",
   "execution_count": null,
   "id": "6d229aa9-7f16-4896-953e-0a39d9c201b3",
   "metadata": {},
   "outputs": [],
   "source": [
    "100 > 20 # 100 lebih besar dari 20"
   ]
  },
  {
   "cell_type": "code",
   "execution_count": null,
   "id": "b4bdbfcf-1459-4aa2-a3cd-8f2496256cea",
   "metadata": {},
   "outputs": [],
   "source": [
    "100 != 100 # 100 tidak sama dengan 100"
   ]
  },
  {
   "cell_type": "code",
   "execution_count": null,
   "id": "1fc7f36e-82ca-4ec6-ab10-527a13fb194c",
   "metadata": {},
   "outputs": [],
   "source": [
    "kota_tinggal = 'pekanbaru'\n",
    "kota_lahir = 'medan'\n",
    "kota_tinggal == kota_lahir"
   ]
  },
  {
   "cell_type": "code",
   "execution_count": null,
   "id": "a08b7158-d808-43a7-8263-af3d7c244871",
   "metadata": {},
   "outputs": [],
   "source": [
    "umur = 19\n",
    "\n",
    "umur >= 18"
   ]
  },
  {
   "cell_type": "markdown",
   "id": "6afc1dc0-e898-490f-99cf-59b372f75c8e",
   "metadata": {},
   "source": [
    "# Operasi terhadap boolean"
   ]
  },
  {
   "cell_type": "markdown",
   "id": "a50c331f-1b35-4373-ae24-867b0b19a6d3",
   "metadata": {},
   "source": [
    "AND akan True apabila kedua pernyataan True"
   ]
  },
  {
   "cell_type": "code",
   "execution_count": null,
   "id": "0be7c716-cd52-48cb-886b-e8df0e50c7f7",
   "metadata": {},
   "outputs": [],
   "source": [
    "sehat_fisik = True\n",
    "usia = 20\n",
    "sehat_fisik and usia>=18"
   ]
  },
  {
   "cell_type": "markdown",
   "id": "733bde9c-344e-447f-a305-b0f31b3115f1",
   "metadata": {},
   "source": [
    "OR akan True apabila setidaknya salah satu pernyataan True"
   ]
  },
  {
   "cell_type": "code",
   "execution_count": null,
   "id": "cbe254d4-bbda-40b7-92ff-fbf47fd975e6",
   "metadata": {},
   "outputs": [],
   "source": [
    "punya_epaspor = True\n",
    "punya_visa = False\n",
    "punya_epaspor or punya_visa"
   ]
  },
  {
   "cell_type": "markdown",
   "id": "0f4b1d24-1194-4f7f-9ad8-b59abcc83fd2",
   "metadata": {},
   "source": [
    "# Challenge 1\n",
    "\n",
    "Bayangkan anda sedang bekerja sebagai data analyst di perusahaan e-commerce.  \n",
    "Tim marketing ingin membuat sebuah campaign untuk meningkatkan penjualan barang.  \n",
    "Campaign yang dibuat melibatkan 2 biaya, yakni biaya diskon barang dan juga biaya iklan.  \n",
    "Tim analis membuat proyeksi banyaknya penjualan yang bisa diraih.\n",
    "\n",
    "Anda diminta untuk mengevaluasi keberhasilan campaign melalui perhitungan perkiraan ROI.  \n",
    "__ROI (Return of Investment)__ adalah rasio uang yang diperoleh atau hilang pada suatu investasi, relatif terhadap jumlah uang yang diinvestasikan.  \n",
    "Tim marketing mengharapkan strategi ini dapat mencapai ROI > 15%.   \n",
    "Apakah ekspektasi mereka dapat terpenuhi?\n",
    "\n",
    "Formula yang dapat digunakan :   \n",
    "$$ROI = \\frac{Revenue-Cost}{Cost}$$  \n",
    "$$Revenue = Price \\times UnitSold$$"
   ]
  },
  {
   "cell_type": "code",
   "execution_count": null,
   "id": "8bc06e8d-d393-47b7-8be6-1fa19aa56d49",
   "metadata": {},
   "outputs": [],
   "source": [
    "# Data yang diberikan\n",
    "subsidy_cost = 5000000\n",
    "ads_cost = 1000000\n",
    "item_price_after_discount = 55000\n",
    "unit_sold = 1500"
   ]
  },
  {
   "cell_type": "code",
   "execution_count": null,
   "id": "77057e3b-1552-43ef-8a87-7652b59ca6e5",
   "metadata": {},
   "outputs": [],
   "source": [
    "total_cost = # Tulis jawaban anda\n",
    "revenue = # Tulis jawaban anda\n",
    "roi = # Tulis jawaban anda\n",
    "print(roi)"
   ]
  },
  {
   "cell_type": "markdown",
   "id": "9ebae93d-795c-4879-84c9-be8d23fdf757",
   "metadata": {},
   "source": [
    "# Challenge 2\n",
    "\n",
    "Anda diminta bos anda untuk menghitung CAGR perusahaan atas revenue untuk disampaikan di RUPS.\n",
    "\n",
    "__CAGR(Compounded Annual Growth Rate)__ adalah tingkat rata-rata pertumbuhan per tahun dari suatu investasi dalam rentang periode tertentu.\n",
    "\n",
    "Pada tahun pertama perusahaan berdiri, revenue perusahaan adalah 120 juta rupiah per tahun.  \n",
    "Pada tahun kelima, revenue perusahaan adalah 240 juta rupiah per tahun.\n",
    "\n",
    "Berapa CAGR dari perusahaan ?\n",
    "\n",
    "Formula yang dapat digunakan :   \n",
    "$$CAGR = \\left (\\left( \\frac{NilaiAkhir}{NilaiAwal} \\right)^{\\frac{1}{JarakTahun}} - 1 \\right)  \\times 100 \\%$$"
   ]
  },
  {
   "cell_type": "code",
   "execution_count": null,
   "id": "84e12c1d-5423-47d8-97d7-3297a8a6611f",
   "metadata": {},
   "outputs": [],
   "source": []
  }
 ],
 "metadata": {
  "kernelspec": {
   "display_name": "Python 3 (ipykernel)",
   "language": "python",
   "name": "python3"
  },
  "language_info": {
   "codemirror_mode": {
    "name": "ipython",
    "version": 3
   },
   "file_extension": ".py",
   "mimetype": "text/x-python",
   "name": "python",
   "nbconvert_exporter": "python",
   "pygments_lexer": "ipython3",
   "version": "3.10.9"
  }
 },
 "nbformat": 4,
 "nbformat_minor": 5
}
