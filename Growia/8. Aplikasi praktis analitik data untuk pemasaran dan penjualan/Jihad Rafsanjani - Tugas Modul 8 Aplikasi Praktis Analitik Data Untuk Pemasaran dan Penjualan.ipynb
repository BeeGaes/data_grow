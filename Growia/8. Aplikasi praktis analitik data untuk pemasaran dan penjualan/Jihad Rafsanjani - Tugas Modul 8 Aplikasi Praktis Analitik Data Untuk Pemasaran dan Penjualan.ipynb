{
 "cells": [
  {
   "cell_type": "code",
   "execution_count": 1,
   "id": "a08dfdbd-3208-4206-8f8d-327feb582cd8",
   "metadata": {},
   "outputs": [],
   "source": [
    "import pandas as pd"
   ]
  },
  {
   "cell_type": "markdown",
   "id": "7b9e868f-84af-4289-9625-1ec1c8a0ce2e",
   "metadata": {
    "tags": []
   },
   "source": [
    "# Important\n",
    "\n",
    "Jika ada hal yang dirasa abu-abu, silahkan jawab jawaban dengan asumsi logis yang anda miliki.  \n",
    "Penilaian tugas tidak hanya sekedar dilihat dari hasil yang dikeluarkan, melainkan penjelasan atas langkah-langkah yang anda ambil dalam analisis. Sertakan penjelasan dengan menggunakan simbol komentar.  \n",
    "Kualitas seorang Data Analyst yang baik adalah mampu menyampaikan analisis dengan baik.\n",
    "\n",
    "Definisi data : https://www.kaggle.com/datasets/retailrocket/ecommerce-dataset?select=events.csv  \n",
    "Kita hanya akan menggunakan file events.csv jadi pastikan kalian telah memahami data dengan baik sebelum mulai mengerjakan homework ini"
   ]
  },
  {
   "cell_type": "code",
   "execution_count": 3,
   "id": "32290991-1ad4-450d-8352-5c1ea985068a",
   "metadata": {},
   "outputs": [
    {
     "data": {
      "text/plain": [
       "'/Users/macair/Documents/jihad/Data Analyst/Growia/Modul 8'"
      ]
     },
     "execution_count": 3,
     "metadata": {},
     "output_type": "execute_result"
    }
   ],
   "source": [
    "import os\n",
    "os.getcwd() # Mengetahui working directory sekarang"
   ]
  },
  {
   "cell_type": "code",
   "execution_count": 5,
   "id": "8f8ba960-54f6-4576-b095-8fd95d453f3e",
   "metadata": {},
   "outputs": [
    {
     "data": {
      "text/plain": [
       "['.DS_Store',\n",
       " 'dataset',\n",
       " 'Jihad Rafsanjani - Tugas Modul 8 Aplikasi Praktis Analitik Data Untuk Pemasaran dan Penjualan.ipynb.zip',\n",
       " 'Jihad Rafsanjani - Tugas Modul 8 Aplikasi Praktis Analitik Data Untuk Pemasaran dan Penjualan.ipynb',\n",
       " '.ipynb_checkpoints']"
      ]
     },
     "execution_count": 5,
     "metadata": {},
     "output_type": "execute_result"
    }
   ],
   "source": [
    "os.listdir() # Melihat daftar file di working directory sekarang"
   ]
  },
  {
   "cell_type": "code",
   "execution_count": 7,
   "id": "276d05f3-4f6d-4121-9594-fd1df14fd8d7",
   "metadata": {},
   "outputs": [],
   "source": [
    "#Load data csv\n",
    "df = pd.read_csv('./dataset/events.csv')\n",
    "df['datetime'] = pd.to_datetime(df['timestamp'],unit='ms') # Data awalnya merupakan linux timestamp, akan dikonversikan menjadi format datetime standard pandas"
   ]
  },
  {
   "cell_type": "code",
   "execution_count": 9,
   "id": "2a6f80a5-528b-4e8d-905a-119fd6d6bf34",
   "metadata": {},
   "outputs": [],
   "source": [
    "df['date_key'] = df['datetime'].dt.normalize() # mereset komponen jam pada datetime sehingga hanya menggunakan tanggal"
   ]
  },
  {
   "cell_type": "code",
   "execution_count": 11,
   "id": "c0d2cf0c-cd79-4cde-aea8-56d715956e2e",
   "metadata": {},
   "outputs": [
    {
     "data": {
      "text/html": [
       "<div>\n",
       "<style scoped>\n",
       "    .dataframe tbody tr th:only-of-type {\n",
       "        vertical-align: middle;\n",
       "    }\n",
       "\n",
       "    .dataframe tbody tr th {\n",
       "        vertical-align: top;\n",
       "    }\n",
       "\n",
       "    .dataframe thead th {\n",
       "        text-align: right;\n",
       "    }\n",
       "</style>\n",
       "<table border=\"1\" class=\"dataframe\">\n",
       "  <thead>\n",
       "    <tr style=\"text-align: right;\">\n",
       "      <th></th>\n",
       "      <th>timestamp</th>\n",
       "      <th>visitorid</th>\n",
       "      <th>event</th>\n",
       "      <th>itemid</th>\n",
       "      <th>transactionid</th>\n",
       "      <th>datetime</th>\n",
       "      <th>date_key</th>\n",
       "    </tr>\n",
       "  </thead>\n",
       "  <tbody>\n",
       "    <tr>\n",
       "      <th>0</th>\n",
       "      <td>1433221332117</td>\n",
       "      <td>257597</td>\n",
       "      <td>view</td>\n",
       "      <td>355908</td>\n",
       "      <td>NaN</td>\n",
       "      <td>2015-06-02 05:02:12.117</td>\n",
       "      <td>2015-06-02</td>\n",
       "    </tr>\n",
       "    <tr>\n",
       "      <th>1</th>\n",
       "      <td>1433224214164</td>\n",
       "      <td>992329</td>\n",
       "      <td>view</td>\n",
       "      <td>248676</td>\n",
       "      <td>NaN</td>\n",
       "      <td>2015-06-02 05:50:14.164</td>\n",
       "      <td>2015-06-02</td>\n",
       "    </tr>\n",
       "    <tr>\n",
       "      <th>2</th>\n",
       "      <td>1433221999827</td>\n",
       "      <td>111016</td>\n",
       "      <td>view</td>\n",
       "      <td>318965</td>\n",
       "      <td>NaN</td>\n",
       "      <td>2015-06-02 05:13:19.827</td>\n",
       "      <td>2015-06-02</td>\n",
       "    </tr>\n",
       "    <tr>\n",
       "      <th>3</th>\n",
       "      <td>1433221955914</td>\n",
       "      <td>483717</td>\n",
       "      <td>view</td>\n",
       "      <td>253185</td>\n",
       "      <td>NaN</td>\n",
       "      <td>2015-06-02 05:12:35.914</td>\n",
       "      <td>2015-06-02</td>\n",
       "    </tr>\n",
       "    <tr>\n",
       "      <th>4</th>\n",
       "      <td>1433221337106</td>\n",
       "      <td>951259</td>\n",
       "      <td>view</td>\n",
       "      <td>367447</td>\n",
       "      <td>NaN</td>\n",
       "      <td>2015-06-02 05:02:17.106</td>\n",
       "      <td>2015-06-02</td>\n",
       "    </tr>\n",
       "    <tr>\n",
       "      <th>...</th>\n",
       "      <td>...</td>\n",
       "      <td>...</td>\n",
       "      <td>...</td>\n",
       "      <td>...</td>\n",
       "      <td>...</td>\n",
       "      <td>...</td>\n",
       "      <td>...</td>\n",
       "    </tr>\n",
       "    <tr>\n",
       "      <th>2756096</th>\n",
       "      <td>1438398785939</td>\n",
       "      <td>591435</td>\n",
       "      <td>view</td>\n",
       "      <td>261427</td>\n",
       "      <td>NaN</td>\n",
       "      <td>2015-08-01 03:13:05.939</td>\n",
       "      <td>2015-08-01</td>\n",
       "    </tr>\n",
       "    <tr>\n",
       "      <th>2756097</th>\n",
       "      <td>1438399813142</td>\n",
       "      <td>762376</td>\n",
       "      <td>view</td>\n",
       "      <td>115946</td>\n",
       "      <td>NaN</td>\n",
       "      <td>2015-08-01 03:30:13.142</td>\n",
       "      <td>2015-08-01</td>\n",
       "    </tr>\n",
       "    <tr>\n",
       "      <th>2756098</th>\n",
       "      <td>1438397820527</td>\n",
       "      <td>1251746</td>\n",
       "      <td>view</td>\n",
       "      <td>78144</td>\n",
       "      <td>NaN</td>\n",
       "      <td>2015-08-01 02:57:00.527</td>\n",
       "      <td>2015-08-01</td>\n",
       "    </tr>\n",
       "    <tr>\n",
       "      <th>2756099</th>\n",
       "      <td>1438398530703</td>\n",
       "      <td>1184451</td>\n",
       "      <td>view</td>\n",
       "      <td>283392</td>\n",
       "      <td>NaN</td>\n",
       "      <td>2015-08-01 03:08:50.703</td>\n",
       "      <td>2015-08-01</td>\n",
       "    </tr>\n",
       "    <tr>\n",
       "      <th>2756100</th>\n",
       "      <td>1438400163914</td>\n",
       "      <td>199536</td>\n",
       "      <td>view</td>\n",
       "      <td>152913</td>\n",
       "      <td>NaN</td>\n",
       "      <td>2015-08-01 03:36:03.914</td>\n",
       "      <td>2015-08-01</td>\n",
       "    </tr>\n",
       "  </tbody>\n",
       "</table>\n",
       "<p>2756101 rows × 7 columns</p>\n",
       "</div>"
      ],
      "text/plain": [
       "             timestamp  visitorid event  itemid  transactionid  \\\n",
       "0        1433221332117     257597  view  355908            NaN   \n",
       "1        1433224214164     992329  view  248676            NaN   \n",
       "2        1433221999827     111016  view  318965            NaN   \n",
       "3        1433221955914     483717  view  253185            NaN   \n",
       "4        1433221337106     951259  view  367447            NaN   \n",
       "...                ...        ...   ...     ...            ...   \n",
       "2756096  1438398785939     591435  view  261427            NaN   \n",
       "2756097  1438399813142     762376  view  115946            NaN   \n",
       "2756098  1438397820527    1251746  view   78144            NaN   \n",
       "2756099  1438398530703    1184451  view  283392            NaN   \n",
       "2756100  1438400163914     199536  view  152913            NaN   \n",
       "\n",
       "                       datetime   date_key  \n",
       "0       2015-06-02 05:02:12.117 2015-06-02  \n",
       "1       2015-06-02 05:50:14.164 2015-06-02  \n",
       "2       2015-06-02 05:13:19.827 2015-06-02  \n",
       "3       2015-06-02 05:12:35.914 2015-06-02  \n",
       "4       2015-06-02 05:02:17.106 2015-06-02  \n",
       "...                         ...        ...  \n",
       "2756096 2015-08-01 03:13:05.939 2015-08-01  \n",
       "2756097 2015-08-01 03:30:13.142 2015-08-01  \n",
       "2756098 2015-08-01 02:57:00.527 2015-08-01  \n",
       "2756099 2015-08-01 03:08:50.703 2015-08-01  \n",
       "2756100 2015-08-01 03:36:03.914 2015-08-01  \n",
       "\n",
       "[2756101 rows x 7 columns]"
      ]
     },
     "execution_count": 11,
     "metadata": {},
     "output_type": "execute_result"
    }
   ],
   "source": [
    "df"
   ]
  },
  {
   "cell_type": "code",
   "execution_count": 13,
   "id": "fc8462ff-caec-4d66-954e-d5f5d225fd08",
   "metadata": {},
   "outputs": [
    {
     "name": "stdout",
     "output_type": "stream",
     "text": [
      "       timestamp  visitorid event  itemid  transactionid  \\\n",
      "0  1433221332117     257597  view  355908            NaN   \n",
      "1  1433224214164     992329  view  248676            NaN   \n",
      "2  1433221999827     111016  view  318965            NaN   \n",
      "3  1433221955914     483717  view  253185            NaN   \n",
      "4  1433221337106     951259  view  367447            NaN   \n",
      "\n",
      "                 datetime   date_key  \n",
      "0 2015-06-02 05:02:12.117 2015-06-02  \n",
      "1 2015-06-02 05:50:14.164 2015-06-02  \n",
      "2 2015-06-02 05:13:19.827 2015-06-02  \n",
      "3 2015-06-02 05:12:35.914 2015-06-02  \n",
      "4 2015-06-02 05:02:17.106 2015-06-02  \n",
      "<class 'pandas.core.frame.DataFrame'>\n",
      "RangeIndex: 2756101 entries, 0 to 2756100\n",
      "Data columns (total 7 columns):\n",
      " #   Column         Dtype         \n",
      "---  ------         -----         \n",
      " 0   timestamp      int64         \n",
      " 1   visitorid      int64         \n",
      " 2   event          object        \n",
      " 3   itemid         int64         \n",
      " 4   transactionid  float64       \n",
      " 5   datetime       datetime64[ns]\n",
      " 6   date_key       datetime64[ns]\n",
      "dtypes: datetime64[ns](2), float64(1), int64(3), object(1)\n",
      "memory usage: 147.2+ MB\n",
      "None\n",
      "          timestamp     visitorid        itemid  transactionid  \\\n",
      "count  2.756101e+06  2.756101e+06  2.756101e+06   22457.000000   \n",
      "mean   1.436424e+12  7.019229e+05  2.349225e+05    8826.497796   \n",
      "min    1.430622e+12  0.000000e+00  3.000000e+00       0.000000   \n",
      "25%    1.433478e+12  3.505660e+05  1.181200e+05    4411.000000   \n",
      "50%    1.436453e+12  7.020600e+05  2.360670e+05    8813.000000   \n",
      "75%    1.439225e+12  1.053437e+06  3.507150e+05   13224.000000   \n",
      "max    1.442545e+12  1.407579e+06  4.668670e+05   17671.000000   \n",
      "std    3.366312e+09  4.056875e+05  1.341954e+05    5098.996290   \n",
      "\n",
      "                            datetime                       date_key  \n",
      "count                        2756101                        2756101  \n",
      "mean   2015-07-09 06:48:08.348103680  2015-07-08 17:30:16.521384192  \n",
      "min       2015-05-03 03:00:04.384000            2015-05-03 00:00:00  \n",
      "25%       2015-06-05 04:23:14.792000            2015-06-05 00:00:00  \n",
      "50%    2015-07-09 14:43:33.599000064            2015-07-09 00:00:00  \n",
      "75%       2015-08-10 16:45:05.168000            2015-08-10 00:00:00  \n",
      "max       2015-09-18 02:59:47.788000            2015-09-18 00:00:00  \n",
      "std                              NaN                            NaN  \n"
     ]
    }
   ],
   "source": [
    "#Menampilkan informasi data\n",
    "print(df.head())\n",
    "print(df.info())\n",
    "print(df.describe())"
   ]
  },
  {
   "cell_type": "code",
   "execution_count": 15,
   "id": "a63b1435-4516-43ff-a966-e8173eca1010",
   "metadata": {
    "scrolled": true
   },
   "outputs": [
    {
     "name": "stdout",
     "output_type": "stream",
     "text": [
      "timestamp              0\n",
      "visitorid              0\n",
      "event                  0\n",
      "itemid                 0\n",
      "transactionid    2733644\n",
      "datetime               0\n",
      "date_key               0\n",
      "dtype: int64\n"
     ]
    }
   ],
   "source": [
    "#menampilkan missing values\n",
    "missing_values = df.isnull().sum()\n",
    "print(missing_values)"
   ]
  },
  {
   "cell_type": "code",
   "execution_count": 17,
   "id": "ac394a50-2be8-47b9-9ac7-d50d74929349",
   "metadata": {},
   "outputs": [],
   "source": [
    "#mengisi missing values dengan 0\n",
    "df = df.fillna({'transactionid': '0'})  # Mengisi missing values dengan nilai tertentu"
   ]
  },
  {
   "cell_type": "code",
   "execution_count": 19,
   "id": "4cc043ff-4485-4830-9415-f89c7040e98e",
   "metadata": {},
   "outputs": [
    {
     "data": {
      "text/plain": [
       "timestamp        False\n",
       "visitorid        False\n",
       "event            False\n",
       "itemid           False\n",
       "transactionid    False\n",
       "datetime         False\n",
       "date_key         False\n",
       "dtype: bool"
      ]
     },
     "execution_count": 19,
     "metadata": {},
     "output_type": "execute_result"
    }
   ],
   "source": [
    "#Memeriksa apakah ada null values\n",
    "df.isnull().any()"
   ]
  },
  {
   "cell_type": "code",
   "execution_count": 21,
   "id": "4216dee5-dee3-43c4-b6d6-ff60c5211a71",
   "metadata": {},
   "outputs": [
    {
     "data": {
      "text/html": [
       "<div>\n",
       "<style scoped>\n",
       "    .dataframe tbody tr th:only-of-type {\n",
       "        vertical-align: middle;\n",
       "    }\n",
       "\n",
       "    .dataframe tbody tr th {\n",
       "        vertical-align: top;\n",
       "    }\n",
       "\n",
       "    .dataframe thead th {\n",
       "        text-align: right;\n",
       "    }\n",
       "</style>\n",
       "<table border=\"1\" class=\"dataframe\">\n",
       "  <thead>\n",
       "    <tr style=\"text-align: right;\">\n",
       "      <th></th>\n",
       "      <th>timestamp</th>\n",
       "      <th>visitorid</th>\n",
       "      <th>event</th>\n",
       "      <th>itemid</th>\n",
       "      <th>transactionid</th>\n",
       "      <th>datetime</th>\n",
       "      <th>date_key</th>\n",
       "    </tr>\n",
       "  </thead>\n",
       "  <tbody>\n",
       "  </tbody>\n",
       "</table>\n",
       "</div>"
      ],
      "text/plain": [
       "Empty DataFrame\n",
       "Columns: [timestamp, visitorid, event, itemid, transactionid, datetime, date_key]\n",
       "Index: []"
      ]
     },
     "execution_count": 21,
     "metadata": {},
     "output_type": "execute_result"
    }
   ],
   "source": [
    "#Melihat data yang memiliki null values\n",
    "df[df['transactionid'].isna()]"
   ]
  },
  {
   "cell_type": "code",
   "execution_count": 25,
   "id": "f6858c2f-7cd3-4baa-ab15-407f30335be3",
   "metadata": {},
   "outputs": [
    {
     "data": {
      "text/html": [
       "<div>\n",
       "<style scoped>\n",
       "    .dataframe tbody tr th:only-of-type {\n",
       "        vertical-align: middle;\n",
       "    }\n",
       "\n",
       "    .dataframe tbody tr th {\n",
       "        vertical-align: top;\n",
       "    }\n",
       "\n",
       "    .dataframe thead th {\n",
       "        text-align: right;\n",
       "    }\n",
       "</style>\n",
       "<table border=\"1\" class=\"dataframe\">\n",
       "  <thead>\n",
       "    <tr style=\"text-align: right;\">\n",
       "      <th></th>\n",
       "      <th>timestamp</th>\n",
       "      <th>visitorid</th>\n",
       "      <th>event</th>\n",
       "      <th>itemid</th>\n",
       "      <th>transactionid</th>\n",
       "      <th>datetime</th>\n",
       "      <th>date_key</th>\n",
       "    </tr>\n",
       "  </thead>\n",
       "  <tbody>\n",
       "    <tr>\n",
       "      <th>0</th>\n",
       "      <td>1433221332117</td>\n",
       "      <td>257597</td>\n",
       "      <td>view</td>\n",
       "      <td>355908</td>\n",
       "      <td>0</td>\n",
       "      <td>2015-06-02 05:02:12.117</td>\n",
       "      <td>2015-06-02</td>\n",
       "    </tr>\n",
       "    <tr>\n",
       "      <th>1</th>\n",
       "      <td>1433224214164</td>\n",
       "      <td>992329</td>\n",
       "      <td>view</td>\n",
       "      <td>248676</td>\n",
       "      <td>0</td>\n",
       "      <td>2015-06-02 05:50:14.164</td>\n",
       "      <td>2015-06-02</td>\n",
       "    </tr>\n",
       "    <tr>\n",
       "      <th>2</th>\n",
       "      <td>1433221999827</td>\n",
       "      <td>111016</td>\n",
       "      <td>view</td>\n",
       "      <td>318965</td>\n",
       "      <td>0</td>\n",
       "      <td>2015-06-02 05:13:19.827</td>\n",
       "      <td>2015-06-02</td>\n",
       "    </tr>\n",
       "    <tr>\n",
       "      <th>3</th>\n",
       "      <td>1433221955914</td>\n",
       "      <td>483717</td>\n",
       "      <td>view</td>\n",
       "      <td>253185</td>\n",
       "      <td>0</td>\n",
       "      <td>2015-06-02 05:12:35.914</td>\n",
       "      <td>2015-06-02</td>\n",
       "    </tr>\n",
       "    <tr>\n",
       "      <th>4</th>\n",
       "      <td>1433221337106</td>\n",
       "      <td>951259</td>\n",
       "      <td>view</td>\n",
       "      <td>367447</td>\n",
       "      <td>0</td>\n",
       "      <td>2015-06-02 05:02:17.106</td>\n",
       "      <td>2015-06-02</td>\n",
       "    </tr>\n",
       "    <tr>\n",
       "      <th>...</th>\n",
       "      <td>...</td>\n",
       "      <td>...</td>\n",
       "      <td>...</td>\n",
       "      <td>...</td>\n",
       "      <td>...</td>\n",
       "      <td>...</td>\n",
       "      <td>...</td>\n",
       "    </tr>\n",
       "    <tr>\n",
       "      <th>2756096</th>\n",
       "      <td>1438398785939</td>\n",
       "      <td>591435</td>\n",
       "      <td>view</td>\n",
       "      <td>261427</td>\n",
       "      <td>0</td>\n",
       "      <td>2015-08-01 03:13:05.939</td>\n",
       "      <td>2015-08-01</td>\n",
       "    </tr>\n",
       "    <tr>\n",
       "      <th>2756097</th>\n",
       "      <td>1438399813142</td>\n",
       "      <td>762376</td>\n",
       "      <td>view</td>\n",
       "      <td>115946</td>\n",
       "      <td>0</td>\n",
       "      <td>2015-08-01 03:30:13.142</td>\n",
       "      <td>2015-08-01</td>\n",
       "    </tr>\n",
       "    <tr>\n",
       "      <th>2756098</th>\n",
       "      <td>1438397820527</td>\n",
       "      <td>1251746</td>\n",
       "      <td>view</td>\n",
       "      <td>78144</td>\n",
       "      <td>0</td>\n",
       "      <td>2015-08-01 02:57:00.527</td>\n",
       "      <td>2015-08-01</td>\n",
       "    </tr>\n",
       "    <tr>\n",
       "      <th>2756099</th>\n",
       "      <td>1438398530703</td>\n",
       "      <td>1184451</td>\n",
       "      <td>view</td>\n",
       "      <td>283392</td>\n",
       "      <td>0</td>\n",
       "      <td>2015-08-01 03:08:50.703</td>\n",
       "      <td>2015-08-01</td>\n",
       "    </tr>\n",
       "    <tr>\n",
       "      <th>2756100</th>\n",
       "      <td>1438400163914</td>\n",
       "      <td>199536</td>\n",
       "      <td>view</td>\n",
       "      <td>152913</td>\n",
       "      <td>0</td>\n",
       "      <td>2015-08-01 03:36:03.914</td>\n",
       "      <td>2015-08-01</td>\n",
       "    </tr>\n",
       "  </tbody>\n",
       "</table>\n",
       "<p>2756101 rows × 7 columns</p>\n",
       "</div>"
      ],
      "text/plain": [
       "             timestamp  visitorid event  itemid transactionid  \\\n",
       "0        1433221332117     257597  view  355908             0   \n",
       "1        1433224214164     992329  view  248676             0   \n",
       "2        1433221999827     111016  view  318965             0   \n",
       "3        1433221955914     483717  view  253185             0   \n",
       "4        1433221337106     951259  view  367447             0   \n",
       "...                ...        ...   ...     ...           ...   \n",
       "2756096  1438398785939     591435  view  261427             0   \n",
       "2756097  1438399813142     762376  view  115946             0   \n",
       "2756098  1438397820527    1251746  view   78144             0   \n",
       "2756099  1438398530703    1184451  view  283392             0   \n",
       "2756100  1438400163914     199536  view  152913             0   \n",
       "\n",
       "                       datetime   date_key  \n",
       "0       2015-06-02 05:02:12.117 2015-06-02  \n",
       "1       2015-06-02 05:50:14.164 2015-06-02  \n",
       "2       2015-06-02 05:13:19.827 2015-06-02  \n",
       "3       2015-06-02 05:12:35.914 2015-06-02  \n",
       "4       2015-06-02 05:02:17.106 2015-06-02  \n",
       "...                         ...        ...  \n",
       "2756096 2015-08-01 03:13:05.939 2015-08-01  \n",
       "2756097 2015-08-01 03:30:13.142 2015-08-01  \n",
       "2756098 2015-08-01 02:57:00.527 2015-08-01  \n",
       "2756099 2015-08-01 03:08:50.703 2015-08-01  \n",
       "2756100 2015-08-01 03:36:03.914 2015-08-01  \n",
       "\n",
       "[2756101 rows x 7 columns]"
      ]
     },
     "execution_count": 25,
     "metadata": {},
     "output_type": "execute_result"
    }
   ],
   "source": [
    "df"
   ]
  },
  {
   "cell_type": "code",
   "execution_count": 27,
   "id": "30b2881c-b851-46ec-9b78-3441bf09ea37",
   "metadata": {},
   "outputs": [
    {
     "data": {
      "text/plain": [
       "timestamp                 int64\n",
       "visitorid                 int64\n",
       "event                    object\n",
       "itemid                    int64\n",
       "transactionid            object\n",
       "datetime         datetime64[ns]\n",
       "date_key         datetime64[ns]\n",
       "dtype: object"
      ]
     },
     "execution_count": 27,
     "metadata": {},
     "output_type": "execute_result"
    }
   ],
   "source": [
    "#Mengecek data type\n",
    "df.dtypes"
   ]
  },
  {
   "cell_type": "code",
   "execution_count": 29,
   "id": "c1f9aae6-b44c-4488-ab48-2d71229a506e",
   "metadata": {},
   "outputs": [
    {
     "data": {
      "text/plain": [
       "<Axes: ylabel='event'>"
      ]
     },
     "execution_count": 29,
     "metadata": {},
     "output_type": "execute_result"
    },
    {
     "data": {
      "image/png": "[encoded data removed]",
      "text/plain": [
       "<Figure size 640x480 with 1 Axes>"
      ]
     },
     "metadata": {},
     "output_type": "display_data"
    }
   ],
   "source": [
    "#Melihat jumlah event berdasarkan jenis\n",
    "df['event'].value_counts().plot(kind='barh')"
   ]
  },
  {
   "cell_type": "code",
   "execution_count": 31,
   "id": "b886f82a-553c-415c-b14b-088591d626b3",
   "metadata": {},
   "outputs": [],
   "source": [
    "# Filter hanya untuk events yang mengandung view, addtocart, transaction\n",
    "df_filtered = df[df['event'].isin(['view', 'addtocart', 'transaction'])]"
   ]
  },
  {
   "cell_type": "code",
   "execution_count": 33,
   "id": "e6d362a5-1435-4e72-b366-65253750458d",
   "metadata": {},
   "outputs": [],
   "source": [
    "# Convert timestamp to datetime and create date_key\n",
    "df_filtered['timestamp'] = pd.to_datetime(df_filtered['timestamp'], unit='ms')\n",
    "df_filtered['date_key'] = df_filtered['timestamp'].dt.date\n"
   ]
  },
  {
   "cell_type": "code",
   "execution_count": 35,
   "id": "bc37ef73-b17b-4220-978f-e49e2b64003e",
   "metadata": {},
   "outputs": [],
   "source": [
    "# Group by date_key, itemid and calculate the number of events\n",
    "df_grouped = df_filtered.groupby(['date_key', 'itemid', 'event']).size().unstack(fill_value=0)\n",
    "df_grouped = df_grouped.reset_index().fillna(0)"
   ]
  },
  {
   "cell_type": "code",
   "execution_count": 37,
   "id": "3bf9cc4b-5d64-4851-b790-8e5186347a5c",
   "metadata": {},
   "outputs": [],
   "source": [
    "# Ensure columns exist\n",
    "for col in ['view', 'addtocart', 'transaction']:\n",
    "    if col not in df_grouped.columns:\n",
    "        df_grouped[col] = 0\n",
    "\n",
    "df_grouped = df_grouped[['date_key', 'itemid', 'view', 'addtocart', 'transaction']]"
   ]
  },
  {
   "cell_type": "code",
   "execution_count": 39,
   "id": "f75fb10c-701e-45e8-945d-87fbcf47a449",
   "metadata": {},
   "outputs": [
    {
     "data": {
      "text/html": [
       "<div>\n",
       "<style scoped>\n",
       "    .dataframe tbody tr th:only-of-type {\n",
       "        vertical-align: middle;\n",
       "    }\n",
       "\n",
       "    .dataframe tbody tr th {\n",
       "        vertical-align: top;\n",
       "    }\n",
       "\n",
       "    .dataframe thead th {\n",
       "        text-align: right;\n",
       "    }\n",
       "</style>\n",
       "<table border=\"1\" class=\"dataframe\">\n",
       "  <thead>\n",
       "    <tr style=\"text-align: right;\">\n",
       "      <th>event</th>\n",
       "      <th>date_key</th>\n",
       "      <th>itemid</th>\n",
       "      <th>view</th>\n",
       "      <th>addtocart</th>\n",
       "      <th>transaction</th>\n",
       "    </tr>\n",
       "  </thead>\n",
       "  <tbody>\n",
       "    <tr>\n",
       "      <th>0</th>\n",
       "      <td>2015-05-03</td>\n",
       "      <td>16</td>\n",
       "      <td>1</td>\n",
       "      <td>0</td>\n",
       "      <td>0</td>\n",
       "    </tr>\n",
       "    <tr>\n",
       "      <th>1</th>\n",
       "      <td>2015-05-03</td>\n",
       "      <td>19</td>\n",
       "      <td>1</td>\n",
       "      <td>0</td>\n",
       "      <td>0</td>\n",
       "    </tr>\n",
       "    <tr>\n",
       "      <th>2</th>\n",
       "      <td>2015-05-03</td>\n",
       "      <td>32</td>\n",
       "      <td>1</td>\n",
       "      <td>0</td>\n",
       "      <td>0</td>\n",
       "    </tr>\n",
       "    <tr>\n",
       "      <th>3</th>\n",
       "      <td>2015-05-03</td>\n",
       "      <td>33</td>\n",
       "      <td>1</td>\n",
       "      <td>1</td>\n",
       "      <td>0</td>\n",
       "    </tr>\n",
       "    <tr>\n",
       "      <th>4</th>\n",
       "      <td>2015-05-03</td>\n",
       "      <td>42</td>\n",
       "      <td>1</td>\n",
       "      <td>0</td>\n",
       "      <td>0</td>\n",
       "    </tr>\n",
       "    <tr>\n",
       "      <th>...</th>\n",
       "      <td>...</td>\n",
       "      <td>...</td>\n",
       "      <td>...</td>\n",
       "      <td>...</td>\n",
       "      <td>...</td>\n",
       "    </tr>\n",
       "    <tr>\n",
       "      <th>1672181</th>\n",
       "      <td>2015-09-18</td>\n",
       "      <td>464474</td>\n",
       "      <td>2</td>\n",
       "      <td>0</td>\n",
       "      <td>0</td>\n",
       "    </tr>\n",
       "    <tr>\n",
       "      <th>1672182</th>\n",
       "      <td>2015-09-18</td>\n",
       "      <td>464538</td>\n",
       "      <td>1</td>\n",
       "      <td>0</td>\n",
       "      <td>0</td>\n",
       "    </tr>\n",
       "    <tr>\n",
       "      <th>1672183</th>\n",
       "      <td>2015-09-18</td>\n",
       "      <td>465387</td>\n",
       "      <td>1</td>\n",
       "      <td>0</td>\n",
       "      <td>0</td>\n",
       "    </tr>\n",
       "    <tr>\n",
       "      <th>1672184</th>\n",
       "      <td>2015-09-18</td>\n",
       "      <td>466321</td>\n",
       "      <td>1</td>\n",
       "      <td>0</td>\n",
       "      <td>0</td>\n",
       "    </tr>\n",
       "    <tr>\n",
       "      <th>1672185</th>\n",
       "      <td>2015-09-18</td>\n",
       "      <td>466436</td>\n",
       "      <td>1</td>\n",
       "      <td>0</td>\n",
       "      <td>0</td>\n",
       "    </tr>\n",
       "  </tbody>\n",
       "</table>\n",
       "<p>1672186 rows × 5 columns</p>\n",
       "</div>"
      ],
      "text/plain": [
       "event      date_key  itemid  view  addtocart  transaction\n",
       "0        2015-05-03      16     1          0            0\n",
       "1        2015-05-03      19     1          0            0\n",
       "2        2015-05-03      32     1          0            0\n",
       "3        2015-05-03      33     1          1            0\n",
       "4        2015-05-03      42     1          0            0\n",
       "...             ...     ...   ...        ...          ...\n",
       "1672181  2015-09-18  464474     2          0            0\n",
       "1672182  2015-09-18  464538     1          0            0\n",
       "1672183  2015-09-18  465387     1          0            0\n",
       "1672184  2015-09-18  466321     1          0            0\n",
       "1672185  2015-09-18  466436     1          0            0\n",
       "\n",
       "[1672186 rows x 5 columns]"
      ]
     },
     "execution_count": 39,
     "metadata": {},
     "output_type": "execute_result"
    }
   ],
   "source": [
    "df_grouped"
   ]
  },
  {
   "cell_type": "code",
   "execution_count": 41,
   "id": "fd19351a-3901-48be-b7ec-f44040255d91",
   "metadata": {},
   "outputs": [
    {
     "data": {
      "text/html": [
       "<div>\n",
       "<style scoped>\n",
       "    .dataframe tbody tr th:only-of-type {\n",
       "        vertical-align: middle;\n",
       "    }\n",
       "\n",
       "    .dataframe tbody tr th {\n",
       "        vertical-align: top;\n",
       "    }\n",
       "\n",
       "    .dataframe thead th {\n",
       "        text-align: right;\n",
       "    }\n",
       "</style>\n",
       "<table border=\"1\" class=\"dataframe\">\n",
       "  <thead>\n",
       "    <tr style=\"text-align: right;\">\n",
       "      <th>event</th>\n",
       "      <th>date_key</th>\n",
       "      <th>itemid</th>\n",
       "      <th>view</th>\n",
       "      <th>addtocart</th>\n",
       "      <th>transaction</th>\n",
       "    </tr>\n",
       "  </thead>\n",
       "  <tbody>\n",
       "    <tr>\n",
       "      <th>0</th>\n",
       "      <td>2015-05-03</td>\n",
       "      <td>16</td>\n",
       "      <td>1</td>\n",
       "      <td>0</td>\n",
       "      <td>0</td>\n",
       "    </tr>\n",
       "    <tr>\n",
       "      <th>1111440</th>\n",
       "      <td>2015-07-30</td>\n",
       "      <td>48460</td>\n",
       "      <td>1</td>\n",
       "      <td>0</td>\n",
       "      <td>0</td>\n",
       "    </tr>\n",
       "    <tr>\n",
       "      <th>1111439</th>\n",
       "      <td>2015-07-30</td>\n",
       "      <td>48451</td>\n",
       "      <td>1</td>\n",
       "      <td>0</td>\n",
       "      <td>0</td>\n",
       "    </tr>\n",
       "    <tr>\n",
       "      <th>1111438</th>\n",
       "      <td>2015-07-30</td>\n",
       "      <td>48425</td>\n",
       "      <td>2</td>\n",
       "      <td>0</td>\n",
       "      <td>0</td>\n",
       "    </tr>\n",
       "    <tr>\n",
       "      <th>1111436</th>\n",
       "      <td>2015-07-30</td>\n",
       "      <td>48360</td>\n",
       "      <td>1</td>\n",
       "      <td>0</td>\n",
       "      <td>0</td>\n",
       "    </tr>\n",
       "    <tr>\n",
       "      <th>...</th>\n",
       "      <td>...</td>\n",
       "      <td>...</td>\n",
       "      <td>...</td>\n",
       "      <td>...</td>\n",
       "      <td>...</td>\n",
       "    </tr>\n",
       "    <tr>\n",
       "      <th>1463585</th>\n",
       "      <td>2015-08-30</td>\n",
       "      <td>173653</td>\n",
       "      <td>21</td>\n",
       "      <td>7</td>\n",
       "      <td>6</td>\n",
       "    </tr>\n",
       "    <tr>\n",
       "      <th>936990</th>\n",
       "      <td>2015-07-16</td>\n",
       "      <td>445351</td>\n",
       "      <td>42</td>\n",
       "      <td>7</td>\n",
       "      <td>6</td>\n",
       "    </tr>\n",
       "    <tr>\n",
       "      <th>1405839</th>\n",
       "      <td>2015-08-25</td>\n",
       "      <td>134484</td>\n",
       "      <td>17</td>\n",
       "      <td>6</td>\n",
       "      <td>6</td>\n",
       "    </tr>\n",
       "    <tr>\n",
       "      <th>1408811</th>\n",
       "      <td>2015-08-25</td>\n",
       "      <td>248455</td>\n",
       "      <td>45</td>\n",
       "      <td>7</td>\n",
       "      <td>6</td>\n",
       "    </tr>\n",
       "    <tr>\n",
       "      <th>49359</th>\n",
       "      <td>2015-05-07</td>\n",
       "      <td>51354</td>\n",
       "      <td>94</td>\n",
       "      <td>9</td>\n",
       "      <td>8</td>\n",
       "    </tr>\n",
       "  </tbody>\n",
       "</table>\n",
       "<p>1672186 rows × 5 columns</p>\n",
       "</div>"
      ],
      "text/plain": [
       "event      date_key  itemid  view  addtocart  transaction\n",
       "0        2015-05-03      16     1          0            0\n",
       "1111440  2015-07-30   48460     1          0            0\n",
       "1111439  2015-07-30   48451     1          0            0\n",
       "1111438  2015-07-30   48425     2          0            0\n",
       "1111436  2015-07-30   48360     1          0            0\n",
       "...             ...     ...   ...        ...          ...\n",
       "1463585  2015-08-30  173653    21          7            6\n",
       "936990   2015-07-16  445351    42          7            6\n",
       "1405839  2015-08-25  134484    17          6            6\n",
       "1408811  2015-08-25  248455    45          7            6\n",
       "49359    2015-05-07   51354    94          9            8\n",
       "\n",
       "[1672186 rows x 5 columns]"
      ]
     },
     "execution_count": 41,
     "metadata": {},
     "output_type": "execute_result"
    }
   ],
   "source": [
    "df_grouped.sort_values('transaction')"
   ]
  },
  {
   "cell_type": "code",
   "execution_count": 43,
   "id": "a6715295-24d2-430e-b4b1-6565ed014c42",
   "metadata": {},
   "outputs": [
    {
     "data": {
      "text/plain": [
       "(1672186, 5)"
      ]
     },
     "execution_count": 43,
     "metadata": {},
     "output_type": "execute_result"
    }
   ],
   "source": [
    "df_grouped.shape"
   ]
  },
  {
   "cell_type": "code",
   "execution_count": 45,
   "id": "9907b10e-7ecc-4197-96f6-03012abbc074",
   "metadata": {},
   "outputs": [
    {
     "name": "stdout",
     "output_type": "stream",
     "text": [
      "event    date_key  itemid  view  addtocart  transaction\n",
      "0      2015-05-03      16     1          0            0\n",
      "1      2015-05-03      19     1          0            0\n",
      "2      2015-05-03      32     1          0            0\n",
      "3      2015-05-03      33     1          1            0\n",
      "4      2015-05-03      42     1          0            0\n",
      "<class 'pandas.core.frame.DataFrame'>\n",
      "RangeIndex: 1672186 entries, 0 to 1672185\n",
      "Data columns (total 5 columns):\n",
      " #   Column       Non-Null Count    Dtype \n",
      "---  ------       --------------    ----- \n",
      " 0   date_key     1672186 non-null  object\n",
      " 1   itemid       1672186 non-null  int64 \n",
      " 2   view         1672186 non-null  int64 \n",
      " 3   addtocart    1672186 non-null  int64 \n",
      " 4   transaction  1672186 non-null  int64 \n",
      "dtypes: int64(4), object(1)\n",
      "memory usage: 63.8+ MB\n",
      "None\n"
     ]
    }
   ],
   "source": [
    "print(df_grouped.head())\n",
    "print(df_grouped.info())"
   ]
  },
  {
   "cell_type": "markdown",
   "id": "c6b6a489-a017-4d7b-a132-ab6e853e7471",
   "metadata": {},
   "source": [
    "# 1. Data Preprocessing\n",
    "Data pada level transaksi dan belum siap digunakan untuk analisis harian.  \n",
    "Lakukan data preprocessing dengan pandas sesuai dengan materi yang sudah ada pelajari sehingga data di rekap dalam level harian untuk setiap itemid seperti berikut : "
   ]
  },
  {
   "cell_type": "code",
   "execution_count": 47,
   "id": "1d6a96da-6c8c-437e-8fe2-1a0ca12c1f4c",
   "metadata": {},
   "outputs": [
    {
     "data": {
      "text/html": [
       "<div>\n",
       "<style scoped>\n",
       "    .dataframe tbody tr th:only-of-type {\n",
       "        vertical-align: middle;\n",
       "    }\n",
       "\n",
       "    .dataframe tbody tr th {\n",
       "        vertical-align: top;\n",
       "    }\n",
       "\n",
       "    .dataframe thead th {\n",
       "        text-align: right;\n",
       "    }\n",
       "</style>\n",
       "<table border=\"1\" class=\"dataframe\">\n",
       "  <thead>\n",
       "    <tr style=\"text-align: right;\">\n",
       "      <th>event</th>\n",
       "      <th>itemid</th>\n",
       "      <th>view</th>\n",
       "      <th>addtocart</th>\n",
       "      <th>transaction</th>\n",
       "    </tr>\n",
       "  </thead>\n",
       "  <tbody>\n",
       "    <tr>\n",
       "      <th>count</th>\n",
       "      <td>1.672186e+06</td>\n",
       "      <td>1.672186e+06</td>\n",
       "      <td>1.672186e+06</td>\n",
       "      <td>1.672186e+06</td>\n",
       "    </tr>\n",
       "    <tr>\n",
       "      <th>mean</th>\n",
       "      <td>2.339858e+05</td>\n",
       "      <td>1.593311e+00</td>\n",
       "      <td>4.146189e-02</td>\n",
       "      <td>1.342973e-02</td>\n",
       "    </tr>\n",
       "    <tr>\n",
       "      <th>std</th>\n",
       "      <td>1.342573e+05</td>\n",
       "      <td>1.832306e+00</td>\n",
       "      <td>2.535295e-01</td>\n",
       "      <td>1.262840e-01</td>\n",
       "    </tr>\n",
       "    <tr>\n",
       "      <th>min</th>\n",
       "      <td>3.000000e+00</td>\n",
       "      <td>0.000000e+00</td>\n",
       "      <td>0.000000e+00</td>\n",
       "      <td>0.000000e+00</td>\n",
       "    </tr>\n",
       "    <tr>\n",
       "      <th>25%</th>\n",
       "      <td>1.170030e+05</td>\n",
       "      <td>1.000000e+00</td>\n",
       "      <td>0.000000e+00</td>\n",
       "      <td>0.000000e+00</td>\n",
       "    </tr>\n",
       "    <tr>\n",
       "      <th>50%</th>\n",
       "      <td>2.343790e+05</td>\n",
       "      <td>1.000000e+00</td>\n",
       "      <td>0.000000e+00</td>\n",
       "      <td>0.000000e+00</td>\n",
       "    </tr>\n",
       "    <tr>\n",
       "      <th>75%</th>\n",
       "      <td>3.501950e+05</td>\n",
       "      <td>2.000000e+00</td>\n",
       "      <td>0.000000e+00</td>\n",
       "      <td>0.000000e+00</td>\n",
       "    </tr>\n",
       "    <tr>\n",
       "      <th>max</th>\n",
       "      <td>4.668670e+05</td>\n",
       "      <td>3.330000e+02</td>\n",
       "      <td>3.200000e+01</td>\n",
       "      <td>8.000000e+00</td>\n",
       "    </tr>\n",
       "  </tbody>\n",
       "</table>\n",
       "</div>"
      ],
      "text/plain": [
       "event        itemid          view     addtocart   transaction\n",
       "count  1.672186e+06  1.672186e+06  1.672186e+06  1.672186e+06\n",
       "mean   2.339858e+05  1.593311e+00  4.146189e-02  1.342973e-02\n",
       "std    1.342573e+05  1.832306e+00  2.535295e-01  1.262840e-01\n",
       "min    3.000000e+00  0.000000e+00  0.000000e+00  0.000000e+00\n",
       "25%    1.170030e+05  1.000000e+00  0.000000e+00  0.000000e+00\n",
       "50%    2.343790e+05  1.000000e+00  0.000000e+00  0.000000e+00\n",
       "75%    3.501950e+05  2.000000e+00  0.000000e+00  0.000000e+00\n",
       "max    4.668670e+05  3.330000e+02  3.200000e+01  8.000000e+00"
      ]
     },
     "execution_count": 47,
     "metadata": {},
     "output_type": "execute_result"
    }
   ],
   "source": [
    "df_grouped.describe()"
   ]
  },
  {
   "cell_type": "code",
   "execution_count": 49,
   "id": "4a986542-e212-4ba7-a977-fa9fdfa51413",
   "metadata": {},
   "outputs": [
    {
     "data": {
      "text/html": [
       "<div>\n",
       "<style scoped>\n",
       "    .dataframe tbody tr th:only-of-type {\n",
       "        vertical-align: middle;\n",
       "    }\n",
       "\n",
       "    .dataframe tbody tr th {\n",
       "        vertical-align: top;\n",
       "    }\n",
       "\n",
       "    .dataframe thead th {\n",
       "        text-align: right;\n",
       "    }\n",
       "</style>\n",
       "<table border=\"1\" class=\"dataframe\">\n",
       "  <thead>\n",
       "    <tr style=\"text-align: right;\">\n",
       "      <th>event</th>\n",
       "      <th>date_key</th>\n",
       "      <th>itemid</th>\n",
       "      <th>view</th>\n",
       "      <th>addtocart</th>\n",
       "      <th>transaction</th>\n",
       "    </tr>\n",
       "  </thead>\n",
       "  <tbody>\n",
       "    <tr>\n",
       "      <th>0</th>\n",
       "      <td>2015-05-03</td>\n",
       "      <td>16</td>\n",
       "      <td>1.0</td>\n",
       "      <td>0.0</td>\n",
       "      <td>0.0</td>\n",
       "    </tr>\n",
       "    <tr>\n",
       "      <th>1</th>\n",
       "      <td>2015-05-03</td>\n",
       "      <td>19</td>\n",
       "      <td>1.0</td>\n",
       "      <td>0.0</td>\n",
       "      <td>0.0</td>\n",
       "    </tr>\n",
       "    <tr>\n",
       "      <th>2</th>\n",
       "      <td>2015-05-03</td>\n",
       "      <td>32</td>\n",
       "      <td>1.0</td>\n",
       "      <td>0.0</td>\n",
       "      <td>0.0</td>\n",
       "    </tr>\n",
       "    <tr>\n",
       "      <th>3</th>\n",
       "      <td>2015-05-03</td>\n",
       "      <td>33</td>\n",
       "      <td>1.0</td>\n",
       "      <td>1.0</td>\n",
       "      <td>0.0</td>\n",
       "    </tr>\n",
       "    <tr>\n",
       "      <th>4</th>\n",
       "      <td>2015-05-03</td>\n",
       "      <td>42</td>\n",
       "      <td>1.0</td>\n",
       "      <td>0.0</td>\n",
       "      <td>0.0</td>\n",
       "    </tr>\n",
       "    <tr>\n",
       "      <th>...</th>\n",
       "      <td>...</td>\n",
       "      <td>...</td>\n",
       "      <td>...</td>\n",
       "      <td>...</td>\n",
       "      <td>...</td>\n",
       "    </tr>\n",
       "    <tr>\n",
       "      <th>1672181</th>\n",
       "      <td>2015-09-18</td>\n",
       "      <td>464474</td>\n",
       "      <td>2.0</td>\n",
       "      <td>0.0</td>\n",
       "      <td>0.0</td>\n",
       "    </tr>\n",
       "    <tr>\n",
       "      <th>1672182</th>\n",
       "      <td>2015-09-18</td>\n",
       "      <td>464538</td>\n",
       "      <td>1.0</td>\n",
       "      <td>0.0</td>\n",
       "      <td>0.0</td>\n",
       "    </tr>\n",
       "    <tr>\n",
       "      <th>1672183</th>\n",
       "      <td>2015-09-18</td>\n",
       "      <td>465387</td>\n",
       "      <td>1.0</td>\n",
       "      <td>0.0</td>\n",
       "      <td>0.0</td>\n",
       "    </tr>\n",
       "    <tr>\n",
       "      <th>1672184</th>\n",
       "      <td>2015-09-18</td>\n",
       "      <td>466321</td>\n",
       "      <td>1.0</td>\n",
       "      <td>0.0</td>\n",
       "      <td>0.0</td>\n",
       "    </tr>\n",
       "    <tr>\n",
       "      <th>1672185</th>\n",
       "      <td>2015-09-18</td>\n",
       "      <td>466436</td>\n",
       "      <td>1.0</td>\n",
       "      <td>0.0</td>\n",
       "      <td>0.0</td>\n",
       "    </tr>\n",
       "  </tbody>\n",
       "</table>\n",
       "<p>1672186 rows × 5 columns</p>\n",
       "</div>"
      ],
      "text/plain": [
       "event      date_key  itemid  view  addtocart  transaction\n",
       "0        2015-05-03      16   1.0        0.0          0.0\n",
       "1        2015-05-03      19   1.0        0.0          0.0\n",
       "2        2015-05-03      32   1.0        0.0          0.0\n",
       "3        2015-05-03      33   1.0        1.0          0.0\n",
       "4        2015-05-03      42   1.0        0.0          0.0\n",
       "...             ...     ...   ...        ...          ...\n",
       "1672181  2015-09-18  464474   2.0        0.0          0.0\n",
       "1672182  2015-09-18  464538   1.0        0.0          0.0\n",
       "1672183  2015-09-18  465387   1.0        0.0          0.0\n",
       "1672184  2015-09-18  466321   1.0        0.0          0.0\n",
       "1672185  2015-09-18  466436   1.0        0.0          0.0\n",
       "\n",
       "[1672186 rows x 5 columns]"
      ]
     },
     "execution_count": 49,
     "metadata": {},
     "output_type": "execute_result"
    }
   ],
   "source": [
    "# TULIS CODE ANDA DISINI\n",
    "# Membulatkan angka dalam dataframe ke 1 angka di belakang koma\n",
    "# Konversi kolom ke format float jika belum dalam format numerik\n",
    "df_grouped['view'] = df_grouped['view'].astype(float)\n",
    "df_grouped['addtocart'] = df_grouped['addtocart'].astype(float)\n",
    "df_grouped['transaction'] = df_grouped['transaction'].astype(float)\n",
    "\n",
    "df_daily = df_grouped.round({'view': 1, 'addtocart': 1, 'transaction': 1}) # tidak harus 1 line saja\n",
    "df_daily"
   ]
  },
  {
   "cell_type": "code",
   "execution_count": 51,
   "id": "1a9c06f8-f602-48be-882c-bdfe9a1bda06",
   "metadata": {},
   "outputs": [
    {
     "data": {
      "text/html": [
       "<div>\n",
       "<style scoped>\n",
       "    .dataframe tbody tr th:only-of-type {\n",
       "        vertical-align: middle;\n",
       "    }\n",
       "\n",
       "    .dataframe tbody tr th {\n",
       "        vertical-align: top;\n",
       "    }\n",
       "\n",
       "    .dataframe thead th {\n",
       "        text-align: right;\n",
       "    }\n",
       "</style>\n",
       "<table border=\"1\" class=\"dataframe\">\n",
       "  <thead>\n",
       "    <tr style=\"text-align: right;\">\n",
       "      <th>event</th>\n",
       "      <th>date_key</th>\n",
       "      <th>itemid</th>\n",
       "      <th>view</th>\n",
       "      <th>addtocart</th>\n",
       "      <th>transaction</th>\n",
       "    </tr>\n",
       "  </thead>\n",
       "  <tbody>\n",
       "    <tr>\n",
       "      <th>0</th>\n",
       "      <td>2015-05-03</td>\n",
       "      <td>16</td>\n",
       "      <td>1.0</td>\n",
       "      <td>0.0</td>\n",
       "      <td>0.0</td>\n",
       "    </tr>\n",
       "    <tr>\n",
       "      <th>1111440</th>\n",
       "      <td>2015-07-30</td>\n",
       "      <td>48460</td>\n",
       "      <td>1.0</td>\n",
       "      <td>0.0</td>\n",
       "      <td>0.0</td>\n",
       "    </tr>\n",
       "    <tr>\n",
       "      <th>1111439</th>\n",
       "      <td>2015-07-30</td>\n",
       "      <td>48451</td>\n",
       "      <td>1.0</td>\n",
       "      <td>0.0</td>\n",
       "      <td>0.0</td>\n",
       "    </tr>\n",
       "    <tr>\n",
       "      <th>1111438</th>\n",
       "      <td>2015-07-30</td>\n",
       "      <td>48425</td>\n",
       "      <td>2.0</td>\n",
       "      <td>0.0</td>\n",
       "      <td>0.0</td>\n",
       "    </tr>\n",
       "    <tr>\n",
       "      <th>1111436</th>\n",
       "      <td>2015-07-30</td>\n",
       "      <td>48360</td>\n",
       "      <td>1.0</td>\n",
       "      <td>0.0</td>\n",
       "      <td>0.0</td>\n",
       "    </tr>\n",
       "    <tr>\n",
       "      <th>...</th>\n",
       "      <td>...</td>\n",
       "      <td>...</td>\n",
       "      <td>...</td>\n",
       "      <td>...</td>\n",
       "      <td>...</td>\n",
       "    </tr>\n",
       "    <tr>\n",
       "      <th>1463585</th>\n",
       "      <td>2015-08-30</td>\n",
       "      <td>173653</td>\n",
       "      <td>21.0</td>\n",
       "      <td>7.0</td>\n",
       "      <td>6.0</td>\n",
       "    </tr>\n",
       "    <tr>\n",
       "      <th>936990</th>\n",
       "      <td>2015-07-16</td>\n",
       "      <td>445351</td>\n",
       "      <td>42.0</td>\n",
       "      <td>7.0</td>\n",
       "      <td>6.0</td>\n",
       "    </tr>\n",
       "    <tr>\n",
       "      <th>1405839</th>\n",
       "      <td>2015-08-25</td>\n",
       "      <td>134484</td>\n",
       "      <td>17.0</td>\n",
       "      <td>6.0</td>\n",
       "      <td>6.0</td>\n",
       "    </tr>\n",
       "    <tr>\n",
       "      <th>1408811</th>\n",
       "      <td>2015-08-25</td>\n",
       "      <td>248455</td>\n",
       "      <td>45.0</td>\n",
       "      <td>7.0</td>\n",
       "      <td>6.0</td>\n",
       "    </tr>\n",
       "    <tr>\n",
       "      <th>49359</th>\n",
       "      <td>2015-05-07</td>\n",
       "      <td>51354</td>\n",
       "      <td>94.0</td>\n",
       "      <td>9.0</td>\n",
       "      <td>8.0</td>\n",
       "    </tr>\n",
       "  </tbody>\n",
       "</table>\n",
       "<p>1672186 rows × 5 columns</p>\n",
       "</div>"
      ],
      "text/plain": [
       "event      date_key  itemid  view  addtocart  transaction\n",
       "0        2015-05-03      16   1.0        0.0          0.0\n",
       "1111440  2015-07-30   48460   1.0        0.0          0.0\n",
       "1111439  2015-07-30   48451   1.0        0.0          0.0\n",
       "1111438  2015-07-30   48425   2.0        0.0          0.0\n",
       "1111436  2015-07-30   48360   1.0        0.0          0.0\n",
       "...             ...     ...   ...        ...          ...\n",
       "1463585  2015-08-30  173653  21.0        7.0          6.0\n",
       "936990   2015-07-16  445351  42.0        7.0          6.0\n",
       "1405839  2015-08-25  134484  17.0        6.0          6.0\n",
       "1408811  2015-08-25  248455  45.0        7.0          6.0\n",
       "49359    2015-05-07   51354  94.0        9.0          8.0\n",
       "\n",
       "[1672186 rows x 5 columns]"
      ]
     },
     "execution_count": 51,
     "metadata": {},
     "output_type": "execute_result"
    }
   ],
   "source": [
    "#Cek table\n",
    "df_daily.sort_values('transaction')"
   ]
  },
  {
   "cell_type": "code",
   "execution_count": 53,
   "id": "e7eb2505-061b-47d0-9c44-bbf3b3171d0d",
   "metadata": {},
   "outputs": [],
   "source": [
    "#Membuat kolom\n",
    "funnel_cols = [\"view\",\"addtocart\",\"transaction\"]"
   ]
  },
  {
   "cell_type": "code",
   "execution_count": 55,
   "id": "9677b32c-d2d1-4b25-aed4-a7dc249cad54",
   "metadata": {},
   "outputs": [],
   "source": [
    "#Menghitung total transaksi\n",
    "df_plot_funnel = df_daily[funnel_cols].sum(axis=0).to_frame('count').reset_index()"
   ]
  },
  {
   "cell_type": "code",
   "execution_count": 57,
   "id": "95774939-f856-404d-9eea-45548c64c905",
   "metadata": {},
   "outputs": [
    {
     "data": {
      "text/html": [
       "<div>\n",
       "<style scoped>\n",
       "    .dataframe tbody tr th:only-of-type {\n",
       "        vertical-align: middle;\n",
       "    }\n",
       "\n",
       "    .dataframe tbody tr th {\n",
       "        vertical-align: top;\n",
       "    }\n",
       "\n",
       "    .dataframe thead th {\n",
       "        text-align: right;\n",
       "    }\n",
       "</style>\n",
       "<table border=\"1\" class=\"dataframe\">\n",
       "  <thead>\n",
       "    <tr style=\"text-align: right;\">\n",
       "      <th></th>\n",
       "      <th>event</th>\n",
       "      <th>count</th>\n",
       "    </tr>\n",
       "  </thead>\n",
       "  <tbody>\n",
       "    <tr>\n",
       "      <th>0</th>\n",
       "      <td>view</td>\n",
       "      <td>2664312.0</td>\n",
       "    </tr>\n",
       "    <tr>\n",
       "      <th>1</th>\n",
       "      <td>addtocart</td>\n",
       "      <td>69332.0</td>\n",
       "    </tr>\n",
       "    <tr>\n",
       "      <th>2</th>\n",
       "      <td>transaction</td>\n",
       "      <td>22457.0</td>\n",
       "    </tr>\n",
       "  </tbody>\n",
       "</table>\n",
       "</div>"
      ],
      "text/plain": [
       "         event      count\n",
       "0         view  2664312.0\n",
       "1    addtocart    69332.0\n",
       "2  transaction    22457.0"
      ]
     },
     "execution_count": 57,
     "metadata": {},
     "output_type": "execute_result"
    }
   ],
   "source": [
    "df_plot_funnel"
   ]
  },
  {
   "cell_type": "markdown",
   "id": "43e67d91-be55-474f-8ed9-0fecbe4d6bfc",
   "metadata": {},
   "source": [
    "# 2. Data Analysis\n",
    "Gunakan df_daily sesuai soal nomor 1.  \n",
    "Apabila tidak bisa menjawab soal nomor 1, harap gunakan file df_daily_item_activity.csv sebagai penggantinya.\n",
    "\n",
    "## 2.a Setelah melakukan rekap harian per produk, coba lakukan rekap harian secara total.  \n",
    "Rekap harian secara total artinya hitung berapa banyak total view yang terjadi, total addtocart yang terjadi dan total transaction yang terjadi di setiap harinya\n",
    "\n",
    "## 2.b Setelah membuat rekap harian secara total, buatlah visualisasi yang menggambarkan pergerakan setiap event di setiap harinya dan BERIKAN MINIMAL 2 INSIGHT/ANALISIS dari grafik.\n",
    "\n",
    "## 2.c Apakah ada kendala dari proses addtocard hingga customer melakukan transaction? Gunakan funnel analysis untuk mencari tahu."
   ]
  },
  {
   "cell_type": "code",
   "execution_count": 59,
   "id": "ef753344-df8e-4e37-ae3e-82076d04e76f",
   "metadata": {},
   "outputs": [
    {
     "data": {
      "text/html": [
       "<div>\n",
       "<style scoped>\n",
       "    .dataframe tbody tr th:only-of-type {\n",
       "        vertical-align: middle;\n",
       "    }\n",
       "\n",
       "    .dataframe tbody tr th {\n",
       "        vertical-align: top;\n",
       "    }\n",
       "\n",
       "    .dataframe thead th {\n",
       "        text-align: right;\n",
       "    }\n",
       "</style>\n",
       "<table border=\"1\" class=\"dataframe\">\n",
       "  <thead>\n",
       "    <tr style=\"text-align: right;\">\n",
       "      <th>event</th>\n",
       "      <th>date_key</th>\n",
       "      <th>itemid</th>\n",
       "      <th>view</th>\n",
       "      <th>addtocart</th>\n",
       "      <th>transaction</th>\n",
       "    </tr>\n",
       "  </thead>\n",
       "  <tbody>\n",
       "    <tr>\n",
       "      <th>0</th>\n",
       "      <td>2015-05-03</td>\n",
       "      <td>16</td>\n",
       "      <td>1.0</td>\n",
       "      <td>0.0</td>\n",
       "      <td>0.0</td>\n",
       "    </tr>\n",
       "    <tr>\n",
       "      <th>1111440</th>\n",
       "      <td>2015-07-30</td>\n",
       "      <td>48460</td>\n",
       "      <td>1.0</td>\n",
       "      <td>0.0</td>\n",
       "      <td>0.0</td>\n",
       "    </tr>\n",
       "    <tr>\n",
       "      <th>1111439</th>\n",
       "      <td>2015-07-30</td>\n",
       "      <td>48451</td>\n",
       "      <td>1.0</td>\n",
       "      <td>0.0</td>\n",
       "      <td>0.0</td>\n",
       "    </tr>\n",
       "    <tr>\n",
       "      <th>1111438</th>\n",
       "      <td>2015-07-30</td>\n",
       "      <td>48425</td>\n",
       "      <td>2.0</td>\n",
       "      <td>0.0</td>\n",
       "      <td>0.0</td>\n",
       "    </tr>\n",
       "    <tr>\n",
       "      <th>1111436</th>\n",
       "      <td>2015-07-30</td>\n",
       "      <td>48360</td>\n",
       "      <td>1.0</td>\n",
       "      <td>0.0</td>\n",
       "      <td>0.0</td>\n",
       "    </tr>\n",
       "    <tr>\n",
       "      <th>...</th>\n",
       "      <td>...</td>\n",
       "      <td>...</td>\n",
       "      <td>...</td>\n",
       "      <td>...</td>\n",
       "      <td>...</td>\n",
       "    </tr>\n",
       "    <tr>\n",
       "      <th>1463585</th>\n",
       "      <td>2015-08-30</td>\n",
       "      <td>173653</td>\n",
       "      <td>21.0</td>\n",
       "      <td>7.0</td>\n",
       "      <td>6.0</td>\n",
       "    </tr>\n",
       "    <tr>\n",
       "      <th>936990</th>\n",
       "      <td>2015-07-16</td>\n",
       "      <td>445351</td>\n",
       "      <td>42.0</td>\n",
       "      <td>7.0</td>\n",
       "      <td>6.0</td>\n",
       "    </tr>\n",
       "    <tr>\n",
       "      <th>1405839</th>\n",
       "      <td>2015-08-25</td>\n",
       "      <td>134484</td>\n",
       "      <td>17.0</td>\n",
       "      <td>6.0</td>\n",
       "      <td>6.0</td>\n",
       "    </tr>\n",
       "    <tr>\n",
       "      <th>1408811</th>\n",
       "      <td>2015-08-25</td>\n",
       "      <td>248455</td>\n",
       "      <td>45.0</td>\n",
       "      <td>7.0</td>\n",
       "      <td>6.0</td>\n",
       "    </tr>\n",
       "    <tr>\n",
       "      <th>49359</th>\n",
       "      <td>2015-05-07</td>\n",
       "      <td>51354</td>\n",
       "      <td>94.0</td>\n",
       "      <td>9.0</td>\n",
       "      <td>8.0</td>\n",
       "    </tr>\n",
       "  </tbody>\n",
       "</table>\n",
       "<p>1672186 rows × 5 columns</p>\n",
       "</div>"
      ],
      "text/plain": [
       "event      date_key  itemid  view  addtocart  transaction\n",
       "0        2015-05-03      16   1.0        0.0          0.0\n",
       "1111440  2015-07-30   48460   1.0        0.0          0.0\n",
       "1111439  2015-07-30   48451   1.0        0.0          0.0\n",
       "1111438  2015-07-30   48425   2.0        0.0          0.0\n",
       "1111436  2015-07-30   48360   1.0        0.0          0.0\n",
       "...             ...     ...   ...        ...          ...\n",
       "1463585  2015-08-30  173653  21.0        7.0          6.0\n",
       "936990   2015-07-16  445351  42.0        7.0          6.0\n",
       "1405839  2015-08-25  134484  17.0        6.0          6.0\n",
       "1408811  2015-08-25  248455  45.0        7.0          6.0\n",
       "49359    2015-05-07   51354  94.0        9.0          8.0\n",
       "\n",
       "[1672186 rows x 5 columns]"
      ]
     },
     "execution_count": 59,
     "metadata": {},
     "output_type": "execute_result"
    }
   ],
   "source": [
    "df_daily.sort_values('transaction')"
   ]
  },
  {
   "cell_type": "code",
   "execution_count": 61,
   "id": "8f1d55ff-b8f1-441c-a7b8-377e234a9c19",
   "metadata": {},
   "outputs": [],
   "source": [
    "#Melakukan rekap harian perproduct\n",
    "rekap_harian_perproduk = df_daily.groupby(['date_key', 'itemid']).agg({\n",
    "    'view': 'sum',\n",
    "    'addtocart': 'sum',\n",
    "    'transaction': 'sum'\n",
    "}).reset_index()"
   ]
  },
  {
   "cell_type": "code",
   "execution_count": 63,
   "id": "f93d9741-c232-4a35-91c5-9767f5630e23",
   "metadata": {},
   "outputs": [
    {
     "data": {
      "text/html": [
       "<div>\n",
       "<style scoped>\n",
       "    .dataframe tbody tr th:only-of-type {\n",
       "        vertical-align: middle;\n",
       "    }\n",
       "\n",
       "    .dataframe tbody tr th {\n",
       "        vertical-align: top;\n",
       "    }\n",
       "\n",
       "    .dataframe thead th {\n",
       "        text-align: right;\n",
       "    }\n",
       "</style>\n",
       "<table border=\"1\" class=\"dataframe\">\n",
       "  <thead>\n",
       "    <tr style=\"text-align: right;\">\n",
       "      <th>event</th>\n",
       "      <th>date_key</th>\n",
       "      <th>itemid</th>\n",
       "      <th>view</th>\n",
       "      <th>addtocart</th>\n",
       "      <th>transaction</th>\n",
       "    </tr>\n",
       "  </thead>\n",
       "  <tbody>\n",
       "    <tr>\n",
       "      <th>4844</th>\n",
       "      <td>2015-05-03</td>\n",
       "      <td>259357</td>\n",
       "      <td>11.0</td>\n",
       "      <td>3.0</td>\n",
       "      <td>3.0</td>\n",
       "    </tr>\n",
       "    <tr>\n",
       "      <th>8283</th>\n",
       "      <td>2015-05-03</td>\n",
       "      <td>441645</td>\n",
       "      <td>6.0</td>\n",
       "      <td>2.0</td>\n",
       "      <td>2.0</td>\n",
       "    </tr>\n",
       "    <tr>\n",
       "      <th>15</th>\n",
       "      <td>2015-05-03</td>\n",
       "      <td>829</td>\n",
       "      <td>16.0</td>\n",
       "      <td>1.0</td>\n",
       "      <td>1.0</td>\n",
       "    </tr>\n",
       "    <tr>\n",
       "      <th>57</th>\n",
       "      <td>2015-05-03</td>\n",
       "      <td>4001</td>\n",
       "      <td>7.0</td>\n",
       "      <td>1.0</td>\n",
       "      <td>1.0</td>\n",
       "    </tr>\n",
       "    <tr>\n",
       "      <th>205</th>\n",
       "      <td>2015-05-03</td>\n",
       "      <td>12404</td>\n",
       "      <td>6.0</td>\n",
       "      <td>1.0</td>\n",
       "      <td>1.0</td>\n",
       "    </tr>\n",
       "    <tr>\n",
       "      <th>...</th>\n",
       "      <td>...</td>\n",
       "      <td>...</td>\n",
       "      <td>...</td>\n",
       "      <td>...</td>\n",
       "      <td>...</td>\n",
       "    </tr>\n",
       "    <tr>\n",
       "      <th>1672181</th>\n",
       "      <td>2015-09-18</td>\n",
       "      <td>464474</td>\n",
       "      <td>2.0</td>\n",
       "      <td>0.0</td>\n",
       "      <td>0.0</td>\n",
       "    </tr>\n",
       "    <tr>\n",
       "      <th>1672182</th>\n",
       "      <td>2015-09-18</td>\n",
       "      <td>464538</td>\n",
       "      <td>1.0</td>\n",
       "      <td>0.0</td>\n",
       "      <td>0.0</td>\n",
       "    </tr>\n",
       "    <tr>\n",
       "      <th>1672183</th>\n",
       "      <td>2015-09-18</td>\n",
       "      <td>465387</td>\n",
       "      <td>1.0</td>\n",
       "      <td>0.0</td>\n",
       "      <td>0.0</td>\n",
       "    </tr>\n",
       "    <tr>\n",
       "      <th>1672184</th>\n",
       "      <td>2015-09-18</td>\n",
       "      <td>466321</td>\n",
       "      <td>1.0</td>\n",
       "      <td>0.0</td>\n",
       "      <td>0.0</td>\n",
       "    </tr>\n",
       "    <tr>\n",
       "      <th>1672185</th>\n",
       "      <td>2015-09-18</td>\n",
       "      <td>466436</td>\n",
       "      <td>1.0</td>\n",
       "      <td>0.0</td>\n",
       "      <td>0.0</td>\n",
       "    </tr>\n",
       "  </tbody>\n",
       "</table>\n",
       "<p>1672186 rows × 5 columns</p>\n",
       "</div>"
      ],
      "text/plain": [
       "event      date_key  itemid  view  addtocart  transaction\n",
       "4844     2015-05-03  259357  11.0        3.0          3.0\n",
       "8283     2015-05-03  441645   6.0        2.0          2.0\n",
       "15       2015-05-03     829  16.0        1.0          1.0\n",
       "57       2015-05-03    4001   7.0        1.0          1.0\n",
       "205      2015-05-03   12404   6.0        1.0          1.0\n",
       "...             ...     ...   ...        ...          ...\n",
       "1672181  2015-09-18  464474   2.0        0.0          0.0\n",
       "1672182  2015-09-18  464538   1.0        0.0          0.0\n",
       "1672183  2015-09-18  465387   1.0        0.0          0.0\n",
       "1672184  2015-09-18  466321   1.0        0.0          0.0\n",
       "1672185  2015-09-18  466436   1.0        0.0          0.0\n",
       "\n",
       "[1672186 rows x 5 columns]"
      ]
     },
     "execution_count": 63,
     "metadata": {},
     "output_type": "execute_result"
    }
   ],
   "source": [
    "#Membuat rekap harian perproduk dan mengurutkan tanggal dan produk dengan transaksi terbanyak\n",
    "rekap_harian_perproduk.sort_values([\"date_key\",\"transaction\"], ascending=[True, False])"
   ]
  },
  {
   "cell_type": "code",
   "execution_count": 65,
   "id": "8630b6b2-5a58-42a1-bbe0-39a6cae1de52",
   "metadata": {},
   "outputs": [],
   "source": [
    "#2.a Setelah melakukan rekap harian per produk, coba lakukan rekap harian secara total.\n",
    "#Rekap harian secara total artinya hitung berapa banyak total view yang terjadi, total addtocart yang terjadi dan total transaction yang terjadi di setiap harinya\n",
    "# Melakukan rekap harian secara total\n",
    "#Membuat rekap harian total\n",
    "rekap_harian_total = df_daily.groupby(['date_key']).agg({\n",
    "    'view': 'sum',\n",
    "    'addtocart': 'sum',\n",
    "    'transaction': 'sum'\n",
    "}).reset_index()"
   ]
  },
  {
   "cell_type": "code",
   "execution_count": 67,
   "id": "6cf5665b-b94b-4508-9676-a34781867680",
   "metadata": {},
   "outputs": [],
   "source": [
    "rekap_harian_total = rekap_harian_total.round({'view': 1, 'addtocart': 1, 'transaction': 1})"
   ]
  },
  {
   "cell_type": "code",
   "execution_count": 69,
   "id": "b0e3cb6f-6ee9-4019-ba4b-47ef1bb4d0cb",
   "metadata": {},
   "outputs": [
    {
     "data": {
      "text/html": [
       "<div>\n",
       "<style scoped>\n",
       "    .dataframe tbody tr th:only-of-type {\n",
       "        vertical-align: middle;\n",
       "    }\n",
       "\n",
       "    .dataframe tbody tr th {\n",
       "        vertical-align: top;\n",
       "    }\n",
       "\n",
       "    .dataframe thead th {\n",
       "        text-align: right;\n",
       "    }\n",
       "</style>\n",
       "<table border=\"1\" class=\"dataframe\">\n",
       "  <thead>\n",
       "    <tr style=\"text-align: right;\">\n",
       "      <th>event</th>\n",
       "      <th>date_key</th>\n",
       "      <th>view</th>\n",
       "      <th>addtocart</th>\n",
       "      <th>transaction</th>\n",
       "    </tr>\n",
       "  </thead>\n",
       "  <tbody>\n",
       "    <tr>\n",
       "      <th>0</th>\n",
       "      <td>2015-05-03</td>\n",
       "      <td>13304.0</td>\n",
       "      <td>296.0</td>\n",
       "      <td>83.0</td>\n",
       "    </tr>\n",
       "    <tr>\n",
       "      <th>1</th>\n",
       "      <td>2015-05-04</td>\n",
       "      <td>18681.0</td>\n",
       "      <td>579.0</td>\n",
       "      <td>154.0</td>\n",
       "    </tr>\n",
       "    <tr>\n",
       "      <th>2</th>\n",
       "      <td>2015-05-05</td>\n",
       "      <td>22225.0</td>\n",
       "      <td>565.0</td>\n",
       "      <td>225.0</td>\n",
       "    </tr>\n",
       "    <tr>\n",
       "      <th>3</th>\n",
       "      <td>2015-05-06</td>\n",
       "      <td>23015.0</td>\n",
       "      <td>647.0</td>\n",
       "      <td>258.0</td>\n",
       "    </tr>\n",
       "    <tr>\n",
       "      <th>4</th>\n",
       "      <td>2015-05-07</td>\n",
       "      <td>22369.0</td>\n",
       "      <td>578.0</td>\n",
       "      <td>217.0</td>\n",
       "    </tr>\n",
       "    <tr>\n",
       "      <th>...</th>\n",
       "      <td>...</td>\n",
       "      <td>...</td>\n",
       "      <td>...</td>\n",
       "      <td>...</td>\n",
       "    </tr>\n",
       "    <tr>\n",
       "      <th>134</th>\n",
       "      <td>2015-09-14</td>\n",
       "      <td>20284.0</td>\n",
       "      <td>475.0</td>\n",
       "      <td>154.0</td>\n",
       "    </tr>\n",
       "    <tr>\n",
       "      <th>135</th>\n",
       "      <td>2015-09-15</td>\n",
       "      <td>19674.0</td>\n",
       "      <td>595.0</td>\n",
       "      <td>158.0</td>\n",
       "    </tr>\n",
       "    <tr>\n",
       "      <th>136</th>\n",
       "      <td>2015-09-16</td>\n",
       "      <td>11022.0</td>\n",
       "      <td>336.0</td>\n",
       "      <td>137.0</td>\n",
       "    </tr>\n",
       "    <tr>\n",
       "      <th>137</th>\n",
       "      <td>2015-09-17</td>\n",
       "      <td>9830.0</td>\n",
       "      <td>253.0</td>\n",
       "      <td>45.0</td>\n",
       "    </tr>\n",
       "    <tr>\n",
       "      <th>138</th>\n",
       "      <td>2015-09-18</td>\n",
       "      <td>1479.0</td>\n",
       "      <td>34.0</td>\n",
       "      <td>15.0</td>\n",
       "    </tr>\n",
       "  </tbody>\n",
       "</table>\n",
       "<p>139 rows × 4 columns</p>\n",
       "</div>"
      ],
      "text/plain": [
       "event    date_key     view  addtocart  transaction\n",
       "0      2015-05-03  13304.0      296.0         83.0\n",
       "1      2015-05-04  18681.0      579.0        154.0\n",
       "2      2015-05-05  22225.0      565.0        225.0\n",
       "3      2015-05-06  23015.0      647.0        258.0\n",
       "4      2015-05-07  22369.0      578.0        217.0\n",
       "..            ...      ...        ...          ...\n",
       "134    2015-09-14  20284.0      475.0        154.0\n",
       "135    2015-09-15  19674.0      595.0        158.0\n",
       "136    2015-09-16  11022.0      336.0        137.0\n",
       "137    2015-09-17   9830.0      253.0         45.0\n",
       "138    2015-09-18   1479.0       34.0         15.0\n",
       "\n",
       "[139 rows x 4 columns]"
      ]
     },
     "execution_count": 69,
     "metadata": {},
     "output_type": "execute_result"
    }
   ],
   "source": [
    "#Melihat data rekap harial total\n",
    "rekap_harian_total"
   ]
  },
  {
   "cell_type": "code",
   "execution_count": 71,
   "id": "b9baeffc-48bd-44af-b886-26537b28cbed",
   "metadata": {},
   "outputs": [],
   "source": [
    "#Melihat data statistik berdasarkan event\n",
    "rekap_total = rekap_harian_total[['view', 'addtocart', 'transaction']]\n",
    "statistik = {\n",
    "    'Rata-rata': rekap_total.mean(),\n",
    "    'Median': rekap_total.median(),\n",
    "    'Jumlah': rekap_total.sum(),\n",
    "    'Standar Deviasi': rekap_total.std()\n",
    "}\n",
    "statistik_df = pd.DataFrame(statistik)"
   ]
  },
  {
   "cell_type": "code",
   "execution_count": 73,
   "id": "e4989e31-c921-4a84-9405-c2a4c712528c",
   "metadata": {},
   "outputs": [
    {
     "data": {
      "text/html": [
       "<div>\n",
       "<style scoped>\n",
       "    .dataframe tbody tr th:only-of-type {\n",
       "        vertical-align: middle;\n",
       "    }\n",
       "\n",
       "    .dataframe tbody tr th {\n",
       "        vertical-align: top;\n",
       "    }\n",
       "\n",
       "    .dataframe thead th {\n",
       "        text-align: right;\n",
       "    }\n",
       "</style>\n",
       "<table border=\"1\" class=\"dataframe\">\n",
       "  <thead>\n",
       "    <tr style=\"text-align: right;\">\n",
       "      <th></th>\n",
       "      <th>Rata-rata</th>\n",
       "      <th>Median</th>\n",
       "      <th>Jumlah</th>\n",
       "      <th>Standar Deviasi</th>\n",
       "    </tr>\n",
       "    <tr>\n",
       "      <th>event</th>\n",
       "      <th></th>\n",
       "      <th></th>\n",
       "      <th></th>\n",
       "      <th></th>\n",
       "    </tr>\n",
       "  </thead>\n",
       "  <tbody>\n",
       "    <tr>\n",
       "      <th>view</th>\n",
       "      <td>19167.712230</td>\n",
       "      <td>19962.0</td>\n",
       "      <td>2664312.0</td>\n",
       "      <td>4024.353894</td>\n",
       "    </tr>\n",
       "    <tr>\n",
       "      <th>addtocart</th>\n",
       "      <td>498.791367</td>\n",
       "      <td>514.0</td>\n",
       "      <td>69332.0</td>\n",
       "      <td>125.046570</td>\n",
       "    </tr>\n",
       "    <tr>\n",
       "      <th>transaction</th>\n",
       "      <td>161.561151</td>\n",
       "      <td>162.0</td>\n",
       "      <td>22457.0</td>\n",
       "      <td>58.246368</td>\n",
       "    </tr>\n",
       "  </tbody>\n",
       "</table>\n",
       "</div>"
      ],
      "text/plain": [
       "                Rata-rata   Median     Jumlah  Standar Deviasi\n",
       "event                                                         \n",
       "view         19167.712230  19962.0  2664312.0      4024.353894\n",
       "addtocart      498.791367    514.0    69332.0       125.046570\n",
       "transaction    161.561151    162.0    22457.0        58.246368"
      ]
     },
     "execution_count": 73,
     "metadata": {},
     "output_type": "execute_result"
    }
   ],
   "source": [
    "#Menampilkan data statistik seperti rata - rata, median, jumlah, standar deviasi\n",
    "statistik_df"
   ]
  },
  {
   "cell_type": "markdown",
   "id": "8209c644-5879-4bc2-853f-576e368c017e",
   "metadata": {},
   "source": [
    "Berdasarkan hasil analisa statistik diatas, kita dapat melihat bahwa rata - rata pada transaction dapat menggambarkan nilai tengah atau median dari transaction tersebut. sementara rata - rata untuk view dan addtocart tidak dapat menggambarkan nilai tengahnya karena ada perbedaan nilai yang cukup besar."
   ]
  },
  {
   "cell_type": "code",
   "execution_count": 75,
   "id": "e3326078-c32f-4b54-ba5b-e81dbdea596e",
   "metadata": {},
   "outputs": [],
   "source": [
    "df_daily['date_key'] = pd.to_datetime(df_daily['date_key'])"
   ]
  },
  {
   "cell_type": "code",
   "execution_count": 77,
   "id": "5daa9d1e-55d2-4307-ac92-56dd5e246fc4",
   "metadata": {},
   "outputs": [
    {
     "data": {
      "text/plain": [
       "<Axes: xlabel='date_key'>"
      ]
     },
     "execution_count": 77,
     "metadata": {},
     "output_type": "execute_result"
    },
    {
     "data": {
      "image/png": "[encoded data removed]",
      "text/plain": [
       "<Figure size 640x480 with 1 Axes>"
      ]
     },
     "metadata": {},
     "output_type": "display_data"
    }
   ],
   "source": [
    "df_daily.groupby('date_key')[funnel_cols].sum().plot()"
   ]
  },
  {
   "cell_type": "markdown",
   "id": "b29dc3dc-649b-4ccb-8b7f-0b3d8dfc2f5d",
   "metadata": {},
   "source": [
    "Berdasarkan grafik diatas dapat dilihat bahwa fluktuasi view sangat tinggi dan pada pertengahan september mengalami penurunan drastis, sementara addtocart dan transaction cenderung stabil bahkan hingga pertengahan september dimana view mengalami penurunan yang signifikan."
   ]
  },
  {
   "cell_type": "code",
   "execution_count": 99,
   "id": "536393f8-e8be-42a2-b463-558cae0f8dcc",
   "metadata": {},
   "outputs": [],
   "source": [
    "#Menghitung prevous count untuk digunakan mengitung conversion rate\n",
    "df_plot_funnel = df_daily[funnel_cols].sum(axis=0).to_frame('count').reset_index()\n",
    "df_plot_funnel['count_from_previous'] = df_plot_funnel['count'].shift(1)"
   ]
  },
  {
   "cell_type": "code",
   "execution_count": 101,
   "id": "a2b16569-24ba-46d2-9cf3-3e60657fc336",
   "metadata": {},
   "outputs": [
    {
     "data": {
      "text/html": [
       "<div>\n",
       "<style scoped>\n",
       "    .dataframe tbody tr th:only-of-type {\n",
       "        vertical-align: middle;\n",
       "    }\n",
       "\n",
       "    .dataframe tbody tr th {\n",
       "        vertical-align: top;\n",
       "    }\n",
       "\n",
       "    .dataframe thead th {\n",
       "        text-align: right;\n",
       "    }\n",
       "</style>\n",
       "<table border=\"1\" class=\"dataframe\">\n",
       "  <thead>\n",
       "    <tr style=\"text-align: right;\">\n",
       "      <th></th>\n",
       "      <th>event</th>\n",
       "      <th>count</th>\n",
       "      <th>count_from_previous</th>\n",
       "      <th>conversion_rate</th>\n",
       "    </tr>\n",
       "  </thead>\n",
       "  <tbody>\n",
       "    <tr>\n",
       "      <th>0</th>\n",
       "      <td>view</td>\n",
       "      <td>2664312.0</td>\n",
       "      <td>NaN</td>\n",
       "      <td>NaN</td>\n",
       "    </tr>\n",
       "    <tr>\n",
       "      <th>1</th>\n",
       "      <td>addtocart</td>\n",
       "      <td>69332.0</td>\n",
       "      <td>2664312.0</td>\n",
       "      <td>2.602248</td>\n",
       "    </tr>\n",
       "    <tr>\n",
       "      <th>2</th>\n",
       "      <td>transaction</td>\n",
       "      <td>22457.0</td>\n",
       "      <td>69332.0</td>\n",
       "      <td>32.390527</td>\n",
       "    </tr>\n",
       "  </tbody>\n",
       "</table>\n",
       "</div>"
      ],
      "text/plain": [
       "         event      count  count_from_previous  conversion_rate\n",
       "0         view  2664312.0                  NaN              NaN\n",
       "1    addtocart    69332.0            2664312.0         2.602248\n",
       "2  transaction    22457.0              69332.0        32.390527"
      ]
     },
     "execution_count": 101,
     "metadata": {},
     "output_type": "execute_result"
    }
   ],
   "source": [
    "#Menghitung conversion rate untuk mengetahui nilai persentase conversi setia event\n",
    "df_plot_funnel['conversion_rate'] = (df_plot_funnel['count']/df_plot_funnel['count_from_previous']) * 100\n",
    "df_plot_funnel"
   ]
  },
  {
   "cell_type": "code",
   "execution_count": 83,
   "id": "82cedad2-4e16-4618-8898-81d169f83be7",
   "metadata": {},
   "outputs": [],
   "source": [
    "#2.b Setelah membuat rekap harian secara total, buatlah visualisasi yang menggambarkan pergerakan setiap event di setiap harinya \n",
    "#dan BERIKAN MINIMAL 2 INSIGHT/ANALISIS dari grafik.¶\n",
    "import matplotlib.pyplot as plt\n",
    "import seaborn as sns"
   ]
  },
  {
   "cell_type": "code",
   "execution_count": 85,
   "id": "4f1ddd26-ec8d-4cf3-94d3-539d0fb61f7e",
   "metadata": {},
   "outputs": [
    {
     "data": {
      "image/png": "[encoded data removed]",
      "text/plain": [
       "<Figure size 1400x700 with 1 Axes>"
      ]
     },
     "metadata": {},
     "output_type": "display_data"
    }
   ],
   "source": [
    "# Set the style of the visualizations\n",
    "sns.set(style=\"whitegrid\")\n",
    "\n",
    "# Plot line for each event\n",
    "plt.figure(figsize=(14, 7))\n",
    "\n",
    "# Plotting views\n",
    "sns.lineplot(x='date_key', y='view', data=rekap_harian_total, label='View', color='blue')\n",
    "\n",
    "# Plotting addtocart\n",
    "sns.lineplot(x='date_key', y='addtocart', data=rekap_harian_total, label='Add to Cart', color='green')\n",
    "\n",
    "# Plotting transaction\n",
    "sns.lineplot(x='date_key', y='transaction', data=rekap_harian_total, label='Transaction', color='red')\n",
    "\n",
    "# Setting titles and labels\n",
    "plt.title('Pergerakan Event Harian', fontsize=16)\n",
    "plt.xlabel('Date', fontsize=12)\n",
    "plt.ylabel('Jumlah Event', fontsize=12)\n",
    "plt.xticks(rotation=45)\n",
    "plt.legend(title='Event')\n",
    "plt.tight_layout()\n",
    "\n",
    "# Show the plot\n",
    "plt.show()\n"
   ]
  },
  {
   "cell_type": "code",
   "execution_count": 111,
   "id": "104be580-23fa-47e6-9f52-5ec0aa368c42",
   "metadata": {},
   "outputs": [
    {
     "data": {
      "image/png": "[encoded data removed]",
      "text/plain": [
       "<Figure size 1200x600 with 1 Axes>"
      ]
     },
     "metadata": {},
     "output_type": "display_data"
    }
   ],
   "source": [
    "# Mengonversi kolom 'date_key' menjadi datetime jika belum\n",
    "df_r = rekap_harian_total\n",
    "df_r['date_key'] = pd.to_datetime(rekap_harian_total['date_key'])\n",
    "\n",
    "# Mengatur 'date_key' sebagai indeks\n",
    "df_r.set_index('date_key', inplace=True)\n",
    "\n",
    "# Membuat plot dengan tampilan minimalis\n",
    "plt.figure(figsize=(12, 6))\n",
    "plt.plot(df_r['addtocart'], label='Add to Cart', color='blue', linewidth=2, alpha=0.7)\n",
    "plt.plot(df_r['transaction'], label='Transaction', color='green', linewidth=2, alpha=0.7)\n",
    "\n",
    "# Menambahkan elemen visual\n",
    "plt.title('Perbandingan Add to Cart dan Transaction', fontsize=16)\n",
    "plt.xlabel('Tanggal', fontsize=14)\n",
    "plt.ylabel('Jumlah', fontsize=14)\n",
    "plt.xticks(rotation=45)\n",
    "plt.legend()\n",
    "plt.grid(visible=True, linestyle='--', alpha=0.5)\n",
    "\n",
    "# Menampilkan grafik\n",
    "plt.tight_layout()\n",
    "plt.show()"
   ]
  },
  {
   "cell_type": "raw",
   "id": "d00da081-d5d9-4b16-805d-7684abc3ac97",
   "metadata": {},
   "source": [
    "Insight 1: Fluktuasi Jumlah View\n",
    "Dari grafik tersebut, kita dapat melihat bahwa view adalah event yang paling sering terjadi setiap harinya. Jumlah view menunjukkan fluktuasi yang signifikan di beberapa tanggal tertentu, bisa jadi program promo yang sedang dikerjakan tim marketing berjalan dengan baik dan mendapatkan atensi yang cukup besar dari pengguna.\n",
    "\n",
    "Insight 2: Korelasi Antara Add to Cart dan Transaction\n",
    "Terlihat bahwa ada korelasi yang kuat antara addtocart dan transaction. Pada saat addtocart meningkat, transaction cenderung mengikuti, meskipun dalam jumlah yang lebih kecil. Ini menunjukkan bahwa sebagian besar pengguna yang menambahkan produk ke keranjang mereka akhirnya melakukan pembelian. Namun, perbedaan antara addtocart dan transaction juga mengindikasikan adanya pengguna yang menambahkan produk ke keranjang tetapi tidak menyelesaikan pembelian, yang bisa menjadi peluang untuk meningkatkan strategi konversi.\n",
    "Hasil Visualisasi\n",
    "\n",
    "Insight 3 : Perbedaan yang besar antara jumlah views dengan addtocart dan transaction\n",
    "Dalam grafik terlihat nilai views yang tinggi, sementara addtocart dan transaction dibawah 5000 perharinya. Hal ini menandakan adanya tingkat konversi yang rendah dari Views menjadi addtocart.\n",
    "\n",
    "Insight 4 : Penurunan aktivitas yang besar dimulai pada tgl 15-09-2015\n",
    "Pada tgl 15-09-2015 terjadi penurunan views cukup besar hingga tgl 18-09-2015, penurunan ini juga diikuti dengan turunnya jumlah addtocart dan transaction. Hal ini terjadi karena marketing sedang menghentikan program promosi atau sedang terjadi maintenance system untuk beberapa device yang user gunakan.\n"
   ]
  },
  {
   "cell_type": "code",
   "execution_count": 87,
   "id": "1e1157c0-6d14-4373-96a8-4a2f6896e501",
   "metadata": {},
   "outputs": [],
   "source": [
    "total_views = df_daily['view'].sum()\n",
    "total_addtocart = df_daily['addtocart'].sum()\n",
    "total_transactions = df_daily['transaction'].sum()"
   ]
  },
  {
   "cell_type": "code",
   "execution_count": 89,
   "id": "0191d69a-2cc3-4714-bf3f-8193765ff988",
   "metadata": {},
   "outputs": [
    {
     "data": {
      "image/png": "[encoded data removed]",
      "text/plain": [
       "<Figure size 1000x600 with 1 Axes>"
      ]
     },
     "metadata": {},
     "output_type": "display_data"
    }
   ],
   "source": [
    "# Menggunakan matplotlib untuk visualisasi funnel\n",
    "stages = ['View', 'Add to Cart', 'Transaction']\n",
    "values = [total_views, total_addtocart, total_transactions]\n",
    "\n",
    "plt.figure(figsize=(10, 6))\n",
    "plt.plot(stages, values, marker='o', linestyle='-', color='b')\n",
    "\n",
    "# Annotate values\n",
    "for i, value in enumerate(values):\n",
    "    plt.text(i, value + 1000, f'{value}', ha='center', fontsize=12)\n",
    "\n",
    "plt.title('Funnel Analysis: View to Transaction', fontsize=16)\n",
    "plt.xlabel('Stages', fontsize=12)\n",
    "plt.ylabel('Jumlah Pengguna', fontsize=12)\n",
    "plt.show()"
   ]
  },
  {
   "cell_type": "code",
   "execution_count": 91,
   "id": "2452c57e-f2ea-4ef5-8ed2-1f45c13e7ba0",
   "metadata": {},
   "outputs": [
    {
     "data": {
      "text/html": [
       "<div>\n",
       "<style scoped>\n",
       "    .dataframe tbody tr th:only-of-type {\n",
       "        vertical-align: middle;\n",
       "    }\n",
       "\n",
       "    .dataframe tbody tr th {\n",
       "        vertical-align: top;\n",
       "    }\n",
       "\n",
       "    .dataframe thead th {\n",
       "        text-align: right;\n",
       "    }\n",
       "</style>\n",
       "<table border=\"1\" class=\"dataframe\">\n",
       "  <thead>\n",
       "    <tr style=\"text-align: right;\">\n",
       "      <th></th>\n",
       "      <th>event</th>\n",
       "      <th>count</th>\n",
       "    </tr>\n",
       "  </thead>\n",
       "  <tbody>\n",
       "    <tr>\n",
       "      <th>0</th>\n",
       "      <td>view</td>\n",
       "      <td>2664312.0</td>\n",
       "    </tr>\n",
       "    <tr>\n",
       "      <th>1</th>\n",
       "      <td>addtocart</td>\n",
       "      <td>69332.0</td>\n",
       "    </tr>\n",
       "    <tr>\n",
       "      <th>2</th>\n",
       "      <td>transaction</td>\n",
       "      <td>22457.0</td>\n",
       "    </tr>\n",
       "  </tbody>\n",
       "</table>\n",
       "</div>"
      ],
      "text/plain": [
       "         event      count\n",
       "0         view  2664312.0\n",
       "1    addtocart    69332.0\n",
       "2  transaction    22457.0"
      ]
     },
     "execution_count": 91,
     "metadata": {},
     "output_type": "execute_result"
    }
   ],
   "source": [
    "df_plot_funnel = df_daily[funnel_cols].sum(axis=0).to_frame('count').reset_index()\n",
    "df_plot_funnel"
   ]
  },
  {
   "cell_type": "code",
   "execution_count": 163,
   "id": "321dea86-d1b9-41f4-bebe-0a60bb2e6cf1",
   "metadata": {},
   "outputs": [
    {
     "data": {
      "text/html": [
       "<div>\n",
       "<style scoped>\n",
       "    .dataframe tbody tr th:only-of-type {\n",
       "        vertical-align: middle;\n",
       "    }\n",
       "\n",
       "    .dataframe tbody tr th {\n",
       "        vertical-align: top;\n",
       "    }\n",
       "\n",
       "    .dataframe thead th {\n",
       "        text-align: right;\n",
       "    }\n",
       "</style>\n",
       "<table border=\"1\" class=\"dataframe\">\n",
       "  <thead>\n",
       "    <tr style=\"text-align: right;\">\n",
       "      <th></th>\n",
       "      <th>event</th>\n",
       "      <th>count</th>\n",
       "      <th>count_from_previous</th>\n",
       "      <th>conversion_rate</th>\n",
       "    </tr>\n",
       "  </thead>\n",
       "  <tbody>\n",
       "    <tr>\n",
       "      <th>0</th>\n",
       "      <td>view</td>\n",
       "      <td>2664312.0</td>\n",
       "      <td>NaN</td>\n",
       "      <td>NaN</td>\n",
       "    </tr>\n",
       "    <tr>\n",
       "      <th>1</th>\n",
       "      <td>addtocart</td>\n",
       "      <td>69332.0</td>\n",
       "      <td>2664312.0</td>\n",
       "      <td>2.602248</td>\n",
       "    </tr>\n",
       "    <tr>\n",
       "      <th>2</th>\n",
       "      <td>transaction</td>\n",
       "      <td>22457.0</td>\n",
       "      <td>69332.0</td>\n",
       "      <td>32.390527</td>\n",
       "    </tr>\n",
       "  </tbody>\n",
       "</table>\n",
       "</div>"
      ],
      "text/plain": [
       "         event      count  count_from_previous  conversion_rate\n",
       "0         view  2664312.0                  NaN              NaN\n",
       "1    addtocart    69332.0            2664312.0         2.602248\n",
       "2  transaction    22457.0              69332.0        32.390527"
      ]
     },
     "execution_count": 163,
     "metadata": {},
     "output_type": "execute_result"
    }
   ],
   "source": [
    "df_plot_funnel"
   ]
  },
  {
   "cell_type": "code",
   "execution_count": 145,
   "id": "27457d54-98db-4811-b9ef-d2d37db252a2",
   "metadata": {},
   "outputs": [
    {
     "data": {
      "application/vnd.plotly.v1+json": {
       "config": {
        "plotlyServerURL": "https://plot.ly"
       },
       "data": [
        {
         "hovertemplate": "event=%{x}<br>count=%{y}<extra></extra>",
         "legendgroup": "",
         "marker": {
          "color": "#636efa"
         },
         "name": "",
         "orientation": "v",
         "showlegend": false,
         "type": "funnel",
         "x": [
          "view",
          "addtocart",
          "transaction"
         ],
         "xaxis": "x",
         "y": [
          2664312,
          69332,
          22457
         ],
         "yaxis": "y"
        }
       ],
       "layout": {
        "autosize": true,
        "legend": {
         "tracegroupgap": 0
        },
        "margin": {
         "t": 60
        },
        "template": {
         "data": {
          "bar": [
           {
            "error_x": {
             "color": "#2a3f5f"
            },
            "error_y": {
             "color": "#2a3f5f"
            },
            "marker": {
             "line": {
              "color": "#E5ECF6",
              "width": 0.5
             },
             "pattern": {
              "fillmode": "overlay",
              "size": 10,
              "solidity": 0.2
             }
            },
            "type": "bar"
           }
          ],
          "barpolar": [
           {
            "marker": {
             "line": {
              "color": "#E5ECF6",
              "width": 0.5
             },
             "pattern": {
              "fillmode": "overlay",
              "size": 10,
              "solidity": 0.2
             }
            },
            "type": "barpolar"
           }
          ],
          "carpet": [
           {
            "aaxis": {
             "endlinecolor": "#2a3f5f",
             "gridcolor": "white",
             "linecolor": "white",
             "minorgridcolor": "white",
             "startlinecolor": "#2a3f5f"
            },
            "baxis": {
             "endlinecolor": "#2a3f5f",
             "gridcolor": "white",
             "linecolor": "white",
             "minorgridcolor": "white",
             "startlinecolor": "#2a3f5f"
            },
            "type": "carpet"
           }
          ],
          "choropleth": [
           {
            "colorbar": {
             "outlinewidth": 0,
             "ticks": ""
            },
            "type": "choropleth"
           }
          ],
          "contour": [
           {
            "colorbar": {
             "outlinewidth": 0,
             "ticks": ""
            },
            "colorscale": [
             [
              0,
              "#0d0887"
             ],
             [
              0.1111111111111111,
              "#46039f"
             ],
             [
              0.2222222222222222,
              "#7201a8"
             ],
             [
              0.3333333333333333,
              "#9c179e"
             ],
             [
              0.4444444444444444,
              "#bd3786"
             ],
             [
              0.5555555555555556,
              "#d8576b"
             ],
             [
              0.6666666666666666,
              "#ed7953"
             ],
             [
              0.7777777777777778,
              "#fb9f3a"
             ],
             [
              0.8888888888888888,
              "#fdca26"
             ],
             [
              1,
              "#f0f921"
             ]
            ],
            "type": "contour"
           }
          ],
          "contourcarpet": [
           {
            "colorbar": {
             "outlinewidth": 0,
             "ticks": ""
            },
            "type": "contourcarpet"
           }
          ],
          "heatmap": [
           {
            "colorbar": {
             "outlinewidth": 0,
             "ticks": ""
            },
            "colorscale": [
             [
              0,
              "#0d0887"
             ],
             [
              0.1111111111111111,
              "#46039f"
             ],
             [
              0.2222222222222222,
              "#7201a8"
             ],
             [
              0.3333333333333333,
              "#9c179e"
             ],
             [
              0.4444444444444444,
              "#bd3786"
             ],
             [
              0.5555555555555556,
              "#d8576b"
             ],
             [
              0.6666666666666666,
              "#ed7953"
             ],
             [
              0.7777777777777778,
              "#fb9f3a"
             ],
             [
              0.8888888888888888,
              "#fdca26"
             ],
             [
              1,
              "#f0f921"
             ]
            ],
            "type": "heatmap"
           }
          ],
          "heatmapgl": [
           {
            "colorbar": {
             "outlinewidth": 0,
             "ticks": ""
            },
            "colorscale": [
             [
              0,
              "#0d0887"
             ],
             [
              0.1111111111111111,
              "#46039f"
             ],
             [
              0.2222222222222222,
              "#7201a8"
             ],
             [
              0.3333333333333333,
              "#9c179e"
             ],
             [
              0.4444444444444444,
              "#bd3786"
             ],
             [
              0.5555555555555556,
              "#d8576b"
             ],
             [
              0.6666666666666666,
              "#ed7953"
             ],
             [
              0.7777777777777778,
              "#fb9f3a"
             ],
             [
              0.8888888888888888,
              "#fdca26"
             ],
             [
              1,
              "#f0f921"
             ]
            ],
            "type": "heatmapgl"
           }
          ],
          "histogram": [
           {
            "marker": {
             "pattern": {
              "fillmode": "overlay",
              "size": 10,
              "solidity": 0.2
             }
            },
            "type": "histogram"
           }
          ],
          "histogram2d": [
           {
            "colorbar": {
             "outlinewidth": 0,
             "ticks": ""
            },
            "colorscale": [
             [
              0,
              "#0d0887"
             ],
             [
              0.1111111111111111,
              "#46039f"
             ],
             [
              0.2222222222222222,
              "#7201a8"
             ],
             [
              0.3333333333333333,
              "#9c179e"
             ],
             [
              0.4444444444444444,
              "#bd3786"
             ],
             [
              0.5555555555555556,
              "#d8576b"
             ],
             [
              0.6666666666666666,
              "#ed7953"
             ],
             [
              0.7777777777777778,
              "#fb9f3a"
             ],
             [
              0.8888888888888888,
              "#fdca26"
             ],
             [
              1,
              "#f0f921"
             ]
            ],
            "type": "histogram2d"
           }
          ],
          "histogram2dcontour": [
           {
            "colorbar": {
             "outlinewidth": 0,
             "ticks": ""
            },
            "colorscale": [
             [
              0,
              "#0d0887"
             ],
             [
              0.1111111111111111,
              "#46039f"
             ],
             [
              0.2222222222222222,
              "#7201a8"
             ],
             [
              0.3333333333333333,
              "#9c179e"
             ],
             [
              0.4444444444444444,
              "#bd3786"
             ],
             [
              0.5555555555555556,
              "#d8576b"
             ],
             [
              0.6666666666666666,
              "#ed7953"
             ],
             [
              0.7777777777777778,
              "#fb9f3a"
             ],
             [
              0.8888888888888888,
              "#fdca26"
             ],
             [
              1,
              "#f0f921"
             ]
            ],
            "type": "histogram2dcontour"
           }
          ],
          "mesh3d": [
           {
            "colorbar": {
             "outlinewidth": 0,
             "ticks": ""
            },
            "type": "mesh3d"
           }
          ],
          "parcoords": [
           {
            "line": {
             "colorbar": {
              "outlinewidth": 0,
              "ticks": ""
             }
            },
            "type": "parcoords"
           }
          ],
          "pie": [
           {
            "automargin": true,
            "type": "pie"
           }
          ],
          "scatter": [
           {
            "fillpattern": {
             "fillmode": "overlay",
             "size": 10,
             "solidity": 0.2
            },
            "type": "scatter"
           }
          ],
          "scatter3d": [
           {
            "line": {
             "colorbar": {
              "outlinewidth": 0,
              "ticks": ""
             }
            },
            "marker": {
             "colorbar": {
              "outlinewidth": 0,
              "ticks": ""
             }
            },
            "type": "scatter3d"
           }
          ],
          "scattercarpet": [
           {
            "marker": {
             "colorbar": {
              "outlinewidth": 0,
              "ticks": ""
             }
            },
            "type": "scattercarpet"
           }
          ],
          "scattergeo": [
           {
            "marker": {
             "colorbar": {
              "outlinewidth": 0,
              "ticks": ""
             }
            },
            "type": "scattergeo"
           }
          ],
          "scattergl": [
           {
            "marker": {
             "colorbar": {
              "outlinewidth": 0,
              "ticks": ""
             }
            },
            "type": "scattergl"
           }
          ],
          "scattermapbox": [
           {
            "marker": {
             "colorbar": {
              "outlinewidth": 0,
              "ticks": ""
             }
            },
            "type": "scattermapbox"
           }
          ],
          "scatterpolar": [
           {
            "marker": {
             "colorbar": {
              "outlinewidth": 0,
              "ticks": ""
             }
            },
            "type": "scatterpolar"
           }
          ],
          "scatterpolargl": [
           {
            "marker": {
             "colorbar": {
              "outlinewidth": 0,
              "ticks": ""
             }
            },
            "type": "scatterpolargl"
           }
          ],
          "scatterternary": [
           {
            "marker": {
             "colorbar": {
              "outlinewidth": 0,
              "ticks": ""
             }
            },
            "type": "scatterternary"
           }
          ],
          "surface": [
           {
            "colorbar": {
             "outlinewidth": 0,
             "ticks": ""
            },
            "colorscale": [
             [
              0,
              "#0d0887"
             ],
             [
              0.1111111111111111,
              "#46039f"
             ],
             [
              0.2222222222222222,
              "#7201a8"
             ],
             [
              0.3333333333333333,
              "#9c179e"
             ],
             [
              0.4444444444444444,
              "#bd3786"
             ],
             [
              0.5555555555555556,
              "#d8576b"
             ],
             [
              0.6666666666666666,
              "#ed7953"
             ],
             [
              0.7777777777777778,
              "#fb9f3a"
             ],
             [
              0.8888888888888888,
              "#fdca26"
             ],
             [
              1,
              "#f0f921"
             ]
            ],
            "type": "surface"
           }
          ],
          "table": [
           {
            "cells": {
             "fill": {
              "color": "#EBF0F8"
             },
             "line": {
              "color": "white"
             }
            },
            "header": {
             "fill": {
              "color": "#C8D4E3"
             },
             "line": {
              "color": "white"
             }
            },
            "type": "table"
           }
          ]
         },
         "layout": {
          "annotationdefaults": {
           "arrowcolor": "#2a3f5f",
           "arrowhead": 0,
           "arrowwidth": 1
          },
          "autotypenumbers": "strict",
          "coloraxis": {
           "colorbar": {
            "outlinewidth": 0,
            "ticks": ""
           }
          },
          "colorscale": {
           "diverging": [
            [
             0,
             "#8e0152"
            ],
            [
             0.1,
             "#c51b7d"
            ],
            [
             0.2,
             "#de77ae"
            ],
            [
             0.3,
             "#f1b6da"
            ],
            [
             0.4,
             "#fde0ef"
            ],
            [
             0.5,
             "#f7f7f7"
            ],
            [
             0.6,
             "#e6f5d0"
            ],
            [
             0.7,
             "#b8e186"
            ],
            [
             0.8,
             "#7fbc41"
            ],
            [
             0.9,
             "#4d9221"
            ],
            [
             1,
             "#276419"
            ]
           ],
           "sequential": [
            [
             0,
             "#0d0887"
            ],
            [
             0.1111111111111111,
             "#46039f"
            ],
            [
             0.2222222222222222,
             "#7201a8"
            ],
            [
             0.3333333333333333,
             "#9c179e"
            ],
            [
             0.4444444444444444,
             "#bd3786"
            ],
            [
             0.5555555555555556,
             "#d8576b"
            ],
            [
             0.6666666666666666,
             "#ed7953"
            ],
            [
             0.7777777777777778,
             "#fb9f3a"
            ],
            [
             0.8888888888888888,
             "#fdca26"
            ],
            [
             1,
             "#f0f921"
            ]
           ],
           "sequentialminus": [
            [
             0,
             "#0d0887"
            ],
            [
             0.1111111111111111,
             "#46039f"
            ],
            [
             0.2222222222222222,
             "#7201a8"
            ],
            [
             0.3333333333333333,
             "#9c179e"
            ],
            [
             0.4444444444444444,
             "#bd3786"
            ],
            [
             0.5555555555555556,
             "#d8576b"
            ],
            [
             0.6666666666666666,
             "#ed7953"
            ],
            [
             0.7777777777777778,
             "#fb9f3a"
            ],
            [
             0.8888888888888888,
             "#fdca26"
            ],
            [
             1,
             "#f0f921"
            ]
           ]
          },
          "colorway": [
           "#636efa",
           "#EF553B",
           "#00cc96",
           "#ab63fa",
           "#FFA15A",
           "#19d3f3",
           "#FF6692",
           "#B6E880",
           "#FF97FF",
           "#FECB52"
          ],
          "font": {
           "color": "#2a3f5f"
          },
          "geo": {
           "bgcolor": "white",
           "lakecolor": "white",
           "landcolor": "#E5ECF6",
           "showlakes": true,
           "showland": true,
           "subunitcolor": "white"
          },
          "hoverlabel": {
           "align": "left"
          },
          "hovermode": "closest",
          "mapbox": {
           "style": "light"
          },
          "paper_bgcolor": "white",
          "plot_bgcolor": "#E5ECF6",
          "polar": {
           "angularaxis": {
            "gridcolor": "white",
            "linecolor": "white",
            "ticks": ""
           },
           "bgcolor": "#E5ECF6",
           "radialaxis": {
            "gridcolor": "white",
            "linecolor": "white",
            "ticks": ""
           }
          },
          "scene": {
           "xaxis": {
            "backgroundcolor": "#E5ECF6",
            "gridcolor": "white",
            "gridwidth": 2,
            "linecolor": "white",
            "showbackground": true,
            "ticks": "",
            "zerolinecolor": "white"
           },
           "yaxis": {
            "backgroundcolor": "#E5ECF6",
            "gridcolor": "white",
            "gridwidth": 2,
            "linecolor": "white",
            "showbackground": true,
            "ticks": "",
            "zerolinecolor": "white"
           },
           "zaxis": {
            "backgroundcolor": "#E5ECF6",
            "gridcolor": "white",
            "gridwidth": 2,
            "linecolor": "white",
            "showbackground": true,
            "ticks": "",
            "zerolinecolor": "white"
           }
          },
          "shapedefaults": {
           "line": {
            "color": "#2a3f5f"
           }
          },
          "ternary": {
           "aaxis": {
            "gridcolor": "white",
            "linecolor": "white",
            "ticks": ""
           },
           "baxis": {
            "gridcolor": "white",
            "linecolor": "white",
            "ticks": ""
           },
           "bgcolor": "#E5ECF6",
           "caxis": {
            "gridcolor": "white",
            "linecolor": "white",
            "ticks": ""
           }
          },
          "title": {
           "x": 0.05
          },
          "xaxis": {
           "automargin": true,
           "gridcolor": "white",
           "linecolor": "white",
           "ticks": "",
           "title": {
            "standoff": 15
           },
           "zerolinecolor": "white",
           "zerolinewidth": 2
          },
          "yaxis": {
           "automargin": true,
           "gridcolor": "white",
           "linecolor": "white",
           "ticks": "",
           "title": {
            "standoff": 15
           },
           "zerolinecolor": "white",
           "zerolinewidth": 2
          }
         }
        },
        "xaxis": {
         "anchor": "y",
         "autorange": true,
         "domain": [
          0,
          1
         ],
         "range": [
          -0.5,
          2.5
         ],
         "title": {
          "text": "event"
         },
         "type": "category"
        },
        "yaxis": {
         "anchor": "x",
         "autorange": true,
         "domain": [
          0,
          1
         ],
         "range": [
          -1480173.3333333333,
          1480173.3333333333
         ],
         "title": {
          "text": "count"
         },
         "type": "linear"
        }
       }
      },
      "image/png": "[encoded data removed]",
      "text/html": [
       "<div>                            <div id=\"1af7b928-125a-4f2b-989b-8865aae18aca\" class=\"plotly-graph-div\" style=\"height:525px; width:100%;\"></div>            <script type=\"text/javascript\">                require([\"plotly\"], function(Plotly) {                    window.PLOTLYENV=window.PLOTLYENV || {};                                    if (document.getElementById(\"1af7b928-125a-4f2b-989b-8865aae18aca\")) {                    Plotly.newPlot(                        \"1af7b928-125a-4f2b-989b-8865aae18aca\",                        [{\"hovertemplate\":\"event=%{x}\\u003cbr\\u003ecount=%{y}\\u003cextra\\u003e\\u003c\\u002fextra\\u003e\",\"legendgroup\":\"\",\"marker\":{\"color\":\"#636efa\"},\"name\":\"\",\"orientation\":\"v\",\"showlegend\":false,\"x\":[\"view\",\"addtocart\",\"transaction\"],\"xaxis\":\"x\",\"y\":[2664312.0,69332.0,22457.0],\"yaxis\":\"y\",\"type\":\"funnel\"}],                        {\"template\":{\"data\":{\"histogram2dcontour\":[{\"type\":\"histogram2dcontour\",\"colorbar\":{\"outlinewidth\":0,\"ticks\":\"\"},\"colorscale\":[[0.0,\"#0d0887\"],[0.1111111111111111,\"#46039f\"],[0.2222222222222222,\"#7201a8\"],[0.3333333333333333,\"#9c179e\"],[0.4444444444444444,\"#bd3786\"],[0.5555555555555556,\"#d8576b\"],[0.6666666666666666,\"#ed7953\"],[0.7777777777777778,\"#fb9f3a\"],[0.8888888888888888,\"#fdca26\"],[1.0,\"#f0f921\"]]}],\"choropleth\":[{\"type\":\"choropleth\",\"colorbar\":{\"outlinewidth\":0,\"ticks\":\"\"}}],\"histogram2d\":[{\"type\":\"histogram2d\",\"colorbar\":{\"outlinewidth\":0,\"ticks\":\"\"},\"colorscale\":[[0.0,\"#0d0887\"],[0.1111111111111111,\"#46039f\"],[0.2222222222222222,\"#7201a8\"],[0.3333333333333333,\"#9c179e\"],[0.4444444444444444,\"#bd3786\"],[0.5555555555555556,\"#d8576b\"],[0.6666666666666666,\"#ed7953\"],[0.7777777777777778,\"#fb9f3a\"],[0.8888888888888888,\"#fdca26\"],[1.0,\"#f0f921\"]]}],\"heatmap\":[{\"type\":\"heatmap\",\"colorbar\":{\"outlinewidth\":0,\"ticks\":\"\"},\"colorscale\":[[0.0,\"#0d0887\"],[0.1111111111111111,\"#46039f\"],[0.2222222222222222,\"#7201a8\"],[0.3333333333333333,\"#9c179e\"],[0.4444444444444444,\"#bd3786\"],[0.5555555555555556,\"#d8576b\"],[0.6666666666666666,\"#ed7953\"],[0.7777777777777778,\"#fb9f3a\"],[0.8888888888888888,\"#fdca26\"],[1.0,\"#f0f921\"]]}],\"heatmapgl\":[{\"type\":\"heatmapgl\",\"colorbar\":{\"outlinewidth\":0,\"ticks\":\"\"},\"colorscale\":[[0.0,\"#0d0887\"],[0.1111111111111111,\"#46039f\"],[0.2222222222222222,\"#7201a8\"],[0.3333333333333333,\"#9c179e\"],[0.4444444444444444,\"#bd3786\"],[0.5555555555555556,\"#d8576b\"],[0.6666666666666666,\"#ed7953\"],[0.7777777777777778,\"#fb9f3a\"],[0.8888888888888888,\"#fdca26\"],[1.0,\"#f0f921\"]]}],\"contourcarpet\":[{\"type\":\"contourcarpet\",\"colorbar\":{\"outlinewidth\":0,\"ticks\":\"\"}}],\"contour\":[{\"type\":\"contour\",\"colorbar\":{\"outlinewidth\":0,\"ticks\":\"\"},\"colorscale\":[[0.0,\"#0d0887\"],[0.1111111111111111,\"#46039f\"],[0.2222222222222222,\"#7201a8\"],[0.3333333333333333,\"#9c179e\"],[0.4444444444444444,\"#bd3786\"],[0.5555555555555556,\"#d8576b\"],[0.6666666666666666,\"#ed7953\"],[0.7777777777777778,\"#fb9f3a\"],[0.8888888888888888,\"#fdca26\"],[1.0,\"#f0f921\"]]}],\"surface\":[{\"type\":\"surface\",\"colorbar\":{\"outlinewidth\":0,\"ticks\":\"\"},\"colorscale\":[[0.0,\"#0d0887\"],[0.1111111111111111,\"#46039f\"],[0.2222222222222222,\"#7201a8\"],[0.3333333333333333,\"#9c179e\"],[0.4444444444444444,\"#bd3786\"],[0.5555555555555556,\"#d8576b\"],[0.6666666666666666,\"#ed7953\"],[0.7777777777777778,\"#fb9f3a\"],[0.8888888888888888,\"#fdca26\"],[1.0,\"#f0f921\"]]}],\"mesh3d\":[{\"type\":\"mesh3d\",\"colorbar\":{\"outlinewidth\":0,\"ticks\":\"\"}}],\"scatter\":[{\"fillpattern\":{\"fillmode\":\"overlay\",\"size\":10,\"solidity\":0.2},\"type\":\"scatter\"}],\"parcoords\":[{\"type\":\"parcoords\",\"line\":{\"colorbar\":{\"outlinewidth\":0,\"ticks\":\"\"}}}],\"scatterpolargl\":[{\"type\":\"scatterpolargl\",\"marker\":{\"colorbar\":{\"outlinewidth\":0,\"ticks\":\"\"}}}],\"bar\":[{\"error_x\":{\"color\":\"#2a3f5f\"},\"error_y\":{\"color\":\"#2a3f5f\"},\"marker\":{\"line\":{\"color\":\"#E5ECF6\",\"width\":0.5},\"pattern\":{\"fillmode\":\"overlay\",\"size\":10,\"solidity\":0.2}},\"type\":\"bar\"}],\"scattergeo\":[{\"type\":\"scattergeo\",\"marker\":{\"colorbar\":{\"outlinewidth\":0,\"ticks\":\"\"}}}],\"scatterpolar\":[{\"type\":\"scatterpolar\",\"marker\":{\"colorbar\":{\"outlinewidth\":0,\"ticks\":\"\"}}}],\"histogram\":[{\"marker\":{\"pattern\":{\"fillmode\":\"overlay\",\"size\":10,\"solidity\":0.2}},\"type\":\"histogram\"}],\"scattergl\":[{\"type\":\"scattergl\",\"marker\":{\"colorbar\":{\"outlinewidth\":0,\"ticks\":\"\"}}}],\"scatter3d\":[{\"type\":\"scatter3d\",\"line\":{\"colorbar\":{\"outlinewidth\":0,\"ticks\":\"\"}},\"marker\":{\"colorbar\":{\"outlinewidth\":0,\"ticks\":\"\"}}}],\"scattermapbox\":[{\"type\":\"scattermapbox\",\"marker\":{\"colorbar\":{\"outlinewidth\":0,\"ticks\":\"\"}}}],\"scatterternary\":[{\"type\":\"scatterternary\",\"marker\":{\"colorbar\":{\"outlinewidth\":0,\"ticks\":\"\"}}}],\"scattercarpet\":[{\"type\":\"scattercarpet\",\"marker\":{\"colorbar\":{\"outlinewidth\":0,\"ticks\":\"\"}}}],\"carpet\":[{\"aaxis\":{\"endlinecolor\":\"#2a3f5f\",\"gridcolor\":\"white\",\"linecolor\":\"white\",\"minorgridcolor\":\"white\",\"startlinecolor\":\"#2a3f5f\"},\"baxis\":{\"endlinecolor\":\"#2a3f5f\",\"gridcolor\":\"white\",\"linecolor\":\"white\",\"minorgridcolor\":\"white\",\"startlinecolor\":\"#2a3f5f\"},\"type\":\"carpet\"}],\"table\":[{\"cells\":{\"fill\":{\"color\":\"#EBF0F8\"},\"line\":{\"color\":\"white\"}},\"header\":{\"fill\":{\"color\":\"#C8D4E3\"},\"line\":{\"color\":\"white\"}},\"type\":\"table\"}],\"barpolar\":[{\"marker\":{\"line\":{\"color\":\"#E5ECF6\",\"width\":0.5},\"pattern\":{\"fillmode\":\"overlay\",\"size\":10,\"solidity\":0.2}},\"type\":\"barpolar\"}],\"pie\":[{\"automargin\":true,\"type\":\"pie\"}]},\"layout\":{\"autotypenumbers\":\"strict\",\"colorway\":[\"#636efa\",\"#EF553B\",\"#00cc96\",\"#ab63fa\",\"#FFA15A\",\"#19d3f3\",\"#FF6692\",\"#B6E880\",\"#FF97FF\",\"#FECB52\"],\"font\":{\"color\":\"#2a3f5f\"},\"hovermode\":\"closest\",\"hoverlabel\":{\"align\":\"left\"},\"paper_bgcolor\":\"white\",\"plot_bgcolor\":\"#E5ECF6\",\"polar\":{\"bgcolor\":\"#E5ECF6\",\"angularaxis\":{\"gridcolor\":\"white\",\"linecolor\":\"white\",\"ticks\":\"\"},\"radialaxis\":{\"gridcolor\":\"white\",\"linecolor\":\"white\",\"ticks\":\"\"}},\"ternary\":{\"bgcolor\":\"#E5ECF6\",\"aaxis\":{\"gridcolor\":\"white\",\"linecolor\":\"white\",\"ticks\":\"\"},\"baxis\":{\"gridcolor\":\"white\",\"linecolor\":\"white\",\"ticks\":\"\"},\"caxis\":{\"gridcolor\":\"white\",\"linecolor\":\"white\",\"ticks\":\"\"}},\"coloraxis\":{\"colorbar\":{\"outlinewidth\":0,\"ticks\":\"\"}},\"colorscale\":{\"sequential\":[[0.0,\"#0d0887\"],[0.1111111111111111,\"#46039f\"],[0.2222222222222222,\"#7201a8\"],[0.3333333333333333,\"#9c179e\"],[0.4444444444444444,\"#bd3786\"],[0.5555555555555556,\"#d8576b\"],[0.6666666666666666,\"#ed7953\"],[0.7777777777777778,\"#fb9f3a\"],[0.8888888888888888,\"#fdca26\"],[1.0,\"#f0f921\"]],\"sequentialminus\":[[0.0,\"#0d0887\"],[0.1111111111111111,\"#46039f\"],[0.2222222222222222,\"#7201a8\"],[0.3333333333333333,\"#9c179e\"],[0.4444444444444444,\"#bd3786\"],[0.5555555555555556,\"#d8576b\"],[0.6666666666666666,\"#ed7953\"],[0.7777777777777778,\"#fb9f3a\"],[0.8888888888888888,\"#fdca26\"],[1.0,\"#f0f921\"]],\"diverging\":[[0,\"#8e0152\"],[0.1,\"#c51b7d\"],[0.2,\"#de77ae\"],[0.3,\"#f1b6da\"],[0.4,\"#fde0ef\"],[0.5,\"#f7f7f7\"],[0.6,\"#e6f5d0\"],[0.7,\"#b8e186\"],[0.8,\"#7fbc41\"],[0.9,\"#4d9221\"],[1,\"#276419\"]]},\"xaxis\":{\"gridcolor\":\"white\",\"linecolor\":\"white\",\"ticks\":\"\",\"title\":{\"standoff\":15},\"zerolinecolor\":\"white\",\"automargin\":true,\"zerolinewidth\":2},\"yaxis\":{\"gridcolor\":\"white\",\"linecolor\":\"white\",\"ticks\":\"\",\"title\":{\"standoff\":15},\"zerolinecolor\":\"white\",\"automargin\":true,\"zerolinewidth\":2},\"scene\":{\"xaxis\":{\"backgroundcolor\":\"#E5ECF6\",\"gridcolor\":\"white\",\"linecolor\":\"white\",\"showbackground\":true,\"ticks\":\"\",\"zerolinecolor\":\"white\",\"gridwidth\":2},\"yaxis\":{\"backgroundcolor\":\"#E5ECF6\",\"gridcolor\":\"white\",\"linecolor\":\"white\",\"showbackground\":true,\"ticks\":\"\",\"zerolinecolor\":\"white\",\"gridwidth\":2},\"zaxis\":{\"backgroundcolor\":\"#E5ECF6\",\"gridcolor\":\"white\",\"linecolor\":\"white\",\"showbackground\":true,\"ticks\":\"\",\"zerolinecolor\":\"white\",\"gridwidth\":2}},\"shapedefaults\":{\"line\":{\"color\":\"#2a3f5f\"}},\"annotationdefaults\":{\"arrowcolor\":\"#2a3f5f\",\"arrowhead\":0,\"arrowwidth\":1},\"geo\":{\"bgcolor\":\"white\",\"landcolor\":\"#E5ECF6\",\"subunitcolor\":\"white\",\"showland\":true,\"showlakes\":true,\"lakecolor\":\"white\"},\"title\":{\"x\":0.05},\"mapbox\":{\"style\":\"light\"}}},\"xaxis\":{\"anchor\":\"y\",\"domain\":[0.0,1.0],\"title\":{\"text\":\"event\"}},\"yaxis\":{\"anchor\":\"x\",\"domain\":[0.0,1.0],\"title\":{\"text\":\"count\"}},\"legend\":{\"tracegroupgap\":0},\"margin\":{\"t\":60}},                        {\"responsive\": true}                    ).then(function(){\n",
       "                            \n",
       "var gd = document.getElementById('1af7b928-125a-4f2b-989b-8865aae18aca');\n",
       "var x = new MutationObserver(function (mutations, observer) {{\n",
       "        var display = window.getComputedStyle(gd).display;\n",
       "        if (!display || display === 'none') {{\n",
       "            console.log([gd, 'removed!']);\n",
       "            Plotly.purge(gd);\n",
       "            observer.disconnect();\n",
       "        }}\n",
       "}});\n",
       "\n",
       "// Listen for the removal of the full notebook cells\n",
       "var notebookContainer = gd.closest('#notebook-container');\n",
       "if (notebookContainer) {{\n",
       "    x.observe(notebookContainer, {childList: true});\n",
       "}}\n",
       "\n",
       "// Listen for the clearing of the current output cell\n",
       "var outputEl = gd.closest('.output');\n",
       "if (outputEl) {{\n",
       "    x.observe(outputEl, {childList: true});\n",
       "}}\n",
       "\n",
       "                        })                };                });            </script>        </div>"
      ]
     },
     "metadata": {},
     "output_type": "display_data"
    }
   ],
   "source": [
    "import plotly.express as px\n",
    "# Membuat funnel chart untuk seluruh transaksi\n",
    "fig = px.funnel(df_plot_funnel, y='count', x='event')\n",
    "\n",
    "# Display the chart\n",
    "fig.show()"
   ]
  },
  {
   "cell_type": "code",
   "execution_count": 157,
   "id": "22df1636-c4c3-4e6f-ab2f-f4ff81024a4c",
   "metadata": {},
   "outputs": [
    {
     "data": {
      "application/vnd.plotly.v1+json": {
       "config": {
        "plotlyServerURL": "https://plot.ly"
       },
       "data": [
        {
         "hovertemplate": "event=%{x}<br>count=%{y}<extra></extra>",
         "legendgroup": "",
         "marker": {
          "color": "#636efa"
         },
         "name": "",
         "orientation": "v",
         "showlegend": false,
         "type": "funnel",
         "x": [
          "view",
          "addtocart",
          "transaction"
         ],
         "xaxis": "x",
         "y": [
          571672,
          14369,
          4611
         ],
         "yaxis": "y"
        }
       ],
       "layout": {
        "autosize": true,
        "legend": {
         "tracegroupgap": 0
        },
        "margin": {
         "t": 60
        },
        "template": {
         "data": {
          "bar": [
           {
            "error_x": {
             "color": "#2a3f5f"
            },
            "error_y": {
             "color": "#2a3f5f"
            },
            "marker": {
             "line": {
              "color": "#E5ECF6",
              "width": 0.5
             },
             "pattern": {
              "fillmode": "overlay",
              "size": 10,
              "solidity": 0.2
             }
            },
            "type": "bar"
           }
          ],
          "barpolar": [
           {
            "marker": {
             "line": {
              "color": "#E5ECF6",
              "width": 0.5
             },
             "pattern": {
              "fillmode": "overlay",
              "size": 10,
              "solidity": 0.2
             }
            },
            "type": "barpolar"
           }
          ],
          "carpet": [
           {
            "aaxis": {
             "endlinecolor": "#2a3f5f",
             "gridcolor": "white",
             "linecolor": "white",
             "minorgridcolor": "white",
             "startlinecolor": "#2a3f5f"
            },
            "baxis": {
             "endlinecolor": "#2a3f5f",
             "gridcolor": "white",
             "linecolor": "white",
             "minorgridcolor": "white",
             "startlinecolor": "#2a3f5f"
            },
            "type": "carpet"
           }
          ],
          "choropleth": [
           {
            "colorbar": {
             "outlinewidth": 0,
             "ticks": ""
            },
            "type": "choropleth"
           }
          ],
          "contour": [
           {
            "colorbar": {
             "outlinewidth": 0,
             "ticks": ""
            },
            "colorscale": [
             [
              0,
              "#0d0887"
             ],
             [
              0.1111111111111111,
              "#46039f"
             ],
             [
              0.2222222222222222,
              "#7201a8"
             ],
             [
              0.3333333333333333,
              "#9c179e"
             ],
             [
              0.4444444444444444,
              "#bd3786"
             ],
             [
              0.5555555555555556,
              "#d8576b"
             ],
             [
              0.6666666666666666,
              "#ed7953"
             ],
             [
              0.7777777777777778,
              "#fb9f3a"
             ],
             [
              0.8888888888888888,
              "#fdca26"
             ],
             [
              1,
              "#f0f921"
             ]
            ],
            "type": "contour"
           }
          ],
          "contourcarpet": [
           {
            "colorbar": {
             "outlinewidth": 0,
             "ticks": ""
            },
            "type": "contourcarpet"
           }
          ],
          "heatmap": [
           {
            "colorbar": {
             "outlinewidth": 0,
             "ticks": ""
            },
            "colorscale": [
             [
              0,
              "#0d0887"
             ],
             [
              0.1111111111111111,
              "#46039f"
             ],
             [
              0.2222222222222222,
              "#7201a8"
             ],
             [
              0.3333333333333333,
              "#9c179e"
             ],
             [
              0.4444444444444444,
              "#bd3786"
             ],
             [
              0.5555555555555556,
              "#d8576b"
             ],
             [
              0.6666666666666666,
              "#ed7953"
             ],
             [
              0.7777777777777778,
              "#fb9f3a"
             ],
             [
              0.8888888888888888,
              "#fdca26"
             ],
             [
              1,
              "#f0f921"
             ]
            ],
            "type": "heatmap"
           }
          ],
          "heatmapgl": [
           {
            "colorbar": {
             "outlinewidth": 0,
             "ticks": ""
            },
            "colorscale": [
             [
              0,
              "#0d0887"
             ],
             [
              0.1111111111111111,
              "#46039f"
             ],
             [
              0.2222222222222222,
              "#7201a8"
             ],
             [
              0.3333333333333333,
              "#9c179e"
             ],
             [
              0.4444444444444444,
              "#bd3786"
             ],
             [
              0.5555555555555556,
              "#d8576b"
             ],
             [
              0.6666666666666666,
              "#ed7953"
             ],
             [
              0.7777777777777778,
              "#fb9f3a"
             ],
             [
              0.8888888888888888,
              "#fdca26"
             ],
             [
              1,
              "#f0f921"
             ]
            ],
            "type": "heatmapgl"
           }
          ],
          "histogram": [
           {
            "marker": {
             "pattern": {
              "fillmode": "overlay",
              "size": 10,
              "solidity": 0.2
             }
            },
            "type": "histogram"
           }
          ],
          "histogram2d": [
           {
            "colorbar": {
             "outlinewidth": 0,
             "ticks": ""
            },
            "colorscale": [
             [
              0,
              "#0d0887"
             ],
             [
              0.1111111111111111,
              "#46039f"
             ],
             [
              0.2222222222222222,
              "#7201a8"
             ],
             [
              0.3333333333333333,
              "#9c179e"
             ],
             [
              0.4444444444444444,
              "#bd3786"
             ],
             [
              0.5555555555555556,
              "#d8576b"
             ],
             [
              0.6666666666666666,
              "#ed7953"
             ],
             [
              0.7777777777777778,
              "#fb9f3a"
             ],
             [
              0.8888888888888888,
              "#fdca26"
             ],
             [
              1,
              "#f0f921"
             ]
            ],
            "type": "histogram2d"
           }
          ],
          "histogram2dcontour": [
           {
            "colorbar": {
             "outlinewidth": 0,
             "ticks": ""
            },
            "colorscale": [
             [
              0,
              "#0d0887"
             ],
             [
              0.1111111111111111,
              "#46039f"
             ],
             [
              0.2222222222222222,
              "#7201a8"
             ],
             [
              0.3333333333333333,
              "#9c179e"
             ],
             [
              0.4444444444444444,
              "#bd3786"
             ],
             [
              0.5555555555555556,
              "#d8576b"
             ],
             [
              0.6666666666666666,
              "#ed7953"
             ],
             [
              0.7777777777777778,
              "#fb9f3a"
             ],
             [
              0.8888888888888888,
              "#fdca26"
             ],
             [
              1,
              "#f0f921"
             ]
            ],
            "type": "histogram2dcontour"
           }
          ],
          "mesh3d": [
           {
            "colorbar": {
             "outlinewidth": 0,
             "ticks": ""
            },
            "type": "mesh3d"
           }
          ],
          "parcoords": [
           {
            "line": {
             "colorbar": {
              "outlinewidth": 0,
              "ticks": ""
             }
            },
            "type": "parcoords"
           }
          ],
          "pie": [
           {
            "automargin": true,
            "type": "pie"
           }
          ],
          "scatter": [
           {
            "fillpattern": {
             "fillmode": "overlay",
             "size": 10,
             "solidity": 0.2
            },
            "type": "scatter"
           }
          ],
          "scatter3d": [
           {
            "line": {
             "colorbar": {
              "outlinewidth": 0,
              "ticks": ""
             }
            },
            "marker": {
             "colorbar": {
              "outlinewidth": 0,
              "ticks": ""
             }
            },
            "type": "scatter3d"
           }
          ],
          "scattercarpet": [
           {
            "marker": {
             "colorbar": {
              "outlinewidth": 0,
              "ticks": ""
             }
            },
            "type": "scattercarpet"
           }
          ],
          "scattergeo": [
           {
            "marker": {
             "colorbar": {
              "outlinewidth": 0,
              "ticks": ""
             }
            },
            "type": "scattergeo"
           }
          ],
          "scattergl": [
           {
            "marker": {
             "colorbar": {
              "outlinewidth": 0,
              "ticks": ""
             }
            },
            "type": "scattergl"
           }
          ],
          "scattermapbox": [
           {
            "marker": {
             "colorbar": {
              "outlinewidth": 0,
              "ticks": ""
             }
            },
            "type": "scattermapbox"
           }
          ],
          "scatterpolar": [
           {
            "marker": {
             "colorbar": {
              "outlinewidth": 0,
              "ticks": ""
             }
            },
            "type": "scatterpolar"
           }
          ],
          "scatterpolargl": [
           {
            "marker": {
             "colorbar": {
              "outlinewidth": 0,
              "ticks": ""
             }
            },
            "type": "scatterpolargl"
           }
          ],
          "scatterternary": [
           {
            "marker": {
             "colorbar": {
              "outlinewidth": 0,
              "ticks": ""
             }
            },
            "type": "scatterternary"
           }
          ],
          "surface": [
           {
            "colorbar": {
             "outlinewidth": 0,
             "ticks": ""
            },
            "colorscale": [
             [
              0,
              "#0d0887"
             ],
             [
              0.1111111111111111,
              "#46039f"
             ],
             [
              0.2222222222222222,
              "#7201a8"
             ],
             [
              0.3333333333333333,
              "#9c179e"
             ],
             [
              0.4444444444444444,
              "#bd3786"
             ],
             [
              0.5555555555555556,
              "#d8576b"
             ],
             [
              0.6666666666666666,
              "#ed7953"
             ],
             [
              0.7777777777777778,
              "#fb9f3a"
             ],
             [
              0.8888888888888888,
              "#fdca26"
             ],
             [
              1,
              "#f0f921"
             ]
            ],
            "type": "surface"
           }
          ],
          "table": [
           {
            "cells": {
             "fill": {
              "color": "#EBF0F8"
             },
             "line": {
              "color": "white"
             }
            },
            "header": {
             "fill": {
              "color": "#C8D4E3"
             },
             "line": {
              "color": "white"
             }
            },
            "type": "table"
           }
          ]
         },
         "layout": {
          "annotationdefaults": {
           "arrowcolor": "#2a3f5f",
           "arrowhead": 0,
           "arrowwidth": 1
          },
          "autotypenumbers": "strict",
          "coloraxis": {
           "colorbar": {
            "outlinewidth": 0,
            "ticks": ""
           }
          },
          "colorscale": {
           "diverging": [
            [
             0,
             "#8e0152"
            ],
            [
             0.1,
             "#c51b7d"
            ],
            [
             0.2,
             "#de77ae"
            ],
            [
             0.3,
             "#f1b6da"
            ],
            [
             0.4,
             "#fde0ef"
            ],
            [
             0.5,
             "#f7f7f7"
            ],
            [
             0.6,
             "#e6f5d0"
            ],
            [
             0.7,
             "#b8e186"
            ],
            [
             0.8,
             "#7fbc41"
            ],
            [
             0.9,
             "#4d9221"
            ],
            [
             1,
             "#276419"
            ]
           ],
           "sequential": [
            [
             0,
             "#0d0887"
            ],
            [
             0.1111111111111111,
             "#46039f"
            ],
            [
             0.2222222222222222,
             "#7201a8"
            ],
            [
             0.3333333333333333,
             "#9c179e"
            ],
            [
             0.4444444444444444,
             "#bd3786"
            ],
            [
             0.5555555555555556,
             "#d8576b"
            ],
            [
             0.6666666666666666,
             "#ed7953"
            ],
            [
             0.7777777777777778,
             "#fb9f3a"
            ],
            [
             0.8888888888888888,
             "#fdca26"
            ],
            [
             1,
             "#f0f921"
            ]
           ],
           "sequentialminus": [
            [
             0,
             "#0d0887"
            ],
            [
             0.1111111111111111,
             "#46039f"
            ],
            [
             0.2222222222222222,
             "#7201a8"
            ],
            [
             0.3333333333333333,
             "#9c179e"
            ],
            [
             0.4444444444444444,
             "#bd3786"
            ],
            [
             0.5555555555555556,
             "#d8576b"
            ],
            [
             0.6666666666666666,
             "#ed7953"
            ],
            [
             0.7777777777777778,
             "#fb9f3a"
            ],
            [
             0.8888888888888888,
             "#fdca26"
            ],
            [
             1,
             "#f0f921"
            ]
           ]
          },
          "colorway": [
           "#636efa",
           "#EF553B",
           "#00cc96",
           "#ab63fa",
           "#FFA15A",
           "#19d3f3",
           "#FF6692",
           "#B6E880",
           "#FF97FF",
           "#FECB52"
          ],
          "font": {
           "color": "#2a3f5f"
          },
          "geo": {
           "bgcolor": "white",
           "lakecolor": "white",
           "landcolor": "#E5ECF6",
           "showlakes": true,
           "showland": true,
           "subunitcolor": "white"
          },
          "hoverlabel": {
           "align": "left"
          },
          "hovermode": "closest",
          "mapbox": {
           "style": "light"
          },
          "paper_bgcolor": "white",
          "plot_bgcolor": "#E5ECF6",
          "polar": {
           "angularaxis": {
            "gridcolor": "white",
            "linecolor": "white",
            "ticks": ""
           },
           "bgcolor": "#E5ECF6",
           "radialaxis": {
            "gridcolor": "white",
            "linecolor": "white",
            "ticks": ""
           }
          },
          "scene": {
           "xaxis": {
            "backgroundcolor": "#E5ECF6",
            "gridcolor": "white",
            "gridwidth": 2,
            "linecolor": "white",
            "showbackground": true,
            "ticks": "",
            "zerolinecolor": "white"
           },
           "yaxis": {
            "backgroundcolor": "#E5ECF6",
            "gridcolor": "white",
            "gridwidth": 2,
            "linecolor": "white",
            "showbackground": true,
            "ticks": "",
            "zerolinecolor": "white"
           },
           "zaxis": {
            "backgroundcolor": "#E5ECF6",
            "gridcolor": "white",
            "gridwidth": 2,
            "linecolor": "white",
            "showbackground": true,
            "ticks": "",
            "zerolinecolor": "white"
           }
          },
          "shapedefaults": {
           "line": {
            "color": "#2a3f5f"
           }
          },
          "ternary": {
           "aaxis": {
            "gridcolor": "white",
            "linecolor": "white",
            "ticks": ""
           },
           "baxis": {
            "gridcolor": "white",
            "linecolor": "white",
            "ticks": ""
           },
           "bgcolor": "#E5ECF6",
           "caxis": {
            "gridcolor": "white",
            "linecolor": "white",
            "ticks": ""
           }
          },
          "title": {
           "x": 0.05
          },
          "xaxis": {
           "automargin": true,
           "gridcolor": "white",
           "linecolor": "white",
           "ticks": "",
           "title": {
            "standoff": 15
           },
           "zerolinecolor": "white",
           "zerolinewidth": 2
          },
          "yaxis": {
           "automargin": true,
           "gridcolor": "white",
           "linecolor": "white",
           "ticks": "",
           "title": {
            "standoff": 15
           },
           "zerolinecolor": "white",
           "zerolinewidth": 2
          }
         }
        },
        "xaxis": {
         "anchor": "y",
         "autorange": true,
         "domain": [
          0,
          1
         ],
         "range": [
          -0.5,
          2.5
         ],
         "title": {
          "text": "event"
         },
         "type": "category"
        },
        "yaxis": {
         "anchor": "x",
         "autorange": true,
         "domain": [
          0,
          1
         ],
         "range": [
          -317595.55555555556,
          317595.55555555556
         ],
         "title": {
          "text": "count"
         },
         "type": "linear"
        }
       }
      },
      "image/png": "[encoded data removed]",
      "text/html": [
       "<div>                            <div id=\"4e631ba4-ed07-4b19-bbea-f97753488c91\" class=\"plotly-graph-div\" style=\"height:525px; width:100%;\"></div>            <script type=\"text/javascript\">                require([\"plotly\"], function(Plotly) {                    window.PLOTLYENV=window.PLOTLYENV || {};                                    if (document.getElementById(\"4e631ba4-ed07-4b19-bbea-f97753488c91\")) {                    Plotly.newPlot(                        \"4e631ba4-ed07-4b19-bbea-f97753488c91\",                        [{\"hovertemplate\":\"event=%{x}\\u003cbr\\u003ecount=%{y}\\u003cextra\\u003e\\u003c\\u002fextra\\u003e\",\"legendgroup\":\"\",\"marker\":{\"color\":\"#636efa\"},\"name\":\"\",\"orientation\":\"v\",\"showlegend\":false,\"x\":[\"view\",\"addtocart\",\"transaction\"],\"xaxis\":\"x\",\"y\":[571672.0,14369.0,4611.0],\"yaxis\":\"y\",\"type\":\"funnel\"}],                        {\"template\":{\"data\":{\"histogram2dcontour\":[{\"type\":\"histogram2dcontour\",\"colorbar\":{\"outlinewidth\":0,\"ticks\":\"\"},\"colorscale\":[[0.0,\"#0d0887\"],[0.1111111111111111,\"#46039f\"],[0.2222222222222222,\"#7201a8\"],[0.3333333333333333,\"#9c179e\"],[0.4444444444444444,\"#bd3786\"],[0.5555555555555556,\"#d8576b\"],[0.6666666666666666,\"#ed7953\"],[0.7777777777777778,\"#fb9f3a\"],[0.8888888888888888,\"#fdca26\"],[1.0,\"#f0f921\"]]}],\"choropleth\":[{\"type\":\"choropleth\",\"colorbar\":{\"outlinewidth\":0,\"ticks\":\"\"}}],\"histogram2d\":[{\"type\":\"histogram2d\",\"colorbar\":{\"outlinewidth\":0,\"ticks\":\"\"},\"colorscale\":[[0.0,\"#0d0887\"],[0.1111111111111111,\"#46039f\"],[0.2222222222222222,\"#7201a8\"],[0.3333333333333333,\"#9c179e\"],[0.4444444444444444,\"#bd3786\"],[0.5555555555555556,\"#d8576b\"],[0.6666666666666666,\"#ed7953\"],[0.7777777777777778,\"#fb9f3a\"],[0.8888888888888888,\"#fdca26\"],[1.0,\"#f0f921\"]]}],\"heatmap\":[{\"type\":\"heatmap\",\"colorbar\":{\"outlinewidth\":0,\"ticks\":\"\"},\"colorscale\":[[0.0,\"#0d0887\"],[0.1111111111111111,\"#46039f\"],[0.2222222222222222,\"#7201a8\"],[0.3333333333333333,\"#9c179e\"],[0.4444444444444444,\"#bd3786\"],[0.5555555555555556,\"#d8576b\"],[0.6666666666666666,\"#ed7953\"],[0.7777777777777778,\"#fb9f3a\"],[0.8888888888888888,\"#fdca26\"],[1.0,\"#f0f921\"]]}],\"heatmapgl\":[{\"type\":\"heatmapgl\",\"colorbar\":{\"outlinewidth\":0,\"ticks\":\"\"},\"colorscale\":[[0.0,\"#0d0887\"],[0.1111111111111111,\"#46039f\"],[0.2222222222222222,\"#7201a8\"],[0.3333333333333333,\"#9c179e\"],[0.4444444444444444,\"#bd3786\"],[0.5555555555555556,\"#d8576b\"],[0.6666666666666666,\"#ed7953\"],[0.7777777777777778,\"#fb9f3a\"],[0.8888888888888888,\"#fdca26\"],[1.0,\"#f0f921\"]]}],\"contourcarpet\":[{\"type\":\"contourcarpet\",\"colorbar\":{\"outlinewidth\":0,\"ticks\":\"\"}}],\"contour\":[{\"type\":\"contour\",\"colorbar\":{\"outlinewidth\":0,\"ticks\":\"\"},\"colorscale\":[[0.0,\"#0d0887\"],[0.1111111111111111,\"#46039f\"],[0.2222222222222222,\"#7201a8\"],[0.3333333333333333,\"#9c179e\"],[0.4444444444444444,\"#bd3786\"],[0.5555555555555556,\"#d8576b\"],[0.6666666666666666,\"#ed7953\"],[0.7777777777777778,\"#fb9f3a\"],[0.8888888888888888,\"#fdca26\"],[1.0,\"#f0f921\"]]}],\"surface\":[{\"type\":\"surface\",\"colorbar\":{\"outlinewidth\":0,\"ticks\":\"\"},\"colorscale\":[[0.0,\"#0d0887\"],[0.1111111111111111,\"#46039f\"],[0.2222222222222222,\"#7201a8\"],[0.3333333333333333,\"#9c179e\"],[0.4444444444444444,\"#bd3786\"],[0.5555555555555556,\"#d8576b\"],[0.6666666666666666,\"#ed7953\"],[0.7777777777777778,\"#fb9f3a\"],[0.8888888888888888,\"#fdca26\"],[1.0,\"#f0f921\"]]}],\"mesh3d\":[{\"type\":\"mesh3d\",\"colorbar\":{\"outlinewidth\":0,\"ticks\":\"\"}}],\"scatter\":[{\"fillpattern\":{\"fillmode\":\"overlay\",\"size\":10,\"solidity\":0.2},\"type\":\"scatter\"}],\"parcoords\":[{\"type\":\"parcoords\",\"line\":{\"colorbar\":{\"outlinewidth\":0,\"ticks\":\"\"}}}],\"scatterpolargl\":[{\"type\":\"scatterpolargl\",\"marker\":{\"colorbar\":{\"outlinewidth\":0,\"ticks\":\"\"}}}],\"bar\":[{\"error_x\":{\"color\":\"#2a3f5f\"},\"error_y\":{\"color\":\"#2a3f5f\"},\"marker\":{\"line\":{\"color\":\"#E5ECF6\",\"width\":0.5},\"pattern\":{\"fillmode\":\"overlay\",\"size\":10,\"solidity\":0.2}},\"type\":\"bar\"}],\"scattergeo\":[{\"type\":\"scattergeo\",\"marker\":{\"colorbar\":{\"outlinewidth\":0,\"ticks\":\"\"}}}],\"scatterpolar\":[{\"type\":\"scatterpolar\",\"marker\":{\"colorbar\":{\"outlinewidth\":0,\"ticks\":\"\"}}}],\"histogram\":[{\"marker\":{\"pattern\":{\"fillmode\":\"overlay\",\"size\":10,\"solidity\":0.2}},\"type\":\"histogram\"}],\"scattergl\":[{\"type\":\"scattergl\",\"marker\":{\"colorbar\":{\"outlinewidth\":0,\"ticks\":\"\"}}}],\"scatter3d\":[{\"type\":\"scatter3d\",\"line\":{\"colorbar\":{\"outlinewidth\":0,\"ticks\":\"\"}},\"marker\":{\"colorbar\":{\"outlinewidth\":0,\"ticks\":\"\"}}}],\"scattermapbox\":[{\"type\":\"scattermapbox\",\"marker\":{\"colorbar\":{\"outlinewidth\":0,\"ticks\":\"\"}}}],\"scatterternary\":[{\"type\":\"scatterternary\",\"marker\":{\"colorbar\":{\"outlinewidth\":0,\"ticks\":\"\"}}}],\"scattercarpet\":[{\"type\":\"scattercarpet\",\"marker\":{\"colorbar\":{\"outlinewidth\":0,\"ticks\":\"\"}}}],\"carpet\":[{\"aaxis\":{\"endlinecolor\":\"#2a3f5f\",\"gridcolor\":\"white\",\"linecolor\":\"white\",\"minorgridcolor\":\"white\",\"startlinecolor\":\"#2a3f5f\"},\"baxis\":{\"endlinecolor\":\"#2a3f5f\",\"gridcolor\":\"white\",\"linecolor\":\"white\",\"minorgridcolor\":\"white\",\"startlinecolor\":\"#2a3f5f\"},\"type\":\"carpet\"}],\"table\":[{\"cells\":{\"fill\":{\"color\":\"#EBF0F8\"},\"line\":{\"color\":\"white\"}},\"header\":{\"fill\":{\"color\":\"#C8D4E3\"},\"line\":{\"color\":\"white\"}},\"type\":\"table\"}],\"barpolar\":[{\"marker\":{\"line\":{\"color\":\"#E5ECF6\",\"width\":0.5},\"pattern\":{\"fillmode\":\"overlay\",\"size\":10,\"solidity\":0.2}},\"type\":\"barpolar\"}],\"pie\":[{\"automargin\":true,\"type\":\"pie\"}]},\"layout\":{\"autotypenumbers\":\"strict\",\"colorway\":[\"#636efa\",\"#EF553B\",\"#00cc96\",\"#ab63fa\",\"#FFA15A\",\"#19d3f3\",\"#FF6692\",\"#B6E880\",\"#FF97FF\",\"#FECB52\"],\"font\":{\"color\":\"#2a3f5f\"},\"hovermode\":\"closest\",\"hoverlabel\":{\"align\":\"left\"},\"paper_bgcolor\":\"white\",\"plot_bgcolor\":\"#E5ECF6\",\"polar\":{\"bgcolor\":\"#E5ECF6\",\"angularaxis\":{\"gridcolor\":\"white\",\"linecolor\":\"white\",\"ticks\":\"\"},\"radialaxis\":{\"gridcolor\":\"white\",\"linecolor\":\"white\",\"ticks\":\"\"}},\"ternary\":{\"bgcolor\":\"#E5ECF6\",\"aaxis\":{\"gridcolor\":\"white\",\"linecolor\":\"white\",\"ticks\":\"\"},\"baxis\":{\"gridcolor\":\"white\",\"linecolor\":\"white\",\"ticks\":\"\"},\"caxis\":{\"gridcolor\":\"white\",\"linecolor\":\"white\",\"ticks\":\"\"}},\"coloraxis\":{\"colorbar\":{\"outlinewidth\":0,\"ticks\":\"\"}},\"colorscale\":{\"sequential\":[[0.0,\"#0d0887\"],[0.1111111111111111,\"#46039f\"],[0.2222222222222222,\"#7201a8\"],[0.3333333333333333,\"#9c179e\"],[0.4444444444444444,\"#bd3786\"],[0.5555555555555556,\"#d8576b\"],[0.6666666666666666,\"#ed7953\"],[0.7777777777777778,\"#fb9f3a\"],[0.8888888888888888,\"#fdca26\"],[1.0,\"#f0f921\"]],\"sequentialminus\":[[0.0,\"#0d0887\"],[0.1111111111111111,\"#46039f\"],[0.2222222222222222,\"#7201a8\"],[0.3333333333333333,\"#9c179e\"],[0.4444444444444444,\"#bd3786\"],[0.5555555555555556,\"#d8576b\"],[0.6666666666666666,\"#ed7953\"],[0.7777777777777778,\"#fb9f3a\"],[0.8888888888888888,\"#fdca26\"],[1.0,\"#f0f921\"]],\"diverging\":[[0,\"#8e0152\"],[0.1,\"#c51b7d\"],[0.2,\"#de77ae\"],[0.3,\"#f1b6da\"],[0.4,\"#fde0ef\"],[0.5,\"#f7f7f7\"],[0.6,\"#e6f5d0\"],[0.7,\"#b8e186\"],[0.8,\"#7fbc41\"],[0.9,\"#4d9221\"],[1,\"#276419\"]]},\"xaxis\":{\"gridcolor\":\"white\",\"linecolor\":\"white\",\"ticks\":\"\",\"title\":{\"standoff\":15},\"zerolinecolor\":\"white\",\"automargin\":true,\"zerolinewidth\":2},\"yaxis\":{\"gridcolor\":\"white\",\"linecolor\":\"white\",\"ticks\":\"\",\"title\":{\"standoff\":15},\"zerolinecolor\":\"white\",\"automargin\":true,\"zerolinewidth\":2},\"scene\":{\"xaxis\":{\"backgroundcolor\":\"#E5ECF6\",\"gridcolor\":\"white\",\"linecolor\":\"white\",\"showbackground\":true,\"ticks\":\"\",\"zerolinecolor\":\"white\",\"gridwidth\":2},\"yaxis\":{\"backgroundcolor\":\"#E5ECF6\",\"gridcolor\":\"white\",\"linecolor\":\"white\",\"showbackground\":true,\"ticks\":\"\",\"zerolinecolor\":\"white\",\"gridwidth\":2},\"zaxis\":{\"backgroundcolor\":\"#E5ECF6\",\"gridcolor\":\"white\",\"linecolor\":\"white\",\"showbackground\":true,\"ticks\":\"\",\"zerolinecolor\":\"white\",\"gridwidth\":2}},\"shapedefaults\":{\"line\":{\"color\":\"#2a3f5f\"}},\"annotationdefaults\":{\"arrowcolor\":\"#2a3f5f\",\"arrowhead\":0,\"arrowwidth\":1},\"geo\":{\"bgcolor\":\"white\",\"landcolor\":\"#E5ECF6\",\"subunitcolor\":\"white\",\"showland\":true,\"showlakes\":true,\"lakecolor\":\"white\"},\"title\":{\"x\":0.05},\"mapbox\":{\"style\":\"light\"}}},\"xaxis\":{\"anchor\":\"y\",\"domain\":[0.0,1.0],\"title\":{\"text\":\"event\"}},\"yaxis\":{\"anchor\":\"x\",\"domain\":[0.0,1.0],\"title\":{\"text\":\"count\"}},\"legend\":{\"tracegroupgap\":0},\"margin\":{\"t\":60}},                        {\"responsive\": true}                    ).then(function(){\n",
       "                            \n",
       "var gd = document.getElementById('4e631ba4-ed07-4b19-bbea-f97753488c91');\n",
       "var x = new MutationObserver(function (mutations, observer) {{\n",
       "        var display = window.getComputedStyle(gd).display;\n",
       "        if (!display || display === 'none') {{\n",
       "            console.log([gd, 'removed!']);\n",
       "            Plotly.purge(gd);\n",
       "            observer.disconnect();\n",
       "        }}\n",
       "}});\n",
       "\n",
       "// Listen for the removal of the full notebook cells\n",
       "var notebookContainer = gd.closest('#notebook-container');\n",
       "if (notebookContainer) {{\n",
       "    x.observe(notebookContainer, {childList: true});\n",
       "}}\n",
       "\n",
       "// Listen for the clearing of the current output cell\n",
       "var outputEl = gd.closest('.output');\n",
       "if (outputEl) {{\n",
       "    x.observe(outputEl, {childList: true});\n",
       "}}\n",
       "\n",
       "                        })                };                });            </script>        </div>"
      ]
     },
     "metadata": {},
     "output_type": "display_data"
    }
   ],
   "source": [
    "#Membuat  funnel chart untuk transaksi 1 bulan pertama\n",
    "import plotly.express as px\n",
    "df_plot_funnel_first = rekap_harian_total.query(\"date_key<'2015-06-01'\")[funnel_cols].sum(axis=0).to_frame('count').reset_index()\n",
    "fig = px.funnel(df_plot_funnel_first,y='count', x='event')\n",
    "fig.show()"
   ]
  },
  {
   "cell_type": "code",
   "execution_count": 155,
   "id": "b546a416-a278-49bb-bb79-775b4fb6b455",
   "metadata": {},
   "outputs": [
    {
     "data": {
      "application/vnd.plotly.v1+json": {
       "config": {
        "plotlyServerURL": "https://plot.ly"
       },
       "data": [
        {
         "hovertemplate": "event=%{x}<br>count=%{y}<extra></extra>",
         "legendgroup": "",
         "marker": {
          "color": "#636efa"
         },
         "name": "",
         "orientation": "v",
         "showlegend": false,
         "type": "funnel",
         "x": [
          "view",
          "addtocart",
          "transaction"
         ],
         "xaxis": "x",
         "y": [
          517113,
          13927,
          4422
         ],
         "yaxis": "y"
        }
       ],
       "layout": {
        "autosize": true,
        "legend": {
         "tracegroupgap": 0
        },
        "margin": {
         "t": 60
        },
        "template": {
         "data": {
          "bar": [
           {
            "error_x": {
             "color": "#2a3f5f"
            },
            "error_y": {
             "color": "#2a3f5f"
            },
            "marker": {
             "line": {
              "color": "#E5ECF6",
              "width": 0.5
             },
             "pattern": {
              "fillmode": "overlay",
              "size": 10,
              "solidity": 0.2
             }
            },
            "type": "bar"
           }
          ],
          "barpolar": [
           {
            "marker": {
             "line": {
              "color": "#E5ECF6",
              "width": 0.5
             },
             "pattern": {
              "fillmode": "overlay",
              "size": 10,
              "solidity": 0.2
             }
            },
            "type": "barpolar"
           }
          ],
          "carpet": [
           {
            "aaxis": {
             "endlinecolor": "#2a3f5f",
             "gridcolor": "white",
             "linecolor": "white",
             "minorgridcolor": "white",
             "startlinecolor": "#2a3f5f"
            },
            "baxis": {
             "endlinecolor": "#2a3f5f",
             "gridcolor": "white",
             "linecolor": "white",
             "minorgridcolor": "white",
             "startlinecolor": "#2a3f5f"
            },
            "type": "carpet"
           }
          ],
          "choropleth": [
           {
            "colorbar": {
             "outlinewidth": 0,
             "ticks": ""
            },
            "type": "choropleth"
           }
          ],
          "contour": [
           {
            "colorbar": {
             "outlinewidth": 0,
             "ticks": ""
            },
            "colorscale": [
             [
              0,
              "#0d0887"
             ],
             [
              0.1111111111111111,
              "#46039f"
             ],
             [
              0.2222222222222222,
              "#7201a8"
             ],
             [
              0.3333333333333333,
              "#9c179e"
             ],
             [
              0.4444444444444444,
              "#bd3786"
             ],
             [
              0.5555555555555556,
              "#d8576b"
             ],
             [
              0.6666666666666666,
              "#ed7953"
             ],
             [
              0.7777777777777778,
              "#fb9f3a"
             ],
             [
              0.8888888888888888,
              "#fdca26"
             ],
             [
              1,
              "#f0f921"
             ]
            ],
            "type": "contour"
           }
          ],
          "contourcarpet": [
           {
            "colorbar": {
             "outlinewidth": 0,
             "ticks": ""
            },
            "type": "contourcarpet"
           }
          ],
          "heatmap": [
           {
            "colorbar": {
             "outlinewidth": 0,
             "ticks": ""
            },
            "colorscale": [
             [
              0,
              "#0d0887"
             ],
             [
              0.1111111111111111,
              "#46039f"
             ],
             [
              0.2222222222222222,
              "#7201a8"
             ],
             [
              0.3333333333333333,
              "#9c179e"
             ],
             [
              0.4444444444444444,
              "#bd3786"
             ],
             [
              0.5555555555555556,
              "#d8576b"
             ],
             [
              0.6666666666666666,
              "#ed7953"
             ],
             [
              0.7777777777777778,
              "#fb9f3a"
             ],
             [
              0.8888888888888888,
              "#fdca26"
             ],
             [
              1,
              "#f0f921"
             ]
            ],
            "type": "heatmap"
           }
          ],
          "heatmapgl": [
           {
            "colorbar": {
             "outlinewidth": 0,
             "ticks": ""
            },
            "colorscale": [
             [
              0,
              "#0d0887"
             ],
             [
              0.1111111111111111,
              "#46039f"
             ],
             [
              0.2222222222222222,
              "#7201a8"
             ],
             [
              0.3333333333333333,
              "#9c179e"
             ],
             [
              0.4444444444444444,
              "#bd3786"
             ],
             [
              0.5555555555555556,
              "#d8576b"
             ],
             [
              0.6666666666666666,
              "#ed7953"
             ],
             [
              0.7777777777777778,
              "#fb9f3a"
             ],
             [
              0.8888888888888888,
              "#fdca26"
             ],
             [
              1,
              "#f0f921"
             ]
            ],
            "type": "heatmapgl"
           }
          ],
          "histogram": [
           {
            "marker": {
             "pattern": {
              "fillmode": "overlay",
              "size": 10,
              "solidity": 0.2
             }
            },
            "type": "histogram"
           }
          ],
          "histogram2d": [
           {
            "colorbar": {
             "outlinewidth": 0,
             "ticks": ""
            },
            "colorscale": [
             [
              0,
              "#0d0887"
             ],
             [
              0.1111111111111111,
              "#46039f"
             ],
             [
              0.2222222222222222,
              "#7201a8"
             ],
             [
              0.3333333333333333,
              "#9c179e"
             ],
             [
              0.4444444444444444,
              "#bd3786"
             ],
             [
              0.5555555555555556,
              "#d8576b"
             ],
             [
              0.6666666666666666,
              "#ed7953"
             ],
             [
              0.7777777777777778,
              "#fb9f3a"
             ],
             [
              0.8888888888888888,
              "#fdca26"
             ],
             [
              1,
              "#f0f921"
             ]
            ],
            "type": "histogram2d"
           }
          ],
          "histogram2dcontour": [
           {
            "colorbar": {
             "outlinewidth": 0,
             "ticks": ""
            },
            "colorscale": [
             [
              0,
              "#0d0887"
             ],
             [
              0.1111111111111111,
              "#46039f"
             ],
             [
              0.2222222222222222,
              "#7201a8"
             ],
             [
              0.3333333333333333,
              "#9c179e"
             ],
             [
              0.4444444444444444,
              "#bd3786"
             ],
             [
              0.5555555555555556,
              "#d8576b"
             ],
             [
              0.6666666666666666,
              "#ed7953"
             ],
             [
              0.7777777777777778,
              "#fb9f3a"
             ],
             [
              0.8888888888888888,
              "#fdca26"
             ],
             [
              1,
              "#f0f921"
             ]
            ],
            "type": "histogram2dcontour"
           }
          ],
          "mesh3d": [
           {
            "colorbar": {
             "outlinewidth": 0,
             "ticks": ""
            },
            "type": "mesh3d"
           }
          ],
          "parcoords": [
           {
            "line": {
             "colorbar": {
              "outlinewidth": 0,
              "ticks": ""
             }
            },
            "type": "parcoords"
           }
          ],
          "pie": [
           {
            "automargin": true,
            "type": "pie"
           }
          ],
          "scatter": [
           {
            "fillpattern": {
             "fillmode": "overlay",
             "size": 10,
             "solidity": 0.2
            },
            "type": "scatter"
           }
          ],
          "scatter3d": [
           {
            "line": {
             "colorbar": {
              "outlinewidth": 0,
              "ticks": ""
             }
            },
            "marker": {
             "colorbar": {
              "outlinewidth": 0,
              "ticks": ""
             }
            },
            "type": "scatter3d"
           }
          ],
          "scattercarpet": [
           {
            "marker": {
             "colorbar": {
              "outlinewidth": 0,
              "ticks": ""
             }
            },
            "type": "scattercarpet"
           }
          ],
          "scattergeo": [
           {
            "marker": {
             "colorbar": {
              "outlinewidth": 0,
              "ticks": ""
             }
            },
            "type": "scattergeo"
           }
          ],
          "scattergl": [
           {
            "marker": {
             "colorbar": {
              "outlinewidth": 0,
              "ticks": ""
             }
            },
            "type": "scattergl"
           }
          ],
          "scattermapbox": [
           {
            "marker": {
             "colorbar": {
              "outlinewidth": 0,
              "ticks": ""
             }
            },
            "type": "scattermapbox"
           }
          ],
          "scatterpolar": [
           {
            "marker": {
             "colorbar": {
              "outlinewidth": 0,
              "ticks": ""
             }
            },
            "type": "scatterpolar"
           }
          ],
          "scatterpolargl": [
           {
            "marker": {
             "colorbar": {
              "outlinewidth": 0,
              "ticks": ""
             }
            },
            "type": "scatterpolargl"
           }
          ],
          "scatterternary": [
           {
            "marker": {
             "colorbar": {
              "outlinewidth": 0,
              "ticks": ""
             }
            },
            "type": "scatterternary"
           }
          ],
          "surface": [
           {
            "colorbar": {
             "outlinewidth": 0,
             "ticks": ""
            },
            "colorscale": [
             [
              0,
              "#0d0887"
             ],
             [
              0.1111111111111111,
              "#46039f"
             ],
             [
              0.2222222222222222,
              "#7201a8"
             ],
             [
              0.3333333333333333,
              "#9c179e"
             ],
             [
              0.4444444444444444,
              "#bd3786"
             ],
             [
              0.5555555555555556,
              "#d8576b"
             ],
             [
              0.6666666666666666,
              "#ed7953"
             ],
             [
              0.7777777777777778,
              "#fb9f3a"
             ],
             [
              0.8888888888888888,
              "#fdca26"
             ],
             [
              1,
              "#f0f921"
             ]
            ],
            "type": "surface"
           }
          ],
          "table": [
           {
            "cells": {
             "fill": {
              "color": "#EBF0F8"
             },
             "line": {
              "color": "white"
             }
            },
            "header": {
             "fill": {
              "color": "#C8D4E3"
             },
             "line": {
              "color": "white"
             }
            },
            "type": "table"
           }
          ]
         },
         "layout": {
          "annotationdefaults": {
           "arrowcolor": "#2a3f5f",
           "arrowhead": 0,
           "arrowwidth": 1
          },
          "autotypenumbers": "strict",
          "coloraxis": {
           "colorbar": {
            "outlinewidth": 0,
            "ticks": ""
           }
          },
          "colorscale": {
           "diverging": [
            [
             0,
             "#8e0152"
            ],
            [
             0.1,
             "#c51b7d"
            ],
            [
             0.2,
             "#de77ae"
            ],
            [
             0.3,
             "#f1b6da"
            ],
            [
             0.4,
             "#fde0ef"
            ],
            [
             0.5,
             "#f7f7f7"
            ],
            [
             0.6,
             "#e6f5d0"
            ],
            [
             0.7,
             "#b8e186"
            ],
            [
             0.8,
             "#7fbc41"
            ],
            [
             0.9,
             "#4d9221"
            ],
            [
             1,
             "#276419"
            ]
           ],
           "sequential": [
            [
             0,
             "#0d0887"
            ],
            [
             0.1111111111111111,
             "#46039f"
            ],
            [
             0.2222222222222222,
             "#7201a8"
            ],
            [
             0.3333333333333333,
             "#9c179e"
            ],
            [
             0.4444444444444444,
             "#bd3786"
            ],
            [
             0.5555555555555556,
             "#d8576b"
            ],
            [
             0.6666666666666666,
             "#ed7953"
            ],
            [
             0.7777777777777778,
             "#fb9f3a"
            ],
            [
             0.8888888888888888,
             "#fdca26"
            ],
            [
             1,
             "#f0f921"
            ]
           ],
           "sequentialminus": [
            [
             0,
             "#0d0887"
            ],
            [
             0.1111111111111111,
             "#46039f"
            ],
            [
             0.2222222222222222,
             "#7201a8"
            ],
            [
             0.3333333333333333,
             "#9c179e"
            ],
            [
             0.4444444444444444,
             "#bd3786"
            ],
            [
             0.5555555555555556,
             "#d8576b"
            ],
            [
             0.6666666666666666,
             "#ed7953"
            ],
            [
             0.7777777777777778,
             "#fb9f3a"
            ],
            [
             0.8888888888888888,
             "#fdca26"
            ],
            [
             1,
             "#f0f921"
            ]
           ]
          },
          "colorway": [
           "#636efa",
           "#EF553B",
           "#00cc96",
           "#ab63fa",
           "#FFA15A",
           "#19d3f3",
           "#FF6692",
           "#B6E880",
           "#FF97FF",
           "#FECB52"
          ],
          "font": {
           "color": "#2a3f5f"
          },
          "geo": {
           "bgcolor": "white",
           "lakecolor": "white",
           "landcolor": "#E5ECF6",
           "showlakes": true,
           "showland": true,
           "subunitcolor": "white"
          },
          "hoverlabel": {
           "align": "left"
          },
          "hovermode": "closest",
          "mapbox": {
           "style": "light"
          },
          "paper_bgcolor": "white",
          "plot_bgcolor": "#E5ECF6",
          "polar": {
           "angularaxis": {
            "gridcolor": "white",
            "linecolor": "white",
            "ticks": ""
           },
           "bgcolor": "#E5ECF6",
           "radialaxis": {
            "gridcolor": "white",
            "linecolor": "white",
            "ticks": ""
           }
          },
          "scene": {
           "xaxis": {
            "backgroundcolor": "#E5ECF6",
            "gridcolor": "white",
            "gridwidth": 2,
            "linecolor": "white",
            "showbackground": true,
            "ticks": "",
            "zerolinecolor": "white"
           },
           "yaxis": {
            "backgroundcolor": "#E5ECF6",
            "gridcolor": "white",
            "gridwidth": 2,
            "linecolor": "white",
            "showbackground": true,
            "ticks": "",
            "zerolinecolor": "white"
           },
           "zaxis": {
            "backgroundcolor": "#E5ECF6",
            "gridcolor": "white",
            "gridwidth": 2,
            "linecolor": "white",
            "showbackground": true,
            "ticks": "",
            "zerolinecolor": "white"
           }
          },
          "shapedefaults": {
           "line": {
            "color": "#2a3f5f"
           }
          },
          "ternary": {
           "aaxis": {
            "gridcolor": "white",
            "linecolor": "white",
            "ticks": ""
           },
           "baxis": {
            "gridcolor": "white",
            "linecolor": "white",
            "ticks": ""
           },
           "bgcolor": "#E5ECF6",
           "caxis": {
            "gridcolor": "white",
            "linecolor": "white",
            "ticks": ""
           }
          },
          "title": {
           "x": 0.05
          },
          "xaxis": {
           "automargin": true,
           "gridcolor": "white",
           "linecolor": "white",
           "ticks": "",
           "title": {
            "standoff": 15
           },
           "zerolinecolor": "white",
           "zerolinewidth": 2
          },
          "yaxis": {
           "automargin": true,
           "gridcolor": "white",
           "linecolor": "white",
           "ticks": "",
           "title": {
            "standoff": 15
           },
           "zerolinecolor": "white",
           "zerolinewidth": 2
          }
         }
        },
        "xaxis": {
         "anchor": "y",
         "autorange": true,
         "domain": [
          0,
          1
         ],
         "range": [
          -0.5,
          2.5
         ],
         "title": {
          "text": "event"
         },
         "type": "category"
        },
        "yaxis": {
         "anchor": "x",
         "autorange": true,
         "domain": [
          0,
          1
         ],
         "range": [
          -287285,
          287285
         ],
         "title": {
          "text": "count"
         },
         "type": "linear"
        }
       }
      },
      "image/png": "[encoded data removed]",
      "text/html": [
       "<div>                            <div id=\"ef4a7c0d-c5e0-4198-a245-1dd64045e005\" class=\"plotly-graph-div\" style=\"height:525px; width:100%;\"></div>            <script type=\"text/javascript\">                require([\"plotly\"], function(Plotly) {                    window.PLOTLYENV=window.PLOTLYENV || {};                                    if (document.getElementById(\"ef4a7c0d-c5e0-4198-a245-1dd64045e005\")) {                    Plotly.newPlot(                        \"ef4a7c0d-c5e0-4198-a245-1dd64045e005\",                        [{\"hovertemplate\":\"event=%{x}\\u003cbr\\u003ecount=%{y}\\u003cextra\\u003e\\u003c\\u002fextra\\u003e\",\"legendgroup\":\"\",\"marker\":{\"color\":\"#636efa\"},\"name\":\"\",\"orientation\":\"v\",\"showlegend\":false,\"x\":[\"view\",\"addtocart\",\"transaction\"],\"xaxis\":\"x\",\"y\":[517113.0,13927.0,4422.0],\"yaxis\":\"y\",\"type\":\"funnel\"}],                        {\"template\":{\"data\":{\"histogram2dcontour\":[{\"type\":\"histogram2dcontour\",\"colorbar\":{\"outlinewidth\":0,\"ticks\":\"\"},\"colorscale\":[[0.0,\"#0d0887\"],[0.1111111111111111,\"#46039f\"],[0.2222222222222222,\"#7201a8\"],[0.3333333333333333,\"#9c179e\"],[0.4444444444444444,\"#bd3786\"],[0.5555555555555556,\"#d8576b\"],[0.6666666666666666,\"#ed7953\"],[0.7777777777777778,\"#fb9f3a\"],[0.8888888888888888,\"#fdca26\"],[1.0,\"#f0f921\"]]}],\"choropleth\":[{\"type\":\"choropleth\",\"colorbar\":{\"outlinewidth\":0,\"ticks\":\"\"}}],\"histogram2d\":[{\"type\":\"histogram2d\",\"colorbar\":{\"outlinewidth\":0,\"ticks\":\"\"},\"colorscale\":[[0.0,\"#0d0887\"],[0.1111111111111111,\"#46039f\"],[0.2222222222222222,\"#7201a8\"],[0.3333333333333333,\"#9c179e\"],[0.4444444444444444,\"#bd3786\"],[0.5555555555555556,\"#d8576b\"],[0.6666666666666666,\"#ed7953\"],[0.7777777777777778,\"#fb9f3a\"],[0.8888888888888888,\"#fdca26\"],[1.0,\"#f0f921\"]]}],\"heatmap\":[{\"type\":\"heatmap\",\"colorbar\":{\"outlinewidth\":0,\"ticks\":\"\"},\"colorscale\":[[0.0,\"#0d0887\"],[0.1111111111111111,\"#46039f\"],[0.2222222222222222,\"#7201a8\"],[0.3333333333333333,\"#9c179e\"],[0.4444444444444444,\"#bd3786\"],[0.5555555555555556,\"#d8576b\"],[0.6666666666666666,\"#ed7953\"],[0.7777777777777778,\"#fb9f3a\"],[0.8888888888888888,\"#fdca26\"],[1.0,\"#f0f921\"]]}],\"heatmapgl\":[{\"type\":\"heatmapgl\",\"colorbar\":{\"outlinewidth\":0,\"ticks\":\"\"},\"colorscale\":[[0.0,\"#0d0887\"],[0.1111111111111111,\"#46039f\"],[0.2222222222222222,\"#7201a8\"],[0.3333333333333333,\"#9c179e\"],[0.4444444444444444,\"#bd3786\"],[0.5555555555555556,\"#d8576b\"],[0.6666666666666666,\"#ed7953\"],[0.7777777777777778,\"#fb9f3a\"],[0.8888888888888888,\"#fdca26\"],[1.0,\"#f0f921\"]]}],\"contourcarpet\":[{\"type\":\"contourcarpet\",\"colorbar\":{\"outlinewidth\":0,\"ticks\":\"\"}}],\"contour\":[{\"type\":\"contour\",\"colorbar\":{\"outlinewidth\":0,\"ticks\":\"\"},\"colorscale\":[[0.0,\"#0d0887\"],[0.1111111111111111,\"#46039f\"],[0.2222222222222222,\"#7201a8\"],[0.3333333333333333,\"#9c179e\"],[0.4444444444444444,\"#bd3786\"],[0.5555555555555556,\"#d8576b\"],[0.6666666666666666,\"#ed7953\"],[0.7777777777777778,\"#fb9f3a\"],[0.8888888888888888,\"#fdca26\"],[1.0,\"#f0f921\"]]}],\"surface\":[{\"type\":\"surface\",\"colorbar\":{\"outlinewidth\":0,\"ticks\":\"\"},\"colorscale\":[[0.0,\"#0d0887\"],[0.1111111111111111,\"#46039f\"],[0.2222222222222222,\"#7201a8\"],[0.3333333333333333,\"#9c179e\"],[0.4444444444444444,\"#bd3786\"],[0.5555555555555556,\"#d8576b\"],[0.6666666666666666,\"#ed7953\"],[0.7777777777777778,\"#fb9f3a\"],[0.8888888888888888,\"#fdca26\"],[1.0,\"#f0f921\"]]}],\"mesh3d\":[{\"type\":\"mesh3d\",\"colorbar\":{\"outlinewidth\":0,\"ticks\":\"\"}}],\"scatter\":[{\"fillpattern\":{\"fillmode\":\"overlay\",\"size\":10,\"solidity\":0.2},\"type\":\"scatter\"}],\"parcoords\":[{\"type\":\"parcoords\",\"line\":{\"colorbar\":{\"outlinewidth\":0,\"ticks\":\"\"}}}],\"scatterpolargl\":[{\"type\":\"scatterpolargl\",\"marker\":{\"colorbar\":{\"outlinewidth\":0,\"ticks\":\"\"}}}],\"bar\":[{\"error_x\":{\"color\":\"#2a3f5f\"},\"error_y\":{\"color\":\"#2a3f5f\"},\"marker\":{\"line\":{\"color\":\"#E5ECF6\",\"width\":0.5},\"pattern\":{\"fillmode\":\"overlay\",\"size\":10,\"solidity\":0.2}},\"type\":\"bar\"}],\"scattergeo\":[{\"type\":\"scattergeo\",\"marker\":{\"colorbar\":{\"outlinewidth\":0,\"ticks\":\"\"}}}],\"scatterpolar\":[{\"type\":\"scatterpolar\",\"marker\":{\"colorbar\":{\"outlinewidth\":0,\"ticks\":\"\"}}}],\"histogram\":[{\"marker\":{\"pattern\":{\"fillmode\":\"overlay\",\"size\":10,\"solidity\":0.2}},\"type\":\"histogram\"}],\"scattergl\":[{\"type\":\"scattergl\",\"marker\":{\"colorbar\":{\"outlinewidth\":0,\"ticks\":\"\"}}}],\"scatter3d\":[{\"type\":\"scatter3d\",\"line\":{\"colorbar\":{\"outlinewidth\":0,\"ticks\":\"\"}},\"marker\":{\"colorbar\":{\"outlinewidth\":0,\"ticks\":\"\"}}}],\"scattermapbox\":[{\"type\":\"scattermapbox\",\"marker\":{\"colorbar\":{\"outlinewidth\":0,\"ticks\":\"\"}}}],\"scatterternary\":[{\"type\":\"scatterternary\",\"marker\":{\"colorbar\":{\"outlinewidth\":0,\"ticks\":\"\"}}}],\"scattercarpet\":[{\"type\":\"scattercarpet\",\"marker\":{\"colorbar\":{\"outlinewidth\":0,\"ticks\":\"\"}}}],\"carpet\":[{\"aaxis\":{\"endlinecolor\":\"#2a3f5f\",\"gridcolor\":\"white\",\"linecolor\":\"white\",\"minorgridcolor\":\"white\",\"startlinecolor\":\"#2a3f5f\"},\"baxis\":{\"endlinecolor\":\"#2a3f5f\",\"gridcolor\":\"white\",\"linecolor\":\"white\",\"minorgridcolor\":\"white\",\"startlinecolor\":\"#2a3f5f\"},\"type\":\"carpet\"}],\"table\":[{\"cells\":{\"fill\":{\"color\":\"#EBF0F8\"},\"line\":{\"color\":\"white\"}},\"header\":{\"fill\":{\"color\":\"#C8D4E3\"},\"line\":{\"color\":\"white\"}},\"type\":\"table\"}],\"barpolar\":[{\"marker\":{\"line\":{\"color\":\"#E5ECF6\",\"width\":0.5},\"pattern\":{\"fillmode\":\"overlay\",\"size\":10,\"solidity\":0.2}},\"type\":\"barpolar\"}],\"pie\":[{\"automargin\":true,\"type\":\"pie\"}]},\"layout\":{\"autotypenumbers\":\"strict\",\"colorway\":[\"#636efa\",\"#EF553B\",\"#00cc96\",\"#ab63fa\",\"#FFA15A\",\"#19d3f3\",\"#FF6692\",\"#B6E880\",\"#FF97FF\",\"#FECB52\"],\"font\":{\"color\":\"#2a3f5f\"},\"hovermode\":\"closest\",\"hoverlabel\":{\"align\":\"left\"},\"paper_bgcolor\":\"white\",\"plot_bgcolor\":\"#E5ECF6\",\"polar\":{\"bgcolor\":\"#E5ECF6\",\"angularaxis\":{\"gridcolor\":\"white\",\"linecolor\":\"white\",\"ticks\":\"\"},\"radialaxis\":{\"gridcolor\":\"white\",\"linecolor\":\"white\",\"ticks\":\"\"}},\"ternary\":{\"bgcolor\":\"#E5ECF6\",\"aaxis\":{\"gridcolor\":\"white\",\"linecolor\":\"white\",\"ticks\":\"\"},\"baxis\":{\"gridcolor\":\"white\",\"linecolor\":\"white\",\"ticks\":\"\"},\"caxis\":{\"gridcolor\":\"white\",\"linecolor\":\"white\",\"ticks\":\"\"}},\"coloraxis\":{\"colorbar\":{\"outlinewidth\":0,\"ticks\":\"\"}},\"colorscale\":{\"sequential\":[[0.0,\"#0d0887\"],[0.1111111111111111,\"#46039f\"],[0.2222222222222222,\"#7201a8\"],[0.3333333333333333,\"#9c179e\"],[0.4444444444444444,\"#bd3786\"],[0.5555555555555556,\"#d8576b\"],[0.6666666666666666,\"#ed7953\"],[0.7777777777777778,\"#fb9f3a\"],[0.8888888888888888,\"#fdca26\"],[1.0,\"#f0f921\"]],\"sequentialminus\":[[0.0,\"#0d0887\"],[0.1111111111111111,\"#46039f\"],[0.2222222222222222,\"#7201a8\"],[0.3333333333333333,\"#9c179e\"],[0.4444444444444444,\"#bd3786\"],[0.5555555555555556,\"#d8576b\"],[0.6666666666666666,\"#ed7953\"],[0.7777777777777778,\"#fb9f3a\"],[0.8888888888888888,\"#fdca26\"],[1.0,\"#f0f921\"]],\"diverging\":[[0,\"#8e0152\"],[0.1,\"#c51b7d\"],[0.2,\"#de77ae\"],[0.3,\"#f1b6da\"],[0.4,\"#fde0ef\"],[0.5,\"#f7f7f7\"],[0.6,\"#e6f5d0\"],[0.7,\"#b8e186\"],[0.8,\"#7fbc41\"],[0.9,\"#4d9221\"],[1,\"#276419\"]]},\"xaxis\":{\"gridcolor\":\"white\",\"linecolor\":\"white\",\"ticks\":\"\",\"title\":{\"standoff\":15},\"zerolinecolor\":\"white\",\"automargin\":true,\"zerolinewidth\":2},\"yaxis\":{\"gridcolor\":\"white\",\"linecolor\":\"white\",\"ticks\":\"\",\"title\":{\"standoff\":15},\"zerolinecolor\":\"white\",\"automargin\":true,\"zerolinewidth\":2},\"scene\":{\"xaxis\":{\"backgroundcolor\":\"#E5ECF6\",\"gridcolor\":\"white\",\"linecolor\":\"white\",\"showbackground\":true,\"ticks\":\"\",\"zerolinecolor\":\"white\",\"gridwidth\":2},\"yaxis\":{\"backgroundcolor\":\"#E5ECF6\",\"gridcolor\":\"white\",\"linecolor\":\"white\",\"showbackground\":true,\"ticks\":\"\",\"zerolinecolor\":\"white\",\"gridwidth\":2},\"zaxis\":{\"backgroundcolor\":\"#E5ECF6\",\"gridcolor\":\"white\",\"linecolor\":\"white\",\"showbackground\":true,\"ticks\":\"\",\"zerolinecolor\":\"white\",\"gridwidth\":2}},\"shapedefaults\":{\"line\":{\"color\":\"#2a3f5f\"}},\"annotationdefaults\":{\"arrowcolor\":\"#2a3f5f\",\"arrowhead\":0,\"arrowwidth\":1},\"geo\":{\"bgcolor\":\"white\",\"landcolor\":\"#E5ECF6\",\"subunitcolor\":\"white\",\"showland\":true,\"showlakes\":true,\"lakecolor\":\"white\"},\"title\":{\"x\":0.05},\"mapbox\":{\"style\":\"light\"}}},\"xaxis\":{\"anchor\":\"y\",\"domain\":[0.0,1.0],\"title\":{\"text\":\"event\"}},\"yaxis\":{\"anchor\":\"x\",\"domain\":[0.0,1.0],\"title\":{\"text\":\"count\"}},\"legend\":{\"tracegroupgap\":0},\"margin\":{\"t\":60}},                        {\"responsive\": true}                    ).then(function(){\n",
       "                            \n",
       "var gd = document.getElementById('ef4a7c0d-c5e0-4198-a245-1dd64045e005');\n",
       "var x = new MutationObserver(function (mutations, observer) {{\n",
       "        var display = window.getComputedStyle(gd).display;\n",
       "        if (!display || display === 'none') {{\n",
       "            console.log([gd, 'removed!']);\n",
       "            Plotly.purge(gd);\n",
       "            observer.disconnect();\n",
       "        }}\n",
       "}});\n",
       "\n",
       "// Listen for the removal of the full notebook cells\n",
       "var notebookContainer = gd.closest('#notebook-container');\n",
       "if (notebookContainer) {{\n",
       "    x.observe(notebookContainer, {childList: true});\n",
       "}}\n",
       "\n",
       "// Listen for the clearing of the current output cell\n",
       "var outputEl = gd.closest('.output');\n",
       "if (outputEl) {{\n",
       "    x.observe(outputEl, {childList: true});\n",
       "}}\n",
       "\n",
       "                        })                };                });            </script>        </div>"
      ]
     },
     "metadata": {},
     "output_type": "display_data"
    }
   ],
   "source": [
    "#Membuat  funnel chart untuk transaksi 1 bulan pertama\n",
    "import plotly.express as px\n",
    "df_plot_funnel_last = rekap_harian_total.query(\"date_key>'2015-08-18'\")[funnel_cols].sum(axis=0).to_frame('count').reset_index()\n",
    "fig = px.funnel(df_plot_funnel_last,y='count', x='event')\n",
    "fig.show()"
   ]
  },
  {
   "cell_type": "markdown",
   "id": "9320a366-3aa4-4a45-b3e4-9ce13e73baa8",
   "metadata": {},
   "source": [
    "Berdasarkan grafik funnel dapat kita ketahui bahwa nilai conversi dari view menuju event addtocart sangat rendah yaitu hanya 14300 transaksi dibulan pertama dan 13927 transaksi dibulan terakhir. Ini merupakan funnel chart yang tidak sehat karena convertion rate yang sangat rendah dari vews menuju event. Hal ini bisa terjadi mungkin kerana adanya masalah pengalaman pengguna (user experience), seperti proses checkout yang rumit atau kurangnya informasi produk yang memadai, yang menghalangi konsumen untuk menyelesaikan pembelian."
   ]
  },
  {
   "cell_type": "markdown",
   "id": "7ed329ca-0a98-42e7-8fe3-4dae16622424",
   "metadata": {},
   "source": [
    "# 3. RF Analysis\n",
    "\n",
    "Karena pada data ini tidak ada informasi mengenai nilai dari item yang dibeli, maka analisis akan mengabaikan komponen M.\n",
    "\n",
    "## 3.a Hitunglah sudah berapa hari sejak customer terakhir kali melakukan transaksi. \n",
    "Output data yang diharapkan adalah dataframe dengan 2 kolom, yakni visitorid dan juga sudah berapa hari sejak transaksi berlalu\n",
    "\n",
    "## 3.b berdasarkan hasil sebelumnya, bagi customer menjadi 4 kelompok berdasarkan aspek waktu transaksi terakhir."
   ]
  },
  {
   "cell_type": "code",
   "execution_count": 103,
   "id": "c3864146-b74f-45db-9b97-b9441048e44d",
   "metadata": {},
   "outputs": [
    {
     "data": {
      "text/html": [
       "<div>\n",
       "<style scoped>\n",
       "    .dataframe tbody tr th:only-of-type {\n",
       "        vertical-align: middle;\n",
       "    }\n",
       "\n",
       "    .dataframe tbody tr th {\n",
       "        vertical-align: top;\n",
       "    }\n",
       "\n",
       "    .dataframe thead th {\n",
       "        text-align: right;\n",
       "    }\n",
       "</style>\n",
       "<table border=\"1\" class=\"dataframe\">\n",
       "  <thead>\n",
       "    <tr style=\"text-align: right;\">\n",
       "      <th></th>\n",
       "      <th>timestamp</th>\n",
       "      <th>visitorid</th>\n",
       "      <th>event</th>\n",
       "      <th>itemid</th>\n",
       "      <th>transactionid</th>\n",
       "      <th>datetime</th>\n",
       "      <th>date_key</th>\n",
       "    </tr>\n",
       "  </thead>\n",
       "  <tbody>\n",
       "    <tr>\n",
       "      <th>0</th>\n",
       "      <td>1433221332117</td>\n",
       "      <td>257597</td>\n",
       "      <td>view</td>\n",
       "      <td>355908</td>\n",
       "      <td>0</td>\n",
       "      <td>2015-06-02 05:02:12.117</td>\n",
       "      <td>2015-06-02</td>\n",
       "    </tr>\n",
       "    <tr>\n",
       "      <th>1</th>\n",
       "      <td>1433224214164</td>\n",
       "      <td>992329</td>\n",
       "      <td>view</td>\n",
       "      <td>248676</td>\n",
       "      <td>0</td>\n",
       "      <td>2015-06-02 05:50:14.164</td>\n",
       "      <td>2015-06-02</td>\n",
       "    </tr>\n",
       "    <tr>\n",
       "      <th>2</th>\n",
       "      <td>1433221999827</td>\n",
       "      <td>111016</td>\n",
       "      <td>view</td>\n",
       "      <td>318965</td>\n",
       "      <td>0</td>\n",
       "      <td>2015-06-02 05:13:19.827</td>\n",
       "      <td>2015-06-02</td>\n",
       "    </tr>\n",
       "    <tr>\n",
       "      <th>3</th>\n",
       "      <td>1433221955914</td>\n",
       "      <td>483717</td>\n",
       "      <td>view</td>\n",
       "      <td>253185</td>\n",
       "      <td>0</td>\n",
       "      <td>2015-06-02 05:12:35.914</td>\n",
       "      <td>2015-06-02</td>\n",
       "    </tr>\n",
       "    <tr>\n",
       "      <th>4</th>\n",
       "      <td>1433221337106</td>\n",
       "      <td>951259</td>\n",
       "      <td>view</td>\n",
       "      <td>367447</td>\n",
       "      <td>0</td>\n",
       "      <td>2015-06-02 05:02:17.106</td>\n",
       "      <td>2015-06-02</td>\n",
       "    </tr>\n",
       "    <tr>\n",
       "      <th>...</th>\n",
       "      <td>...</td>\n",
       "      <td>...</td>\n",
       "      <td>...</td>\n",
       "      <td>...</td>\n",
       "      <td>...</td>\n",
       "      <td>...</td>\n",
       "      <td>...</td>\n",
       "    </tr>\n",
       "    <tr>\n",
       "      <th>2756096</th>\n",
       "      <td>1438398785939</td>\n",
       "      <td>591435</td>\n",
       "      <td>view</td>\n",
       "      <td>261427</td>\n",
       "      <td>0</td>\n",
       "      <td>2015-08-01 03:13:05.939</td>\n",
       "      <td>2015-08-01</td>\n",
       "    </tr>\n",
       "    <tr>\n",
       "      <th>2756097</th>\n",
       "      <td>1438399813142</td>\n",
       "      <td>762376</td>\n",
       "      <td>view</td>\n",
       "      <td>115946</td>\n",
       "      <td>0</td>\n",
       "      <td>2015-08-01 03:30:13.142</td>\n",
       "      <td>2015-08-01</td>\n",
       "    </tr>\n",
       "    <tr>\n",
       "      <th>2756098</th>\n",
       "      <td>1438397820527</td>\n",
       "      <td>1251746</td>\n",
       "      <td>view</td>\n",
       "      <td>78144</td>\n",
       "      <td>0</td>\n",
       "      <td>2015-08-01 02:57:00.527</td>\n",
       "      <td>2015-08-01</td>\n",
       "    </tr>\n",
       "    <tr>\n",
       "      <th>2756099</th>\n",
       "      <td>1438398530703</td>\n",
       "      <td>1184451</td>\n",
       "      <td>view</td>\n",
       "      <td>283392</td>\n",
       "      <td>0</td>\n",
       "      <td>2015-08-01 03:08:50.703</td>\n",
       "      <td>2015-08-01</td>\n",
       "    </tr>\n",
       "    <tr>\n",
       "      <th>2756100</th>\n",
       "      <td>1438400163914</td>\n",
       "      <td>199536</td>\n",
       "      <td>view</td>\n",
       "      <td>152913</td>\n",
       "      <td>0</td>\n",
       "      <td>2015-08-01 03:36:03.914</td>\n",
       "      <td>2015-08-01</td>\n",
       "    </tr>\n",
       "  </tbody>\n",
       "</table>\n",
       "<p>2756101 rows × 7 columns</p>\n",
       "</div>"
      ],
      "text/plain": [
       "             timestamp  visitorid event  itemid transactionid  \\\n",
       "0        1433221332117     257597  view  355908             0   \n",
       "1        1433224214164     992329  view  248676             0   \n",
       "2        1433221999827     111016  view  318965             0   \n",
       "3        1433221955914     483717  view  253185             0   \n",
       "4        1433221337106     951259  view  367447             0   \n",
       "...                ...        ...   ...     ...           ...   \n",
       "2756096  1438398785939     591435  view  261427             0   \n",
       "2756097  1438399813142     762376  view  115946             0   \n",
       "2756098  1438397820527    1251746  view   78144             0   \n",
       "2756099  1438398530703    1184451  view  283392             0   \n",
       "2756100  1438400163914     199536  view  152913             0   \n",
       "\n",
       "                       datetime   date_key  \n",
       "0       2015-06-02 05:02:12.117 2015-06-02  \n",
       "1       2015-06-02 05:50:14.164 2015-06-02  \n",
       "2       2015-06-02 05:13:19.827 2015-06-02  \n",
       "3       2015-06-02 05:12:35.914 2015-06-02  \n",
       "4       2015-06-02 05:02:17.106 2015-06-02  \n",
       "...                         ...        ...  \n",
       "2756096 2015-08-01 03:13:05.939 2015-08-01  \n",
       "2756097 2015-08-01 03:30:13.142 2015-08-01  \n",
       "2756098 2015-08-01 02:57:00.527 2015-08-01  \n",
       "2756099 2015-08-01 03:08:50.703 2015-08-01  \n",
       "2756100 2015-08-01 03:36:03.914 2015-08-01  \n",
       "\n",
       "[2756101 rows x 7 columns]"
      ]
     },
     "execution_count": 103,
     "metadata": {},
     "output_type": "execute_result"
    }
   ],
   "source": [
    "df"
   ]
  },
  {
   "cell_type": "markdown",
   "id": "578280c8-e18c-4165-9fe1-ff2309a30b05",
   "metadata": {},
   "source": [
    "# 3.a Hitunglah sudah berapa hari sejak customer terakhir kali melakukan transaksi.\n",
    "# Output data yang diharapkan adalah dataframe dengan 2 kolom, yakni visitorid dan juga sudah berapa hari sejak transaksi berlalu"
   ]
  },
  {
   "cell_type": "code",
   "execution_count": 159,
   "id": "e61665b0-0423-49cd-8f89-f912b5bddcce",
   "metadata": {},
   "outputs": [
    {
     "data": {
      "text/plain": [
       "2756100"
      ]
     },
     "execution_count": 159,
     "metadata": {},
     "output_type": "execute_result"
    }
   ],
   "source": [
    "#Menghitung jumlah transaction yang terjadi berdasarkan transactionid yang ada\n",
    "df['transactionid'].loc[df['transactionid'] != 0].count()"
   ]
  },
  {
   "cell_type": "code",
   "execution_count": 165,
   "id": "e039a433-5377-4079-abd9-37fd3be1add6",
   "metadata": {},
   "outputs": [
    {
     "data": {
      "text/plain": [
       "22457"
      ]
     },
     "execution_count": 165,
     "metadata": {},
     "output_type": "execute_result"
    }
   ],
   "source": [
    "df['event'].loc[df['event'] == \"transaction\"].count()\n",
    "# df[df['event'].isin(['transaction'])].count()"
   ]
  },
  {
   "cell_type": "code",
   "execution_count": 171,
   "id": "0313ed4b-fa6b-4d1c-b22d-8cb1d38dcc6b",
   "metadata": {},
   "outputs": [
    {
     "data": {
      "text/plain": [
       "timestamp        22457\n",
       "visitorid        22457\n",
       "event            22457\n",
       "itemid           22457\n",
       "transactionid    22457\n",
       "datetime         22457\n",
       "date_key         22457\n",
       "dtype: int64"
      ]
     },
     "execution_count": 171,
     "metadata": {},
     "output_type": "execute_result"
    }
   ],
   "source": [
    "df[(df['event'] == \"transaction\")].count()"
   ]
  },
  {
   "cell_type": "code",
   "execution_count": 169,
   "id": "e4f10e90-ff3b-4ac6-b609-bf5447608162",
   "metadata": {},
   "outputs": [
    {
     "data": {
      "text/plain": [
       "1476967    138\n",
       "1476928    138\n",
       "1476099    138\n",
       "1475925    138\n",
       "1475731    138\n",
       "          ... \n",
       "1457781      0\n",
       "1456595      0\n",
       "1455216      0\n",
       "1460839      0\n",
       "1462449      0\n",
       "Name: days_since_last_transaction, Length: 11719, dtype: int64"
      ]
     },
     "execution_count": 169,
     "metadata": {},
     "output_type": "execute_result"
    }
   ],
   "source": [
    "import pandas as pd\n",
    "from datetime import datetime\n",
    "\n",
    "# Filter hanya transaksi yang valid (transactionid != 0)\n",
    "valid_transactions = df[(df['event'] == \"transaction\")]\n",
    "# Pilih transaksi terakhir untuk setiap visitorid\n",
    "valid_transactions = valid_transactions.sort_values('date_key').groupby('visitorid').tail(1)\n",
    "# Mendapatkan tanggal transaksi terakhir\n",
    "latest_date = valid_transactions['date_key'].max()\n",
    "# Menghitung hari sejak transaksi terakhir untuk setiap transaksi\n",
    "valid_transactions['days_since_last_transaction'] = (latest_date - valid_transactions['date_key']).dt.days\n",
    "# Menampilkan kolom 'days_since_last_transaction'\n",
    "valid_transactions['days_since_last_transaction']\n"
   ]
  },
  {
   "cell_type": "code",
   "execution_count": 173,
   "id": "10fba7a5-a8cf-4a62-93a8-d046dc1d573e",
   "metadata": {},
   "outputs": [
    {
     "data": {
      "text/html": [
       "<div>\n",
       "<style scoped>\n",
       "    .dataframe tbody tr th:only-of-type {\n",
       "        vertical-align: middle;\n",
       "    }\n",
       "\n",
       "    .dataframe tbody tr th {\n",
       "        vertical-align: top;\n",
       "    }\n",
       "\n",
       "    .dataframe thead th {\n",
       "        text-align: right;\n",
       "    }\n",
       "</style>\n",
       "<table border=\"1\" class=\"dataframe\">\n",
       "  <thead>\n",
       "    <tr style=\"text-align: right;\">\n",
       "      <th></th>\n",
       "      <th>timestamp</th>\n",
       "      <th>visitorid</th>\n",
       "      <th>event</th>\n",
       "      <th>itemid</th>\n",
       "      <th>transactionid</th>\n",
       "      <th>datetime</th>\n",
       "      <th>date_key</th>\n",
       "      <th>days_since_last_transaction</th>\n",
       "    </tr>\n",
       "  </thead>\n",
       "  <tbody>\n",
       "    <tr>\n",
       "      <th>1476967</th>\n",
       "      <td>1430684682383</td>\n",
       "      <td>673776</td>\n",
       "      <td>transaction</td>\n",
       "      <td>432011</td>\n",
       "      <td>16383.0</td>\n",
       "      <td>2015-05-03 20:24:42.383</td>\n",
       "      <td>2015-05-03</td>\n",
       "      <td>138</td>\n",
       "    </tr>\n",
       "    <tr>\n",
       "      <th>1476928</th>\n",
       "      <td>1430684202992</td>\n",
       "      <td>563799</td>\n",
       "      <td>transaction</td>\n",
       "      <td>205111</td>\n",
       "      <td>13689.0</td>\n",
       "      <td>2015-05-03 20:16:42.992</td>\n",
       "      <td>2015-05-03</td>\n",
       "      <td>138</td>\n",
       "    </tr>\n",
       "    <tr>\n",
       "      <th>1476099</th>\n",
       "      <td>1430669840336</td>\n",
       "      <td>987715</td>\n",
       "      <td>transaction</td>\n",
       "      <td>47863</td>\n",
       "      <td>216.0</td>\n",
       "      <td>2015-05-03 16:17:20.336</td>\n",
       "      <td>2015-05-03</td>\n",
       "      <td>138</td>\n",
       "    </tr>\n",
       "    <tr>\n",
       "      <th>1475925</th>\n",
       "      <td>1430666959685</td>\n",
       "      <td>729806</td>\n",
       "      <td>transaction</td>\n",
       "      <td>317436</td>\n",
       "      <td>2410.0</td>\n",
       "      <td>2015-05-03 15:29:19.685</td>\n",
       "      <td>2015-05-03</td>\n",
       "      <td>138</td>\n",
       "    </tr>\n",
       "    <tr>\n",
       "      <th>1475731</th>\n",
       "      <td>1430641921974</td>\n",
       "      <td>996991</td>\n",
       "      <td>transaction</td>\n",
       "      <td>40168</td>\n",
       "      <td>1849.0</td>\n",
       "      <td>2015-05-03 08:32:01.974</td>\n",
       "      <td>2015-05-03</td>\n",
       "      <td>138</td>\n",
       "    </tr>\n",
       "    <tr>\n",
       "      <th>...</th>\n",
       "      <td>...</td>\n",
       "      <td>...</td>\n",
       "      <td>...</td>\n",
       "      <td>...</td>\n",
       "      <td>...</td>\n",
       "      <td>...</td>\n",
       "      <td>...</td>\n",
       "      <td>...</td>\n",
       "    </tr>\n",
       "    <tr>\n",
       "      <th>1457781</th>\n",
       "      <td>1442540841770</td>\n",
       "      <td>62004</td>\n",
       "      <td>transaction</td>\n",
       "      <td>312594</td>\n",
       "      <td>5739.0</td>\n",
       "      <td>2015-09-18 01:47:21.770</td>\n",
       "      <td>2015-09-18</td>\n",
       "      <td>0</td>\n",
       "    </tr>\n",
       "    <tr>\n",
       "      <th>1456595</th>\n",
       "      <td>1442537989072</td>\n",
       "      <td>751256</td>\n",
       "      <td>transaction</td>\n",
       "      <td>241715</td>\n",
       "      <td>7217.0</td>\n",
       "      <td>2015-09-18 00:59:49.072</td>\n",
       "      <td>2015-09-18</td>\n",
       "      <td>0</td>\n",
       "    </tr>\n",
       "    <tr>\n",
       "      <th>1455216</th>\n",
       "      <td>1442535684439</td>\n",
       "      <td>569539</td>\n",
       "      <td>transaction</td>\n",
       "      <td>389860</td>\n",
       "      <td>11088.0</td>\n",
       "      <td>2015-09-18 00:21:24.439</td>\n",
       "      <td>2015-09-18</td>\n",
       "      <td>0</td>\n",
       "    </tr>\n",
       "    <tr>\n",
       "      <th>1460839</th>\n",
       "      <td>1442538378154</td>\n",
       "      <td>1298462</td>\n",
       "      <td>transaction</td>\n",
       "      <td>358348</td>\n",
       "      <td>5741.0</td>\n",
       "      <td>2015-09-18 01:06:18.154</td>\n",
       "      <td>2015-09-18</td>\n",
       "      <td>0</td>\n",
       "    </tr>\n",
       "    <tr>\n",
       "      <th>1462449</th>\n",
       "      <td>1442542096481</td>\n",
       "      <td>152963</td>\n",
       "      <td>transaction</td>\n",
       "      <td>122984</td>\n",
       "      <td>5772.0</td>\n",
       "      <td>2015-09-18 02:08:16.481</td>\n",
       "      <td>2015-09-18</td>\n",
       "      <td>0</td>\n",
       "    </tr>\n",
       "  </tbody>\n",
       "</table>\n",
       "<p>11719 rows × 8 columns</p>\n",
       "</div>"
      ],
      "text/plain": [
       "             timestamp  visitorid        event  itemid transactionid  \\\n",
       "1476967  1430684682383     673776  transaction  432011       16383.0   \n",
       "1476928  1430684202992     563799  transaction  205111       13689.0   \n",
       "1476099  1430669840336     987715  transaction   47863         216.0   \n",
       "1475925  1430666959685     729806  transaction  317436        2410.0   \n",
       "1475731  1430641921974     996991  transaction   40168        1849.0   \n",
       "...                ...        ...          ...     ...           ...   \n",
       "1457781  1442540841770      62004  transaction  312594        5739.0   \n",
       "1456595  1442537989072     751256  transaction  241715        7217.0   \n",
       "1455216  1442535684439     569539  transaction  389860       11088.0   \n",
       "1460839  1442538378154    1298462  transaction  358348        5741.0   \n",
       "1462449  1442542096481     152963  transaction  122984        5772.0   \n",
       "\n",
       "                       datetime   date_key  days_since_last_transaction  \n",
       "1476967 2015-05-03 20:24:42.383 2015-05-03                          138  \n",
       "1476928 2015-05-03 20:16:42.992 2015-05-03                          138  \n",
       "1476099 2015-05-03 16:17:20.336 2015-05-03                          138  \n",
       "1475925 2015-05-03 15:29:19.685 2015-05-03                          138  \n",
       "1475731 2015-05-03 08:32:01.974 2015-05-03                          138  \n",
       "...                         ...        ...                          ...  \n",
       "1457781 2015-09-18 01:47:21.770 2015-09-18                            0  \n",
       "1456595 2015-09-18 00:59:49.072 2015-09-18                            0  \n",
       "1455216 2015-09-18 00:21:24.439 2015-09-18                            0  \n",
       "1460839 2015-09-18 01:06:18.154 2015-09-18                            0  \n",
       "1462449 2015-09-18 02:08:16.481 2015-09-18                            0  \n",
       "\n",
       "[11719 rows x 8 columns]"
      ]
     },
     "execution_count": 173,
     "metadata": {},
     "output_type": "execute_result"
    }
   ],
   "source": [
    "valid_transactions"
   ]
  },
  {
   "cell_type": "markdown",
   "id": "21e23116-80fe-4b99-9857-e0630fc73663",
   "metadata": {},
   "source": [
    "Berdasarkan data diatas dapat kita ketahui bahwa transakti terlama berjarak 138 hari dari transakti yang terjadi terakhir"
   ]
  },
  {
   "cell_type": "code",
   "execution_count": 175,
   "id": "b3c96bd4-54ad-4e53-a9f4-e8dd16bcfeb5",
   "metadata": {},
   "outputs": [],
   "source": [
    "last_transaction = valid_transactions.groupby('visitorid')['datetime'].max().reset_index()"
   ]
  },
  {
   "cell_type": "code",
   "execution_count": 177,
   "id": "ae8bd6e8-020e-4016-9fe9-c4c1db5a4b0a",
   "metadata": {},
   "outputs": [
    {
     "data": {
      "text/html": [
       "<div>\n",
       "<style scoped>\n",
       "    .dataframe tbody tr th:only-of-type {\n",
       "        vertical-align: middle;\n",
       "    }\n",
       "\n",
       "    .dataframe tbody tr th {\n",
       "        vertical-align: top;\n",
       "    }\n",
       "\n",
       "    .dataframe thead th {\n",
       "        text-align: right;\n",
       "    }\n",
       "</style>\n",
       "<table border=\"1\" class=\"dataframe\">\n",
       "  <thead>\n",
       "    <tr style=\"text-align: right;\">\n",
       "      <th></th>\n",
       "      <th>visitorid</th>\n",
       "      <th>datetime</th>\n",
       "    </tr>\n",
       "  </thead>\n",
       "  <tbody>\n",
       "    <tr>\n",
       "      <th>0</th>\n",
       "      <td>172</td>\n",
       "      <td>2015-08-15 01:29:01.686</td>\n",
       "    </tr>\n",
       "    <tr>\n",
       "      <th>1</th>\n",
       "      <td>186</td>\n",
       "      <td>2015-08-12 16:34:57.040</td>\n",
       "    </tr>\n",
       "    <tr>\n",
       "      <th>2</th>\n",
       "      <td>264</td>\n",
       "      <td>2015-09-07 17:34:45.708</td>\n",
       "    </tr>\n",
       "    <tr>\n",
       "      <th>3</th>\n",
       "      <td>419</td>\n",
       "      <td>2015-07-29 05:03:12.695</td>\n",
       "    </tr>\n",
       "    <tr>\n",
       "      <th>4</th>\n",
       "      <td>539</td>\n",
       "      <td>2015-06-16 05:39:38.673</td>\n",
       "    </tr>\n",
       "    <tr>\n",
       "      <th>...</th>\n",
       "      <td>...</td>\n",
       "      <td>...</td>\n",
       "    </tr>\n",
       "    <tr>\n",
       "      <th>11714</th>\n",
       "      <td>1406787</td>\n",
       "      <td>2015-06-01 16:56:48.042</td>\n",
       "    </tr>\n",
       "    <tr>\n",
       "      <th>11715</th>\n",
       "      <td>1406981</td>\n",
       "      <td>2015-05-18 22:28:21.266</td>\n",
       "    </tr>\n",
       "    <tr>\n",
       "      <th>11716</th>\n",
       "      <td>1407070</td>\n",
       "      <td>2015-05-13 22:41:15.160</td>\n",
       "    </tr>\n",
       "    <tr>\n",
       "      <th>11717</th>\n",
       "      <td>1407110</td>\n",
       "      <td>2015-08-04 23:11:25.624</td>\n",
       "    </tr>\n",
       "    <tr>\n",
       "      <th>11718</th>\n",
       "      <td>1407398</td>\n",
       "      <td>2015-07-07 03:47:15.969</td>\n",
       "    </tr>\n",
       "  </tbody>\n",
       "</table>\n",
       "<p>11719 rows × 2 columns</p>\n",
       "</div>"
      ],
      "text/plain": [
       "       visitorid                datetime\n",
       "0            172 2015-08-15 01:29:01.686\n",
       "1            186 2015-08-12 16:34:57.040\n",
       "2            264 2015-09-07 17:34:45.708\n",
       "3            419 2015-07-29 05:03:12.695\n",
       "4            539 2015-06-16 05:39:38.673\n",
       "...          ...                     ...\n",
       "11714    1406787 2015-06-01 16:56:48.042\n",
       "11715    1406981 2015-05-18 22:28:21.266\n",
       "11716    1407070 2015-05-13 22:41:15.160\n",
       "11717    1407110 2015-08-04 23:11:25.624\n",
       "11718    1407398 2015-07-07 03:47:15.969\n",
       "\n",
       "[11719 rows x 2 columns]"
      ]
     },
     "execution_count": 177,
     "metadata": {},
     "output_type": "execute_result"
    }
   ],
   "source": [
    "last_transaction"
   ]
  },
  {
   "cell_type": "code",
   "execution_count": 181,
   "id": "b8e863d3-3b65-4003-92f8-f13cc526226c",
   "metadata": {},
   "outputs": [
    {
     "data": {
      "text/plain": [
       "<Axes: ylabel='Frequency'>"
      ]
     },
     "execution_count": 181,
     "metadata": {},
     "output_type": "execute_result"
    },
    {
     "data": {
      "image/png": "[encoded data removed]",
      "text/plain": [
       "<Figure size 640x480 with 1 Axes>"
      ]
     },
     "metadata": {},
     "output_type": "display_data"
    }
   ],
   "source": [
    "df_recency = valid_transactions[['visitorid','days_since_last_transaction']]\n",
    "df_recency['days_since_last_transaction'].plot(kind='hist')"
   ]
  },
  {
   "cell_type": "markdown",
   "id": "7c7805b6-3fb7-41f6-a00b-f0edf4527e44",
   "metadata": {},
   "source": [
    "berdasarkan grafik, transaction terbanyak adalah terjadi pada recency 90"
   ]
  },
  {
   "cell_type": "markdown",
   "id": "3bf4a754-61af-46db-86bb-d1af4109ed8a",
   "metadata": {},
   "source": [
    "# 3.b berdasarkan hasil sebelumnya, bagi customer menjadi 4 kelompok berdasarkan aspek waktu transaksi terakhir."
   ]
  },
  {
   "cell_type": "code",
   "execution_count": 448,
   "id": "6105f0c8-1645-4bde-a1ba-7dbb70356ec4",
   "metadata": {},
   "outputs": [
    {
     "name": "stderr",
     "output_type": "stream",
     "text": [
      "/var/folders/gq/y63881xd0p95xkmph7t_jdvh0000gp/T/ipykernel_7836/3255626586.py:2: SettingWithCopyWarning: \n",
      "A value is trying to be set on a copy of a slice from a DataFrame.\n",
      "Try using .loc[row_indexer,col_indexer] = value instead\n",
      "\n",
      "See the caveats in the documentation: https://pandas.pydata.org/pandas-docs/stable/user_guide/indexing.html#returning-a-view-versus-a-copy\n",
      "  df_recency['R_score'] = pd.qcut(df_recency['days_since_last_transaction'],4,labels=[1,2,3,4])\n"
     ]
    }
   ],
   "source": [
    "# 3.b berdasarkan hasil sebelumnya, bagi customer menjadi 4 kelompok berdasarkan aspek waktu transaksi terakhir.¶\n",
    "df_recency['R_score'] = pd.qcut(df_recency['days_since_last_transaction'],4,labels=[1,2,3,4])"
   ]
  },
  {
   "cell_type": "code",
   "execution_count": 303,
   "id": "d86bd6fe-6f14-4c18-88e8-9b0058230dd3",
   "metadata": {},
   "outputs": [
    {
     "data": {
      "text/plain": [
       "visitorid                         int64\n",
       "days_since_last_transaction       int64\n",
       "R_score                        category\n",
       "dtype: object"
      ]
     },
     "execution_count": 303,
     "metadata": {},
     "output_type": "execute_result"
    }
   ],
   "source": [
    "df_recency.dtypes"
   ]
  },
  {
   "cell_type": "code",
   "execution_count": 450,
   "id": "97c6357a-9403-4ae9-8317-874ef933e72a",
   "metadata": {},
   "outputs": [],
   "source": [
    "df_recency1 = df_recency"
   ]
  },
  {
   "cell_type": "code",
   "execution_count": 452,
   "id": "16b020ee-2326-49ad-aad7-686f5a5772b3",
   "metadata": {},
   "outputs": [
    {
     "name": "stderr",
     "output_type": "stream",
     "text": [
      "/var/folders/gq/y63881xd0p95xkmph7t_jdvh0000gp/T/ipykernel_7836/3457643169.py:1: SettingWithCopyWarning: \n",
      "A value is trying to be set on a copy of a slice from a DataFrame.\n",
      "Try using .loc[row_indexer,col_indexer] = value instead\n",
      "\n",
      "See the caveats in the documentation: https://pandas.pydata.org/pandas-docs/stable/user_guide/indexing.html#returning-a-view-versus-a-copy\n",
      "  df_recency1['R_score'] = df_recency1['R_score'].map({1: 'baru_saja', 2: 'aktif', 3: 'kurang_aktif', 4: 'tidak_aktif'})\n"
     ]
    },
    {
     "data": {
      "text/html": [
       "<div>\n",
       "<style scoped>\n",
       "    .dataframe tbody tr th:only-of-type {\n",
       "        vertical-align: middle;\n",
       "    }\n",
       "\n",
       "    .dataframe tbody tr th {\n",
       "        vertical-align: top;\n",
       "    }\n",
       "\n",
       "    .dataframe thead th {\n",
       "        text-align: right;\n",
       "    }\n",
       "</style>\n",
       "<table border=\"1\" class=\"dataframe\">\n",
       "  <thead>\n",
       "    <tr style=\"text-align: right;\">\n",
       "      <th></th>\n",
       "      <th>visitorid</th>\n",
       "      <th>days_since_last_transaction</th>\n",
       "      <th>R_score</th>\n",
       "    </tr>\n",
       "  </thead>\n",
       "  <tbody>\n",
       "    <tr>\n",
       "      <th>1476967</th>\n",
       "      <td>673776</td>\n",
       "      <td>138</td>\n",
       "      <td>tidak_aktif</td>\n",
       "    </tr>\n",
       "    <tr>\n",
       "      <th>1476928</th>\n",
       "      <td>563799</td>\n",
       "      <td>138</td>\n",
       "      <td>tidak_aktif</td>\n",
       "    </tr>\n",
       "    <tr>\n",
       "      <th>1476099</th>\n",
       "      <td>987715</td>\n",
       "      <td>138</td>\n",
       "      <td>tidak_aktif</td>\n",
       "    </tr>\n",
       "    <tr>\n",
       "      <th>1475925</th>\n",
       "      <td>729806</td>\n",
       "      <td>138</td>\n",
       "      <td>tidak_aktif</td>\n",
       "    </tr>\n",
       "    <tr>\n",
       "      <th>1475731</th>\n",
       "      <td>996991</td>\n",
       "      <td>138</td>\n",
       "      <td>tidak_aktif</td>\n",
       "    </tr>\n",
       "    <tr>\n",
       "      <th>...</th>\n",
       "      <td>...</td>\n",
       "      <td>...</td>\n",
       "      <td>...</td>\n",
       "    </tr>\n",
       "    <tr>\n",
       "      <th>1457781</th>\n",
       "      <td>62004</td>\n",
       "      <td>0</td>\n",
       "      <td>baru_saja</td>\n",
       "    </tr>\n",
       "    <tr>\n",
       "      <th>1456595</th>\n",
       "      <td>751256</td>\n",
       "      <td>0</td>\n",
       "      <td>baru_saja</td>\n",
       "    </tr>\n",
       "    <tr>\n",
       "      <th>1455216</th>\n",
       "      <td>569539</td>\n",
       "      <td>0</td>\n",
       "      <td>baru_saja</td>\n",
       "    </tr>\n",
       "    <tr>\n",
       "      <th>1460839</th>\n",
       "      <td>1298462</td>\n",
       "      <td>0</td>\n",
       "      <td>baru_saja</td>\n",
       "    </tr>\n",
       "    <tr>\n",
       "      <th>1462449</th>\n",
       "      <td>152963</td>\n",
       "      <td>0</td>\n",
       "      <td>baru_saja</td>\n",
       "    </tr>\n",
       "  </tbody>\n",
       "</table>\n",
       "<p>11719 rows × 3 columns</p>\n",
       "</div>"
      ],
      "text/plain": [
       "         visitorid  days_since_last_transaction      R_score\n",
       "1476967     673776                          138  tidak_aktif\n",
       "1476928     563799                          138  tidak_aktif\n",
       "1476099     987715                          138  tidak_aktif\n",
       "1475925     729806                          138  tidak_aktif\n",
       "1475731     996991                          138  tidak_aktif\n",
       "...            ...                          ...          ...\n",
       "1457781      62004                            0    baru_saja\n",
       "1456595     751256                            0    baru_saja\n",
       "1455216     569539                            0    baru_saja\n",
       "1460839    1298462                            0    baru_saja\n",
       "1462449     152963                            0    baru_saja\n",
       "\n",
       "[11719 rows x 3 columns]"
      ]
     },
     "execution_count": 452,
     "metadata": {},
     "output_type": "execute_result"
    }
   ],
   "source": [
    "df_recency1['R_score'] = df_recency1['R_score'].map({1: 'baru_saja', 2: 'aktif', 3: 'kurang_aktif', 4: 'tidak_aktif'})\n",
    "df_recency1"
   ]
  },
  {
   "cell_type": "code",
   "execution_count": 456,
   "id": "4e99746c-db66-4955-82d8-17eeddd26507",
   "metadata": {},
   "outputs": [
    {
     "data": {
      "text/html": [
       "<div>\n",
       "<style scoped>\n",
       "    .dataframe tbody tr th:only-of-type {\n",
       "        vertical-align: middle;\n",
       "    }\n",
       "\n",
       "    .dataframe tbody tr th {\n",
       "        vertical-align: top;\n",
       "    }\n",
       "\n",
       "    .dataframe thead th {\n",
       "        text-align: right;\n",
       "    }\n",
       "</style>\n",
       "<table border=\"1\" class=\"dataframe\">\n",
       "  <thead>\n",
       "    <tr style=\"text-align: right;\">\n",
       "      <th></th>\n",
       "      <th>R_score</th>\n",
       "      <th>count</th>\n",
       "    </tr>\n",
       "  </thead>\n",
       "  <tbody>\n",
       "    <tr>\n",
       "      <th>0</th>\n",
       "      <td>baru_saja</td>\n",
       "      <td>2995</td>\n",
       "    </tr>\n",
       "    <tr>\n",
       "      <th>1</th>\n",
       "      <td>kurang_aktif</td>\n",
       "      <td>2960</td>\n",
       "    </tr>\n",
       "    <tr>\n",
       "      <th>2</th>\n",
       "      <td>aktif</td>\n",
       "      <td>2900</td>\n",
       "    </tr>\n",
       "    <tr>\n",
       "      <th>3</th>\n",
       "      <td>tidak_aktif</td>\n",
       "      <td>2864</td>\n",
       "    </tr>\n",
       "  </tbody>\n",
       "</table>\n",
       "</div>"
      ],
      "text/plain": [
       "        R_score  count\n",
       "0     baru_saja   2995\n",
       "1  kurang_aktif   2960\n",
       "2         aktif   2900\n",
       "3   tidak_aktif   2864"
      ]
     },
     "execution_count": 456,
     "metadata": {},
     "output_type": "execute_result"
    }
   ],
   "source": [
    "df_recency['R_score'].value_counts().reset_index()"
   ]
  },
  {
   "cell_type": "markdown",
   "id": "d956d6e9-f0fd-4b5e-92ae-9e1d6d8c6c36",
   "metadata": {},
   "source": [
    "Baru Saja (1): \n",
    "Label ini dapat digunakan untuk pengguna yang baru saja melakukan transaksi, menunjukkan bahwa mereka sangat aktif dan terlibat dengan produk atau layanan.\n",
    "Aktif(2): \n",
    "Label ini cocok untuk pengguna yang melakukan transaksi dalam waktu yang relatif dekat, tetapi tidak dalam waktu yang sangat baru. Mereka masih menunjukkan minat yang baik terhadap produk.\n",
    "Kurang Aktif(3):\n",
    "Label ini dapat digunakan untuk pengguna yang sudah lama tidak melakukan transaksi. Meskipun mereka pernah aktif, keterlibatan mereka saat ini mulai menurun.\n",
    "Tidak Aktif (4):\n",
    "Label ini menggambarkan pengguna yang sudah lama tidak melakukan transaksi. Mereka mungkin perlu diingatkan atau ditargetkan dengan kampanye pemasaran untuk menarik kembali minat mereka."
   ]
  },
  {
   "cell_type": "code",
   "execution_count": 82,
   "id": "c4d8470e-4f65-4110-8749-bb9f19887597",
   "metadata": {},
   "outputs": [
    {
     "data": {
      "text/html": [
       "<div>\n",
       "<style scoped>\n",
       "    .dataframe tbody tr th:only-of-type {\n",
       "        vertical-align: middle;\n",
       "    }\n",
       "\n",
       "    .dataframe tbody tr th {\n",
       "        vertical-align: top;\n",
       "    }\n",
       "\n",
       "    .dataframe thead th {\n",
       "        text-align: right;\n",
       "    }\n",
       "</style>\n",
       "<table border=\"1\" class=\"dataframe\">\n",
       "  <thead>\n",
       "    <tr style=\"text-align: right;\">\n",
       "      <th></th>\n",
       "      <th>visitorid</th>\n",
       "      <th>days_since_last_transaction</th>\n",
       "      <th>R_score</th>\n",
       "    </tr>\n",
       "  </thead>\n",
       "  <tbody>\n",
       "    <tr>\n",
       "      <th>1465072</th>\n",
       "      <td>869008</td>\n",
       "      <td>138</td>\n",
       "      <td>1</td>\n",
       "    </tr>\n",
       "    <tr>\n",
       "      <th>1463096</th>\n",
       "      <td>345781</td>\n",
       "      <td>138</td>\n",
       "      <td>1</td>\n",
       "    </tr>\n",
       "    <tr>\n",
       "      <th>1464289</th>\n",
       "      <td>586756</td>\n",
       "      <td>138</td>\n",
       "      <td>1</td>\n",
       "    </tr>\n",
       "    <tr>\n",
       "      <th>1463462</th>\n",
       "      <td>435495</td>\n",
       "      <td>138</td>\n",
       "      <td>1</td>\n",
       "    </tr>\n",
       "    <tr>\n",
       "      <th>1464041</th>\n",
       "      <td>266417</td>\n",
       "      <td>138</td>\n",
       "      <td>1</td>\n",
       "    </tr>\n",
       "    <tr>\n",
       "      <th>...</th>\n",
       "      <td>...</td>\n",
       "      <td>...</td>\n",
       "      <td>...</td>\n",
       "    </tr>\n",
       "    <tr>\n",
       "      <th>1456595</th>\n",
       "      <td>751256</td>\n",
       "      <td>0</td>\n",
       "      <td>4</td>\n",
       "    </tr>\n",
       "    <tr>\n",
       "      <th>1460839</th>\n",
       "      <td>1298462</td>\n",
       "      <td>0</td>\n",
       "      <td>4</td>\n",
       "    </tr>\n",
       "    <tr>\n",
       "      <th>1457781</th>\n",
       "      <td>62004</td>\n",
       "      <td>0</td>\n",
       "      <td>4</td>\n",
       "    </tr>\n",
       "    <tr>\n",
       "      <th>1457810</th>\n",
       "      <td>427756</td>\n",
       "      <td>0</td>\n",
       "      <td>4</td>\n",
       "    </tr>\n",
       "    <tr>\n",
       "      <th>1454084</th>\n",
       "      <td>152963</td>\n",
       "      <td>0</td>\n",
       "      <td>4</td>\n",
       "    </tr>\n",
       "  </tbody>\n",
       "</table>\n",
       "<p>11719 rows × 3 columns</p>\n",
       "</div>"
      ],
      "text/plain": [
       "         visitorid  days_since_last_transaction R_score\n",
       "1465072     869008                          138       1\n",
       "1463096     345781                          138       1\n",
       "1464289     586756                          138       1\n",
       "1463462     435495                          138       1\n",
       "1464041     266417                          138       1\n",
       "...            ...                          ...     ...\n",
       "1456595     751256                            0       4\n",
       "1460839    1298462                            0       4\n",
       "1457781      62004                            0       4\n",
       "1457810     427756                            0       4\n",
       "1454084     152963                            0       4\n",
       "\n",
       "[11719 rows x 3 columns]"
      ]
     },
     "execution_count": 82,
     "metadata": {},
     "output_type": "execute_result"
    }
   ],
   "source": [
    "# CONTOH HASIL\n",
    "latest_transaction"
   ]
  },
  {
   "cell_type": "markdown",
   "id": "77028d1b-4da1-45ad-9021-eb9d31bd8a1d",
   "metadata": {},
   "source": [
    "# 3.c Hitunglah banyaknya transaksi yang dilakukan oleh setiap uservisitor \n",
    "Output data yang diharapkan adalah dataframe dengan 2 kolom, yakni visitorid dan juga sudah berapa banyak transaksi yang telah dilakukan\n",
    "\n",
    "# 3.d berdasarkan hasil sebelumnya, bagi customer menjadi 4 kelompok berdasarkan banyaknya transaksi yang dilakukan"
   ]
  },
  {
   "cell_type": "code",
   "execution_count": 347,
   "id": "9ac8191c-8243-4c5e-b473-ca797a5b9f86",
   "metadata": {},
   "outputs": [
    {
     "data": {
      "text/html": [
       "<div>\n",
       "<style scoped>\n",
       "    .dataframe tbody tr th:only-of-type {\n",
       "        vertical-align: middle;\n",
       "    }\n",
       "\n",
       "    .dataframe tbody tr th {\n",
       "        vertical-align: top;\n",
       "    }\n",
       "\n",
       "    .dataframe thead th {\n",
       "        text-align: right;\n",
       "    }\n",
       "</style>\n",
       "<table border=\"1\" class=\"dataframe\">\n",
       "  <thead>\n",
       "    <tr style=\"text-align: right;\">\n",
       "      <th></th>\n",
       "      <th>visitorid</th>\n",
       "      <th>transaction_count</th>\n",
       "    </tr>\n",
       "  </thead>\n",
       "  <tbody>\n",
       "    <tr>\n",
       "      <th>0</th>\n",
       "      <td>172</td>\n",
       "      <td>2</td>\n",
       "    </tr>\n",
       "    <tr>\n",
       "      <th>1</th>\n",
       "      <td>186</td>\n",
       "      <td>1</td>\n",
       "    </tr>\n",
       "    <tr>\n",
       "      <th>2</th>\n",
       "      <td>264</td>\n",
       "      <td>2</td>\n",
       "    </tr>\n",
       "    <tr>\n",
       "      <th>3</th>\n",
       "      <td>419</td>\n",
       "      <td>1</td>\n",
       "    </tr>\n",
       "    <tr>\n",
       "      <th>4</th>\n",
       "      <td>539</td>\n",
       "      <td>1</td>\n",
       "    </tr>\n",
       "    <tr>\n",
       "      <th>...</th>\n",
       "      <td>...</td>\n",
       "      <td>...</td>\n",
       "    </tr>\n",
       "    <tr>\n",
       "      <th>11714</th>\n",
       "      <td>1406787</td>\n",
       "      <td>1</td>\n",
       "    </tr>\n",
       "    <tr>\n",
       "      <th>11715</th>\n",
       "      <td>1406981</td>\n",
       "      <td>1</td>\n",
       "    </tr>\n",
       "    <tr>\n",
       "      <th>11716</th>\n",
       "      <td>1407070</td>\n",
       "      <td>1</td>\n",
       "    </tr>\n",
       "    <tr>\n",
       "      <th>11717</th>\n",
       "      <td>1407110</td>\n",
       "      <td>1</td>\n",
       "    </tr>\n",
       "    <tr>\n",
       "      <th>11718</th>\n",
       "      <td>1407398</td>\n",
       "      <td>1</td>\n",
       "    </tr>\n",
       "  </tbody>\n",
       "</table>\n",
       "<p>11719 rows × 2 columns</p>\n",
       "</div>"
      ],
      "text/plain": [
       "       visitorid  transaction_count\n",
       "0            172                  2\n",
       "1            186                  1\n",
       "2            264                  2\n",
       "3            419                  1\n",
       "4            539                  1\n",
       "...          ...                ...\n",
       "11714    1406787                  1\n",
       "11715    1406981                  1\n",
       "11716    1407070                  1\n",
       "11717    1407110                  1\n",
       "11718    1407398                  1\n",
       "\n",
       "[11719 rows x 2 columns]"
      ]
     },
     "execution_count": 347,
     "metadata": {},
     "output_type": "execute_result"
    }
   ],
   "source": [
    "# 3.c Hitunglah banyaknya transaksi yang dilakukan oleh setiap uservisitor\n",
    "# Output data yang diharapkan adalah dataframe dengan 2 kolom, yakni visitorid dan juga sudah berapa banyak transaksi yang telah dilakukan\n",
    "import pandas as pd\n",
    "\n",
    "# Filter transaksi yang valid\n",
    "valid_transactions = df[(df['event'] == \"transaction\")]\n",
    "\n",
    "# Hitung banyaknya transaksi per visitorid\n",
    "transaction_counts = valid_transactions.groupby('visitorid').size().reset_index(name='transaction_count')\n",
    "\n",
    "# Tampilkan hasilnya\n",
    "transaction_counts"
   ]
  },
  {
   "cell_type": "code",
   "execution_count": 353,
   "id": "21855e52-f493-4feb-90b0-c175b46a7fb0",
   "metadata": {},
   "outputs": [
    {
     "data": {
      "text/plain": [
       "<Axes: ylabel='Frequency'>"
      ]
     },
     "execution_count": 353,
     "metadata": {},
     "output_type": "execute_result"
    },
    {
     "data": {
      "image/png": "[encoded data removed]",
      "text/plain": [
       "<Figure size 640x480 with 1 Axes>"
      ]
     },
     "metadata": {},
     "output_type": "display_data"
    }
   ],
   "source": [
    "#Melihat distribusi Transaction\n",
    "transaction_counts['transaction_count'].plot(kind='hist',bins=100)"
   ]
  },
  {
   "cell_type": "code",
   "execution_count": null,
   "id": "be636b3d-3317-40d4-a39c-7bf88d0c46f3",
   "metadata": {},
   "outputs": [],
   "source": [
    "# df_frequency = valid_transactions.groupby('visitorid').agg({'transactionid':'nunique'})\n",
    "# df_frequency['transactionid'] = pd.to_numeric(df_frequency['transactionid'], errors='coerce')\n",
    "# # df_frequency['transactionid'] = df_frequency['transactionid'].astype('int64')\n",
    "# df_frequency['transactionid'].plot(kind='hist',bins=100)"
   ]
  },
  {
   "cell_type": "code",
   "execution_count": 367,
   "id": "36d44d48-ff91-40dc-85b6-a082a48f5c61",
   "metadata": {},
   "outputs": [
    {
     "data": {
      "text/plain": [
       "visitorid               int64\n",
       "transaction_count       int64\n",
       "group                category\n",
       "dtype: object"
      ]
     },
     "execution_count": 367,
     "metadata": {},
     "output_type": "execute_result"
    }
   ],
   "source": [
    "transaction_counts.dtypes"
   ]
  },
  {
   "cell_type": "code",
   "execution_count": 365,
   "id": "488176b9-62ea-45db-9ae5-4fd7794f5b7b",
   "metadata": {},
   "outputs": [
    {
     "data": {
      "text/plain": [
       "22457"
      ]
     },
     "execution_count": 365,
     "metadata": {},
     "output_type": "execute_result"
    }
   ],
   "source": [
    "#Menghitung jumlah transaction count\n",
    "transaction_counts['transaction_count'].sum()"
   ]
  },
  {
   "cell_type": "code",
   "execution_count": 379,
   "id": "01f2f08d-afeb-4da4-853f-515d46758378",
   "metadata": {},
   "outputs": [],
   "source": [
    "# Mengelompokkan customer ke dalam 4 kelompok berdasarkan banyaknya transaksi\n",
    "transaction_counts['F_score'] = pd.cut(transaction_counts['transaction_count'], bins=4, labels=[1,2,3,4])\n",
    "transaction_counts = transaction_counts.drop(columns=['group'])"
   ]
  },
  {
   "cell_type": "code",
   "execution_count": 381,
   "id": "287d4db7-e575-4ddc-aace-038d9431576e",
   "metadata": {},
   "outputs": [
    {
     "data": {
      "text/html": [
       "<div>\n",
       "<style scoped>\n",
       "    .dataframe tbody tr th:only-of-type {\n",
       "        vertical-align: middle;\n",
       "    }\n",
       "\n",
       "    .dataframe tbody tr th {\n",
       "        vertical-align: top;\n",
       "    }\n",
       "\n",
       "    .dataframe thead th {\n",
       "        text-align: right;\n",
       "    }\n",
       "</style>\n",
       "<table border=\"1\" class=\"dataframe\">\n",
       "  <thead>\n",
       "    <tr style=\"text-align: right;\">\n",
       "      <th></th>\n",
       "      <th>visitorid</th>\n",
       "      <th>transaction_count</th>\n",
       "      <th>F_score</th>\n",
       "    </tr>\n",
       "  </thead>\n",
       "  <tbody>\n",
       "    <tr>\n",
       "      <th>0</th>\n",
       "      <td>172</td>\n",
       "      <td>2</td>\n",
       "      <td>1</td>\n",
       "    </tr>\n",
       "    <tr>\n",
       "      <th>1</th>\n",
       "      <td>186</td>\n",
       "      <td>1</td>\n",
       "      <td>1</td>\n",
       "    </tr>\n",
       "    <tr>\n",
       "      <th>2</th>\n",
       "      <td>264</td>\n",
       "      <td>2</td>\n",
       "      <td>1</td>\n",
       "    </tr>\n",
       "    <tr>\n",
       "      <th>3</th>\n",
       "      <td>419</td>\n",
       "      <td>1</td>\n",
       "      <td>1</td>\n",
       "    </tr>\n",
       "    <tr>\n",
       "      <th>4</th>\n",
       "      <td>539</td>\n",
       "      <td>1</td>\n",
       "      <td>1</td>\n",
       "    </tr>\n",
       "    <tr>\n",
       "      <th>...</th>\n",
       "      <td>...</td>\n",
       "      <td>...</td>\n",
       "      <td>...</td>\n",
       "    </tr>\n",
       "    <tr>\n",
       "      <th>11714</th>\n",
       "      <td>1406787</td>\n",
       "      <td>1</td>\n",
       "      <td>1</td>\n",
       "    </tr>\n",
       "    <tr>\n",
       "      <th>11715</th>\n",
       "      <td>1406981</td>\n",
       "      <td>1</td>\n",
       "      <td>1</td>\n",
       "    </tr>\n",
       "    <tr>\n",
       "      <th>11716</th>\n",
       "      <td>1407070</td>\n",
       "      <td>1</td>\n",
       "      <td>1</td>\n",
       "    </tr>\n",
       "    <tr>\n",
       "      <th>11717</th>\n",
       "      <td>1407110</td>\n",
       "      <td>1</td>\n",
       "      <td>1</td>\n",
       "    </tr>\n",
       "    <tr>\n",
       "      <th>11718</th>\n",
       "      <td>1407398</td>\n",
       "      <td>1</td>\n",
       "      <td>1</td>\n",
       "    </tr>\n",
       "  </tbody>\n",
       "</table>\n",
       "<p>11719 rows × 3 columns</p>\n",
       "</div>"
      ],
      "text/plain": [
       "       visitorid  transaction_count F_score\n",
       "0            172                  2       1\n",
       "1            186                  1       1\n",
       "2            264                  2       1\n",
       "3            419                  1       1\n",
       "4            539                  1       1\n",
       "...          ...                ...     ...\n",
       "11714    1406787                  1       1\n",
       "11715    1406981                  1       1\n",
       "11716    1407070                  1       1\n",
       "11717    1407110                  1       1\n",
       "11718    1407398                  1       1\n",
       "\n",
       "[11719 rows x 3 columns]"
      ]
     },
     "execution_count": 381,
     "metadata": {},
     "output_type": "execute_result"
    }
   ],
   "source": [
    "transaction_counts"
   ]
  },
  {
   "cell_type": "code",
   "execution_count": 385,
   "id": "5afcf283-ee1d-432f-b3dd-b7a5b4cc3038",
   "metadata": {},
   "outputs": [
    {
     "data": {
      "text/plain": [
       "F_score\n",
       "1    11711\n",
       "2        5\n",
       "3        2\n",
       "4        1\n",
       "Name: count, dtype: int64"
      ]
     },
     "execution_count": 385,
     "metadata": {},
     "output_type": "execute_result"
    }
   ],
   "source": [
    "#Melihat jumlah transaction count\n",
    "transaction_counts['F_score'].value_counts()"
   ]
  },
  {
   "cell_type": "code",
   "execution_count": 387,
   "id": "a9af7549-7371-4bb5-ae45-1ee924089e0d",
   "metadata": {},
   "outputs": [
    {
     "name": "stderr",
     "output_type": "stream",
     "text": [
      "/var/folders/gq/y63881xd0p95xkmph7t_jdvh0000gp/T/ipykernel_7836/4277121482.py:1: FutureWarning: The default of observed=False is deprecated and will be changed to True in a future version of pandas. Pass observed=False to retain current behavior or observed=True to adopt the future default and silence this warning.\n",
      "  transaction_counts.groupby('F_score').agg({'transaction_count':['min','max','mean','median','count']})\n"
     ]
    },
    {
     "data": {
      "text/html": [
       "<div>\n",
       "<style scoped>\n",
       "    .dataframe tbody tr th:only-of-type {\n",
       "        vertical-align: middle;\n",
       "    }\n",
       "\n",
       "    .dataframe tbody tr th {\n",
       "        vertical-align: top;\n",
       "    }\n",
       "\n",
       "    .dataframe thead tr th {\n",
       "        text-align: left;\n",
       "    }\n",
       "\n",
       "    .dataframe thead tr:last-of-type th {\n",
       "        text-align: right;\n",
       "    }\n",
       "</style>\n",
       "<table border=\"1\" class=\"dataframe\">\n",
       "  <thead>\n",
       "    <tr>\n",
       "      <th></th>\n",
       "      <th colspan=\"5\" halign=\"left\">transaction_count</th>\n",
       "    </tr>\n",
       "    <tr>\n",
       "      <th></th>\n",
       "      <th>min</th>\n",
       "      <th>max</th>\n",
       "      <th>mean</th>\n",
       "      <th>median</th>\n",
       "      <th>count</th>\n",
       "    </tr>\n",
       "    <tr>\n",
       "      <th>F_score</th>\n",
       "      <th></th>\n",
       "      <th></th>\n",
       "      <th></th>\n",
       "      <th></th>\n",
       "      <th></th>\n",
       "    </tr>\n",
       "  </thead>\n",
       "  <tbody>\n",
       "    <tr>\n",
       "      <th>1</th>\n",
       "      <td>1</td>\n",
       "      <td>136</td>\n",
       "      <td>1.7405</td>\n",
       "      <td>1.0</td>\n",
       "      <td>11711</td>\n",
       "    </tr>\n",
       "    <tr>\n",
       "      <th>2</th>\n",
       "      <td>145</td>\n",
       "      <td>189</td>\n",
       "      <td>176.0000</td>\n",
       "      <td>185.0</td>\n",
       "      <td>5</td>\n",
       "    </tr>\n",
       "    <tr>\n",
       "      <th>3</th>\n",
       "      <td>286</td>\n",
       "      <td>349</td>\n",
       "      <td>317.5000</td>\n",
       "      <td>317.5</td>\n",
       "      <td>2</td>\n",
       "    </tr>\n",
       "    <tr>\n",
       "      <th>4</th>\n",
       "      <td>559</td>\n",
       "      <td>559</td>\n",
       "      <td>559.0000</td>\n",
       "      <td>559.0</td>\n",
       "      <td>1</td>\n",
       "    </tr>\n",
       "  </tbody>\n",
       "</table>\n",
       "</div>"
      ],
      "text/plain": [
       "        transaction_count                             \n",
       "                      min  max      mean median  count\n",
       "F_score                                               \n",
       "1                       1  136    1.7405    1.0  11711\n",
       "2                     145  189  176.0000  185.0      5\n",
       "3                     286  349  317.5000  317.5      2\n",
       "4                     559  559  559.0000  559.0      1"
      ]
     },
     "execution_count": 387,
     "metadata": {},
     "output_type": "execute_result"
    }
   ],
   "source": [
    "transaction_counts.groupby('F_score').agg({'transaction_count':['min','max','mean','median','count']})"
   ]
  },
  {
   "cell_type": "markdown",
   "id": "10d95b36-8193-497c-93d4-d69a96736e4a",
   "metadata": {},
   "source": [
    "Berdasarkan tabel diatas terlihat jumlah transaksi yang terjadi sangat timpang sekali antara F_score 1, 2, 3, 4 sehingga perlu dilakukan pengelompokan kembali berdasarkan quantil nya."
   ]
  },
  {
   "cell_type": "code",
   "execution_count": 407,
   "id": "c3650347-de7f-4ba4-9f0d-767854454ef0",
   "metadata": {},
   "outputs": [
    {
     "data": {
      "text/plain": [
       "count    11719.000000\n",
       "mean         1.916290\n",
       "std          8.850529\n",
       "min          1.000000\n",
       "50%          1.000000\n",
       "80%          2.000000\n",
       "90%          2.000000\n",
       "95%          4.000000\n",
       "99%         13.000000\n",
       "99.9%      108.410000\n",
       "max        559.000000\n",
       "Name: transaction_count, dtype: float64"
      ]
     },
     "execution_count": 407,
     "metadata": {},
     "output_type": "execute_result"
    }
   ],
   "source": [
    "#Melihat persebaran data\n",
    "transaction_counts.query('transaction_count>0')['transaction_count'].describe(percentiles=[0.5,0.8,0.9,0.95,0.99,0.999])"
   ]
  },
  {
   "cell_type": "code",
   "execution_count": 426,
   "id": "ef7fd1b8-9bea-4c76-97dc-89ae7163a319",
   "metadata": {},
   "outputs": [],
   "source": [
    "#Melakukan pengelompokan kembali berdasarkan nilai percentiles\n",
    "import numpy as np\n",
    "transaction_counts['F_score'] = pd.cut(transaction_counts['transaction_count'],bins=[0,4,13,100,np.Inf],labels=[1,2,3,4],right=True)"
   ]
  },
  {
   "cell_type": "code",
   "execution_count": 428,
   "id": "2a992d0d-e891-4417-b9f6-0727c876a270",
   "metadata": {},
   "outputs": [
    {
     "name": "stderr",
     "output_type": "stream",
     "text": [
      "/var/folders/gq/y63881xd0p95xkmph7t_jdvh0000gp/T/ipykernel_7836/4277121482.py:1: FutureWarning: The default of observed=False is deprecated and will be changed to True in a future version of pandas. Pass observed=False to retain current behavior or observed=True to adopt the future default and silence this warning.\n",
      "  transaction_counts.groupby('F_score').agg({'transaction_count':['min','max','mean','median','count']})\n"
     ]
    },
    {
     "data": {
      "text/html": [
       "<div>\n",
       "<style scoped>\n",
       "    .dataframe tbody tr th:only-of-type {\n",
       "        vertical-align: middle;\n",
       "    }\n",
       "\n",
       "    .dataframe tbody tr th {\n",
       "        vertical-align: top;\n",
       "    }\n",
       "\n",
       "    .dataframe thead tr th {\n",
       "        text-align: left;\n",
       "    }\n",
       "\n",
       "    .dataframe thead tr:last-of-type th {\n",
       "        text-align: right;\n",
       "    }\n",
       "</style>\n",
       "<table border=\"1\" class=\"dataframe\">\n",
       "  <thead>\n",
       "    <tr>\n",
       "      <th></th>\n",
       "      <th colspan=\"5\" halign=\"left\">transaction_count</th>\n",
       "    </tr>\n",
       "    <tr>\n",
       "      <th></th>\n",
       "      <th>min</th>\n",
       "      <th>max</th>\n",
       "      <th>mean</th>\n",
       "      <th>median</th>\n",
       "      <th>count</th>\n",
       "    </tr>\n",
       "    <tr>\n",
       "      <th>F_score</th>\n",
       "      <th></th>\n",
       "      <th></th>\n",
       "      <th></th>\n",
       "      <th></th>\n",
       "      <th></th>\n",
       "    </tr>\n",
       "  </thead>\n",
       "  <tbody>\n",
       "    <tr>\n",
       "      <th>1</th>\n",
       "      <td>1</td>\n",
       "      <td>4</td>\n",
       "      <td>1.270146</td>\n",
       "      <td>1.0</td>\n",
       "      <td>11342</td>\n",
       "    </tr>\n",
       "    <tr>\n",
       "      <th>2</th>\n",
       "      <td>5</td>\n",
       "      <td>13</td>\n",
       "      <td>7.093985</td>\n",
       "      <td>6.0</td>\n",
       "      <td>266</td>\n",
       "    </tr>\n",
       "    <tr>\n",
       "      <th>3</th>\n",
       "      <td>14</td>\n",
       "      <td>100</td>\n",
       "      <td>34.197917</td>\n",
       "      <td>26.0</td>\n",
       "      <td>96</td>\n",
       "    </tr>\n",
       "    <tr>\n",
       "      <th>4</th>\n",
       "      <td>101</td>\n",
       "      <td>559</td>\n",
       "      <td>192.066667</td>\n",
       "      <td>145.0</td>\n",
       "      <td>15</td>\n",
       "    </tr>\n",
       "  </tbody>\n",
       "</table>\n",
       "</div>"
      ],
      "text/plain": [
       "        transaction_count                               \n",
       "                      min  max        mean median  count\n",
       "F_score                                                 \n",
       "1                       1    4    1.270146    1.0  11342\n",
       "2                       5   13    7.093985    6.0    266\n",
       "3                      14  100   34.197917   26.0     96\n",
       "4                     101  559  192.066667  145.0     15"
      ]
     },
     "execution_count": 428,
     "metadata": {},
     "output_type": "execute_result"
    }
   ],
   "source": [
    "transaction_counts.groupby('F_score').agg({'transaction_count':['min','max','mean','median','count']})"
   ]
  },
  {
   "cell_type": "code",
   "execution_count": 433,
   "id": "3d2eb5d8-33fb-4fc6-b4d2-8f876811d18a",
   "metadata": {},
   "outputs": [
    {
     "data": {
      "text/html": [
       "<div>\n",
       "<style scoped>\n",
       "    .dataframe tbody tr th:only-of-type {\n",
       "        vertical-align: middle;\n",
       "    }\n",
       "\n",
       "    .dataframe tbody tr th {\n",
       "        vertical-align: top;\n",
       "    }\n",
       "\n",
       "    .dataframe thead th {\n",
       "        text-align: right;\n",
       "    }\n",
       "</style>\n",
       "<table border=\"1\" class=\"dataframe\">\n",
       "  <thead>\n",
       "    <tr style=\"text-align: right;\">\n",
       "      <th></th>\n",
       "      <th>visitorid</th>\n",
       "      <th>transaction_count</th>\n",
       "      <th>F_score</th>\n",
       "    </tr>\n",
       "  </thead>\n",
       "  <tbody>\n",
       "    <tr>\n",
       "      <th>0</th>\n",
       "      <td>172</td>\n",
       "      <td>2</td>\n",
       "      <td>kaum_dalit</td>\n",
       "    </tr>\n",
       "    <tr>\n",
       "      <th>1</th>\n",
       "      <td>186</td>\n",
       "      <td>1</td>\n",
       "      <td>kaum_dalit</td>\n",
       "    </tr>\n",
       "    <tr>\n",
       "      <th>2</th>\n",
       "      <td>264</td>\n",
       "      <td>2</td>\n",
       "      <td>kaum_dalit</td>\n",
       "    </tr>\n",
       "    <tr>\n",
       "      <th>3</th>\n",
       "      <td>419</td>\n",
       "      <td>1</td>\n",
       "      <td>kaum_dalit</td>\n",
       "    </tr>\n",
       "    <tr>\n",
       "      <th>4</th>\n",
       "      <td>539</td>\n",
       "      <td>1</td>\n",
       "      <td>kaum_dalit</td>\n",
       "    </tr>\n",
       "    <tr>\n",
       "      <th>...</th>\n",
       "      <td>...</td>\n",
       "      <td>...</td>\n",
       "      <td>...</td>\n",
       "    </tr>\n",
       "    <tr>\n",
       "      <th>11714</th>\n",
       "      <td>1406787</td>\n",
       "      <td>1</td>\n",
       "      <td>kaum_dalit</td>\n",
       "    </tr>\n",
       "    <tr>\n",
       "      <th>11715</th>\n",
       "      <td>1406981</td>\n",
       "      <td>1</td>\n",
       "      <td>kaum_dalit</td>\n",
       "    </tr>\n",
       "    <tr>\n",
       "      <th>11716</th>\n",
       "      <td>1407070</td>\n",
       "      <td>1</td>\n",
       "      <td>kaum_dalit</td>\n",
       "    </tr>\n",
       "    <tr>\n",
       "      <th>11717</th>\n",
       "      <td>1407110</td>\n",
       "      <td>1</td>\n",
       "      <td>kaum_dalit</td>\n",
       "    </tr>\n",
       "    <tr>\n",
       "      <th>11718</th>\n",
       "      <td>1407398</td>\n",
       "      <td>1</td>\n",
       "      <td>kaum_dalit</td>\n",
       "    </tr>\n",
       "  </tbody>\n",
       "</table>\n",
       "<p>11719 rows × 3 columns</p>\n",
       "</div>"
      ],
      "text/plain": [
       "       visitorid  transaction_count     F_score\n",
       "0            172                  2  kaum_dalit\n",
       "1            186                  1  kaum_dalit\n",
       "2            264                  2  kaum_dalit\n",
       "3            419                  1  kaum_dalit\n",
       "4            539                  1  kaum_dalit\n",
       "...          ...                ...         ...\n",
       "11714    1406787                  1  kaum_dalit\n",
       "11715    1406981                  1  kaum_dalit\n",
       "11716    1407070                  1  kaum_dalit\n",
       "11717    1407110                  1  kaum_dalit\n",
       "11718    1407398                  1  kaum_dalit\n",
       "\n",
       "[11719 rows x 3 columns]"
      ]
     },
     "execution_count": 433,
     "metadata": {},
     "output_type": "execute_result"
    }
   ],
   "source": [
    "transaction_counts1 = transaction_counts\n",
    "transaction_counts1['F_score'] = transaction_counts1['F_score'].map({1: 'kaum_dalit', 2: 'kaum_sudra', 3: 'kaum_ksatria', 4: 'kaum_brahmana'})\n",
    "transaction_counts1"
   ]
  },
  {
   "cell_type": "code",
   "execution_count": 437,
   "id": "6eb071fa-d94c-4216-8298-2ee4f6c05926",
   "metadata": {},
   "outputs": [
    {
     "data": {
      "text/plain": [
       "F_score\n",
       "kaum_dalit       11342\n",
       "kaum_sudra         266\n",
       "kaum_ksatria        96\n",
       "kaum_brahmana       15\n",
       "Name: count, dtype: int64"
      ]
     },
     "execution_count": 437,
     "metadata": {},
     "output_type": "execute_result"
    }
   ],
   "source": [
    "transaction_counts1['F_score'].value_counts()"
   ]
  },
  {
   "cell_type": "code",
   "execution_count": 444,
   "id": "634c25ee-ef2a-492d-b557-6fcdb4ff69f4",
   "metadata": {},
   "outputs": [
    {
     "name": "stderr",
     "output_type": "stream",
     "text": [
      "/var/folders/gq/y63881xd0p95xkmph7t_jdvh0000gp/T/ipykernel_7836/3905643227.py:1: FutureWarning: The default of observed=False is deprecated and will be changed to True in a future version of pandas. Pass observed=False to retain current behavior or observed=True to adopt the future default and silence this warning.\n",
      "  transaction_counts1.groupby('F_score').agg({'transaction_count':['min','max','mean','median','count']})\n"
     ]
    },
    {
     "data": {
      "text/html": [
       "<div>\n",
       "<style scoped>\n",
       "    .dataframe tbody tr th:only-of-type {\n",
       "        vertical-align: middle;\n",
       "    }\n",
       "\n",
       "    .dataframe tbody tr th {\n",
       "        vertical-align: top;\n",
       "    }\n",
       "\n",
       "    .dataframe thead tr th {\n",
       "        text-align: left;\n",
       "    }\n",
       "\n",
       "    .dataframe thead tr:last-of-type th {\n",
       "        text-align: right;\n",
       "    }\n",
       "</style>\n",
       "<table border=\"1\" class=\"dataframe\">\n",
       "  <thead>\n",
       "    <tr>\n",
       "      <th></th>\n",
       "      <th colspan=\"5\" halign=\"left\">transaction_count</th>\n",
       "    </tr>\n",
       "    <tr>\n",
       "      <th></th>\n",
       "      <th>min</th>\n",
       "      <th>max</th>\n",
       "      <th>mean</th>\n",
       "      <th>median</th>\n",
       "      <th>count</th>\n",
       "    </tr>\n",
       "    <tr>\n",
       "      <th>F_score</th>\n",
       "      <th></th>\n",
       "      <th></th>\n",
       "      <th></th>\n",
       "      <th></th>\n",
       "      <th></th>\n",
       "    </tr>\n",
       "  </thead>\n",
       "  <tbody>\n",
       "    <tr>\n",
       "      <th>kaum_dalit</th>\n",
       "      <td>1</td>\n",
       "      <td>4</td>\n",
       "      <td>1.270146</td>\n",
       "      <td>1.0</td>\n",
       "      <td>11342</td>\n",
       "    </tr>\n",
       "    <tr>\n",
       "      <th>kaum_sudra</th>\n",
       "      <td>5</td>\n",
       "      <td>13</td>\n",
       "      <td>7.093985</td>\n",
       "      <td>6.0</td>\n",
       "      <td>266</td>\n",
       "    </tr>\n",
       "    <tr>\n",
       "      <th>kaum_ksatria</th>\n",
       "      <td>14</td>\n",
       "      <td>100</td>\n",
       "      <td>34.197917</td>\n",
       "      <td>26.0</td>\n",
       "      <td>96</td>\n",
       "    </tr>\n",
       "    <tr>\n",
       "      <th>kaum_brahmana</th>\n",
       "      <td>101</td>\n",
       "      <td>559</td>\n",
       "      <td>192.066667</td>\n",
       "      <td>145.0</td>\n",
       "      <td>15</td>\n",
       "    </tr>\n",
       "  </tbody>\n",
       "</table>\n",
       "</div>"
      ],
      "text/plain": [
       "              transaction_count                               \n",
       "                            min  max        mean median  count\n",
       "F_score                                                       \n",
       "kaum_dalit                    1    4    1.270146    1.0  11342\n",
       "kaum_sudra                    5   13    7.093985    6.0    266\n",
       "kaum_ksatria                 14  100   34.197917   26.0     96\n",
       "kaum_brahmana               101  559  192.066667  145.0     15"
      ]
     },
     "execution_count": 444,
     "metadata": {},
     "output_type": "execute_result"
    }
   ],
   "source": [
    "transaction_counts1.groupby('F_score').agg({'transaction_count':['min','max','mean','median','count']})"
   ]
  },
  {
   "cell_type": "code",
   "execution_count": 478,
   "id": "a4be6f84-be95-47da-afa9-0b67d8225c20",
   "metadata": {},
   "outputs": [
    {
     "data": {
      "text/html": [
       "<div>\n",
       "<style scoped>\n",
       "    .dataframe tbody tr th:only-of-type {\n",
       "        vertical-align: middle;\n",
       "    }\n",
       "\n",
       "    .dataframe tbody tr th {\n",
       "        vertical-align: top;\n",
       "    }\n",
       "\n",
       "    .dataframe thead th {\n",
       "        text-align: right;\n",
       "    }\n",
       "</style>\n",
       "<table border=\"1\" class=\"dataframe\">\n",
       "  <thead>\n",
       "    <tr style=\"text-align: right;\">\n",
       "      <th></th>\n",
       "      <th>visitorid</th>\n",
       "      <th>transaction_count</th>\n",
       "      <th>F_score</th>\n",
       "    </tr>\n",
       "  </thead>\n",
       "  <tbody>\n",
       "    <tr>\n",
       "      <th>0</th>\n",
       "      <td>172</td>\n",
       "      <td>2</td>\n",
       "      <td>kaum_dalit</td>\n",
       "    </tr>\n",
       "    <tr>\n",
       "      <th>1</th>\n",
       "      <td>186</td>\n",
       "      <td>1</td>\n",
       "      <td>kaum_dalit</td>\n",
       "    </tr>\n",
       "    <tr>\n",
       "      <th>2</th>\n",
       "      <td>264</td>\n",
       "      <td>2</td>\n",
       "      <td>kaum_dalit</td>\n",
       "    </tr>\n",
       "    <tr>\n",
       "      <th>3</th>\n",
       "      <td>419</td>\n",
       "      <td>1</td>\n",
       "      <td>kaum_dalit</td>\n",
       "    </tr>\n",
       "    <tr>\n",
       "      <th>4</th>\n",
       "      <td>539</td>\n",
       "      <td>1</td>\n",
       "      <td>kaum_dalit</td>\n",
       "    </tr>\n",
       "    <tr>\n",
       "      <th>...</th>\n",
       "      <td>...</td>\n",
       "      <td>...</td>\n",
       "      <td>...</td>\n",
       "    </tr>\n",
       "    <tr>\n",
       "      <th>11714</th>\n",
       "      <td>1406787</td>\n",
       "      <td>1</td>\n",
       "      <td>kaum_dalit</td>\n",
       "    </tr>\n",
       "    <tr>\n",
       "      <th>11715</th>\n",
       "      <td>1406981</td>\n",
       "      <td>1</td>\n",
       "      <td>kaum_dalit</td>\n",
       "    </tr>\n",
       "    <tr>\n",
       "      <th>11716</th>\n",
       "      <td>1407070</td>\n",
       "      <td>1</td>\n",
       "      <td>kaum_dalit</td>\n",
       "    </tr>\n",
       "    <tr>\n",
       "      <th>11717</th>\n",
       "      <td>1407110</td>\n",
       "      <td>1</td>\n",
       "      <td>kaum_dalit</td>\n",
       "    </tr>\n",
       "    <tr>\n",
       "      <th>11718</th>\n",
       "      <td>1407398</td>\n",
       "      <td>1</td>\n",
       "      <td>kaum_dalit</td>\n",
       "    </tr>\n",
       "  </tbody>\n",
       "</table>\n",
       "<p>11719 rows × 3 columns</p>\n",
       "</div>"
      ],
      "text/plain": [
       "       visitorid  transaction_count     F_score\n",
       "0            172                  2  kaum_dalit\n",
       "1            186                  1  kaum_dalit\n",
       "2            264                  2  kaum_dalit\n",
       "3            419                  1  kaum_dalit\n",
       "4            539                  1  kaum_dalit\n",
       "...          ...                ...         ...\n",
       "11714    1406787                  1  kaum_dalit\n",
       "11715    1406981                  1  kaum_dalit\n",
       "11716    1407070                  1  kaum_dalit\n",
       "11717    1407110                  1  kaum_dalit\n",
       "11718    1407398                  1  kaum_dalit\n",
       "\n",
       "[11719 rows x 3 columns]"
      ]
     },
     "execution_count": 478,
     "metadata": {},
     "output_type": "execute_result"
    }
   ],
   "source": [
    "transaction_counts1"
   ]
  },
  {
   "cell_type": "code",
   "execution_count": 480,
   "id": "28f9f98a-0434-45bf-8057-09b7049658e7",
   "metadata": {},
   "outputs": [
    {
     "data": {
      "text/plain": [
       "visitorid            0\n",
       "transaction_count    0\n",
       "F_score              0\n",
       "dtype: int64"
      ]
     },
     "execution_count": 480,
     "metadata": {},
     "output_type": "execute_result"
    }
   ],
   "source": [
    "transaction_counts1.isnull().sum()"
   ]
  },
  {
   "cell_type": "markdown",
   "id": "fe64176f-db3c-4b35-aa10-3ef0facf4289",
   "metadata": {},
   "source": [
    "Berdasarkan tabel diatas, Pengelompokkan F_score terlihat lebih masuk akal karena pengelompokan berdasarkan nilai persentile dari jumlah transaksi yang dilakukan."
   ]
  },
  {
   "cell_type": "markdown",
   "id": "8e8ab67f-9375-4784-83ff-1884cb2af2f0",
   "metadata": {},
   "source": [
    "Penjelasan F_score\n",
    "\n",
    "1 - kaum_dalit (Frekuensi Sangat Rendah\n",
    "\n",
    "2 - kaum_sudra (Frekuensi Rendah)\n",
    "\n",
    "3 - kaum_ksatria (Frekuensi Menengah)\n",
    "\n",
    "4 - kaum_brahmana (Frekuensi Tinggi)"
   ]
  },
  {
   "cell_type": "markdown",
   "id": "b7227da6-da96-49ad-b4cb-f66d7545d782",
   "metadata": {},
   "source": [
    "# 3.e gabungkan hasil 3.b dan 3.d kedalam suatu dataframe dan lakukan analisis mengenai karakteristik customers dari aspek RF. Apa yang bisa disimpulkan ?"
   ]
  },
  {
   "cell_type": "code",
   "execution_count": 498,
   "id": "b024d9e6-b4aa-4782-bdae-e6a52eae9fc2",
   "metadata": {},
   "outputs": [
    {
     "data": {
      "text/html": [
       "<div>\n",
       "<style scoped>\n",
       "    .dataframe tbody tr th:only-of-type {\n",
       "        vertical-align: middle;\n",
       "    }\n",
       "\n",
       "    .dataframe tbody tr th {\n",
       "        vertical-align: top;\n",
       "    }\n",
       "\n",
       "    .dataframe thead th {\n",
       "        text-align: right;\n",
       "    }\n",
       "</style>\n",
       "<table border=\"1\" class=\"dataframe\">\n",
       "  <thead>\n",
       "    <tr style=\"text-align: right;\">\n",
       "      <th></th>\n",
       "      <th>visitorid</th>\n",
       "      <th>days_since_last_transaction</th>\n",
       "      <th>R_score</th>\n",
       "    </tr>\n",
       "  </thead>\n",
       "  <tbody>\n",
       "    <tr>\n",
       "      <th>1476967</th>\n",
       "      <td>673776</td>\n",
       "      <td>138</td>\n",
       "      <td>tidak_aktif</td>\n",
       "    </tr>\n",
       "    <tr>\n",
       "      <th>1476928</th>\n",
       "      <td>563799</td>\n",
       "      <td>138</td>\n",
       "      <td>tidak_aktif</td>\n",
       "    </tr>\n",
       "    <tr>\n",
       "      <th>1476099</th>\n",
       "      <td>987715</td>\n",
       "      <td>138</td>\n",
       "      <td>tidak_aktif</td>\n",
       "    </tr>\n",
       "    <tr>\n",
       "      <th>1475925</th>\n",
       "      <td>729806</td>\n",
       "      <td>138</td>\n",
       "      <td>tidak_aktif</td>\n",
       "    </tr>\n",
       "    <tr>\n",
       "      <th>1475731</th>\n",
       "      <td>996991</td>\n",
       "      <td>138</td>\n",
       "      <td>tidak_aktif</td>\n",
       "    </tr>\n",
       "    <tr>\n",
       "      <th>...</th>\n",
       "      <td>...</td>\n",
       "      <td>...</td>\n",
       "      <td>...</td>\n",
       "    </tr>\n",
       "    <tr>\n",
       "      <th>1457781</th>\n",
       "      <td>62004</td>\n",
       "      <td>0</td>\n",
       "      <td>baru_saja</td>\n",
       "    </tr>\n",
       "    <tr>\n",
       "      <th>1456595</th>\n",
       "      <td>751256</td>\n",
       "      <td>0</td>\n",
       "      <td>baru_saja</td>\n",
       "    </tr>\n",
       "    <tr>\n",
       "      <th>1455216</th>\n",
       "      <td>569539</td>\n",
       "      <td>0</td>\n",
       "      <td>baru_saja</td>\n",
       "    </tr>\n",
       "    <tr>\n",
       "      <th>1460839</th>\n",
       "      <td>1298462</td>\n",
       "      <td>0</td>\n",
       "      <td>baru_saja</td>\n",
       "    </tr>\n",
       "    <tr>\n",
       "      <th>1462449</th>\n",
       "      <td>152963</td>\n",
       "      <td>0</td>\n",
       "      <td>baru_saja</td>\n",
       "    </tr>\n",
       "  </tbody>\n",
       "</table>\n",
       "<p>11719 rows × 3 columns</p>\n",
       "</div>"
      ],
      "text/plain": [
       "         visitorid  days_since_last_transaction      R_score\n",
       "1476967     673776                          138  tidak_aktif\n",
       "1476928     563799                          138  tidak_aktif\n",
       "1476099     987715                          138  tidak_aktif\n",
       "1475925     729806                          138  tidak_aktif\n",
       "1475731     996991                          138  tidak_aktif\n",
       "...            ...                          ...          ...\n",
       "1457781      62004                            0    baru_saja\n",
       "1456595     751256                            0    baru_saja\n",
       "1455216     569539                            0    baru_saja\n",
       "1460839    1298462                            0    baru_saja\n",
       "1462449     152963                            0    baru_saja\n",
       "\n",
       "[11719 rows x 3 columns]"
      ]
     },
     "execution_count": 498,
     "metadata": {},
     "output_type": "execute_result"
    }
   ],
   "source": [
    "#Melihat df tabel df_recency1\n",
    "df_recency1"
   ]
  },
  {
   "cell_type": "code",
   "execution_count": 496,
   "id": "57cf4284-f507-4956-ba37-7bc9d8803a25",
   "metadata": {},
   "outputs": [
    {
     "data": {
      "text/html": [
       "<div>\n",
       "<style scoped>\n",
       "    .dataframe tbody tr th:only-of-type {\n",
       "        vertical-align: middle;\n",
       "    }\n",
       "\n",
       "    .dataframe tbody tr th {\n",
       "        vertical-align: top;\n",
       "    }\n",
       "\n",
       "    .dataframe thead th {\n",
       "        text-align: right;\n",
       "    }\n",
       "</style>\n",
       "<table border=\"1\" class=\"dataframe\">\n",
       "  <thead>\n",
       "    <tr style=\"text-align: right;\">\n",
       "      <th></th>\n",
       "      <th>visitorid</th>\n",
       "      <th>transaction_count</th>\n",
       "      <th>F_score</th>\n",
       "    </tr>\n",
       "  </thead>\n",
       "  <tbody>\n",
       "    <tr>\n",
       "      <th>0</th>\n",
       "      <td>172</td>\n",
       "      <td>2</td>\n",
       "      <td>kaum_dalit</td>\n",
       "    </tr>\n",
       "    <tr>\n",
       "      <th>1</th>\n",
       "      <td>186</td>\n",
       "      <td>1</td>\n",
       "      <td>kaum_dalit</td>\n",
       "    </tr>\n",
       "    <tr>\n",
       "      <th>2</th>\n",
       "      <td>264</td>\n",
       "      <td>2</td>\n",
       "      <td>kaum_dalit</td>\n",
       "    </tr>\n",
       "    <tr>\n",
       "      <th>3</th>\n",
       "      <td>419</td>\n",
       "      <td>1</td>\n",
       "      <td>kaum_dalit</td>\n",
       "    </tr>\n",
       "    <tr>\n",
       "      <th>4</th>\n",
       "      <td>539</td>\n",
       "      <td>1</td>\n",
       "      <td>kaum_dalit</td>\n",
       "    </tr>\n",
       "    <tr>\n",
       "      <th>...</th>\n",
       "      <td>...</td>\n",
       "      <td>...</td>\n",
       "      <td>...</td>\n",
       "    </tr>\n",
       "    <tr>\n",
       "      <th>11714</th>\n",
       "      <td>1406787</td>\n",
       "      <td>1</td>\n",
       "      <td>kaum_dalit</td>\n",
       "    </tr>\n",
       "    <tr>\n",
       "      <th>11715</th>\n",
       "      <td>1406981</td>\n",
       "      <td>1</td>\n",
       "      <td>kaum_dalit</td>\n",
       "    </tr>\n",
       "    <tr>\n",
       "      <th>11716</th>\n",
       "      <td>1407070</td>\n",
       "      <td>1</td>\n",
       "      <td>kaum_dalit</td>\n",
       "    </tr>\n",
       "    <tr>\n",
       "      <th>11717</th>\n",
       "      <td>1407110</td>\n",
       "      <td>1</td>\n",
       "      <td>kaum_dalit</td>\n",
       "    </tr>\n",
       "    <tr>\n",
       "      <th>11718</th>\n",
       "      <td>1407398</td>\n",
       "      <td>1</td>\n",
       "      <td>kaum_dalit</td>\n",
       "    </tr>\n",
       "  </tbody>\n",
       "</table>\n",
       "<p>11719 rows × 3 columns</p>\n",
       "</div>"
      ],
      "text/plain": [
       "       visitorid  transaction_count     F_score\n",
       "0            172                  2  kaum_dalit\n",
       "1            186                  1  kaum_dalit\n",
       "2            264                  2  kaum_dalit\n",
       "3            419                  1  kaum_dalit\n",
       "4            539                  1  kaum_dalit\n",
       "...          ...                ...         ...\n",
       "11714    1406787                  1  kaum_dalit\n",
       "11715    1406981                  1  kaum_dalit\n",
       "11716    1407070                  1  kaum_dalit\n",
       "11717    1407110                  1  kaum_dalit\n",
       "11718    1407398                  1  kaum_dalit\n",
       "\n",
       "[11719 rows x 3 columns]"
      ]
     },
     "execution_count": 496,
     "metadata": {},
     "output_type": "execute_result"
    }
   ],
   "source": [
    "#Melihat df transaction_counts\n",
    "transaction_counts1"
   ]
  },
  {
   "cell_type": "code",
   "execution_count": 502,
   "id": "ce2ec5e9-9d7b-4651-ab9d-fb591835cead",
   "metadata": {},
   "outputs": [],
   "source": [
    "#Menggabungkan df df_recency1 dengan transaction_counts1 menggunakan fungsi merge\n",
    "df_rf = pd.merge(df_recency1[['visitorid', 'R_score']], \n",
    "                 transaction_counts1[['visitorid', 'F_score']], \n",
    "                 on='visitorid', \n",
    "                 how='inner')"
   ]
  },
  {
   "cell_type": "code",
   "execution_count": 504,
   "id": "5d23cffb-f8bc-4487-9bb0-bae7eddbcdc1",
   "metadata": {},
   "outputs": [
    {
     "data": {
      "text/html": [
       "<div>\n",
       "<style scoped>\n",
       "    .dataframe tbody tr th:only-of-type {\n",
       "        vertical-align: middle;\n",
       "    }\n",
       "\n",
       "    .dataframe tbody tr th {\n",
       "        vertical-align: top;\n",
       "    }\n",
       "\n",
       "    .dataframe thead th {\n",
       "        text-align: right;\n",
       "    }\n",
       "</style>\n",
       "<table border=\"1\" class=\"dataframe\">\n",
       "  <thead>\n",
       "    <tr style=\"text-align: right;\">\n",
       "      <th></th>\n",
       "      <th>visitorid</th>\n",
       "      <th>R_score</th>\n",
       "      <th>F_score</th>\n",
       "    </tr>\n",
       "  </thead>\n",
       "  <tbody>\n",
       "    <tr>\n",
       "      <th>0</th>\n",
       "      <td>673776</td>\n",
       "      <td>tidak_aktif</td>\n",
       "      <td>kaum_dalit</td>\n",
       "    </tr>\n",
       "    <tr>\n",
       "      <th>1</th>\n",
       "      <td>563799</td>\n",
       "      <td>tidak_aktif</td>\n",
       "      <td>kaum_dalit</td>\n",
       "    </tr>\n",
       "    <tr>\n",
       "      <th>2</th>\n",
       "      <td>987715</td>\n",
       "      <td>tidak_aktif</td>\n",
       "      <td>kaum_dalit</td>\n",
       "    </tr>\n",
       "    <tr>\n",
       "      <th>3</th>\n",
       "      <td>729806</td>\n",
       "      <td>tidak_aktif</td>\n",
       "      <td>kaum_dalit</td>\n",
       "    </tr>\n",
       "    <tr>\n",
       "      <th>4</th>\n",
       "      <td>996991</td>\n",
       "      <td>tidak_aktif</td>\n",
       "      <td>kaum_dalit</td>\n",
       "    </tr>\n",
       "    <tr>\n",
       "      <th>...</th>\n",
       "      <td>...</td>\n",
       "      <td>...</td>\n",
       "      <td>...</td>\n",
       "    </tr>\n",
       "    <tr>\n",
       "      <th>11714</th>\n",
       "      <td>62004</td>\n",
       "      <td>baru_saja</td>\n",
       "      <td>kaum_dalit</td>\n",
       "    </tr>\n",
       "    <tr>\n",
       "      <th>11715</th>\n",
       "      <td>751256</td>\n",
       "      <td>baru_saja</td>\n",
       "      <td>kaum_dalit</td>\n",
       "    </tr>\n",
       "    <tr>\n",
       "      <th>11716</th>\n",
       "      <td>569539</td>\n",
       "      <td>baru_saja</td>\n",
       "      <td>kaum_ksatria</td>\n",
       "    </tr>\n",
       "    <tr>\n",
       "      <th>11717</th>\n",
       "      <td>1298462</td>\n",
       "      <td>baru_saja</td>\n",
       "      <td>kaum_dalit</td>\n",
       "    </tr>\n",
       "    <tr>\n",
       "      <th>11718</th>\n",
       "      <td>152963</td>\n",
       "      <td>baru_saja</td>\n",
       "      <td>kaum_brahmana</td>\n",
       "    </tr>\n",
       "  </tbody>\n",
       "</table>\n",
       "<p>11719 rows × 3 columns</p>\n",
       "</div>"
      ],
      "text/plain": [
       "       visitorid      R_score        F_score\n",
       "0         673776  tidak_aktif     kaum_dalit\n",
       "1         563799  tidak_aktif     kaum_dalit\n",
       "2         987715  tidak_aktif     kaum_dalit\n",
       "3         729806  tidak_aktif     kaum_dalit\n",
       "4         996991  tidak_aktif     kaum_dalit\n",
       "...          ...          ...            ...\n",
       "11714      62004    baru_saja     kaum_dalit\n",
       "11715     751256    baru_saja     kaum_dalit\n",
       "11716     569539    baru_saja   kaum_ksatria\n",
       "11717    1298462    baru_saja     kaum_dalit\n",
       "11718     152963    baru_saja  kaum_brahmana\n",
       "\n",
       "[11719 rows x 3 columns]"
      ]
     },
     "execution_count": 504,
     "metadata": {},
     "output_type": "execute_result"
    }
   ],
   "source": [
    "#Menampilkan df_rf\n",
    "df_rf"
   ]
  },
  {
   "cell_type": "code",
   "execution_count": 508,
   "id": "b3415eaf-88d4-4565-91ad-2b6a869dd98f",
   "metadata": {},
   "outputs": [
    {
     "data": {
      "text/plain": [
       "visitorid  R_score       F_score   \n",
       "172        baru_saja     kaum_dalit    1\n",
       "947562     baru_saja     kaum_dalit    1\n",
       "947609     aktif         kaum_dalit    1\n",
       "947666     tidak_aktif   kaum_dalit    1\n",
       "947829     aktif         kaum_dalit    1\n",
       "                                      ..\n",
       "479005     aktif         kaum_dalit    1\n",
       "479127     baru_saja     kaum_dalit    1\n",
       "479324     tidak_aktif   kaum_dalit    1\n",
       "479343     tidak_aktif   kaum_dalit    1\n",
       "1407398    kurang_aktif  kaum_dalit    1\n",
       "Name: count, Length: 11719, dtype: int64"
      ]
     },
     "execution_count": 508,
     "metadata": {},
     "output_type": "execute_result"
    }
   ],
   "source": [
    "df_rf.value_counts()"
   ]
  },
  {
   "cell_type": "code",
   "execution_count": 512,
   "id": "6071c0c7-6992-4713-b144-2181c412ce4c",
   "metadata": {},
   "outputs": [
    {
     "name": "stderr",
     "output_type": "stream",
     "text": [
      "/var/folders/gq/y63881xd0p95xkmph7t_jdvh0000gp/T/ipykernel_7836/722773212.py:1: FutureWarning: The default of observed=False is deprecated and will be changed to True in a future version of pandas. Pass observed=False to retain current behavior or observed=True to adopt the future default and silence this warning.\n",
      "  count_df_rf = df_rf.groupby(['R_score', 'F_score']).size().reset_index(name='count')\n"
     ]
    }
   ],
   "source": [
    "#Melakukan perhitungan berdasarkan grouping R_score dan F_score\n",
    "count_df_rf = df_rf.groupby(['R_score', 'F_score']).size().reset_index(name='count')"
   ]
  },
  {
   "cell_type": "code",
   "execution_count": 514,
   "id": "7841ab7b-1b0d-48fe-a693-433883fde444",
   "metadata": {},
   "outputs": [
    {
     "data": {
      "text/html": [
       "<div>\n",
       "<style scoped>\n",
       "    .dataframe tbody tr th:only-of-type {\n",
       "        vertical-align: middle;\n",
       "    }\n",
       "\n",
       "    .dataframe tbody tr th {\n",
       "        vertical-align: top;\n",
       "    }\n",
       "\n",
       "    .dataframe thead th {\n",
       "        text-align: right;\n",
       "    }\n",
       "</style>\n",
       "<table border=\"1\" class=\"dataframe\">\n",
       "  <thead>\n",
       "    <tr style=\"text-align: right;\">\n",
       "      <th></th>\n",
       "      <th>R_score</th>\n",
       "      <th>F_score</th>\n",
       "      <th>count</th>\n",
       "    </tr>\n",
       "  </thead>\n",
       "  <tbody>\n",
       "    <tr>\n",
       "      <th>0</th>\n",
       "      <td>baru_saja</td>\n",
       "      <td>kaum_dalit</td>\n",
       "      <td>2869</td>\n",
       "    </tr>\n",
       "    <tr>\n",
       "      <th>1</th>\n",
       "      <td>baru_saja</td>\n",
       "      <td>kaum_sudra</td>\n",
       "      <td>89</td>\n",
       "    </tr>\n",
       "    <tr>\n",
       "      <th>2</th>\n",
       "      <td>baru_saja</td>\n",
       "      <td>kaum_ksatria</td>\n",
       "      <td>30</td>\n",
       "    </tr>\n",
       "    <tr>\n",
       "      <th>3</th>\n",
       "      <td>baru_saja</td>\n",
       "      <td>kaum_brahmana</td>\n",
       "      <td>7</td>\n",
       "    </tr>\n",
       "    <tr>\n",
       "      <th>4</th>\n",
       "      <td>aktif</td>\n",
       "      <td>kaum_dalit</td>\n",
       "      <td>2804</td>\n",
       "    </tr>\n",
       "    <tr>\n",
       "      <th>5</th>\n",
       "      <td>aktif</td>\n",
       "      <td>kaum_sudra</td>\n",
       "      <td>73</td>\n",
       "    </tr>\n",
       "    <tr>\n",
       "      <th>6</th>\n",
       "      <td>aktif</td>\n",
       "      <td>kaum_ksatria</td>\n",
       "      <td>20</td>\n",
       "    </tr>\n",
       "    <tr>\n",
       "      <th>7</th>\n",
       "      <td>aktif</td>\n",
       "      <td>kaum_brahmana</td>\n",
       "      <td>3</td>\n",
       "    </tr>\n",
       "    <tr>\n",
       "      <th>8</th>\n",
       "      <td>kurang_aktif</td>\n",
       "      <td>kaum_dalit</td>\n",
       "      <td>2873</td>\n",
       "    </tr>\n",
       "    <tr>\n",
       "      <th>9</th>\n",
       "      <td>kurang_aktif</td>\n",
       "      <td>kaum_sudra</td>\n",
       "      <td>56</td>\n",
       "    </tr>\n",
       "    <tr>\n",
       "      <th>10</th>\n",
       "      <td>kurang_aktif</td>\n",
       "      <td>kaum_ksatria</td>\n",
       "      <td>26</td>\n",
       "    </tr>\n",
       "    <tr>\n",
       "      <th>11</th>\n",
       "      <td>kurang_aktif</td>\n",
       "      <td>kaum_brahmana</td>\n",
       "      <td>5</td>\n",
       "    </tr>\n",
       "    <tr>\n",
       "      <th>12</th>\n",
       "      <td>tidak_aktif</td>\n",
       "      <td>kaum_dalit</td>\n",
       "      <td>2796</td>\n",
       "    </tr>\n",
       "    <tr>\n",
       "      <th>13</th>\n",
       "      <td>tidak_aktif</td>\n",
       "      <td>kaum_sudra</td>\n",
       "      <td>48</td>\n",
       "    </tr>\n",
       "    <tr>\n",
       "      <th>14</th>\n",
       "      <td>tidak_aktif</td>\n",
       "      <td>kaum_ksatria</td>\n",
       "      <td>20</td>\n",
       "    </tr>\n",
       "    <tr>\n",
       "      <th>15</th>\n",
       "      <td>tidak_aktif</td>\n",
       "      <td>kaum_brahmana</td>\n",
       "      <td>0</td>\n",
       "    </tr>\n",
       "  </tbody>\n",
       "</table>\n",
       "</div>"
      ],
      "text/plain": [
       "         R_score        F_score  count\n",
       "0      baru_saja     kaum_dalit   2869\n",
       "1      baru_saja     kaum_sudra     89\n",
       "2      baru_saja   kaum_ksatria     30\n",
       "3      baru_saja  kaum_brahmana      7\n",
       "4          aktif     kaum_dalit   2804\n",
       "5          aktif     kaum_sudra     73\n",
       "6          aktif   kaum_ksatria     20\n",
       "7          aktif  kaum_brahmana      3\n",
       "8   kurang_aktif     kaum_dalit   2873\n",
       "9   kurang_aktif     kaum_sudra     56\n",
       "10  kurang_aktif   kaum_ksatria     26\n",
       "11  kurang_aktif  kaum_brahmana      5\n",
       "12   tidak_aktif     kaum_dalit   2796\n",
       "13   tidak_aktif     kaum_sudra     48\n",
       "14   tidak_aktif   kaum_ksatria     20\n",
       "15   tidak_aktif  kaum_brahmana      0"
      ]
     },
     "execution_count": 514,
     "metadata": {},
     "output_type": "execute_result"
    }
   ],
   "source": [
    "count_df_rf"
   ]
  }
 ],
 "metadata": {
  "kernelspec": {
   "display_name": "Python 3 (ipykernel)",
   "language": "python",
   "name": "python3"
  },
  "language_info": {
   "codemirror_mode": {
    "name": "ipython",
    "version": 3
   },
   "file_extension": ".py",
   "mimetype": "text/x-python",
   "name": "python",
   "nbconvert_exporter": "python",
   "pygments_lexer": "ipython3",
   "version": "3.12.4"
  }
 },
 "nbformat": 4,
 "nbformat_minor": 5
}
